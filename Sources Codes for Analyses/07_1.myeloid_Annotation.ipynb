{
 "cells": [
  {
   "cell_type": "markdown",
   "id": "fa8cf4d9",
   "metadata": {},
   "source": [
    "## 07_1. Myeloid -- Cell Annotation\n",
    "\n",
    "<div \n",
    "    <p style=\"text-align: left;\">Updated Time: 2025-02-14</p>\n",
    "</div>"
   ]
  },
  {
   "cell_type": "markdown",
   "id": "6f514896",
   "metadata": {},
   "source": [
    "##### Load libraries"
   ]
  },
  {
   "cell_type": "code",
   "execution_count": null,
   "id": "eb23983e",
   "metadata": {
    "ExecuteTime": {
     "end_time": "2023-08-31T13:06:17.697146Z",
     "start_time": "2023-08-31T13:04:25.828612Z"
    },
    "execution": {
     "iopub.execute_input": "2024-07-19T18:55:26.019176Z",
     "iopub.status.busy": "2024-07-19T18:55:26.018925Z",
     "iopub.status.idle": "2024-07-19T18:59:04.879757Z",
     "shell.execute_reply": "2024-07-19T18:59:04.878278Z",
     "shell.execute_reply.started": "2024-07-19T18:55:26.019149Z"
    },
    "tags": []
   },
   "outputs": [],
   "source": [
    "import os\n",
    "import sys\n",
    "import numpy as np\n",
    "import pandas as pd\n",
    "\n",
    "import omicverse as ov\n",
    "import scanpy as sc\n",
    "import seaborn as sns\n",
    "import matplotlib.pyplot as plt\n",
    "import matplotlib.cm as cm\n",
    "from matplotlib.pyplot import rc_context\n",
    "from pyclustree import clustree\n",
    "ov.plot_set()\n",
    "\n",
    "import warnings\n",
    "warnings.simplefilter(\"ignore\")"
   ]
  },
  {
   "cell_type": "markdown",
   "id": "904add21",
   "metadata": {},
   "source": [
    "##### Set working directory for analysis"
   ]
  },
  {
   "cell_type": "code",
   "execution_count": null,
   "id": "6911b3fd",
   "metadata": {
    "ExecuteTime": {
     "end_time": "2023-08-31T13:06:17.699085Z",
     "start_time": "2023-08-31T13:04:26.492Z"
    },
    "execution": {
     "iopub.execute_input": "2024-07-19T18:59:04.882897Z",
     "iopub.status.busy": "2024-07-19T18:59:04.881734Z",
     "iopub.status.idle": "2024-07-19T18:59:04.889345Z",
     "shell.execute_reply": "2024-07-19T18:59:04.888331Z",
     "shell.execute_reply.started": "2024-07-19T18:59:04.882860Z"
    },
    "tags": []
   },
   "outputs": [],
   "source": [
    "cwd = '/media/bio/Disk/Research Data/EBV/omicverse'\n",
    "os.chdir(cwd)\n",
    "updated_dir = os.getcwd()\n",
    "print(\"Updated working directory: \", updated_dir)"
   ]
  },
  {
   "cell_type": "markdown",
   "id": "6cc21525",
   "metadata": {},
   "source": [
    "##### Reading in annotated AnnData object"
   ]
  },
  {
   "cell_type": "code",
   "execution_count": null,
   "id": "f563e311",
   "metadata": {
    "ExecuteTime": {
     "end_time": "2023-08-11T06:19:50.673997Z",
     "start_time": "2023-08-11T06:18:35.382768Z"
    },
    "execution": {
     "iopub.execute_input": "2024-07-19T19:01:31.169691Z",
     "iopub.status.busy": "2024-07-19T19:01:31.167868Z",
     "iopub.status.idle": "2024-07-19T19:02:22.427601Z",
     "shell.execute_reply": "2024-07-19T19:02:22.426609Z",
     "shell.execute_reply.started": "2024-07-19T19:01:31.169655Z"
    },
    "scrolled": true,
    "tags": []
   },
   "outputs": [],
   "source": [
    "adata = sc.read_h5ad(\"Processed Data/scRNA_Annotation.h5ad\")\n",
    "adata"
   ]
  },
  {
   "cell_type": "code",
   "execution_count": null,
   "id": "0969936e-2f1b-468c-a2d9-85d4e0e934a1",
   "metadata": {
    "execution": {
     "iopub.execute_input": "2024-07-19T19:02:22.429385Z",
     "iopub.status.busy": "2024-07-19T19:02:22.428715Z",
     "iopub.status.idle": "2024-07-19T19:02:26.156187Z",
     "shell.execute_reply": "2024-07-19T19:02:26.155111Z",
     "shell.execute_reply.started": "2024-07-19T19:02:22.429332Z"
    },
    "tags": []
   },
   "outputs": [],
   "source": [
    "for i in adata.obs['Cell_type'].cat.categories:\n",
    "  number = len(adata.obs[adata.obs['Cell_type']==i])\n",
    "  print('the number of category {} is {}'.format(i,number))"
   ]
  },
  {
   "cell_type": "code",
   "execution_count": null,
   "id": "3af3ede0-acae-4c04-8ce9-794368325763",
   "metadata": {
    "execution": {
     "iopub.execute_input": "2024-07-19T19:02:26.158199Z",
     "iopub.status.busy": "2024-07-19T19:02:26.157628Z",
     "iopub.status.idle": "2024-07-19T19:02:34.256793Z",
     "shell.execute_reply": "2024-07-19T19:02:34.255562Z",
     "shell.execute_reply.started": "2024-07-19T19:02:26.158165Z"
    },
    "tags": []
   },
   "outputs": [],
   "source": [
    "# Select myeloid cells for downstream analysis\n",
    "adata_myeloid = adata[adata.obs['Cell_type'].isin(['Myeloid','Mast','pDC','Neutrophils'])].copy()\n",
    "adata_myeloid"
   ]
  },
  {
   "cell_type": "code",
   "execution_count": null,
   "id": "0f5c16b8",
   "metadata": {},
   "outputs": [],
   "source": [
    "print(np.min(adata_myeloid.X), np.max(adata_myeloid.X))"
   ]
  },
  {
   "cell_type": "code",
   "execution_count": null,
   "id": "0387a5ad",
   "metadata": {},
   "outputs": [],
   "source": [
    "adata_myeloid.obs['EBV_status'] = adata_myeloid.obs['EBV_status'].cat.reorder_categories(['Normal', 'Negative', 'Positive'])"
   ]
  },
  {
   "cell_type": "code",
   "execution_count": null,
   "id": "547a5812-cca2-44b8-927e-0232bda7b29d",
   "metadata": {
    "execution": {
     "iopub.execute_input": "2024-07-19T19:02:34.259694Z",
     "iopub.status.busy": "2024-07-19T19:02:34.259259Z",
     "iopub.status.idle": "2024-07-19T19:02:34.310607Z",
     "shell.execute_reply": "2024-07-19T19:02:34.309471Z",
     "shell.execute_reply.started": "2024-07-19T19:02:34.259673Z"
    },
    "tags": []
   },
   "outputs": [],
   "source": [
    "for i in adata_myeloid.obs['EBV_status'].cat.categories:\n",
    "  number = len(adata_myeloid.obs[adata_myeloid.obs['EBV_status']==i])\n",
    "  print('the number of category {} is {}'.format(i,number))"
   ]
  },
  {
   "cell_type": "markdown",
   "id": "2b178819-4e95-4442-81b6-bf695ab2b41b",
   "metadata": {},
   "source": [
    "\n",
    "#### Preprocessing"
   ]
  },
  {
   "cell_type": "markdown",
   "id": "8b33815c",
   "metadata": {},
   "source": [
    "You can use `recover_counts` to recover the raw counts after normalize and log1p"
   ]
  },
  {
   "cell_type": "code",
   "execution_count": null,
   "id": "de0a4625",
   "metadata": {},
   "outputs": [],
   "source": [
    "X_counts_recovered, size_factors_sub=ov.pp.recover_counts(adata_myeloid.X, 50*1e4, 50*1e5, log_base=None, chunk_size=50000)\n",
    "adata_myeloid.layers['counts']=X_counts_recovered"
   ]
  },
  {
   "cell_type": "code",
   "execution_count": null,
   "id": "bbd52ef8",
   "metadata": {},
   "outputs": [],
   "source": [
    "adata_myeloid.X=adata_myeloid.layers['counts']\n",
    "print(np.min(adata_myeloid.X), np.max(adata_myeloid.X))"
   ]
  },
  {
   "cell_type": "code",
   "execution_count": null,
   "id": "6247a6d0",
   "metadata": {},
   "outputs": [],
   "source": [
    "adata_myeloid=ov.pp.preprocess(adata_myeloid,mode='shiftlog|pearson',n_HVGs=2000,)\n",
    "adata_myeloid.raw = adata_myeloid\n",
    "adata_myeloid = adata_myeloid[:, adata_myeloid.var.highly_variable_features]\n",
    "ov.pp.scale(adata_myeloid)\n",
    "ov.pp.pca(adata_myeloid,layer='scaled',n_pcs=50)"
   ]
  },
  {
   "cell_type": "code",
   "execution_count": null,
   "id": "d61ca659",
   "metadata": {},
   "outputs": [],
   "source": [
    "ov.utils.plot_pca_variance_ratio(adata_myeloid)"
   ]
  },
  {
   "cell_type": "markdown",
   "id": "84e158b1",
   "metadata": {},
   "source": [
    "#### Unsupervised clustering\n",
    "The Leiden algorithm is as an improved version of the Louvain algorithm which outperformed other clustering methods for single-cell RNA-seq data analysis ([Du et al., 2018, Freytag et al., 2018, Weber and Robinson, 2016]). Since the Louvain algorithm is no longer maintained, using Leiden instead is preferred.\n",
    "\n",
    "We, therefore, propose to use the Leiden algorithm[Traag et al., 2019] on single-cell k-nearest-neighbour (KNN) graphs to cluster single-cell datasets.\n",
    "\n",
    "Leiden creates clusters by taking into account the number of links between cells in a cluster versus the overall expected number of links in the dataset.\n",
    "\n",
    "Here, we set method='leiden' to cluster the cells using Leiden"
   ]
  },
  {
   "cell_type": "code",
   "execution_count": null,
   "id": "453c08a1",
   "metadata": {},
   "outputs": [],
   "source": [
    "ov.pp.neighbors(adata_myeloid, n_neighbors=15, n_pcs=10, use_rep='X_pca')"
   ]
  },
  {
   "cell_type": "code",
   "execution_count": null,
   "id": "6d0244c1",
   "metadata": {},
   "outputs": [],
   "source": [
    "ov.pp.umap(adata_myeloid)"
   ]
  },
  {
   "cell_type": "code",
   "execution_count": null,
   "id": "76042650",
   "metadata": {},
   "outputs": [],
   "source": [
    "ov.utils.embedding(adata_myeloid,basis='X_umap',\n",
    "                   color=['EBV_status'],\n",
    "                   frameon='small',wspace=0.5)"
   ]
  },
  {
   "cell_type": "code",
   "execution_count": null,
   "id": "ca04baf7",
   "metadata": {},
   "outputs": [],
   "source": [
    "ov.pl.cellproportion(\n",
    "    adata=adata_myeloid,\n",
    "    celltype_clusters='Cell_type',\n",
    "    groupby='EBV_status',\n",
    "    legend=True,\n",
    ")"
   ]
  },
  {
   "cell_type": "code",
   "execution_count": null,
   "id": "18203f73",
   "metadata": {},
   "outputs": [],
   "source": [
    "# Run leiden clustering for different resolutions\n",
    "for resolution in [0.1, 0.2, 0.3, 0.4, 0.5]:\n",
    "    ov.pp.leiden(\n",
    "        adata_myeloid,\n",
    "        resolution=resolution,\n",
    "        flavor=\"igraph\",\n",
    "        n_iterations=2,\n",
    "        key_added=f\"leiden_{str(resolution).replace('.', '_')}\",\n",
    "    )"
   ]
  },
  {
   "cell_type": "markdown",
   "id": "2bfad1d8",
   "metadata": {},
   "source": [
    "#### Plot the clustree"
   ]
  },
  {
   "cell_type": "code",
   "execution_count": null,
   "id": "0b4882e3",
   "metadata": {},
   "outputs": [],
   "source": [
    "# Plot the clustree\n",
    "fig = clustree(\n",
    "    adata_myeloid,\n",
    "    [f\"leiden_{str(resolution).replace('.', '_')}\" for resolution in [0.1, 0.2, 0.3, 0.4, 0.5]],\n",
    "    title=\"Clustree of Myeloid Clusters\",\n",
    "    edge_weight_threshold=0.00,  # the minimum fraction of the parent cluster assigned to the child cluster to plot\n",
    "    show_fraction=True,  # show the fraction of cells in each cluster\n",
    ")\n",
    "fig.set_size_inches(10, 8)\n",
    "fig.set_dpi(100)"
   ]
  },
  {
   "cell_type": "markdown",
   "id": "9f339a5d",
   "metadata": {},
   "source": [
    "#### Adding cluster scoring"
   ]
  },
  {
   "cell_type": "code",
   "execution_count": null,
   "id": "8a2d59bc",
   "metadata": {},
   "outputs": [],
   "source": [
    "# adata_myeloid.obsm['X_pca']=adata_myeloid.obsm['X_harmony']"
   ]
  },
  {
   "cell_type": "code",
   "execution_count": null,
   "id": "a2006066",
   "metadata": {},
   "outputs": [],
   "source": [
    "# Supported are Silhouette score, Calinski and Harabasz score and Davies-Bouldin score.\n",
    "\n",
    "fig = clustree(\n",
    "    adata_myeloid,\n",
    "    [f\"leiden_{str(resolution).replace('.', '_')}\" for resolution in [0.1, 0.2, 0.3, 0.4, 0.5]],\n",
    "    title=\"Clustree of Myeloid Clusters with Silhouette Score\",\n",
    "    score_clustering=\"silhouette\",\n",
    "    score_basis=\"pca\",\n",
    ")\n",
    "fig.set_size_inches(10, 8)\n",
    "fig.set_dpi(100)"
   ]
  },
  {
   "cell_type": "code",
   "execution_count": null,
   "id": "4a624582",
   "metadata": {},
   "outputs": [],
   "source": [
    "# Supported are Silhouette score, Calinski and Harabasz score and Davies-Bouldin score.\n",
    "\n",
    "fig = clustree(\n",
    "    adata_myeloid,\n",
    "    [f\"leiden_{str(resolution).replace('.', '_')}\" for resolution in [0.1, 0.2, 0.3, 0.4, 0.5]],\n",
    "    title=\"Clustree of Myeloid Clusters with Calinski Harabasz Score\",\n",
    "    score_clustering=\"calinski_harabasz\",\n",
    "    score_basis=\"pca\",\n",
    ")\n",
    "fig.set_size_inches(10, 8)\n",
    "fig.set_dpi(100)"
   ]
  },
  {
   "cell_type": "code",
   "execution_count": null,
   "id": "a3279154",
   "metadata": {},
   "outputs": [],
   "source": [
    "# Supported are Silhouette score, Calinski and Harabasz score and Davies-Bouldin score.\n",
    "\n",
    "fig = clustree(\n",
    "    adata_myeloid,\n",
    "    [f\"leiden_{str(resolution).replace('.', '_')}\" for resolution in [0.1, 0.2, 0.3, 0.4, 0.5]],\n",
    "    title=\"Clustree of Myeloid Clusters with Davies Bouldin Score\",\n",
    "    score_clustering=\"davies_bouldin\",\n",
    "    score_basis=\"pca\",\n",
    ")\n",
    "fig.set_size_inches(10, 8)\n",
    "fig.set_dpi(100)"
   ]
  },
  {
   "cell_type": "markdown",
   "id": "eeb35388-41a4-45cc-a775-ef3822a30a4c",
   "metadata": {},
   "source": [
    "Based on the cluster scoring，a resolution of 0.2 may be the optimal. Here we visualize the optimal clustering using UMAP representation:"
   ]
  },
  {
   "cell_type": "code",
   "execution_count": null,
   "id": "9a4b1a2c",
   "metadata": {},
   "outputs": [],
   "source": [
    "from matplotlib import patheffects\n",
    "import matplotlib.pyplot as plt\n",
    "fig, ax = plt.subplots(figsize=(4,4))\n",
    "\n",
    "ov.pl.embedding(adata_myeloid,\n",
    "                  basis='X_umap',\n",
    "                  color=['leiden_0_2'],\n",
    "                  show=False, legend_loc=None, add_outline=False, \n",
    "                  frameon='small',legend_fontoutline=2,ax=ax\n",
    "                 )\n",
    "\n",
    "ov.utils.gen_mpl_labels(\n",
    "    adata_myeloid,\n",
    "    'leiden_0_2',\n",
    "    exclude=(\"None\",),  \n",
    "    basis='X_umap',\n",
    "    ax=ax,\n",
    "    adjust_kwargs=dict(arrowprops=dict(arrowstyle='-', color='black')),\n",
    "    text_kwargs=dict(fontsize= 12 ,weight='bold',\n",
    "                     path_effects=[patheffects.withStroke(linewidth=2, foreground='w')] ),\n",
    ")"
   ]
  },
  {
   "cell_type": "code",
   "execution_count": null,
   "id": "7ad78d46",
   "metadata": {},
   "outputs": [],
   "source": [
    "ov.pl.cellproportion(\n",
    "    adata=adata_myeloid,\n",
    "    celltype_clusters='leiden_0_2',\n",
    "    groupby='EBV_status',\n",
    "    legend=True,\n",
    ")"
   ]
  },
  {
   "cell_type": "markdown",
   "id": "917ccd78",
   "metadata": {},
   "source": [
    "#### Finding marker genes"
   ]
  },
  {
   "cell_type": "markdown",
   "id": "bec5317d",
   "metadata": {},
   "source": [
    "Let us compute a ranking for the highly differential genes in each cluster. For this, by default, the .raw attribute of AnnData is used in case it has been initialized before. The simplest and fastest method to do so is the t-test."
   ]
  },
  {
   "cell_type": "code",
   "execution_count": null,
   "id": "e9c27214",
   "metadata": {},
   "outputs": [],
   "source": [
    "sc.tl.dendrogram(adata_myeloid,'leiden_0_2',use_rep='scaled|original|X_pca')"
   ]
  },
  {
   "cell_type": "code",
   "execution_count": null,
   "id": "44b16a2b",
   "metadata": {},
   "outputs": [],
   "source": [
    "sc.tl.rank_genes_groups(adata_myeloid, 'leiden_0_2', use_rep='scaled|original|X_pca',\n",
    "                        method='t-test',use_raw=False,key_added='leiden_0_2_ttest')\n",
    "sc.pl.rank_genes_groups_dotplot(adata_myeloid,groupby='leiden_0_2',\n",
    "                                cmap='Spectral_r',key='leiden_0_2_ttest',\n",
    "                                standard_scale='var',n_genes=3)"
   ]
  },
  {
   "cell_type": "markdown",
   "id": "da2c4aa4",
   "metadata": {},
   "source": [
    "Output the marker list as pandas dataframe:"
   ]
  },
  {
   "cell_type": "code",
   "execution_count": null,
   "id": "0511a915",
   "metadata": {},
   "outputs": [],
   "source": [
    "ttest_marker_gene=pd.DataFrame(adata_myeloid.uns['leiden_0_2_ttest']['names'])\n",
    "ttest_marker_gene.head()"
   ]
  },
  {
   "cell_type": "code",
   "execution_count": null,
   "id": "ee9b9200",
   "metadata": {},
   "outputs": [],
   "source": [
    "ttest_marker_gene=ttest_marker_gene.head(50)\n",
    "ttest_marker_gene.to_csv('Results/07.Myeloid/ttest_marker_gene_leiden_0_2_ttest.csv', index=False)"
   ]
  },
  {
   "cell_type": "markdown",
   "id": "03f8237a",
   "metadata": {},
   "source": [
    "cosg is also considered to be a better algorithm for finding marker genes. Here, omicverse provides the calculation of cosg\n",
    "\n",
    "Paper: Accurate and fast cell marker gene identification with COSG\n",
    "\n",
    "Code: https://github.com/genecell/COSG"
   ]
  },
  {
   "cell_type": "code",
   "execution_count": null,
   "id": "7c02d4cf",
   "metadata": {},
   "outputs": [],
   "source": [
    "sc.tl.rank_genes_groups(adata_myeloid, groupby='leiden_0_2', \n",
    "                        method='t-test',use_rep='scaled|original|X_pca',)\n",
    "ov.single.cosg(adata_myeloid, key_added='leiden_0_2_cosg', groupby='leiden_0_2')\n",
    "sc.pl.rank_genes_groups_dotplot(adata_myeloid,groupby='leiden_0_2',\n",
    "                                use_raw=False,\n",
    "                                cmap='Spectral_r',key='leiden_0_2_cosg',\n",
    "                                standard_scale='var',n_genes=3)"
   ]
  },
  {
   "cell_type": "markdown",
   "id": "87f25741",
   "metadata": {},
   "source": [
    "Output the marker list as pandas dataframe:"
   ]
  },
  {
   "cell_type": "code",
   "execution_count": null,
   "id": "7cb1975e",
   "metadata": {},
   "outputs": [],
   "source": [
    "cosg_marker_gene=pd.DataFrame(adata_myeloid.uns['leiden_0_2_cosg']['names'])\n",
    "cosg_marker_gene.head()"
   ]
  },
  {
   "cell_type": "code",
   "execution_count": null,
   "id": "aeb8a44c",
   "metadata": {},
   "outputs": [],
   "source": [
    "cosg_marker_gene=cosg_marker_gene.head(100)\n",
    "cosg_marker_gene.to_csv('Results/07.Myeloid/cosg_marker_gene_leiden_0_2.csv', index=False)"
   ]
  },
  {
   "cell_type": "markdown",
   "id": "f0b3eb73",
   "metadata": {},
   "source": [
    "##### Cell type annotation from marker genes"
   ]
  },
  {
   "cell_type": "markdown",
   "id": "2acb68b2",
   "metadata": {},
   "source": [
    "Based on the literature and existing knowledge, a feature dictionary was constructed by integrating the marker genes of each subpopulation obtained from the previous section, defining potential cell subtypes and their corresponding marker genes."
   ]
  },
  {
   "cell_type": "code",
   "execution_count": null,
   "id": "4a172c05-51c5-42a4-b056-2b085bb361dc",
   "metadata": {
    "execution": {
     "iopub.execute_input": "2024-07-19T21:02:45.768846Z",
     "iopub.status.busy": "2024-07-19T21:02:45.768152Z",
     "iopub.status.idle": "2024-07-19T21:02:45.776950Z",
     "shell.execute_reply": "2024-07-19T21:02:45.775846Z",
     "shell.execute_reply.started": "2024-07-19T21:02:45.768800Z"
    },
    "tags": []
   },
   "outputs": [],
   "source": [
    "myeloid_genes_dict = ['KIT','TPSAB1','CPA3', # MAST\n",
    "                      'LAMP3','CCR7','FSCN1', # cDC\n",
    "                      'IRF7','IL3RA','LILRA4', # pDC\n",
    "                      'CSF3R','S100A8','S100A9', # Neutrophil\n",
    "                      'CD68','MRC1',\n",
    "                      'CD86','CXCL9','TNF', # M1\n",
    "                      'CD163','AIF1','TGFB1', #M2\n",
    "                      'C1QA','C1QB','C1QC', #C1QC+ Macro\n",
    "                      'IL1B','VEGFA','CCL20', #IL1B+ Macro\n",
    "                      'SPP1','FBP1','GPNMB', #SPP1+ Macro\n",
    "                      'CD14','FCGR3A', 'FCN1', #Mono\n",
    "                      'IGHG1','IGKC','IGHG4',\n",
    "                     ]"
   ]
  },
  {
   "cell_type": "markdown",
   "id": "5ee250ea",
   "metadata": {},
   "source": [
    "##### Dot plots"
   ]
  },
  {
   "cell_type": "markdown",
   "id": "370a3e53",
   "metadata": {},
   "source": [
    "The dotplot visualization provides a compact way of showing per group, the fraction of cells expressing a gene (dot size) and the mean expression of the gene in those cell (color scale)."
   ]
  },
  {
   "cell_type": "code",
   "execution_count": null,
   "id": "27d96c8c-37b3-4f6f-89ea-2587c5a01e19",
   "metadata": {
    "execution": {
     "iopub.execute_input": "2024-07-19T21:02:45.778450Z",
     "iopub.status.busy": "2024-07-19T21:02:45.778042Z",
     "iopub.status.idle": "2024-07-19T21:02:57.118342Z",
     "shell.execute_reply": "2024-07-19T21:02:57.117730Z",
     "shell.execute_reply.started": "2024-07-19T21:02:45.778426Z"
    },
    "tags": []
   },
   "outputs": [],
   "source": [
    "sc.pl.dotplot(adata_myeloid, myeloid_genes_dict, 'leiden_0_2', \n",
    "              dendrogram=True, use_raw=True, standard_scale='var',\n",
    "              show=True)"
   ]
  },
  {
   "cell_type": "markdown",
   "id": "81eb9086-c114-41ba-8795-449b112606bc",
   "metadata": {},
   "source": [
    "**<span style=\"font-size:16px;\">Create a dictionary to map cluster to annotation label</span>**"
   ]
  },
  {
   "cell_type": "code",
   "execution_count": null,
   "id": "76df234d-f0f9-478e-95a7-b623b3577d03",
   "metadata": {
    "ExecuteTime": {
     "end_time": "2023-08-07T23:23:40.026251Z",
     "start_time": "2023-08-07T23:23:39.973939Z"
    },
    "execution": {
     "iopub.execute_input": "2024-07-19T21:02:57.119483Z",
     "iopub.status.busy": "2024-07-19T21:02:57.119276Z",
     "iopub.status.idle": "2024-07-19T21:02:57.146712Z",
     "shell.execute_reply": "2024-07-19T21:02:57.145763Z",
     "shell.execute_reply.started": "2024-07-19T21:02:57.119463Z"
    },
    "tags": []
   },
   "outputs": [],
   "source": [
    "cluster2annotation = {\n",
    "    '0': 'CD14+ Mono', \n",
    "    '1': 'Mast',\n",
    "    '2': 'C1QC+ Macro', \n",
    "    '3': 'cDC',\n",
    "    '4': 'IL1B+ Macro',\n",
    "    '5': 'pDC',\n",
    "    '6': 'cDC',\n",
    "    '7': 'CD16+ Mono',\n",
    "    '8':  'cDC',\n",
    "    '9':  'pDC',\n",
    "    '10': 'IgM+ plasma-like',\n",
    "    '11': 'Mast',\n",
    "    '12': 'SPP1+ Macro',\n",
    "    '13': 'Neutrophil',\n",
    "    '14': 'pDC',\n",
    "}\n",
    "adata_myeloid.obs['Myeloid_subtype'] = adata_myeloid.obs['leiden_0_2'].map(cluster2annotation).astype('category')\n",
    "adata_myeloid.obs['Myeloid_subtype'] = adata_myeloid.obs['Myeloid_subtype'].cat.reorder_categories(['C1QC+ Macro','SPP1+ Macro','IL1B+ Macro','CD14+ Mono','CD16+ Mono', \n",
    "                                                                                                    'Mast','Neutrophil','cDC','pDC','IgM+ plasma-like'])"
   ]
  },
  {
   "cell_type": "code",
   "execution_count": null,
   "id": "abf27937",
   "metadata": {},
   "outputs": [],
   "source": [
    "fig, ax = plt.subplots(figsize=(4,4))\n",
    "\n",
    "ov.pl.embedding(adata_myeloid,\n",
    "                  basis='X_umap',\n",
    "                  color=['Myeloid_subtype'], \n",
    "                  palette='Paired',\n",
    "                  show=False, legend_loc=None, add_outline=False, \n",
    "                  frameon='small',legend_fontoutline=2,ax=ax\n",
    "                 )\n",
    "\n",
    "ov.utils.gen_mpl_labels(\n",
    "    adata_myeloid,\n",
    "    'Myeloid_subtype',\n",
    "    exclude=(\"None\",),  \n",
    "    basis='X_umap',\n",
    "    ax=ax,\n",
    "    adjust_kwargs=dict(arrowprops=dict(arrowstyle='-', color='black')),\n",
    "    text_kwargs=dict(fontsize= 9,weight='bold',\n",
    "                     path_effects=[patheffects.withStroke(linewidth=2, foreground='w')] ),\n",
    ")\n",
    "\n",
    "plt.savefig('Results/07.Myeloid/07.Myeloid_subtype_UMAPplot.pdf', format='pdf')\n",
    "plt.show()"
   ]
  },
  {
   "cell_type": "markdown",
   "id": "283221ad",
   "metadata": {},
   "source": [
    "#### Visualizing marker genes"
   ]
  },
  {
   "cell_type": "markdown",
   "id": "46e0bda7",
   "metadata": {},
   "source": [
    "Visualize marker genes using Dotplot"
   ]
  },
  {
   "cell_type": "code",
   "execution_count": null,
   "id": "3bf6cdf3",
   "metadata": {},
   "outputs": [],
   "source": [
    "sc.pl.dotplot(adata_myeloid, myeloid_genes_dict, 'Myeloid_subtype', \n",
    "              dendrogram=True, use_raw=True, standard_scale='var',\n",
    "              show=False)\n",
    "plt.savefig('Results/07.Myeloid/07.Myeloid_subtype_marker_Dotplot.pdf', format='pdf')\n",
    "plt.show()"
   ]
  },
  {
   "cell_type": "code",
   "execution_count": null,
   "id": "52ef69a6",
   "metadata": {},
   "outputs": [],
   "source": [
    "sc.pl.matrixplot(\n",
    "    adata_myeloid,\n",
    "    myeloid_genes_dict,\n",
    "    \"Myeloid_subtype\",\n",
    "    dendrogram=True,\n",
    "    colorbar_title=\"mean z-score\",\n",
    "    #layer=\"scaled\",\n",
    "    vmin=-5,\n",
    "    vmax=5,\n",
    "    cmap=\"RdBu_r\",\n",
    "    show=False)\n",
    "\n",
    "plt.savefig('Results/07.Myeloid/07.Myeloid_subtype_marker_matrixplot.pdf', format='pdf')\n",
    "plt.show()"
   ]
  },
  {
   "cell_type": "markdown",
   "id": "3a3c6234",
   "metadata": {},
   "source": [
    "### Compositional data visualization\n",
    "Analyzing compositional data is not straightforward. scCODA provides some ways of visualizing the properties of a compositional dataset before analysis. We will showcase these functions on the data on pathogen infection of mice from *Haber et al. [2017]*."
   ]
  },
  {
   "cell_type": "code",
   "execution_count": null,
   "id": "d73363b4",
   "metadata": {},
   "outputs": [],
   "source": [
    "fig, ax = plt.subplots(figsize=(5, 5))\n",
    "ov.pl.cellproportion(\n",
    "    adata=adata_myeloid,\n",
    "    celltype_clusters='Myeloid_subtype',\n",
    "    groupby='EBV_status',\n",
    "    legend=True,\n",
    "    ax=ax,\n",
    ")\n",
    "\n",
    "legend = ax.legend(loc='center left', bbox_to_anchor=(1, 0.5), fontsize=10)\n",
    "xticks = ax.get_xticks()\n",
    "ax.set_xticks(xticks) \n",
    "ax.set_xticklabels([str(i+1) for i in range(len(xticks))])\n",
    "ax.set_xlabel('')\n",
    "ax.tick_params(axis='x', rotation=90, labelsize=6.5)\n",
    "plt.tight_layout()\n",
    "plt.savefig(\"Results/07.Myeloid/07.Stacked_Barplot_of_Myeloid_Composition.pdf\", format='pdf', dpi=300, bbox_inches='tight')\n",
    "plt.show()"
   ]
  },
  {
   "cell_type": "markdown",
   "id": "20f465f4",
   "metadata": {},
   "source": [
    "#### Save AnnData object with automated celltype annotation"
   ]
  },
  {
   "cell_type": "code",
   "execution_count": null,
   "id": "5f1dc6a2-bcb2-4350-892c-19a66d0554af",
   "metadata": {
    "execution": {
     "iopub.execute_input": "2024-07-19T21:04:17.616556Z",
     "iopub.status.busy": "2024-07-19T21:04:17.615903Z",
     "iopub.status.idle": "2024-07-19T21:04:21.034420Z",
     "shell.execute_reply": "2024-07-19T21:04:21.033163Z",
     "shell.execute_reply.started": "2024-07-19T21:04:17.616502Z"
    },
    "tags": []
   },
   "outputs": [],
   "source": [
    "adata_myeloid = adata_myeloid.raw.to_adata() # This recovers the raw count data in adata.X"
   ]
  },
  {
   "cell_type": "code",
   "execution_count": null,
   "id": "5ce0e1e4-4035-4b42-b660-75928c72d3c9",
   "metadata": {
    "execution": {
     "iopub.execute_input": "2024-07-19T21:04:21.036686Z",
     "iopub.status.busy": "2024-07-19T21:04:21.036018Z",
     "iopub.status.idle": "2024-07-19T21:04:21.043763Z",
     "shell.execute_reply": "2024-07-19T21:04:21.042876Z",
     "shell.execute_reply.started": "2024-07-19T21:04:21.036664Z"
    },
    "tags": []
   },
   "outputs": [],
   "source": [
    "adata_myeloid"
   ]
  },
  {
   "cell_type": "code",
   "execution_count": null,
   "id": "55a10686",
   "metadata": {},
   "outputs": [],
   "source": [
    "print(np.min(adata_myeloid.X), np.max(adata_myeloid.X))"
   ]
  },
  {
   "cell_type": "code",
   "execution_count": null,
   "id": "92c8b47c-ddec-49e9-a0ef-3e9432ef900d",
   "metadata": {
    "execution": {
     "iopub.execute_input": "2024-07-19T21:04:21.045344Z",
     "iopub.status.busy": "2024-07-19T21:04:21.044923Z",
     "iopub.status.idle": "2024-07-19T21:04:42.168432Z",
     "shell.execute_reply": "2024-07-19T21:04:42.167103Z",
     "shell.execute_reply.started": "2024-07-19T21:04:21.045305Z"
    },
    "tags": []
   },
   "outputs": [],
   "source": [
    "adata_myeloid.write_h5ad(\"Processed Data/scRNA_Myeloid.h5ad\")"
   ]
  },
  {
   "cell_type": "markdown",
   "id": "eeea0395",
   "metadata": {},
   "source": [
    "\n",
    "**<span style=\"font-size:16px;\">Session information：</span>**"
   ]
  },
  {
   "cell_type": "code",
   "execution_count": null,
   "id": "2de0aef8",
   "metadata": {
    "ExecuteTime": {
     "end_time": "2023-08-07T23:25:25.822088Z",
     "start_time": "2023-08-07T23:25:25.817660Z"
    },
    "execution": {
     "iopub.execute_input": "2024-07-19T21:04:42.170951Z",
     "iopub.status.busy": "2024-07-19T21:04:42.170230Z",
     "iopub.status.idle": "2024-07-19T21:04:43.456099Z",
     "shell.execute_reply": "2024-07-19T21:04:43.454658Z",
     "shell.execute_reply.started": "2024-07-19T21:04:42.170904Z"
    },
    "tags": []
   },
   "outputs": [],
   "source": [
    "import sys\n",
    "import platform\n",
    "import pkg_resources\n",
    "\n",
    "# Get Python version information\n",
    "python_version = sys.version\n",
    "# Get operating system information\n",
    "os_info = platform.platform()\n",
    "# Get system architecture information\n",
    "architecture = platform.architecture()[0]\n",
    "# Get CPU information\n",
    "cpu_info = platform.processor()\n",
    "# Print Session information\n",
    "print(\"Python version:\", python_version)\n",
    "print(\"Operating system:\", os_info)\n",
    "print(\"System architecture:\", architecture)\n",
    "print(\"CPU info:\", cpu_info)\n",
    "\n",
    "# Print imported packages and their versions\n",
    "print(\"\\nImported packages and their versions:\")\n",
    "for package in pkg_resources.working_set:\n",
    "    print(package.key, package.version)"
   ]
  }
 ],
 "metadata": {
  "kernelspec": {
   "display_name": "npc_env",
   "language": "python",
   "name": "npc_env"
  },
  "language_info": {
   "codemirror_mode": {
    "name": "ipython",
    "version": 3
   },
   "file_extension": ".py",
   "mimetype": "text/x-python",
   "name": "python",
   "nbconvert_exporter": "python",
   "pygments_lexer": "ipython3",
   "version": "3.10.16"
  },
  "toc": {
   "base_numbering": 1,
   "nav_menu": {},
   "number_sections": true,
   "sideBar": true,
   "skip_h1_title": false,
   "title_cell": "Table of Contents",
   "title_sidebar": "Contents",
   "toc_cell": false,
   "toc_position": {},
   "toc_section_display": true,
   "toc_window_display": false
  }
 },
 "nbformat": 4,
 "nbformat_minor": 5
}
