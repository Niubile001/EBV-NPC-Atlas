{
 "cells": [
  {
   "cell_type": "markdown",
   "metadata": {},
   "source": [
    "## Compute the distances among cell types in Niche4."
   ]
  },
  {
   "cell_type": "code",
   "execution_count": null,
   "metadata": {},
   "outputs": [],
   "source": [
    "import os\n",
    "import sys\n",
    "import numpy as np\n",
    "import pandas as pd\n",
    "import scanpy as sc\n",
    "import scimap as sm\n",
    "import anndata as ad\n",
    "import stlearn as st\n",
    "import matplotlib.pyplot as plt"
   ]
  },
  {
   "cell_type": "markdown",
   "metadata": {},
   "source": [
    "##### Set working directory for analysis"
   ]
  },
  {
   "cell_type": "code",
   "execution_count": null,
   "metadata": {},
   "outputs": [],
   "source": [
    "cwd = '/media/bio/Disk/Research Data/EBV/omicverse'\n",
    "os.chdir(cwd)\n",
    "updated_dir = os.getcwd()\n",
    "print(\"Updated working directory: \", updated_dir)\n",
    "\n",
    "from pathlib import Path\n",
    "saving_dir = Path('Results/10.NPC_ST_Analysis')\n",
    "saving_dir.mkdir(parents=True, exist_ok=True)"
   ]
  },
  {
   "cell_type": "markdown",
   "metadata": {},
   "source": [
    "## Loading the data"
   ]
  },
  {
   "cell_type": "markdown",
   "metadata": {},
   "source": [
    "#### Reading in annotated AnnData object"
   ]
  },
  {
   "cell_type": "code",
   "execution_count": null,
   "metadata": {},
   "outputs": [],
   "source": [
    "adata = sc.read_h5ad(\"Processed Data/GSE206245_NPC_ST_Cluster_Tangram.h5ad\")\n",
    "adata"
   ]
  },
  {
   "cell_type": "code",
   "execution_count": null,
   "metadata": {},
   "outputs": [],
   "source": [
    "import numpy as np\n",
    "import pandas as pd\n",
    "\n",
    "celltype_cols = [\n",
    "    \"B\",\"C1QC+ Macro\",\"Monocyte\",\"Fibroblast\",\"IL1B+ Macro\",\"IgM+ plasma-like\",\n",
    "    \"Mast\",\"NK\",\"Neutrophil\",\"Epithelial\",\"Plasma\",\"SPP1+ Macro\",\"T\",\"Tumor\",\"cDC\",\"pDC\"\n",
    "]\n",
    "\n",
    "df = adata.obs[celltype_cols].astype(float).fillna(0.0)\n",
    "\n",
    "max_prop = df.max(axis=1)\n",
    "wta = df.idxmax(axis=1)\n",
    "\n",
    "min_prop = 0.0  \n",
    "assigned = wta.where(max_prop >= min_prop, other=\"Unassigned\")\n",
    "\n",
    "priority = [\"Tumor\", \"Epithelial\", \"SPP1+ Macro\", \"C1QC+ Macro\", \"IL1B+ Macro\",\n",
    "            \"Monocyte\", \"T\", \"B\", \"NK\", \"Neutrophil\", \"Plasma\", \"IgM+ plasma-like\",\n",
    "            \"Fibroblast\", \"Mast\", \"cDC\", \"pDC\"]\n",
    "\n",
    "def break_tie(row):\n",
    "    vals = row.values\n",
    "    m = vals.max()\n",
    "    winners = [row.index[i] for i, v in enumerate(vals) if v == m]\n",
    "    for p in priority:\n",
    "        if p in winners:\n",
    "            return p\n",
    "    return winners[0]\n",
    "\n",
    "# assigned = df.apply(break_tie, axis=1).where(max_prop >= min_prop, other=\"Unassigned\")\n",
    "\n",
    "adata.obs[\"CellType_WTA\"] = pd.Categorical(assigned)\n",
    "adata.obs[\"CellType_WTA_prop\"] = max_prop.astype(float)"
   ]
  },
  {
   "cell_type": "code",
   "execution_count": null,
   "metadata": {},
   "outputs": [],
   "source": [
    "lib_ids = ['NPC_ST09', 'NPC_ST10', 'NPC_ST16', 'NPC_ST17', 'NPC_ST18', 'NPC_ST19']\n",
    "mask = (adata.obs['scNiche'] == 'Niche4') & (adata.obs['library_id'].isin(lib_ids))\n",
    "adata_Niche4 = adata[mask].copy()"
   ]
  },
  {
   "cell_type": "code",
   "execution_count": null,
   "metadata": {},
   "outputs": [],
   "source": [
    "if 'spatial' in adata_Niche4.obsm:\n",
    "    adata_Niche4.obs['X'] = adata_Niche4.obsm['spatial'][:, 0]\n",
    "    adata_Niche4.obs['Y'] = adata_Niche4.obsm['spatial'][:, 1]\n",
    "\n",
    "adata_Niche4.obs['CellType_WTA'] = adata_Niche4.obs['CellType_WTA'].astype('category')"
   ]
  },
  {
   "cell_type": "markdown",
   "metadata": {},
   "source": [
    "### Compute the distances among cell types."
   ]
  },
  {
   "cell_type": "code",
   "execution_count": null,
   "metadata": {},
   "outputs": [],
   "source": [
    "adata_Niche4 = sm.tl.spatial_distance(\n",
    "    adata_Niche4,\n",
    "    x_coordinate='X',\n",
    "    y_coordinate='Y',\n",
    "    phenotype='CellType_WTA',\n",
    "    imageid='library_id'\n",
    ")"
   ]
  },
  {
   "cell_type": "code",
   "execution_count": null,
   "metadata": {},
   "outputs": [],
   "source": [
    "adata_Niche4"
   ]
  },
  {
   "cell_type": "markdown",
   "metadata": {},
   "source": [
    "We'll utilize built-in plotting functions for visualization; however, for those interested in conducting additional analysis or custom plotting of these distances, the results can be found in adata.uns['spatial_distance']."
   ]
  },
  {
   "cell_type": "code",
   "execution_count": null,
   "metadata": {},
   "outputs": [],
   "source": [
    "# This is one of the most complicated plotting functions in the package\n",
    "# as I packed a lot of options into one (see the documentation)\n",
    "# I will try and split this into multiple functions in the future\n",
    "# To start- let's get an overview with a heatmap\n",
    "sm.pl.spatial_distance(adata_Niche4, method='heatmap', phenotype='CellType_WTA', imageid='library_id', heatmap_summarize=True, figsize=(8,7))\n",
    "sm.pl.spatial_distance(adata_Niche4, method='heatmap', phenotype='CellType_WTA', imageid='library_id', heatmap_summarize=True, figsize=(8,7),\n",
    "                       saveDir='Results/10.NPC_ST_Analysis', fileName= 'SpatialDistance_Heatmap_Niche4.pdf',)"
   ]
  },
  {
   "cell_type": "code",
   "execution_count": null,
   "metadata": {},
   "outputs": [],
   "source": [
    "# Numeric plot showing distance from one phenotype to all others\n",
    "sm.pl.spatial_distance(adata_Niche4, method='numeric', distance_from='Tumor', phenotype='CellType_WTA', imageid='scNiche', log=True, height=5.5, aspect=12/8)\n",
    "\n",
    "sm.pl.spatial_distance(adata_Niche4, method='numeric', distance_from='Tumor', phenotype='CellType_WTA', imageid='scNiche', log=True, height=5.25, aspect=12/8,\n",
    "                       saveDir='Results/10.NPC_ST_Analysis', fileName= 'SpatialDistance_Numeric_Tumor_Niche4.pdf')\n"
   ]
  },
  {
   "cell_type": "markdown",
   "metadata": {},
   "source": [
    "\n",
    "**<span style=\"font-size:16px;\">Session information：</span>**"
   ]
  },
  {
   "cell_type": "code",
   "execution_count": null,
   "metadata": {},
   "outputs": [],
   "source": [
    "import sys\n",
    "import platform\n",
    "import pkg_resources\n",
    "\n",
    "# Get Python version information\n",
    "python_version = sys.version\n",
    "# Get operating system information\n",
    "os_info = platform.platform()\n",
    "# Get system architecture information\n",
    "architecture = platform.architecture()[0]\n",
    "# Get CPU information\n",
    "cpu_info = platform.processor()\n",
    "# Print Session information\n",
    "print(\"Python version:\", python_version)\n",
    "print(\"Operating system:\", os_info)\n",
    "print(\"System architecture:\", architecture)\n",
    "print(\"CPU info:\", cpu_info)\n",
    "\n",
    "# Print imported packages and their versions\n",
    "print(\"\\nImported packages and their versions:\")\n",
    "for package in pkg_resources.working_set:\n",
    "    print(package.key, package.version)"
   ]
  }
 ],
 "metadata": {
  "kernelspec": {
   "display_name": "npc_env",
   "language": "python",
   "name": "python3"
  },
  "language_info": {
   "codemirror_mode": {
    "name": "ipython",
    "version": 3
   },
   "file_extension": ".py",
   "mimetype": "text/x-python",
   "name": "python",
   "nbconvert_exporter": "python",
   "pygments_lexer": "ipython3",
   "version": "3.10.16"
  }
 },
 "nbformat": 4,
 "nbformat_minor": 2
}
