{
 "cells": [
  {
   "cell_type": "markdown",
   "metadata": {},
   "source": [
    "## 06_2. Epithelial Cells  -- Align cells along differentiation trajectories\n",
    "\n",
    "<div style=\"text-align: left;\">\n",
    "    <p style=\"text-align: left;\">Updated Time: 2025-02-13</p>\n",
    "</div>"
   ]
  },
  {
   "cell_type": "markdown",
   "metadata": {},
   "source": [
    "##### Load libraries"
   ]
  },
  {
   "cell_type": "code",
   "execution_count": null,
   "metadata": {
    "execution": {
     "iopub.execute_input": "2024-07-26T03:15:29.122349Z",
     "iopub.status.busy": "2024-07-26T03:15:29.121558Z",
     "iopub.status.idle": "2024-07-26T03:18:37.505788Z",
     "shell.execute_reply": "2024-07-26T03:18:37.504472Z",
     "shell.execute_reply.started": "2024-07-26T03:15:29.122295Z"
    },
    "tags": []
   },
   "outputs": [],
   "source": [
    "import os\n",
    "import sys\n",
    "import numpy as np\n",
    "import pandas as pd\n",
    "import scanpy as sc\n",
    "import omicverse as ov\n",
    "from omicverse.externel import VIA\n",
    "\n",
    "import matplotlib.pyplot as plt\n",
    "ov.plot_set()\n",
    "\n",
    "import warnings\n",
    "warnings.simplefilter(\"ignore\")"
   ]
  },
  {
   "cell_type": "markdown",
   "metadata": {},
   "source": [
    "##### Set working directory for analysis"
   ]
  },
  {
   "cell_type": "code",
   "execution_count": null,
   "metadata": {
    "ExecuteTime": {
     "end_time": "2023-08-31T13:06:17.699085Z",
     "start_time": "2023-08-31T13:04:26.492Z"
    },
    "execution": {
     "iopub.execute_input": "2024-07-26T03:18:37.508583Z",
     "iopub.status.busy": "2024-07-26T03:18:37.507664Z",
     "iopub.status.idle": "2024-07-26T03:18:37.514575Z",
     "shell.execute_reply": "2024-07-26T03:18:37.513552Z",
     "shell.execute_reply.started": "2024-07-26T03:18:37.508545Z"
    },
    "tags": []
   },
   "outputs": [],
   "source": [
    "cwd = '/media/bio/Disk/Research Data/EBV/omicverse'\n",
    "os.chdir(cwd)\n",
    "updated_dir = os.getcwd()\n",
    "print(\"Updated working directory: \", updated_dir)"
   ]
  },
  {
   "cell_type": "markdown",
   "metadata": {
    "tags": []
   },
   "source": [
    "#### Reading in annotated AnnData object"
   ]
  },
  {
   "cell_type": "code",
   "execution_count": null,
   "metadata": {
    "execution": {
     "iopub.execute_input": "2024-07-26T03:18:37.515776Z",
     "iopub.status.busy": "2024-07-26T03:18:37.515572Z",
     "iopub.status.idle": "2024-07-26T03:19:40.582515Z",
     "shell.execute_reply": "2024-07-26T03:19:40.581028Z",
     "shell.execute_reply.started": "2024-07-26T03:18:37.515758Z"
    },
    "tags": []
   },
   "outputs": [],
   "source": [
    "adata_epi = sc.read_h5ad(\"Processed Data/scRNA_Epi_CNV.h5ad\")\n",
    "adata_epi"
   ]
  },
  {
   "cell_type": "code",
   "execution_count": null,
   "metadata": {
    "execution": {
     "iopub.execute_input": "2024-07-26T03:19:40.585492Z",
     "iopub.status.busy": "2024-07-26T03:19:40.584964Z",
     "iopub.status.idle": "2024-07-26T03:19:41.647251Z",
     "shell.execute_reply": "2024-07-26T03:19:41.645976Z",
     "shell.execute_reply.started": "2024-07-26T03:19:40.585463Z"
    },
    "tags": []
   },
   "outputs": [],
   "source": [
    "print(np.min(adata_epi.X), np.max(adata_epi.X))"
   ]
  },
  {
   "cell_type": "code",
   "execution_count": null,
   "metadata": {
    "execution": {
     "iopub.execute_input": "2024-07-26T03:19:41.648939Z",
     "iopub.status.busy": "2024-07-26T03:19:41.648737Z",
     "iopub.status.idle": "2024-07-26T03:19:41.708755Z",
     "shell.execute_reply": "2024-07-26T03:19:41.707695Z",
     "shell.execute_reply.started": "2024-07-26T03:19:41.648921Z"
    },
    "tags": []
   },
   "outputs": [],
   "source": [
    "for i in adata_epi.obs['Epi_celltype'].cat.categories:\n",
    "  number = len(adata_epi.obs[adata_epi.obs['Epi_celltype']==i])\n",
    "  print('the number of category {} is {}'.format(i,number))"
   ]
  },
  {
   "cell_type": "markdown",
   "metadata": {},
   "source": [
    "You can use `recover_counts` to recover the raw counts after normalize and log1p"
   ]
  },
  {
   "cell_type": "code",
   "execution_count": null,
   "metadata": {},
   "outputs": [],
   "source": [
    "X_counts_recovered, size_factors_sub=ov.pp.recover_counts(adata_epi.X, 50*1e4, 50*1e5, log_base=None, chunk_size=50000)\n",
    "adata_epi.layers['counts']=X_counts_recovered"
   ]
  },
  {
   "cell_type": "code",
   "execution_count": null,
   "metadata": {},
   "outputs": [],
   "source": [
    "adata_epi.layers['counts'].shape\n",
    "print(np.min(adata_epi.layers['counts']), np.max(adata_epi.layers['counts']))"
   ]
  },
  {
   "cell_type": "code",
   "execution_count": null,
   "metadata": {},
   "outputs": [],
   "source": [
    "adata_epi.X=adata_epi.layers['counts']\n",
    "print(np.min(adata_epi.X), np.max(adata_epi.X))"
   ]
  },
  {
   "cell_type": "markdown",
   "metadata": {},
   "source": [
    "##### Save the .raw attribute of the AnnData object"
   ]
  },
  {
   "cell_type": "markdown",
   "metadata": {},
   "source": [
    "Set the .raw attribute of the AnnData object to the raw gene expression (counts) for later use. This simply freezes the state of the AnnData object.\n",
    "You can get back an AnnData of the object in .raw by calling .raw.to_adata()."
   ]
  },
  {
   "cell_type": "code",
   "execution_count": null,
   "metadata": {},
   "outputs": [],
   "source": [
    "adata_epi.raw = adata_epi.copy() # This saves the raw count data in adata.raw"
   ]
  },
  {
   "cell_type": "markdown",
   "metadata": {},
   "source": [
    "##### Preprocess data\n"
   ]
  },
  {
   "cell_type": "code",
   "execution_count": null,
   "metadata": {},
   "outputs": [],
   "source": [
    "adata_epi=ov.pp.preprocess(adata_epi,mode='shiftlog|pearson',n_HVGs=2000)\n",
    "adata_epi = adata_epi[:, adata_epi.var.highly_variable_features]\n",
    "ov.pp.scale(adata_epi)\n",
    "ov.pp.pca(adata_epi,layer='scaled',n_pcs=50)"
   ]
  },
  {
   "cell_type": "markdown",
   "metadata": {},
   "source": [
    "Let us inspect the contribution of single PCs to the total variance in the data. \n",
    "This gives us information about how many PCs we should consider in order to compute the neighborhood relations of cells. In our experience, often a rough estimate of the number of PCs does fine.\n"
   ]
  },
  {
   "cell_type": "code",
   "execution_count": null,
   "metadata": {},
   "outputs": [],
   "source": [
    "ov.utils.plot_pca_variance_ratio(adata_epi)"
   ]
  },
  {
   "cell_type": "markdown",
   "metadata": {},
   "source": [
    "#### Unsupervised clustering\n",
    "The Leiden algorithm is as an improved version of the Louvain algorithm which outperformed other clustering methods for single-cell RNA-seq data analysis ([Du et al., 2018, Freytag et al., 2018, Weber and Robinson, 2016]). Since the Louvain algorithm is no longer maintained, using Leiden instead is preferred.\n",
    "\n",
    "We, therefore, propose to use the Leiden algorithm[Traag et al., 2019] on single-cell k-nearest-neighbour (KNN) graphs to cluster single-cell datasets.\n",
    "\n",
    "Leiden creates clusters by taking into account the number of links between cells in a cluster versus the overall expected number of links in the dataset.\n",
    "\n",
    "Here, we set method='leiden' to cluster the cells using Leiden"
   ]
  },
  {
   "cell_type": "code",
   "execution_count": null,
   "metadata": {},
   "outputs": [],
   "source": [
    "ov.pp.neighbors(adata_epi, n_neighbors=15, n_pcs=20,use_rep='scaled|original|X_pca')\n",
    "ov.pp.umap(adata_epi)"
   ]
  },
  {
   "cell_type": "code",
   "execution_count": null,
   "metadata": {},
   "outputs": [],
   "source": [
    "ov.utils.embedding(adata_epi,basis='X_umap',\n",
    "                   color=['Epi_celltype'],\n",
    "                   frameon='small',wspace=0.5)"
   ]
  },
  {
   "cell_type": "markdown",
   "metadata": {},
   "source": [
    "### Trajectory Inference with StaVIA\n",
    "VIA is a single-cell Trajectory Inference method that offers topology construction, pseudotimes, automated terminal state prediction and automated plotting of temporal gene dynamics along lineages. Here, we have improved the original author's colouring logic and user habits so that users can use the anndata object directly for analysis。\n",
    "\n",
    "We have completed this tutorial using the analysis provided by the original VIA authors.\n",
    "\n",
    "Paper: Generalized and scalable trajectory inference in single-cell omics data with VIA\n",
    "\n",
    "Code: https://github.com/ShobiStassen/VIA\n",
    "\n",
    "Colab_Reproducibility：https://colab.research.google.com/drive/1A2X23z_RLJaYLbXaiCbZa-fjNbuGACrD?usp=sharing"
   ]
  },
  {
   "cell_type": "markdown",
   "metadata": {},
   "source": [
    "##### Model construct and run\n",
    "We need to specify the cell feature vector use_rep used for VIA inference, which can be X_pca, X_scVI or X_glue, depending on the purpose of your analysis, here we use X_pca directly. We also need to specify how many components to be used, the components should not larger than the length of vector.\n",
    "\n",
    "Besides, we need to specify the clusters to be colored and calculate for VIA. If the root_user is None, it will be calculated the root cell automatically.\n",
    "\n",
    "We need to set basis argument stored in adata.obsm. An example setting tsne because it stored in obsm: 'tsne', 'MAGIC_imputed_data', 'palantir_branch_probs', 'X_pca'\n",
    "\n",
    "We also need to set clusters argument stored in adata.obs. It means the celltype key.\n",
    "\n",
    "Other explaination of argument and attributes could be found at https://pyvia.readthedocs.io/en/latest/notebooks/ViaJupyter_scRNA_Hematopoiesis.html\n",
    "\n",
    "StaVia for time-series\n",
    "\n",
    "Via 2.0 Cartography on Mouse Gastrulation\n",
    "Via 2.0 Cartography on Zebrahub (Trajectory Inference)\n",
    "Via 2.0 Cartography on Zebrahub (Visualization)\n",
    "StaVia for spatial-temporal\n",
    "\n",
    "Stavia Spatially aware cartography on MERFISH\n",
    "StaVia TI for Spatio-temporal Analysis of single cell data"
   ]
  },
  {
   "cell_type": "markdown",
   "metadata": {},
   "source": [
    "##### Initialize and Run the Via2.0 Class"
   ]
  },
  {
   "cell_type": "code",
   "execution_count": null,
   "metadata": {},
   "outputs": [],
   "source": [
    "ncomps=20\n",
    "knn=15\n",
    "v0_random_seed=42\n",
    "root_user = ['Normal ECs'] #the index of a cell belonging to the nIPC cell type\n",
    "memory = 50\n",
    "dataset = 'Epi_celltype'\n",
    "use_rep = 'scaled|original|X_pca'\n",
    "clusters = 'Epi_celltype'\n",
    "basis='X_umap'\n",
    "\n",
    "'''\n",
    "#NOTE1, if you decide to choose a cell type as a root, then you need to set the dataset as 'group'\n",
    "#root_user=['HSC1']\n",
    "#dataset = 'group'# 'humanCD34'\n",
    "#NOTE2, if rna-velocity is available, considering using it to compute the root automatically- see RNA velocity tutorial\n",
    "'''\n",
    "\n",
    "v0 = VIA.core.VIA(data=adata_epi.obsm[use_rep][:, 0:ncomps], \n",
    "             true_label=adata_epi.obs[clusters], \n",
    "             edgepruning_clustering_resolution=0.15, cluster_graph_pruning=0.15,\n",
    "             num_threads=1, #single thread gurrantee the pseudotime reproducibility\n",
    "             knn=knn,  root_user=root_user, resolution_parameter=1.5,\n",
    "             dataset=dataset, random_seed=v0_random_seed, memory=memory)#, do_compute_embedding=True, embedding_type='via-atlas')\n",
    "\n",
    "v0.run_VIA()"
   ]
  },
  {
   "cell_type": "code",
   "execution_count": null,
   "metadata": {},
   "outputs": [],
   "source": [
    "fig, ax, ax1 = VIA.core.plot_piechart_viagraph_ov(adata_epi, clusters='Epi_celltype', dpi=150,\n",
    "                                             via_object=v0, ax_text=False,show_legend=False)\n",
    "fig.set_size_inches(8,4)"
   ]
  },
  {
   "cell_type": "code",
   "execution_count": null,
   "metadata": {},
   "outputs": [],
   "source": [
    "adata_epi.obs['pt_via']=v0.single_cell_pt_markov\n",
    "ov.pl.embedding(adata_epi,basis='X_umap', color=['pt_via'], frameon=True, cmap='Reds')"
   ]
  },
  {
   "cell_type": "code",
   "execution_count": null,
   "metadata": {},
   "outputs": [],
   "source": [
    "# plot the pt_via trajectory\n",
    "mask = np.in1d(adata_epi.obs[\"Epi_celltype\"], \n",
    "               ['Normal ECs', 'EBV- ECs', 'EBV+ ECs', 'EBV- CCs', 'EBV+ CCs'])\n",
    "\n",
    "plt.figure(figsize=(4, 3))\n",
    "sc.pl.violin(\n",
    "    adata_epi[mask],\n",
    "    keys=[\"pt_via\"],\n",
    "    groupby=\"Epi_celltype\",\n",
    "    rotation=-90,\n",
    "    jitter=False,\n",
    "    show=False,\n",
    "    order=['Normal ECs', 'EBV- ECs', 'EBV+ ECs', 'EBV- CCs', 'EBV+ CCs'],\n",
    ")\n",
    "\n",
    "plt.savefig('Results/06.Epithelial/06.pt_via_pseudotime_violinplots.pdf', format='pdf')\n",
    "plt.show()\n"
   ]
  },
  {
   "cell_type": "code",
   "execution_count": null,
   "metadata": {},
   "outputs": [],
   "source": [
    "clusters='Epi_celltype'\n",
    "color_true_list=adata_epi.uns['{}_colors'.format(clusters)]"
   ]
  },
  {
   "cell_type": "code",
   "execution_count": null,
   "metadata": {},
   "outputs": [],
   "source": [
    "import numpy as np\n",
    "np.int = np.int64\n"
   ]
  },
  {
   "cell_type": "code",
   "execution_count": null,
   "metadata": {},
   "outputs": [],
   "source": [
    "fig, ax, ax1 = VIA.core.plot_trajectory_curves_ov(adata_epi, clusters='Epi_celltype', dpi=150,\n",
    "                                                  via_object=v0, embedding=adata_epi.obsm['X_umap'],\n",
    "                                                  draw_all_curves=False)\n"
   ]
  },
  {
   "cell_type": "code",
   "execution_count": null,
   "metadata": {},
   "outputs": [],
   "source": [
    "v0.embedding = adata_epi.obsm['X_umap']\n",
    "fig, ax = VIA.core.plot_atlas_view(via_object=v0, \n",
    "                                   n_milestones=150, \n",
    "                                   sc_labels=adata_epi.obs['Epi_celltype'], \n",
    "                                   fontsize_title=12,\n",
    "                                   fontsize_labels=12,dpi=80,\n",
    "                                   extra_title_text='Atlas View colored by pseudotime')\n",
    "fig.set_size_inches(4,4)"
   ]
  },
  {
   "cell_type": "code",
   "execution_count": null,
   "metadata": {},
   "outputs": [],
   "source": [
    "# edge plots can be made with different edge resolutions. Run hammerbundle_milestone_dict() to recompute the edges for plotting. Then provide the new hammerbundle as a parameter to plot_edge_bundle()\n",
    "# it is better to compute the edges and save them to the via_object. this gives more control to the merging of edges\n",
    "decay = 0.6 #increasing decay increasing merging of edges\n",
    "i_bw = 0.02 #increasing bw increases merging of edges\n",
    "global_visual_pruning = 0.5 #higher number retains more edges\n",
    "n_milestones = 200\n",
    "\n",
    "v0.hammerbundle_milestone_dict= VIA.core.make_edgebundle_milestone(via_object=v0, \n",
    "                                                              n_milestones=n_milestones, \n",
    "                                                              decay=decay, initial_bandwidth=i_bw,\n",
    "                                                              global_visual_pruning=global_visual_pruning)\n"
   ]
  },
  {
   "cell_type": "code",
   "execution_count": null,
   "metadata": {},
   "outputs": [],
   "source": [
    "fig, ax = VIA.core.plot_atlas_view(via_object=v0,  \n",
    "                              add_sc_embedding=True, \n",
    "                              sc_labels_expression=adata_epi.obs['Epi_celltype'], \n",
    "                              cmap='jet', sc_labels=adata_epi.obs['Epi_celltype'], \n",
    "                              text_labels=True, \n",
    "                              extra_title_text='Atlas View by Cell type', \n",
    "                              fontsize_labels=3,fontsize_title=3,dpi=300\n",
    "                             )\n",
    "fig.set_size_inches(5,4)"
   ]
  },
  {
   "cell_type": "code",
   "execution_count": null,
   "metadata": {},
   "outputs": [],
   "source": [
    "# via_streamplot() requires you to either provide an ndarray as embedding as an input parameter OR for via to have an embedding attribute\n",
    "fig, ax = VIA.core.via_streamplot_ov(adata_epi,'Epi_celltype',\n",
    "                                     v0, embedding=adata_epi.obsm['X_umap'], dpi=150,\n",
    "                             density_grid=0.8, scatter_size=30, \n",
    "                             scatter_alpha=0.3, linewidth=0.5)\n",
    "fig.set_size_inches(5,5)"
   ]
  },
  {
   "cell_type": "code",
   "execution_count": null,
   "metadata": {},
   "outputs": [],
   "source": [
    "#Colored by pseudotime\n",
    "\n",
    "fig, ax = VIA.core.via_streamplot_ov(adata_epi,'Epi_celltype',\n",
    "                             v0,density_grid=0.8, scatter_size=30, color_scheme='time', linewidth=0.5, \n",
    "                             min_mass = 1, cutoff_perc = 5, scatter_alpha=0.3, marker_edgewidth=0.1, \n",
    "                             density_stream = 2, smooth_transition=1, smooth_grid=0.5,dpi=150,)\n",
    "fig.set_size_inches(5,5)"
   ]
  },
  {
   "cell_type": "code",
   "execution_count": null,
   "metadata": {},
   "outputs": [],
   "source": [
    "v0.terminal_clusters"
   ]
  },
  {
   "cell_type": "code",
   "execution_count": null,
   "metadata": {},
   "outputs": [],
   "source": [
    "fig, axs= VIA.core.plot_sc_lineage_probability(via_object=v0, dpi=150,\n",
    "                                          marker_lineages=v0.terminal_clusters,\n",
    "                                          embedding=adata_epi.obsm['X_umap']) #marker_lineages=v0.terminal_clusters to plot all\n",
    "fig.set_size_inches(12,18)"
   ]
  },
  {
   "cell_type": "code",
   "execution_count": null,
   "metadata": {},
   "outputs": [],
   "source": [
    "fig, axs= VIA.core.plot_atlas_view(via_object=v0, dpi=150,\n",
    "                              lineage_pathway=v0.terminal_clusters,\n",
    "                                 fontsize_title = 12,\n",
    "                                 fontsize_labels = 12,\n",
    "                             ) #marker_lineages=v0.terminal_clusters to plot all\n",
    "fig.set_size_inches(12,18)"
   ]
  },
  {
   "cell_type": "code",
   "execution_count": null,
   "metadata": {},
   "outputs": [],
   "source": [
    "gene_list_magic =['MYC','SOX2','CD44','ALDH1A1']\n",
    "df = adata_epi.to_df()\n",
    "df_magic = v0.do_impute(df, magic_steps=3, gene_list=gene_list_magic) #optional"
   ]
  },
  {
   "cell_type": "code",
   "execution_count": null,
   "metadata": {},
   "outputs": [],
   "source": [
    "fig, axs = VIA.core.plot_viagraph(via_object=v0, \n",
    "                                  type_data='gene',\n",
    "                                  df_genes=df_magic, \n",
    "                                  gene_list=gene_list_magic[0:4], arrow_head=0.1)\n",
    "fig.set_size_inches(15,4)"
   ]
  },
  {
   "cell_type": "code",
   "execution_count": null,
   "metadata": {},
   "outputs": [],
   "source": [
    "fig, axs = VIA.core.get_gene_expression(via_object=v0, \n",
    "                                         marker_lineages=v0.terminal_clusters,\n",
    "                                         gene_exp=df_magic[gene_list_magic],\n",
    "                                         )\n",
    "\n",
    "ax = axs[3]  \n",
    "\n",
    "legend = ax.legend(loc='upper center', bbox_to_anchor=(-1.35, 1.45), fontsize=8, ncol=6)\n",
    "\n",
    "fig.set_size_inches(12, 4)\n",
    "plt.tight_layout()\n",
    "\n",
    "plt.savefig('Results/06.Epithelial/06.Epithelial_VIA_gene_expression.pdf', format='pdf', bbox_inches='tight')\n",
    "plt.show()"
   ]
  },
  {
   "cell_type": "markdown",
   "metadata": {},
   "source": [
    "### Visualization"
   ]
  },
  {
   "cell_type": "code",
   "execution_count": null,
   "metadata": {},
   "outputs": [],
   "source": [
    "fig1, ax1 = plt.subplots(figsize=(4, 4)) \n",
    "sc.pl.embedding(adata_epi, basis='X_umap', color='pt_via', frameon=True, cmap='Reds', ax=ax1, show=False)\n",
    "ax1.set_title('')\n",
    "for child in ax1.get_children():\n",
    "    if isinstance(child, plt.cm.ScalarMappable):  \n",
    "        child.colorbar.remove() \n",
    "\n",
    "scatter_obj = ax1.collections[0] \n",
    "cbar = fig1.colorbar(scatter_obj, ax=ax1) \n",
    "cbar.ax.set_title('VIA Pseudotime', fontsize=10, loc='center')  \n",
    "\n",
    "umap_file = 'Results/06.Epithelial/UMAP_pt_via_Score.pdf'\n",
    "plt.savefig(umap_file, dpi=300, bbox_inches='tight')\n",
    "print(f\"UMAP plot saved as: {umap_file}\") \n",
    "plt.show() \n",
    "plt.close()  \n",
    "\n",
    "\n",
    "via_temp_file = \"via_streamplot_temp.png\"\n",
    "fig2, ax2 = plt.subplots(figsize=(4, 4))\n",
    "VIA.core.via_streamplot_ov(adata_epi, 'Epi_celltype', v0,\n",
    "                           density_grid=0.8, scatter_size=20, color_scheme='time', \n",
    "                           linewidth=0.5, min_mass=1, cutoff_perc=5, scatter_alpha=0.3, \n",
    "                           marker_edgewidth=0.1, density_stream=3, smooth_transition=1, \n",
    "                           smooth_grid=0.5, dpi=300)\n",
    "plt.title('')\n",
    "plt.savefig(via_temp_file, dpi=300, bbox_inches='tight')\n",
    "plt.close()\n",
    "via_img = plt.imread(via_temp_file)\n",
    "ax2.imshow(via_img)\n",
    "ax2.axis('off')\n",
    "ax2.set_title('Stream of lineages')\n",
    "ax2.title.set_position([0.5, -0.2])\n",
    "os.remove(via_temp_file)\n",
    "\n",
    "streamplot_file = 'Results/06.Epithelial/VIA_Streamplot.pdf'\n",
    "plt.savefig(streamplot_file, dpi=300, bbox_inches='tight')\n",
    "print(f\"VIA Streamplot saved as: {streamplot_file}\")\n",
    "plt.show()\n",
    "plt.close()\n",
    "\n",
    "\n",
    "fig3, ax3 = plt.subplots(figsize=(4, 4))\n",
    "ov.pl.bardotplot(adata_epi, groupby='Epi_celltype', color='pt_via', figsize=(4, 4),\n",
    "                 ax=ax3,\n",
    "                 ylabel='Expression',\n",
    "                 bar_kwargs={'alpha': 0.5, 'linewidth': 2, 'width': 0.6, 'capsize': 4},\n",
    "                 scatter_kwargs={'alpha': 0.8, 's': 10, 'marker': '.'})\n",
    "\n",
    "ov.pl.add_palue(ax3, line_x1=1, line_x2=2, line_y=0.8,\n",
    "                text_y=0.02,\n",
    "                text='$p={}$'.format(round(0.001, 3)),\n",
    "                fontsize=12, fontcolor='#000000',\n",
    "                horizontalalignment='center')\n",
    "ov.pl.add_palue(ax3, line_x1=3, line_x2=4, line_y=0.9,\n",
    "                text_y=0.02,\n",
    "                text='$p={}$'.format(round(0.001, 3)),\n",
    "                fontsize=12, fontcolor='#000000',\n",
    "                horizontalalignment='center')\n",
    "ax3.tick_params(axis='x', labelrotation=45)\n",
    "ax3.set_ylabel('VIA Pseudotime')\n",
    "ax3.set_title('')\n",
    "plt.tight_layout(pad=0.1)\n",
    "\n",
    "violin_file = 'Results/06.Epithelial/pt_via_Score_Violin_Plot.pdf'\n",
    "plt.savefig(violin_file, dpi=300, bbox_inches='tight')\n",
    "print(f\"Violin plot saved as: {violin_file}\")\n",
    "plt.show()\n",
    "plt.close()"
   ]
  },
  {
   "cell_type": "markdown",
   "metadata": {},
   "source": [
    "### Prediction of absolute developmental potential using CytoTrace2\n",
    "CytoTRACE 2 is a computational method for predicting cellular potency categories and absolute developmental potential from single-cell RNA-sequencing data.\n",
    "\n",
    "Potency categories in the context of CytoTRACE 2 classify cells based on their developmental potential, ranging from totipotent and pluripotent cells with broad differentiation potential to lineage-restricted oligopotent, multipotent and unipotent cells capable of producing varying numbers of downstream cell types, and finally, differentiated cells, ranging from mature to terminally differentiated phenotypes.\n",
    "\n",
    "We made three improvements in integrating the CytoTrace2 algorithm in OmicVerse:\n",
    "\n",
    "No additional packages to install, including R\n",
    "We fixed a bug in multi-threaded pools to avoid potential error reporting\n",
    "Native support for anndata, you don't need to export input_file and annotation_file.\n",
    "If you found this tutorial helpful, please cite CytoTrace2 and OmicVerse:\n",
    "\n",
    "Kang, M., Armenteros, J. J. A., Gulati, G. S., Gleyzer, R., Avagyan, S., Brown, E. L., Zhang, W., Usmani, A., Earland, N., Wu, Z., Zou, J., Fields, R. C., Chen, D. Y., Chaudhuri, A. A., & Newman, A. M. (2024). Mapping single-cell developmental potential in health and disease with interpretable deep learning. bioRxiv : the preprint server for biology, 2024.03.19.585637. https://doi.org/10.1101/2024.03.19.585637"
   ]
  },
  {
   "cell_type": "markdown",
   "metadata": {},
   "source": [
    "#### Predict cytotrace2\n",
    "We need to import the two pre-trained models from CytoTrace2, see the download links for the models:\n",
    "\n",
    "Figshare: https://figshare.com/ndownloader/files/47258749\n",
    "\n",
    "or Github: https://github.com/digitalcytometry/cytotrace2/tree/main/cytotrace2_python/cytotrace2_py/resources/17_models_weights https://github.com/digitalcytometry/cytotrace2/tree/main/cytotrace2_python/cytotrace2_py/resources/5_models_weights\n",
    "\n",
    "All parameters are explained as follows:\n",
    "\n",
    "adata: AnnData object containing the scRNA-seq data.\n",
    "use_model_dir: Path to the directory containing the pre-trained model files.\n",
    "species: The species of the input data. Default is \"mouse\".\n",
    "batch_size: The number of cells to process in each batch. Default is 10000.\n",
    "smooth_batch_size: The number of cells to process in each batch for smoothing. Default is 1000.\n",
    "disable_parallelization: If True, disable parallel processing. Default is False.\n",
    "max_cores: Maximum number of CPU cores to use for parallel processing. If None, all available cores will be used. Default is None.\n",
    "max_pcs: Maximum number of principal components to use. Default is 200.\n",
    "seed: Random seed for reproducibility. Default is 14.\n",
    "output_dir: Directory to save the results. Default is 'cytotrace2_results'."
   ]
  },
  {
   "cell_type": "code",
   "execution_count": null,
   "metadata": {},
   "outputs": [],
   "source": [
    "# The input data for CytoTRACE 2 can be represented as raw or CPM/TPM normalized counts, but should not be log-transformed.\n",
    "adata_epi = adata_epi.raw.to_adata() # This recovers the raw count data in adata.X\n",
    "adata_epi.raw = adata_epi.copy() # This saves the raw count data in adata_epi.raw\n",
    "adata_epi"
   ]
  },
  {
   "cell_type": "code",
   "execution_count": null,
   "metadata": {},
   "outputs": [],
   "source": [
    "print(np.min(adata_epi.X), np.max(adata_epi.X))"
   ]
  },
  {
   "cell_type": "code",
   "execution_count": null,
   "metadata": {},
   "outputs": [],
   "source": [
    "results =  ov.single.cytotrace2(adata_epi,\n",
    "    use_model_dir=\"Processed Data/cymodels/17_models_weights\",\n",
    "    species=\"human\",\n",
    "    batch_size = 10000,\n",
    "    smooth_batch_size = 1000,\n",
    "    disable_parallelization = False,\n",
    "    max_cores = 256,\n",
    "    max_pcs = 200,\n",
    "    seed = 14,\n",
    "    output_dir = 'Results/06.Epithelial/cytotrace2_results'\n",
    ")"
   ]
  },
  {
   "cell_type": "markdown",
   "metadata": {},
   "source": [
    "#### Visualizing\n",
    "Visualizing the results we can directly compare the predicted potency scores with the known developmental stage of the cells, seeing how the predictions meticulously align with the known biology. Take a look!"
   ]
  },
  {
   "cell_type": "code",
   "execution_count": null,
   "metadata": {},
   "outputs": [],
   "source": [
    "ov.utils.embedding(adata_epi,basis='X_umap',\n",
    "                   color=['Epi_celltype','CytoTRACE2_Score'],\n",
    "                   frameon='small',cmap='Reds',wspace=0.55)"
   ]
  },
  {
   "cell_type": "markdown",
   "metadata": {},
   "source": [
    "Left: demonstrates the distribution of different cell types in UMAP space.\n",
    "Right: demonstrates the CytoTRACE 2 scores of different cell types; cells with high scores are generally considered to have a higher pluripotency or undifferentiated state."
   ]
  },
  {
   "cell_type": "code",
   "execution_count": null,
   "metadata": {},
   "outputs": [],
   "source": [
    "ov.utils.embedding(adata_epi,basis='X_umap',\n",
    "                   color=['CytoTRACE2_Potency','CytoTRACE2_Relative'],\n",
    "                   frameon='small',cmap='Reds',wspace=0.55)"
   ]
  },
  {
   "cell_type": "markdown",
   "metadata": {},
   "source": [
    "Potency category: The UMAP embedding plot of predicted potency category reflects the discrete classification of cells into potency categories, taking possible values of Differentiated, Unipotent, Oligopotent, Multipotent, Pluripotent, and Totipotent.\n",
    "Relative order: UMAP embedding of predicted relative order, which is based on absolute predicted potency scores normalized to the range 0 (more differentiated) to 1 (less differentiated). Provides the relative ordering of cells by developmental potential"
   ]
  },
  {
   "cell_type": "code",
   "execution_count": null,
   "metadata": {},
   "outputs": [],
   "source": [
    "fig,ax=plt.subplots(figsize = (4,4))\n",
    "ov.pl.cellproportion(adata=adata_epi, celltype_clusters='CytoTRACE2_Potency',\n",
    "                    groupby='Epi_celltype', legend=True,ax=ax)\n",
    "# 调整图例的字体大小和位置\n",
    "legend = ax.legend(loc='center left', bbox_to_anchor=(1, 0.5), fontsize=10)"
   ]
  },
  {
   "cell_type": "code",
   "execution_count": null,
   "metadata": {},
   "outputs": [],
   "source": [
    "# plot the Erythroid trajectory\n",
    "mask = np.in1d(adata_epi.obs[\"Epi_celltype\"], \n",
    "               ['Normal ECs', 'EBV- ECs', 'EBV+ ECs', 'EBV- CCs', 'EBV+ CCs'])\n",
    "sc.pl.violin(\n",
    "    adata_epi[mask],\n",
    "    keys=[\"CytoTRACE2_Score\",\"CytoTRACE2_Relative\"],\n",
    "    groupby=\"Epi_celltype\",\n",
    "    rotation=-90,\n",
    "    jitter=False,\n",
    "    order=['Normal ECs', 'EBV- ECs', 'EBV+ ECs', 'EBV- CCs', 'EBV+ CCs'],\n",
    "    save='_cytotrace2_violinplots.pdf'\n",
    ")"
   ]
  },
  {
   "cell_type": "code",
   "execution_count": null,
   "metadata": {},
   "outputs": [],
   "source": [
    "fig, ax = plt.subplots(figsize=(4.5, 4)) \n",
    "sc.pl.embedding(adata_epi, basis='X_umap', color='CytoTRACE2_Score', frameon=True, cmap='Reds', ax=ax, show=False)\n",
    "ax.set_title('')  \n",
    "\n",
    "for child in ax.get_children():\n",
    "    if isinstance(child, plt.cm.ScalarMappable):\n",
    "        child.colorbar.remove() \n",
    "\n",
    "scatter_obj = ax.collections[0]\n",
    "cbar = fig.colorbar(scatter_obj, ax=ax)\n",
    "cbar.ax.set_title('CytoTRACE2 Score', fontsize=10, loc='center')\n",
    "\n",
    "umap_file = 'Results/06.Epithelial/UMAP_CytoTRACE2_Score.pdf'\n",
    "plt.savefig(umap_file, dpi=300, bbox_inches='tight')\n",
    "print(f\"UMAP plot saved as: {umap_file}\") \n",
    "plt.show() \n",
    "plt.close()\n",
    "\n",
    "\n",
    "fig2, ax1 = plt.subplots(figsize=(4.5, 4))\n",
    "ov.pl.bardotplot(adata_epi, groupby='Epi_celltype', color='CytoTRACE2_Score', figsize=(4, 4), \n",
    "                 ax=ax1,\n",
    "                 ylabel='Expression',\n",
    "                 bar_kwargs={'alpha': 0.5, 'linewidth': 2, 'width': 0.6, 'capsize': 4},\n",
    "                 scatter_kwargs={'alpha': 0.8, 's': 10, 'marker': '.'})\n",
    "\n",
    "ov.pl.add_palue(ax1, line_x1=3, line_x2=4, line_y=0.7,\n",
    "                text_y=0.02,\n",
    "                text='$p={}$'.format(round(0.001, 3)),\n",
    "                fontsize=12, fontcolor='#000000', \n",
    "                horizontalalignment='center')\n",
    "ov.pl.add_palue(ax1, line_x1=1, line_x2=2, line_y=0.6,\n",
    "                text_y=0.02,\n",
    "                text='$p={}$'.format(round(0.001, 3)),\n",
    "                fontsize=12, fontcolor='#000000', \n",
    "                horizontalalignment='center')\n",
    "ax1.tick_params(axis='x', labelrotation=45, labelsize=12) \n",
    "ax1.set_ylabel('CytoTRACE2 Score', fontsize=12)\n",
    "ax1.set_title('') \n",
    "plt.tight_layout(pad=0.1)\n",
    "\n",
    "violin_file = 'Results/06.Epithelial/CytoTRACE2_Score_Violin_Plot.pdf'\n",
    "plt.savefig(violin_file, dpi=300, bbox_inches='tight')\n",
    "print(f\"Violin plot saved as: {violin_file}\")\n",
    "plt.show() \n",
    "plt.close()\n",
    "\n",
    "\n",
    "fig3, ax2 = plt.subplots(figsize=(5, 4))\n",
    "ov.pl.cellproportion(adata=adata_epi, celltype_clusters='CytoTRACE2_Potency', groupby='Epi_celltype', \n",
    "                     legend=True, ax=ax2)\n",
    "ax2.legend(loc='center left', bbox_to_anchor=(1, 0.5), frameon=False, fontsize=11) \n",
    "ax2.set_title('')  \n",
    "ax2.set_xlabel('') \n",
    "ax2.tick_params(axis='x', labelrotation=45, labelsize=10)\n",
    "ax2.tick_params(axis='x', labelsize=10)\n",
    "plt.tight_layout(pad=0.5)\n",
    "\n",
    "proportion_file = 'Results/06.Epithelial/Cell_Proportion_Plot.pdf'\n",
    "plt.savefig(proportion_file, dpi=300, bbox_inches='tight')\n",
    "print(f\"Cell proportion plot saved as: {proportion_file}\")\n",
    "plt.show()\n",
    "plt.close()\n",
    "\n",
    "\n",
    "from scipy.stats import gaussian_kde\n",
    "from scipy import stats\n",
    "pearson_corr, _ = stats.pearsonr(adata_epi.obs[\"pt_via\"], adata_epi.obs[\"CytoTRACE2_Score\"])\n",
    "print(pearson_corr)\n",
    "\n",
    "fig4, ax4 = plt.subplots(figsize=(4, 4))\n",
    "y = adata_epi.obs[\"pt_via\"]\n",
    "x = adata_epi.obs[\"CytoTRACE2_Score\"]\n",
    "xy = np.vstack([x, y])\n",
    "z = gaussian_kde(xy)(xy)\n",
    "scat = ax4.scatter(x, y, c=z, s=10, cmap=\"Spectral\")\n",
    "\n",
    "cbar = fig4.colorbar(scat, ax=ax4)  \n",
    "cbar.ax.set_title('Density', fontsize=10, loc='center') \n",
    "ax4.tick_params(axis='both', labelsize=10)\n",
    "ax4.plot(np.linspace(min(x), max(x), 100), np.linspace(min(y), max(y), 100), color='black', linestyle='--')\n",
    "ax4.set_ylabel('VIA Pseudotime', fontsize=11)\n",
    "ax4.set_xlabel('CytoTRACE2 Score', fontsize=11)\n",
    "ax4.set_title('')\n",
    "\n",
    "scatter_file = 'Results/06.Epithelial/Scatter_Plot_VIA_Pseudotime_CytoTRACE2_Score.pdf'\n",
    "plt.savefig(scatter_file, dpi=300, bbox_inches='tight')\n",
    "print(f\"Scatter plot saved as: {scatter_file}\")\n",
    "plt.show()\n",
    "plt.close()  "
   ]
  },
  {
   "cell_type": "markdown",
   "metadata": {},
   "source": [
    "#### Save results"
   ]
  },
  {
   "cell_type": "code",
   "execution_count": null,
   "metadata": {},
   "outputs": [],
   "source": [
    "adata_epi"
   ]
  },
  {
   "cell_type": "code",
   "execution_count": null,
   "metadata": {},
   "outputs": [],
   "source": [
    "print(np.min(adata_epi.X), np.max(adata_epi.X))"
   ]
  },
  {
   "cell_type": "code",
   "execution_count": null,
   "metadata": {
    "tags": []
   },
   "outputs": [],
   "source": [
    "adata_epi.write_h5ad(\"Processed Data/scRNA_Epi_CNV_Traj.h5ad\")"
   ]
  },
  {
   "cell_type": "markdown",
   "metadata": {},
   "source": [
    "\n",
    "**<span style=\"font-size:16px;\">Session information：</span>**"
   ]
  },
  {
   "cell_type": "code",
   "execution_count": null,
   "metadata": {},
   "outputs": [],
   "source": [
    "import sys\n",
    "import platform\n",
    "import pkg_resources\n",
    "\n",
    "# Get Python version information\n",
    "python_version = sys.version\n",
    "# Get operating system information\n",
    "os_info = platform.platform()\n",
    "# Get system architecture information\n",
    "architecture = platform.architecture()[0]\n",
    "# Get CPU information\n",
    "cpu_info = platform.processor()\n",
    "# Print Session information\n",
    "print(\"Python version:\", python_version)\n",
    "print(\"Operating system:\", os_info)\n",
    "print(\"System architecture:\", architecture)\n",
    "print(\"CPU info:\", cpu_info)\n",
    "\n",
    "# Print imported packages and their versions\n",
    "print(\"\\nImported packages and their versions:\")\n",
    "for package in pkg_resources.working_set:\n",
    "    print(package.key, package.version)"
   ]
  }
 ],
 "metadata": {
  "hide_input": false,
  "kernelspec": {
   "display_name": "npc_env",
   "language": "python",
   "name": "python3"
  },
  "language_info": {
   "codemirror_mode": {
    "name": "ipython",
    "version": 3
   },
   "file_extension": ".py",
   "mimetype": "text/x-python",
   "name": "python",
   "nbconvert_exporter": "python",
   "pygments_lexer": "ipython3",
   "version": "3.10.13"
  },
  "nav_menu": {},
  "toc": {
   "base_numbering": 1,
   "nav_menu": {},
   "number_sections": true,
   "sideBar": true,
   "skip_h1_title": false,
   "title_cell": "Table of Contents",
   "title_sidebar": "Contents",
   "toc_cell": false,
   "toc_position": {
    "height": "calc(100% - 180px)",
    "left": "10px",
    "top": "150px",
    "width": "263px"
   },
   "toc_section_display": "block",
   "toc_window_display": true
  },
  "varInspector": {
   "cols": {
    "lenName": 16,
    "lenType": 16,
    "lenVar": 40
   },
   "kernels_config": {
    "python": {
     "delete_cmd_postfix": "",
     "delete_cmd_prefix": "del ",
     "library": "var_list.py",
     "varRefreshCmd": "print(var_dic_list())"
    },
    "r": {
     "delete_cmd_postfix": ") ",
     "delete_cmd_prefix": "rm(",
     "library": "var_list.r",
     "varRefreshCmd": "cat(var_dic_list()) "
    }
   },
   "types_to_exclude": [
    "module",
    "function",
    "builtin_function_or_method",
    "instance",
    "_Feature"
   ],
   "window_display": false
  },
  "widgets": {
   "application/vnd.jupyter.widget-state+json": {
    "state": {},
    "version_major": 2,
    "version_minor": 0
   }
  }
 },
 "nbformat": 4,
 "nbformat_minor": 4
}
