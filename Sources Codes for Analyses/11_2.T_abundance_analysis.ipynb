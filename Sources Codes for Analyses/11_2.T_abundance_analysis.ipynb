{
 "cells": [
  {
   "cell_type": "markdown",
   "id": "fa8cf4d9",
   "metadata": {},
   "source": [
    "## 07_2. Myeloid -- Milo - KNN based differential abundance analysis\n",
    "\n",
    "<div \n",
    "    <p style=\"text-align: left;\">Updated Time: 2025-02-20</p>\n",
    "</div>"
   ]
  },
  {
   "cell_type": "markdown",
   "id": "6f514896",
   "metadata": {},
   "source": [
    "##### Load libraries"
   ]
  },
  {
   "cell_type": "code",
   "execution_count": null,
   "id": "eb23983e",
   "metadata": {
    "ExecuteTime": {
     "end_time": "2023-08-31T13:06:17.697146Z",
     "start_time": "2023-08-31T13:04:25.828612Z"
    },
    "execution": {
     "iopub.execute_input": "2024-07-19T18:55:26.019176Z",
     "iopub.status.busy": "2024-07-19T18:55:26.018925Z",
     "iopub.status.idle": "2024-07-19T18:59:04.879757Z",
     "shell.execute_reply": "2024-07-19T18:59:04.878278Z",
     "shell.execute_reply.started": "2024-07-19T18:55:26.019149Z"
    },
    "tags": []
   },
   "outputs": [],
   "source": [
    "import os\n",
    "import sys\n",
    "import numpy as np\n",
    "import pandas as pd\n",
    "import scanpy as sc\n",
    "import pertpy as pt\n",
    "\n",
    "import matplotlib as mpl\n",
    "from matplotlib import font_manager as fm\n",
    "import matplotlib.pyplot as plt\n",
    "\n",
    "fm.fontManager.addfont(\"/usr/share/fonts/truetype/msttcorefonts/Arial.ttf\")\n",
    "mpl.rcParams.update({\n",
    "    \"font.family\": [\"Arial\", \"Noto Sans\", \"DejaVu Sans\"],\n",
    "    \"mathtext.fontset\": \"dejavusans\",\n",
    "    \"axes.unicode_minus\": False,\n",
    "    \"pdf.fonttype\": 42,\n",
    "    \"svg.fonttype\": \"none\",\n",
    "})\n",
    "\n",
    "import warnings\n",
    "warnings.simplefilter(\"ignore\")"
   ]
  },
  {
   "cell_type": "markdown",
   "id": "904add21",
   "metadata": {},
   "source": [
    "##### Set working directory for analysis"
   ]
  },
  {
   "cell_type": "code",
   "execution_count": null,
   "id": "6911b3fd",
   "metadata": {
    "ExecuteTime": {
     "end_time": "2023-08-31T13:06:17.699085Z",
     "start_time": "2023-08-31T13:04:26.492Z"
    },
    "execution": {
     "iopub.execute_input": "2024-07-19T18:59:04.882897Z",
     "iopub.status.busy": "2024-07-19T18:59:04.881734Z",
     "iopub.status.idle": "2024-07-19T18:59:04.889345Z",
     "shell.execute_reply": "2024-07-19T18:59:04.888331Z",
     "shell.execute_reply.started": "2024-07-19T18:59:04.882860Z"
    },
    "tags": []
   },
   "outputs": [],
   "source": [
    "cwd = '/media/bio/Disk/Research Data/EBV/omicverse'\n",
    "os.chdir(cwd)\n",
    "updated_dir = os.getcwd()\n",
    "print(\"Updated working directory: \", updated_dir)"
   ]
  },
  {
   "cell_type": "markdown",
   "id": "6cc21525",
   "metadata": {},
   "source": [
    "##### Reading in annotated AnnData object"
   ]
  },
  {
   "cell_type": "code",
   "execution_count": null,
   "id": "f563e311",
   "metadata": {
    "ExecuteTime": {
     "end_time": "2023-08-11T06:19:50.673997Z",
     "start_time": "2023-08-11T06:18:35.382768Z"
    },
    "execution": {
     "iopub.execute_input": "2024-07-19T19:01:31.169691Z",
     "iopub.status.busy": "2024-07-19T19:01:31.167868Z",
     "iopub.status.idle": "2024-07-19T19:02:22.427601Z",
     "shell.execute_reply": "2024-07-19T19:02:22.426609Z",
     "shell.execute_reply.started": "2024-07-19T19:01:31.169655Z"
    },
    "scrolled": true,
    "tags": []
   },
   "outputs": [],
   "source": [
    "adata = sc.read_h5ad(\"Processed Data/scRNA_TCell.h5ad\")\n",
    "adata"
   ]
  },
  {
   "cell_type": "code",
   "execution_count": null,
   "id": "0969936e-2f1b-468c-a2d9-85d4e0e934a1",
   "metadata": {
    "execution": {
     "iopub.execute_input": "2024-07-19T19:02:22.429385Z",
     "iopub.status.busy": "2024-07-19T19:02:22.428715Z",
     "iopub.status.idle": "2024-07-19T19:02:26.156187Z",
     "shell.execute_reply": "2024-07-19T19:02:26.155111Z",
     "shell.execute_reply.started": "2024-07-19T19:02:22.429332Z"
    },
    "tags": []
   },
   "outputs": [],
   "source": [
    "for i in adata.obs['T_subtype'].cat.categories:\n",
    "  number = len(adata.obs[adata.obs['T_subtype']==i])\n",
    "  print('the number of category {} is {}'.format(i,number))"
   ]
  },
  {
   "cell_type": "code",
   "execution_count": null,
   "id": "2da27600",
   "metadata": {},
   "outputs": [],
   "source": [
    "for i in adata.obs['EBV_status'].cat.categories:\n",
    "  number = len(adata.obs[adata.obs['EBV_status']==i])\n",
    "  print('the number of category {} is {}'.format(i,number))"
   ]
  },
  {
   "cell_type": "markdown",
   "id": "3fdc494d",
   "metadata": {},
   "source": [
    "### Milo - KNN based differential abundance analysis"
   ]
  },
  {
   "cell_type": "markdown",
   "id": "63841ffe",
   "metadata": {},
   "source": [
    "##### Prepare for Milo analysis"
   ]
  },
  {
   "cell_type": "code",
   "execution_count": null,
   "id": "dced49a7",
   "metadata": {},
   "outputs": [],
   "source": [
    "## Exclude Normal samples\n",
    "adata = adata[adata.obs[\"EBV_status\"] != \"Normal\"].copy()\n",
    "\n",
    "## Initialize object for Milo analysis\n",
    "milo = pt.tl.Milo()\n",
    "mdata = milo.load(adata)"
   ]
  },
  {
   "cell_type": "markdown",
   "id": "d9eb79e6",
   "metadata": {},
   "source": [
    "When initializing the Milo object, we create a MuData object which will store both the gene expression matrices (rna view) and cell count matrices used for differential abundance analysis (milo view)."
   ]
  },
  {
   "cell_type": "code",
   "execution_count": null,
   "id": "adf070b7",
   "metadata": {},
   "outputs": [],
   "source": [
    "mdata"
   ]
  },
  {
   "cell_type": "markdown",
   "id": "e806c62b",
   "metadata": {},
   "source": [
    "#### Build KNN graph\n",
    "We can use scanpy functions to build a KNN graph. We set the dimensionality and value for k to use in subsequent steps.\n",
    "\n",
    "Here the value of k indicates the smallest possible size of neighbourhood in which we will quantify differential abundance (i.e. with k=50 the smallest neighbourhood will have 50 cells). Depending on the number of samples, you might want to use a high value of k for neighbourhood analysis, to have sufficient power to estimate abundance fold-changes. Since here we have data from > 100 patients, we set k=150 to have on average more than one cell per donor in each neighbourhood."
   ]
  },
  {
   "cell_type": "code",
   "execution_count": null,
   "id": "7da78546",
   "metadata": {},
   "outputs": [],
   "source": [
    "sc.pp.neighbors(mdata[\"rna\"], use_rep=\"X_harmony\", n_neighbors=15)"
   ]
  },
  {
   "cell_type": "markdown",
   "id": "3babf976",
   "metadata": {},
   "source": [
    "#### Construct neighbourhoods\n"
   ]
  },
  {
   "cell_type": "markdown",
   "id": "8a2d8346",
   "metadata": {},
   "source": [
    "This step assigns cells to a set of representative neighbourhoods on the KNN graph.\n",
    "\n"
   ]
  },
  {
   "cell_type": "code",
   "execution_count": null,
   "id": "74c0bac9",
   "metadata": {},
   "outputs": [],
   "source": [
    "milo.make_nhoods(mdata[\"rna\"], prop=0.1)"
   ]
  },
  {
   "cell_type": "markdown",
   "id": "75df5779",
   "metadata": {},
   "source": [
    "The assignment of cells to neighbourhoods is stored as a sparse binary matrix in mdata['rna'].obsm. Here we see that cells have been assigned to 4307 neighbourhoods.\n"
   ]
  },
  {
   "cell_type": "code",
   "execution_count": null,
   "id": "a2469391",
   "metadata": {},
   "outputs": [],
   "source": [
    "mdata[\"rna\"].obsm[\"nhoods\"]"
   ]
  },
  {
   "cell_type": "markdown",
   "id": "f30e108d",
   "metadata": {},
   "source": [
    "The information on which cells are sampled as index cells of representative neighbourhoods is stored in mdata['rna'].obs, along with the distance of the index to the kth nearest neighbor, which is used later for the SpatialFDR correction."
   ]
  },
  {
   "cell_type": "code",
   "execution_count": null,
   "id": "07b02a4b",
   "metadata": {},
   "outputs": [],
   "source": [
    "mdata[\"rna\"][mdata[\"rna\"].obs[\"nhood_ixs_refined\"] != 0].obs[[\"nhood_ixs_refined\", \"nhood_kth_distance\"]]"
   ]
  },
  {
   "cell_type": "markdown",
   "id": "acd3a774",
   "metadata": {},
   "source": [
    "We can visualize the distribution of neighbourhood sizes, to check that the minimal value of k makes sense, and that the distribution of sizes is not too wide."
   ]
  },
  {
   "cell_type": "code",
   "execution_count": null,
   "id": "af39ecbc",
   "metadata": {},
   "outputs": [],
   "source": [
    "nhood_size = np.array(mdata[\"rna\"].obsm[\"nhoods\"].sum(0)).ravel()\n",
    "plt.hist(nhood_size, bins=100)\n",
    "plt.xlabel(\"# cells in nhood\")\n",
    "plt.ylabel(\"# nhoods\");"
   ]
  },
  {
   "cell_type": "markdown",
   "id": "1ed53392",
   "metadata": {},
   "source": [
    "##### Count cells in neighbourhoods\n",
    "Milo leverages the variation in cell numbers between replicates for the same experimental condition to test for differential abundance. Therefore we have to count how many cells from each sample (in this case the patient) are in each neighbourhood. We need to use the cell metadata saved in adata.obs and specify which column contains the sample information."
   ]
  },
  {
   "cell_type": "code",
   "execution_count": null,
   "id": "129af2dd",
   "metadata": {},
   "outputs": [],
   "source": [
    "mdata = milo.count_nhoods(mdata, sample_col=\"orig.ident\")"
   ]
  },
  {
   "cell_type": "markdown",
   "id": "72cce17f",
   "metadata": {},
   "source": [
    "This function populates the modality milo to mdata.\n",
    "\n",
    "mdata[‘milo’] is an anndata object where obs correspond to samples and vars correspond to neighbourhoods, and where .X stores the number of cells from each sample counted in a neighbourhood. This count matrix will be used for DA testing."
   ]
  },
  {
   "cell_type": "code",
   "execution_count": null,
   "id": "2593103c",
   "metadata": {},
   "outputs": [],
   "source": [
    "mdata"
   ]
  },
  {
   "cell_type": "code",
   "execution_count": null,
   "id": "46dd4cbd",
   "metadata": {},
   "outputs": [],
   "source": [
    "mdata[\"milo\"]"
   ]
  },
  {
   "cell_type": "markdown",
   "id": "c3a40e9e",
   "metadata": {},
   "source": [
    "##### Differential abundance testing with GLM\n",
    "We are now ready to test for differential abundance in time. The experimental design needs to be specified with R-style formulas.\n",
    "\n",
    "Here we run a simple comparison, testing for changes in cell abundance associated with EBV+ NPC."
   ]
  },
  {
   "cell_type": "code",
   "execution_count": null,
   "id": "2d43611d",
   "metadata": {},
   "outputs": [],
   "source": [
    "# Reorder categories\n",
    "# (by default, the last category is taken as the condition of interest)\n",
    "mdata[\"rna\"].obs[\"EBV_status\"] = mdata[\"rna\"].obs[\"EBV_status\"].cat.reorder_categories([\"Negative\", \"Positive\"])\n",
    "milo.da_nhoods(mdata, design=\"~EBV_status\")"
   ]
  },
  {
   "cell_type": "markdown",
   "id": "5b35dbd6",
   "metadata": {},
   "source": [
    "We can explicitly specify the comparison we want to make using the parameter model_contrasts. This is especially important when we have more than two levels for a category and we want to compare against a specific control level."
   ]
  },
  {
   "cell_type": "code",
   "execution_count": null,
   "id": "7c7731c9",
   "metadata": {},
   "outputs": [],
   "source": [
    "milo.da_nhoods(mdata, design=\"~EBV_status\", model_contrasts=\"EBV_statusPositive-EBV_statusNegative\")"
   ]
  },
  {
   "cell_type": "markdown",
   "id": "4370385a",
   "metadata": {},
   "source": [
    "In addition, we might want to take into account potential confounders that could affect cell abundances, for example batch effects. We can include confounders in the model using the syntax ~ confounders + condition, where the covariate specified in the last term is always the covariate of interest. In this case we can estimate the effect of EBV infection on cell abundance regressing out changes in cell abundance driven by the site of collection.\n",
    "\n",
    "See below for more examples on how to specify different types of comparisons."
   ]
  },
  {
   "cell_type": "code",
   "execution_count": null,
   "id": "6225dd69",
   "metadata": {},
   "outputs": [],
   "source": [
    "milo.da_nhoods(mdata, design=\"~Dataset+EBV_status\", model_contrasts=\"EBV_statusPositive\")"
   ]
  },
  {
   "cell_type": "markdown",
   "id": "78b62eab",
   "metadata": {},
   "source": [
    "Information about the sample design is stored in mdata['milo'].obs:"
   ]
  },
  {
   "cell_type": "code",
   "execution_count": null,
   "id": "eea004e1",
   "metadata": {},
   "outputs": [],
   "source": [
    "mdata[\"milo\"].obs"
   ]
  },
  {
   "cell_type": "markdown",
   "id": "ba3b038f",
   "metadata": {},
   "source": [
    "The differential abundance test results are stored in milo_mdata['milo'].var. In particular:\n",
    "\n",
    "logFC: stores the log-Fold Change in abundance (i.e. the slope of the linear model)\n",
    "\n",
    "PValue stores the p-value for the test\n",
    "\n",
    "SpatialFDR stores the p-values adjusted for multiple testing (accounting for overlap between neighbourhoods)"
   ]
  },
  {
   "cell_type": "code",
   "execution_count": null,
   "id": "fd250050",
   "metadata": {},
   "outputs": [],
   "source": [
    "mdata[\"milo\"].var"
   ]
  },
  {
   "cell_type": "markdown",
   "id": "d3992c0a",
   "metadata": {},
   "source": [
    "We can start inspecting the results of our DA analysis from a couple of standard diagnostic plots."
   ]
  },
  {
   "cell_type": "code",
   "execution_count": null,
   "id": "3f5b3689",
   "metadata": {},
   "outputs": [],
   "source": [
    "old_figsize = plt.rcParams[\"figure.figsize\"]\n",
    "plt.rcParams[\"figure.figsize\"] = [10, 5]\n",
    "plt.subplot(1, 2, 1)\n",
    "plt.hist(mdata[\"milo\"].var.PValue, bins=50)\n",
    "plt.xlabel(\"P-Vals\")\n",
    "plt.subplot(1, 2, 2)\n",
    "plt.plot(mdata[\"milo\"].var.logFC, -np.log10(mdata[\"milo\"].var.SpatialFDR), \".\")\n",
    "plt.xlabel(\"log-Fold Change\")\n",
    "plt.ylabel(\"- log10(Spatial FDR)\")\n",
    "plt.tight_layout()\n",
    "plt.rcParams[\"figure.figsize\"] = old_figsize"
   ]
  },
  {
   "cell_type": "markdown",
   "id": "8721d597",
   "metadata": {},
   "source": [
    "#### Visualize results on embedding\n",
    "To visualize DA results relating them to the embedding of single cells, we can build an abstracted graph of neighbourhoods that we can superimpose on the single-cell embedding. Here each node represents a neighbourhood, and the layout of nodes is determined by the position of the index cell in the UMAP embedding of all single-cells. The neighbourhoods displaying singificant DA are colored by their log-Fold Change."
   ]
  },
  {
   "cell_type": "code",
   "execution_count": null,
   "id": "b873a68c",
   "metadata": {},
   "outputs": [],
   "source": [
    "milo.build_nhood_graph(mdata)"
   ]
  },
  {
   "cell_type": "code",
   "execution_count": null,
   "id": "f17c3281",
   "metadata": {},
   "outputs": [],
   "source": [
    "mdata"
   ]
  },
  {
   "cell_type": "code",
   "execution_count": null,
   "id": "344316bd",
   "metadata": {},
   "outputs": [],
   "source": [
    "plt.rcParams[\"figure.figsize\"] = [7, 7]\n",
    "milo.plot_nhood_graph(\n",
    "    mdata,\n",
    "    alpha=0.1,  ## SpatialFDR level (1%)\n",
    "    min_size=1,  ## Size of smallest dot\n",
    ")"
   ]
  },
  {
   "cell_type": "markdown",
   "id": "4288ceca",
   "metadata": {},
   "source": [
    "#### Visualize result by celltype\n",
    "We might want to visualize whether DA is particularly evident in certain cell types. To do this, we assign a cell type label to each neighbourhood by finding the most abundant cell type within cells in each neighbourhood (after all, neighbourhoods are in most cases small subpopulations within the same cell type). We can label neighbourhoods in the results data.frame using the function milo.annotate_nhoods. This also saves the fraction of cells harbouring the label.\n"
   ]
  },
  {
   "cell_type": "code",
   "execution_count": null,
   "id": "0e88b2b5",
   "metadata": {},
   "outputs": [],
   "source": [
    "milo.annotate_nhoods(mdata, anno_col=\"T_subtype\")"
   ]
  },
  {
   "cell_type": "markdown",
   "id": "c58d7198",
   "metadata": {},
   "source": [
    "We can see that for the majority of neighbourhoods, almost all cells have the same cell type label. We can rename neighbourhoods where less than 60% of the cells have the top label as “Mixed”"
   ]
  },
  {
   "cell_type": "code",
   "execution_count": null,
   "id": "557162f4",
   "metadata": {},
   "outputs": [],
   "source": [
    "plt.hist(mdata[\"milo\"].var[\"nhood_annotation_frac\"], bins=30)\n",
    "plt.xlabel(\"celltype fraction\")"
   ]
  },
  {
   "cell_type": "code",
   "execution_count": null,
   "id": "168b832c",
   "metadata": {},
   "outputs": [],
   "source": [
    "# Assign \"Mixed\" where nhood_annotation_frac < 0.6\n",
    "# mdata[\"milo\"].var.loc[mdata[\"milo\"].var[\"nhood_annotation_frac\"] < 0.6, \"nhood_annotation\"] = \"Mixed\""
   ]
  },
  {
   "cell_type": "code",
   "execution_count": null,
   "id": "e6f5516e",
   "metadata": {},
   "outputs": [],
   "source": [
    "fig, ax = plt.subplots(figsize=(7, 4.5))\n",
    "milo.plot_da_beeswarm(mdata, alpha=0.1,show=False)\n",
    "plt.tight_layout()\n",
    "plt.ylabel('')\n",
    "plt.savefig(\"Results/11.TCell/11.T_Milo_Abundance.pdf\", format='pdf', dpi=300, bbox_inches='tight')\n",
    "plt.show()"
   ]
  },
  {
   "cell_type": "markdown",
   "id": "74cf8014",
   "metadata": {},
   "source": [
    "This shows that neighbourhoods of Plasmablast cells, malignant B cells and monocytes are especially enriched in cells from COVID-19 samples.\n",
    "\n",
    "We can check the effect size by visualizing the cell counts directly"
   ]
  },
  {
   "cell_type": "code",
   "execution_count": null,
   "id": "c6bcafee",
   "metadata": {},
   "outputs": [],
   "source": [
    "## Get IDs of plasmablast neighbourhood\n",
    "pl_nhoods = mdata[\"milo\"].var_names[\n",
    "    (mdata[\"milo\"].var[\"SpatialFDR\"] < 0.5) & (mdata[\"milo\"].var[\"nhood_annotation\"] == \"CD8⁺ GZMK⁺ Tpex\")\n",
    "]\n",
    "\n",
    "## Visualize cell counts by condition (x-axis) and individuals on all neighbourhoods\n",
    "milo.plot_nhood_counts_by_cond(mdata, test_var=\"EBV_status\", subset_nhoods=pl_nhoods, log_counts=False)"
   ]
  },
  {
   "cell_type": "code",
   "execution_count": null,
   "id": "ef506757",
   "metadata": {},
   "outputs": [],
   "source": [
    "## Get IDs of plasmablast neighbourhood\n",
    "pl_nhoods = mdata[\"milo\"].var_names[\n",
    "    (mdata[\"milo\"].var[\"SpatialFDR\"] < 0.5) & (mdata[\"milo\"].var[\"nhood_annotation\"] == \"CD8⁺ GZMB⁺ Tex\")\n",
    "]\n",
    "\n",
    "## Visualize cell counts by condition (x-axis) and individuals on all neighbourhoods\n",
    "milo.plot_nhood_counts_by_cond(mdata, test_var=\"EBV_status\", subset_nhoods=pl_nhoods, log_counts=False)"
   ]
  },
  {
   "cell_type": "markdown",
   "id": "eeea0395",
   "metadata": {},
   "source": [
    "\n",
    "**<span style=\"font-size:16px;\">Session information：</span>**"
   ]
  },
  {
   "cell_type": "code",
   "execution_count": null,
   "id": "2de0aef8",
   "metadata": {
    "ExecuteTime": {
     "end_time": "2023-08-07T23:25:25.822088Z",
     "start_time": "2023-08-07T23:25:25.817660Z"
    },
    "execution": {
     "iopub.execute_input": "2024-07-19T21:04:42.170951Z",
     "iopub.status.busy": "2024-07-19T21:04:42.170230Z",
     "iopub.status.idle": "2024-07-19T21:04:43.456099Z",
     "shell.execute_reply": "2024-07-19T21:04:43.454658Z",
     "shell.execute_reply.started": "2024-07-19T21:04:42.170904Z"
    },
    "tags": []
   },
   "outputs": [],
   "source": [
    "import sys\n",
    "import platform\n",
    "import pkg_resources\n",
    "\n",
    "# Get Python version information\n",
    "python_version = sys.version\n",
    "# Get operating system information\n",
    "os_info = platform.platform()\n",
    "# Get system architecture information\n",
    "architecture = platform.architecture()[0]\n",
    "# Get CPU information\n",
    "cpu_info = platform.processor()\n",
    "# Print Session information\n",
    "print(\"Python version:\", python_version)\n",
    "print(\"Operating system:\", os_info)\n",
    "print(\"System architecture:\", architecture)\n",
    "print(\"CPU info:\", cpu_info)\n",
    "\n",
    "# Print imported packages and their versions\n",
    "print(\"\\nImported packages and their versions:\")\n",
    "for package in pkg_resources.working_set:\n",
    "    print(package.key, package.version)"
   ]
  }
 ],
 "metadata": {
  "kernelspec": {
   "display_name": "npc_env",
   "language": "python",
   "name": "python3"
  },
  "language_info": {
   "codemirror_mode": {
    "name": "ipython",
    "version": 3
   },
   "file_extension": ".py",
   "mimetype": "text/x-python",
   "name": "python",
   "nbconvert_exporter": "python",
   "pygments_lexer": "ipython3",
   "version": "3.10.16"
  },
  "toc": {
   "base_numbering": 1,
   "nav_menu": {},
   "number_sections": true,
   "sideBar": true,
   "skip_h1_title": false,
   "title_cell": "Table of Contents",
   "title_sidebar": "Contents",
   "toc_cell": false,
   "toc_position": {},
   "toc_section_display": true,
   "toc_window_display": false
  }
 },
 "nbformat": 4,
 "nbformat_minor": 5
}
