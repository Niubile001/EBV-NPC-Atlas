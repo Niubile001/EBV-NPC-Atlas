{
 "cells": [
  {
   "cell_type": "markdown",
   "metadata": {},
   "source": [
    "## CellChat analysis of multiple spatial transcriptomics datasets\n",
    "Suoqin Jin\n",
    "22 February, 2024\n",
    "Load the required libraries\n",
    "Part I: Data input & processing and initialization of CellChat object\n",
    "Load data\n",
    "Create a CellChat object\n",
    "Set the ligand-receptor interaction database\n",
    "Preprocessing the expression data for cell-cell communication analysis\n",
    "Part II: Inference of cell-cell communication network\n",
    "Compute the communication probability and infer cellular communication network\n",
    "Infer the cell-cell communication at a signaling pathway level\n",
    "Calculate the aggregated cell-cell communication network\n",
    "Part III: Visualization of cell-cell communication network\n",
    "Compute the contribution of each ligand-receptor pair to the overall signaling pathway\n",
    "Part V: Save the CellChat object\n",
    "This vignette outlines the steps of inference, analysis and visualization of cell-cell communication network for multiple spatial transcriptomics datasets using CellChat. We showcase CellChat’s application to multiple spatial transcriptomics datasets by applying it to two replicates from human spatial intestine datasets, which were downloaded from https://simmonslab.shinyapps.io/FetalAtlasDataPortal/.\n",
    "\n",
    "Below we briefly describe the key steps of applying CellChat to multiple spatial transcriptomics datasets. Please check the vignette of applying CellChat to an individual spatially resolved transcriptomics dataset for detailed descriptions of the methods and steps, and check the vignette of FAQ on applying CellChat to spatially resolved transcriptomics data for detailed descriptions of applying CellChat to different types of spatial transcriptomics data."
   ]
  },
  {
   "cell_type": "markdown",
   "metadata": {
    "vscode": {
     "languageId": "r"
    }
   },
   "source": [
    "Load the required libraries"
   ]
  },
  {
   "cell_type": "code",
   "execution_count": null,
   "metadata": {
    "vscode": {
     "languageId": "r"
    }
   },
   "outputs": [],
   "source": [
    "ptm = Sys.time()\n",
    "library(CellChat)\n",
    "library(patchwork)"
   ]
  },
  {
   "cell_type": "markdown",
   "metadata": {
    "vscode": {
     "languageId": "r"
    }
   },
   "source": [
    "### Part I: Data input & processing and initialization of CellChat object\n",
    "Load data"
   ]
  },
  {
   "cell_type": "code",
   "execution_count": null,
   "metadata": {
    "vscode": {
     "languageId": "r"
    }
   },
   "outputs": [],
   "source": [
    "library(Seurat)\n",
    "library(CellChat)\n",
    "library(jsonlite)\n",
    "library(Matrix)"
   ]
  },
  {
   "cell_type": "code",
   "execution_count": null,
   "metadata": {
    "vscode": {
     "languageId": "r"
    }
   },
   "outputs": [],
   "source": [
    "setwd(\"/media/bio/Disk/Research Data/EBV/omicverse\")"
   ]
  },
  {
   "cell_type": "code",
   "execution_count": null,
   "metadata": {
    "vscode": {
     "languageId": "r"
    }
   },
   "outputs": [],
   "source": [
    "sample_ids <- c('NPC_ST05', 'NPC_ST06', 'NPC_ST07', 'NPC_ST08', 'NPC_ST09',\n",
    "                'NPC_ST10', 'NPC_ST11', 'NPC_ST12', 'NPC_ST16', 'NPC_ST17',\n",
    "                'NPC_ST18', 'NPC_ST19')\n",
    "\n",
    "base_dir <- \"Dataset/GSE206245\"\n",
    "tangram_path <- \"Processed Data/tangram_ct_pred.csv\"\n",
    "scNiche_path <- \"Processed Data/GSE206245_NPC_ST_scNiche.csv\"\n",
    "spot.size <- 65\n",
    "\n",
    "assignLabels <- function(object, prediction = \"tangram_ct_pred\") {\n",
    "  pred <- object[[prediction]]@data\n",
    "  pred <- pred[1:(nrow(pred) - 1), ]\n",
    "  labels = rownames(pred)[apply(pred, 2, which.max)]\n",
    "  names(labels) <- colnames(pred)\n",
    "  object$labels <- factor(labels)\n",
    "  Idents(object) <- \"labels\"\n",
    "  return(object)\n",
    "}\n",
    "\n",
    "seurat_list <- list()\n",
    "data_list <- list()\n",
    "meta_list <- list()\n",
    "spatial_locs_list <- list()\n",
    "spatial_factors_list <- list()\n",
    "\n",
    "for (sid in sample_ids) {\n",
    "  cat(\"Processing:\", sid, \"\\n\")\n",
    "  \n",
    "  sample_dir <- file.path(base_dir, sid)\n",
    "  h5_file <- \"filtered_feature_bc_matrix.h5\"\n",
    "  rna_dir <- sample_dir\n",
    "  \n",
    "  seu <- Load10X_Spatial(data.dir = rna_dir,\n",
    "                         filename = h5_file,\n",
    "                         assay = \"Spatial\",\n",
    "                         slice = sid)\n",
    "  seu <- SCTransform(seu, assay = \"Spatial\", verbose = FALSE)\n",
    "  colnames(seu) <- paste0(colnames(seu), \"_\", sid)\n",
    "\n",
    "  anno <- read.csv(tangram_path, header = TRUE, row.names = 1, check.names = FALSE)\n",
    "  anno_filtered <- anno[grep(sid, rownames(anno)), ]\n",
    "  anno_matrix <- as(t(as.matrix(anno_filtered)), \"dgCMatrix\")\n",
    "  spot_names <- rownames(anno_filtered)\n",
    "\n",
    "  seu <- subset(seu, cells = spot_names)\n",
    "  seu[[\"TangramPred\"]] <- CreateAssayObject(counts = anno_matrix)\n",
    "\n",
    "  seu <- assignLabels(seu, prediction = \"TangramPred\")\n",
    "  seurat_list[[sid]] <- seu\n",
    "  \n",
    "  sct_data <- GetAssayData(seu, slot = \"data\", assay = \"SCT\")\n",
    "  colnames(sct_data) <- paste0(sid, \"_\", colnames(sct_data))\n",
    "  data_list[[sid]] <- sct_data\n",
    "\n",
    "  meta_tmp <- data.frame(labels = Idents(seu), samples = sid)\n",
    "  scNiche_tmp <- read.csv(scNiche_path, header = TRUE, row.names = 1, check.names = FALSE)\n",
    "  scNiche_tmp <- subset(scNiche_tmp, sample_id == sid)\n",
    "  scNiche_tmp$sample_id <- NULL\n",
    "  meta <- merge(meta_tmp, scNiche_tmp, by = \"row.names\", all = TRUE)\n",
    "  rownames(meta) <- meta$Row.names\n",
    "  meta <- meta[, -1]\n",
    "  meta$scNiche2 <- ifelse(meta$scNiche == \"Niche4\", \"Niche4\", \"Other Niches\")\n",
    "  meta_list[[sid]] <- meta\n",
    "\n",
    "  coords <- GetTissueCoordinates(seu, scale = NULL, cols = c(\"imagerow\", \"imagecol\"))\n",
    "  rownames(coords) <- colnames(sct_data)\n",
    "  spatial_locs_list[[sid]] <- coords\n",
    "\n",
    "  json_path <- file.path(sample_dir, \"spatial\", \"scalefactors_json.json\")\n",
    "  sf <- jsonlite::fromJSON(json_path)\n",
    "  ratio <- spot.size / sf$spot_diameter_fullres\n",
    "  spatial_factors_list[[sid]] <- data.frame(ratio = ratio, tol = spot.size / 2)\n",
    "}\n",
    "\n",
    "genes.common <- Reduce(intersect, lapply(data_list, rownames))\n",
    "data.input <- do.call(cbind, lapply(data_list, function(x) x[genes.common, ]))\n",
    "\n",
    "meta <- do.call(rbind, meta_list)\n",
    "rownames(meta) <- colnames(data.input)\n",
    "meta$labels <- factor(meta$labels)\n",
    "meta$samples <- factor(meta$samples, levels = sample_ids)\n",
    "\n",
    "spatial.locs <- do.call(rbind, spatial_locs_list)\n",
    "rownames(spatial.locs) <- colnames(data.input)\n",
    "\n",
    "spatial.factors <- do.call(rbind, spatial_factors_list)\n",
    "rownames(spatial.factors) <- sample_ids\n",
    "\n",
    "cellchat <- createCellChat(\n",
    "  object = data.input,\n",
    "  meta = meta,\n",
    "  group.by = \"labels\",\n",
    "  datatype = \"spatial\",\n",
    "  coordinates = spatial.locs,\n",
    "  spatial.factors = spatial.factors\n",
    ")\n",
    "\n",
    "cat(\"✅ Build CellChat object Sucessfully\\n\")\n",
    "\n",
    "saveRDS(cellchat, file = \"Processed Data/cellchat_12samples.rds\")"
   ]
  },
  {
   "cell_type": "code",
   "execution_count": null,
   "metadata": {
    "vscode": {
     "languageId": "r"
    }
   },
   "outputs": [],
   "source": [
    "# show the image and annotated spots\n",
    "color.use <- scPalette(nlevels(seu)); names(color.use) <- levels(seu)\n",
    "Seurat::SpatialDimPlot(seu, label = F, label.size = 3, cols = color.use)"
   ]
  },
  {
   "cell_type": "code",
   "execution_count": null,
   "metadata": {
    "vscode": {
     "languageId": "r"
    }
   },
   "outputs": [],
   "source": [
    "cellchat"
   ]
  },
  {
   "cell_type": "markdown",
   "metadata": {
    "vscode": {
     "languageId": "r"
    }
   },
   "source": [
    "Set the ligand-receptor interaction database"
   ]
  },
  {
   "cell_type": "code",
   "execution_count": null,
   "metadata": {
    "vscode": {
     "languageId": "r"
    }
   },
   "outputs": [],
   "source": [
    "CellChatDB <- CellChatDB.human # use CellChatDB.human if running on human data"
   ]
  },
  {
   "cell_type": "code",
   "execution_count": null,
   "metadata": {
    "vscode": {
     "languageId": "r"
    }
   },
   "outputs": [],
   "source": [
    "# use a subset of CellChatDB for cell-cell communication analysis\n",
    "CellChatDB.use <- subsetDB(CellChatDB, search = \"Secreted Signaling\", key = \"annotation\") # use Secreted Signaling\n",
    "# set the used database in the object\n",
    "cellchat@DB <- CellChatDB.use"
   ]
  },
  {
   "cell_type": "markdown",
   "metadata": {},
   "source": [
    "#### Preprocessing the expression data for cell-cell communication analysis\n",
    "To infer the cell state-specific communications, we identify over-expressed ligands or receptors in one cell group and then identify over-expressed ligand-receptor interactions if either ligand or receptor is over-expressed."
   ]
  },
  {
   "cell_type": "code",
   "execution_count": null,
   "metadata": {
    "vscode": {
     "languageId": "r"
    }
   },
   "outputs": [],
   "source": [
    "# subset the expression data of signaling genes for saving computation cost\n",
    "cellchat <- subsetData(cellchat) # This step is necessary even if using the whole database\n",
    "future::plan(\"multisession\", workers = 64) \n",
    "cellchat <- identifyOverExpressedGenes(cellchat)\n",
    "cellchat <- identifyOverExpressedInteractions(cellchat)"
   ]
  },
  {
   "cell_type": "code",
   "execution_count": null,
   "metadata": {
    "vscode": {
     "languageId": "r"
    }
   },
   "outputs": [],
   "source": [
    "execution.time = Sys.time() - ptm\n",
    "print(as.numeric(execution.time, units = \"secs\"))"
   ]
  },
  {
   "cell_type": "markdown",
   "metadata": {
    "vscode": {
     "languageId": "r"
    }
   },
   "source": [
    "### Part II: Inference of cell-cell communication network\n",
    "#### Compute the communication probability and infer cellular communication network"
   ]
  },
  {
   "cell_type": "code",
   "execution_count": null,
   "metadata": {
    "vscode": {
     "languageId": "r"
    }
   },
   "outputs": [],
   "source": [
    "ptm = Sys.time()\n",
    "cellchat <- computeCommunProb(cellchat, type = \"truncatedMean\", trim = 0.1, \n",
    "                              distance.use = FALSE, interaction.range = 250, scale.distance = NULL,\n",
    "                              contact.dependent = TRUE, contact.range = 100)"
   ]
  },
  {
   "cell_type": "markdown",
   "metadata": {
    "vscode": {
     "languageId": "r"
    }
   },
   "source": [
    "Users can filter out the cell-cell communication if there are only few cells in certain cell groups. By default, the minimum number of cells required in each cell group for cell-cell communication is 10."
   ]
  },
  {
   "cell_type": "code",
   "execution_count": null,
   "metadata": {
    "vscode": {
     "languageId": "r"
    }
   },
   "outputs": [],
   "source": [
    "cellchat <- filterCommunication(cellchat, min.cells = 10)"
   ]
  },
  {
   "cell_type": "markdown",
   "metadata": {},
   "source": [
    "#### Infer the cell-cell communication at a signaling pathway level\n",
    "CellChat computes the communication probability on signaling pathway level by summarizing the communication probabilities of all ligands-receptors interactions associated with each signaling pathway.\n",
    "\n",
    "NB: The inferred intercellular communication network of each ligand-receptor pair and each signaling pathway is stored in the slot ‘net’ and ‘netP’, respectively."
   ]
  },
  {
   "cell_type": "code",
   "execution_count": null,
   "metadata": {
    "vscode": {
     "languageId": "r"
    }
   },
   "outputs": [],
   "source": [
    "cellchat <- computeCommunProbPathway(cellchat)"
   ]
  },
  {
   "cell_type": "markdown",
   "metadata": {},
   "source": [
    "#### Calculate the aggregated cell-cell communication network\n",
    "We can calculate the aggregated cell-cell communication network by counting the number of links or summarizing the communication probability."
   ]
  },
  {
   "cell_type": "code",
   "execution_count": null,
   "metadata": {
    "vscode": {
     "languageId": "r"
    }
   },
   "outputs": [],
   "source": [
    "cellchat <- aggregateNet(cellchat)\n",
    "\n",
    "execution.time = Sys.time() - ptm\n",
    "print(as.numeric(execution.time, units = \"secs\"))"
   ]
  },
  {
   "cell_type": "markdown",
   "metadata": {},
   "source": [
    "NB: Upon infering the intercellular communication network from spatial transcriptomics data, CellChat’s various functionality can be used for further data exploration, analysis, and visualization. Please check other functionalities in the basic tutorial of CellChat and comparison analysis across different conditions"
   ]
  },
  {
   "cell_type": "markdown",
   "metadata": {},
   "source": [
    "### Part III: Save the CellChat object"
   ]
  },
  {
   "cell_type": "code",
   "execution_count": null,
   "metadata": {
    "vscode": {
     "languageId": "r"
    }
   },
   "outputs": [],
   "source": [
    "saveRDS(cellchat, file = \"Processed Data/GSE206245_NPC_ST_Cluster_Tangram_Cellchat.rds\")"
   ]
  },
  {
   "cell_type": "code",
   "execution_count": null,
   "metadata": {
    "vscode": {
     "languageId": "r"
    }
   },
   "outputs": [],
   "source": [
    "sessionInfo()"
   ]
  }
 ],
 "metadata": {
  "kernelspec": {
   "display_name": "NPC_Renv",
   "language": "R",
   "name": "npc_renv"
  },
  "language_info": {
   "codemirror_mode": "r",
   "file_extension": ".r",
   "mimetype": "text/x-r-source",
   "name": "R",
   "pygments_lexer": "r",
   "version": "4.3.3"
  }
 },
 "nbformat": 4,
 "nbformat_minor": 2
}
