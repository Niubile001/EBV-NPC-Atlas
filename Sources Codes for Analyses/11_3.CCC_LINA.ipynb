{
 "cells": [
  {
   "cell_type": "markdown",
   "metadata": {},
   "source": [
    "**<span style=\"color:darkred; font-size:22px;\">11_3. Steady-state Ligand-Receptor inference</span>**\n",
    "\n"
   ]
  },
  {
   "cell_type": "markdown",
   "metadata": {
    "tags": []
   },
   "source": [
    "## Background"
   ]
  },
  {
   "cell_type": "markdown",
   "metadata": {},
   "source": [
    "Cell-cell communication (CCC) events play a critical role in diseases, often experiencing deregulation. To identify differential expression of CCC events between conditions, we can build upon standard differential expression analysis (DEA) approaches, such as [DESeq2](https://genomebiology.biomedcentral.com/articles/10.1186/s13059-014-0550-8?ref=https://githubhelp.com). While dimensionality reduction methods like extracting intercellular programmes with [MOFA+](https://liana-py.readthedocs.io/en/latest/notebooks/mofatalk.html) and [Tensor-cell2cell](https://liana-py.readthedocs.io/en/latest/notebooks/liana_c2c.html) reduce CCC into sets of loadings, hypothesis-driven DEA tests focus on individual gene changes, making them easier to understand and interpret.\n",
    "\n",
    "In this tutorial, we perform DEA at the pseudobulk level to assess differential expression of genes between conditions. We then translate the results into deregulated complex-informed ligand-receptor interactions and analyze their connections to downstream signaling events.\n",
    "\n",
    "For further information on pseudobulk DEA, please refer to the [Differential Gene Expression chapter](https://www.sc-best-practices.org/conditions/differential_gene_expression.html) in the Single-cell Best Practices book, as well as [Decoupler's pseudobulk vignette](https://decoupler-py.readthedocs.io/en/latest/notebooks/pseudobulk.html). These resources provide more comprehensive details on the subject.\n"
   ]
  },
  {
   "cell_type": "markdown",
   "metadata": {},
   "source": [
    "Install mofa, decoupler, and omnipath via pip with the following commands:\n",
    "\n",
    "```python\n",
    "pip install \"decoupler>=0.1.4\"\n",
    "pip install \"pydeseq2>=0.4.0\"\n",
    "```"
   ]
  },
  {
   "cell_type": "markdown",
   "metadata": {},
   "source": [
    "### Load Packages"
   ]
  },
  {
   "cell_type": "code",
   "execution_count": null,
   "metadata": {},
   "outputs": [],
   "source": [
    "import os\n",
    "import sys\n",
    "import numpy as np\n",
    "import pandas as pd\n",
    "import matplotlib.pyplot as plt\n",
    "\n",
    "# import liana\n",
    "import liana as li\n",
    "# needed for visualization and toy data\n",
    "import scanpy as sc"
   ]
  },
  {
   "cell_type": "markdown",
   "metadata": {},
   "source": [
    "### Set working directory for analysis"
   ]
  },
  {
   "cell_type": "code",
   "execution_count": null,
   "metadata": {},
   "outputs": [],
   "source": [
    "cwd = '/media/bio/Disk/Research Data/EBV/omicverse'\n",
    "os.chdir(cwd)\n",
    "updated_dir = os.getcwd()\n",
    "print(\"Updated working directory: \", updated_dir)"
   ]
  },
  {
   "cell_type": "markdown",
   "metadata": {},
   "source": [
    "#### Load & Prep Data"
   ]
  },
  {
   "cell_type": "code",
   "execution_count": null,
   "metadata": {},
   "outputs": [],
   "source": [
    "adata = sc.read_h5ad(\"Processed Data/scRNA_Annotation.h5ad\")\n",
    "adata"
   ]
  },
  {
   "cell_type": "code",
   "execution_count": null,
   "metadata": {},
   "outputs": [],
   "source": [
    "adata_Epi = sc.read_h5ad(\"Processed Data/scRNA_Epi_CNV.h5ad\")\n",
    "adata_Epi"
   ]
  },
  {
   "cell_type": "code",
   "execution_count": null,
   "metadata": {},
   "outputs": [],
   "source": [
    "adata.obs['Cell_type'] = adata.obs['Cell_type'].astype(str)\n",
    "adata.obs.loc[adata_Epi.obs.index, 'Cell_type'] = adata_Epi.obs['cnv_status']\n"
   ]
  },
  {
   "cell_type": "code",
   "execution_count": null,
   "metadata": {},
   "outputs": [],
   "source": [
    "adata.obs['Cell_type'] = adata.obs['Cell_type'].astype('category')\n",
    "adata.obs['Cell_type'] = adata.obs['Cell_type'].cat.reorder_categories(['Normal', 'Tumor', 'Fibroblasts', 'T','NK','B','Myeloid','Plasma','Mast','pDC','Neutrophils'])"
   ]
  },
  {
   "cell_type": "code",
   "execution_count": null,
   "metadata": {},
   "outputs": [],
   "source": [
    "# Select samples for downstream analysis\n",
    "ebv_groups = ['Negative', 'Positive']  \n",
    "adata = adata[adata.obs['EBV_status'].isin(ebv_groups)].copy()\n",
    "\n",
    "# Select samples for downstream analysis\n",
    "cell_types = ['Tumor','T','NK','B','Myeloid','Plasma','Mast','pDC','Neutrophils']  \n",
    "adata = adata[adata.obs['Cell_type'].isin(cell_types)].copy()\n",
    "adata\n",
    "\n",
    "adata"
   ]
  },
  {
   "cell_type": "code",
   "execution_count": null,
   "metadata": {},
   "outputs": [],
   "source": [
    "for i in adata.obs['Cell_type'].cat.categories:\n",
    "  number = len(adata.obs[adata.obs['Cell_type']==i])\n",
    "  print('the number of category {} is {}'.format(i,number))"
   ]
  },
  {
   "cell_type": "code",
   "execution_count": null,
   "metadata": {},
   "outputs": [],
   "source": [
    "adata.raw = adata"
   ]
  },
  {
   "cell_type": "markdown",
   "metadata": {},
   "source": [
    "The anndata object contains counts that have been normalized (per cell) and log-transformed."
   ]
  },
  {
   "cell_type": "code",
   "execution_count": null,
   "metadata": {},
   "outputs": [],
   "source": [
    "print(np.min(adata.X), np.max(adata.X))"
   ]
  },
  {
   "cell_type": "markdown",
   "metadata": {},
   "source": [
    "##### Background\n",
    "liana typically works with the log1p-trasformed counts matrix, in this object the normalized counts are stored in raw: adata.raw.X\n",
    "\n",
    "Preferably, one would use liana with all features (genes) for which we have enough counts, but for the sake of this tutorial we are working with a matrix pre-filtered to the variable features alone.\n",
    "\n",
    "In the background, liana aggregates the counts matrix and generates statistics, typically related to cell identies. These statistics are then utilized by each of the methods in liana.\n",
    "\n"
   ]
  },
  {
   "cell_type": "code",
   "execution_count": null,
   "metadata": {},
   "outputs": [],
   "source": [
    "li.mt.show_methods()"
   ]
  },
  {
   "cell_type": "code",
   "execution_count": null,
   "metadata": {},
   "outputs": [],
   "source": [
    "li.rs.show_resources()"
   ]
  },
  {
   "cell_type": "markdown",
   "metadata": {},
   "source": [
    "Each method infers relevant ligand-receptor interactions relying on different assumptions and each method returns different ligand-receptor scores, typically a pair per method. One score corresponding to the magnitude (strength) of interaction and the other reflecting how specificity of a given interaction to a pair cell identities.\n",
    "\n",
    "Note\n",
    "\n",
    "##### Method Class\n",
    "\n",
    "Methods in liana are callable instances of the Method class. To obtain further information for each method the user can refer to the methods documentation ?method_name or ?method.__call__. Alternatively, users can use the method.describe function to get a short summary for each method.\n",
    "\n",
    "For example, if the user wishes to learn more about liana’s rank_aggregate implementation, where we combine the scores of multiple methods, they could do the following:"
   ]
  },
  {
   "cell_type": "code",
   "execution_count": null,
   "metadata": {},
   "outputs": [],
   "source": [
    "# import liana's rank_aggregate\n",
    "from liana.mt import rank_aggregate"
   ]
  },
  {
   "cell_type": "code",
   "execution_count": null,
   "metadata": {},
   "outputs": [],
   "source": [
    "rank_aggregate.describe()"
   ]
  },
  {
   "cell_type": "code",
   "execution_count": null,
   "metadata": {},
   "outputs": [],
   "source": [
    "# import all individual methods\n",
    "from liana.method import singlecellsignalr, connectome, cellphonedb, natmi, logfc, cellchat, geometric_mean"
   ]
  },
  {
   "cell_type": "markdown",
   "metadata": {},
   "source": [
    "### Steady-state Ligand-Receptor inference between immune cells"
   ]
  },
  {
   "cell_type": "code",
   "execution_count": null,
   "metadata": {},
   "outputs": [],
   "source": [
    "adata_myeloid = sc.read_h5ad(\"Processed Data/scRNA_Myeloid.h5ad\")\n",
    "adata_myeloid\n",
    "\n",
    "# Select samples for downstream analysis\n",
    "ebv_groups = ['Negative', 'Positive']  \n",
    "adata_myeloid = adata_myeloid[adata_myeloid.obs['EBV_status'].isin(ebv_groups)].copy()\n",
    "\n",
    "adata.obs['Cell_type'] = adata.obs['Cell_type'].astype(str) \n",
    "adata.obs.loc[adata_myeloid.obs.index, 'Cell_type'] = adata_myeloid.obs['Myeloid_subtype']"
   ]
  },
  {
   "cell_type": "code",
   "execution_count": null,
   "metadata": {},
   "outputs": [],
   "source": [
    "adata_TCell = sc.read_h5ad(\"Processed Data/scRNA_TCell.h5ad\")\n",
    "adata_TCell\n",
    "\n",
    "# Select samples for downstream analysis\n",
    "ebv_groups = ['Negative', 'Positive']  \n",
    "adata_TCell = adata_TCell[adata_TCell.obs['EBV_status'].isin(ebv_groups)].copy()\n",
    "\n",
    "adata.obs['Cell_type'] = adata.obs['Cell_type'].astype(str)\n",
    "adata.obs.loc[adata_TCell.obs.index, 'Cell_type'] = adata_TCell.obs['T_subtype']"
   ]
  },
  {
   "cell_type": "code",
   "execution_count": null,
   "metadata": {},
   "outputs": [],
   "source": [
    "adata.obs['Cell_type'] = adata.obs['Cell_type'].astype('category')\n",
    "for i in adata.obs['Cell_type'].cat.categories:\n",
    "  number = len(adata.obs[adata.obs['Cell_type']==i])\n",
    "  print('the number of category {} is {}'.format(i,number))"
   ]
  },
  {
   "cell_type": "code",
   "execution_count": null,
   "metadata": {},
   "outputs": [],
   "source": [
    "cell_type_mapping = {\n",
    "    # Monocyte\n",
    "    'CD14+ Mono': 'Monocyte',\n",
    "    'CD16+ Mono': 'Monocyte',\n",
    "\n",
    "    # CD4⁺ T\n",
    "    'CD4⁺ IL21⁺ Tfh': 'CD4⁺ T',\n",
    "    'CD4⁺ ISG⁺ T': 'CD4⁺ T',\n",
    "    'CD4⁺ Tcm': 'CD4⁺ T',\n",
    "\n",
    "    # Treg\n",
    "    'TNFRSF9⁺ Treg': 'Treg',\n",
    "    'TNFRSF9⁻ Treg': 'Treg',\n",
    "\n",
    "    # CD8⁺ T\n",
    "    'CD8⁺ GZMB⁺ Tem': 'CD8⁺ T',\n",
    "    'CD8⁺ GZMB⁺ Tex': 'CD8⁺ T',\n",
    "    'CD8⁺ GZMB⁺ early Tem': 'CD8⁺ T',\n",
    "    'CD8⁺ GZMK⁺ Tpex': 'CD8⁺ T',\n",
    "    'CD8⁺ ISG⁺ T': 'CD8⁺ T',\n",
    "    'CD8⁺ ZNF683⁺ Trm': 'CD8⁺ T',\n",
    "    'CD8⁺ activated-stress Tem': 'CD8⁺ T',\n",
    "}\n",
    "\n",
    "adata.obs['Cell_type_merged'] = adata.obs['Cell_type'].replace(cell_type_mapping)\n",
    "adata.obs['Cell_type_merged'].value_counts()"
   ]
  },
  {
   "cell_type": "code",
   "execution_count": null,
   "metadata": {},
   "outputs": [],
   "source": [
    "# Select samples for downstream analysis\n",
    "cell_types = ['C1QC+ Macro','IL1B+ Macro','SPP1+ Macro', 'CD8⁺ T', 'CD4⁺ T', 'Treg']  \n",
    "adata = adata[adata.obs['Cell_type_merged'].isin(cell_types)].copy()\n",
    "adata"
   ]
  },
  {
   "cell_type": "code",
   "execution_count": null,
   "metadata": {},
   "outputs": [],
   "source": [
    "adata.obs['Cell_type_merged'] = adata.obs['Cell_type_merged'].astype('category')\n",
    "for i in adata.obs['Cell_type_merged'].cat.categories:\n",
    "  number = len(adata.obs[adata.obs['Cell_type_merged']==i])\n",
    "  print('the number of category {} is {}'.format(i,number))"
   ]
  },
  {
   "cell_type": "markdown",
   "metadata": {},
   "source": [
    "#### Rank Aggregate\n",
    "In addition to the individual methods, LIANA also provides a consensus that integrates the predictions of individual methods. This is done by ranking and aggregating (RRA) the ligand-receptor interaction predictions from all methods."
   ]
  },
  {
   "cell_type": "code",
   "execution_count": null,
   "metadata": {},
   "outputs": [],
   "source": [
    "# Run rank_aggregate\n",
    "li.mt.rank_aggregate(adata,\n",
    "                     groupby='Cell_type_merged',\n",
    "                     resource_name='consensus',\n",
    "                     expr_prop=0.1, \n",
    "                     verbose=True)"
   ]
  },
  {
   "cell_type": "code",
   "execution_count": null,
   "metadata": {},
   "outputs": [],
   "source": [
    "adata.uns['liana_res'].head()"
   ]
  },
  {
   "cell_type": "markdown",
   "metadata": {},
   "source": [
    "For more plot modification options we refer the user to plotnine’s tutorials and to the following link for a quick intro: https://datacarpentry.org/python-ecology-lesson/07-visualization-ggplot-python/index.html.\n",
    "\n",
    "#### Circle Plot\n",
    "While the majority of liana’s plots are in plotnine, thanks to @WeipengMo, we also provide a circle plot (drawn in networkx):"
   ]
  },
  {
   "cell_type": "code",
   "execution_count": null,
   "metadata": {},
   "outputs": [],
   "source": [
    "li.pl.circle_plot(adata,\n",
    "                  groupby='Cell_type_merged',\n",
    "                  score_key='magnitude_rank',\n",
    "                  inverse_score=True,\n",
    "                  source_labels='SPP1+ Macro',\n",
    "                  filter_fun=lambda x: x['specificity_rank'] <= 0.05,\n",
    "                  pivot_mode='counts', # NOTE: this will simply count the interactions, 'mean' is also available\n",
    "                  figure_size=(5, 5),\n",
    "                  edge_alpha=0.5,\n",
    "                  edge_arrow_size=10,\n",
    "                  edge_width_scale=(1, 5),\n",
    "                  node_alpha=1,\n",
    "                  node_size_scale=(100, 400),\n",
    "                  node_label_offset=(-0.1, -0.2),\n",
    "                  node_label_size=8,\n",
    "                  node_label_alpha= 0.7,\n",
    "                  )\n",
    "plt.tight_layout()\n",
    "plt.savefig(\"Results/11.TCell/11.circle_plot_T_B.pdf\", format='pdf', dpi=300, bbox_inches='tight')\n",
    "plt.show()"
   ]
  },
  {
   "cell_type": "markdown",
   "metadata": {},
   "source": [
    "The remainder of the columns in this dataframe are those coming from each of the methods included in the rank_aggregate - i.e. see the show_methods to map methods to scores.\n",
    "\n",
    "#### Dotplot\n",
    "We will now plot the most ‘relevant’ interactions ordered to the magnitude_rank results from aggregated_rank.\n",
    "\n"
   ]
  },
  {
   "cell_type": "code",
   "execution_count": null,
   "metadata": {},
   "outputs": [],
   "source": [
    "my_plot = li.pl.dotplot(adata = adata,\n",
    "              colour='specificity_rank',\n",
    "              size='magnitude_rank',\n",
    "              inverse_size=True,\n",
    "              inverse_colour=True,\n",
    "              source_labels=['SPP1+ Macro'],\n",
    "              target_labels=['CD8⁺ T'],\n",
    "              top_n=10,\n",
    "              orderby='specificity_rank',\n",
    "              filter_fun=lambda x: x['magnitude_rank'] <=0.5,\n",
    "              orderby_ascending=True,\n",
    "              figure_size=(5, 8)\n",
    "             )\n",
    "my_plot"
   ]
  },
  {
   "cell_type": "code",
   "execution_count": null,
   "metadata": {},
   "outputs": [],
   "source": [
    "my_plot.save('Results/08.CCC/08.dotplot_SPP1Macro_CD8T.pdf')"
   ]
  },
  {
   "cell_type": "code",
   "execution_count": null,
   "metadata": {},
   "outputs": [],
   "source": [
    "my_plot = li.pl.dotplot(adata = adata,\n",
    "              colour='specificity_rank',\n",
    "              size='magnitude_rank',\n",
    "              inverse_size=True,\n",
    "              inverse_colour=True,\n",
    "              source_labels=['SPP1+ Macro'],\n",
    "              target_labels=['Treg'],\n",
    "              top_n=10,\n",
    "              orderby='specificity_rank',\n",
    "              filter_fun=lambda x: x['magnitude_rank'] <=0.5,\n",
    "              orderby_ascending=True,\n",
    "              figure_size=(5, 8)\n",
    "             )\n",
    "my_plot"
   ]
  },
  {
   "cell_type": "code",
   "execution_count": null,
   "metadata": {},
   "outputs": [],
   "source": [
    "my_plot.save('Results/08.CCC/08.dotplot_SPP1Macro_Treg.pdf')"
   ]
  },
  {
   "cell_type": "code",
   "execution_count": null,
   "metadata": {},
   "outputs": [],
   "source": [
    "my_plot = li.pl.dotplot(adata = adata,\n",
    "              colour='specificity_rank',\n",
    "              size='magnitude_rank',\n",
    "              inverse_size=True,\n",
    "              inverse_colour=True,\n",
    "              source_labels=['CD8⁺ T',],\n",
    "              target_labels=['Treg'],\n",
    "              #ligand_complex = 'MIF',\n",
    "              top_n=10,\n",
    "              orderby='magnitude_rank',\n",
    "              filter_fun=lambda x: x['specificity_rank'] <= 0.5,\n",
    "              orderby_ascending=True,\n",
    "              figure_size=(5, 8)\n",
    "             )\n",
    "my_plot"
   ]
  },
  {
   "cell_type": "code",
   "execution_count": null,
   "metadata": {},
   "outputs": [],
   "source": [
    "my_plot.save('Results/08.CCC/08.dotplot_CD8T_Treg.pdf')"
   ]
  },
  {
   "cell_type": "code",
   "execution_count": null,
   "metadata": {},
   "outputs": [],
   "source": [
    "my_plot = li.pl.dotplot(adata = adata,\n",
    "              colour='specificity_rank',\n",
    "              size='magnitude_rank',\n",
    "              inverse_size=True,\n",
    "              inverse_colour=True,\n",
    "              source_labels=['Treg'],\n",
    "              target_labels=['CD8⁺ T'],\n",
    "              #ligand_complex = 'MIF',\n",
    "              top_n=10,\n",
    "              orderby='magnitude_rank',\n",
    "              filter_fun=lambda x: x['specificity_rank'] <= 0.5,\n",
    "              orderby_ascending=True,\n",
    "              figure_size=(5, 8)\n",
    "             )\n",
    "my_plot"
   ]
  },
  {
   "cell_type": "code",
   "execution_count": null,
   "metadata": {},
   "outputs": [],
   "source": [
    "my_plot.save('Results/08.CCC/08.dotplot_Treg_CD8T.pdf')"
   ]
  },
  {
   "cell_type": "code",
   "execution_count": null,
   "metadata": {},
   "outputs": [],
   "source": [
    "my_plot = li.pl.tileplot(adata = adata,\n",
    "                         # NOTE: fill & label need to exist for both\n",
    "                         # ligand_ and receptor_ columns\n",
    "                         fill='specificity_rank',\n",
    "                         label='magnitude_rank',\n",
    "                         label_fun=lambda x: f'{x:.2f}',\n",
    "                         top_n=10,\n",
    "                         orderby='cellphone_pvals',\n",
    "                         orderby_ascending=True,\n",
    "                        source_labels=['SPP1+ Macro'],\n",
    "                        target_labels=['CD8⁺ T','Treg'],\n",
    "                         uns_key='liana_res', # NOTE: default is 'liana_res'\n",
    "                         source_title='Ligand',\n",
    "                         target_title='Receptor',\n",
    "                         figure_size=(8, 7)\n",
    "                         )\n",
    "my_plot"
   ]
  },
  {
   "cell_type": "markdown",
   "metadata": {},
   "source": [
    "For more plot modification options we refer the user to plotnine’s tutorials and to the following link for a quick intro: https://datacarpentry.org/python-ecology-lesson/07-visualization-ggplot-python/index.html.\n",
    "\n",
    "#### Circle Plot\n",
    "While the majority of liana’s plots are in plotnine, thanks to @WeipengMo, we also provide a circle plot (drawn in networkx):"
   ]
  },
  {
   "cell_type": "code",
   "execution_count": null,
   "metadata": {},
   "outputs": [],
   "source": [
    "li.pl.circle_plot(adata,\n",
    "                  groupby='Cell_type_merged',\n",
    "                  score_key='magnitude_rank',\n",
    "                  inverse_score=True,\n",
    "                  source_labels='SPP1+ Macro',\n",
    "                  filter_fun=lambda x: x['specificity_rank'] <= 0.05,\n",
    "                  pivot_mode='counts', # NOTE: this will simply count the interactions, 'mean' is also available\n",
    "                  node_label_offset=(-0.1, -0.2),\n",
    "                  figure_size=(4, 5),\n",
    "                  )\n",
    "plt.tight_layout()\n",
    "plt.savefig(\"Results/08.CCC/08.circle_plot_Tumor_Macrophage_NEW.pdf\", format='pdf', dpi=300, bbox_inches='tight')\n",
    "plt.show()"
   ]
  }
 ],
 "metadata": {
  "kernelspec": {
   "display_name": "npc_env",
   "language": "python",
   "name": "python3"
  },
  "language_info": {
   "codemirror_mode": {
    "name": "ipython",
    "version": 3
   },
   "file_extension": ".py",
   "mimetype": "text/x-python",
   "name": "python",
   "nbconvert_exporter": "python",
   "pygments_lexer": "ipython3",
   "version": "3.10.16"
  }
 },
 "nbformat": 4,
 "nbformat_minor": 4
}
