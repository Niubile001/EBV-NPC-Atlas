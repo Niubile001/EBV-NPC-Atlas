{
 "cells": [
  {
   "cell_type": "markdown",
   "metadata": {
    "vscode": {
     "languageId": "r"
    }
   },
   "source": [
    "### Construction of a stemness index (mRNAsi) model using the OCLR algorithm"
   ]
  },
  {
   "cell_type": "code",
   "execution_count": null,
   "metadata": {
    "vscode": {
     "languageId": "r"
    }
   },
   "outputs": [],
   "source": [
    "library(synapser)"
   ]
  },
  {
   "cell_type": "code",
   "execution_count": null,
   "metadata": {
    "vscode": {
     "languageId": "r"
    }
   },
   "outputs": [],
   "source": [
    "setwd(\"/media/bio/Disk/Research Data/EBV/omicverse\")"
   ]
  },
  {
   "cell_type": "code",
   "execution_count": null,
   "metadata": {
    "vscode": {
     "languageId": "r"
    }
   },
   "outputs": [],
   "source": [
    "# Register an account on https://www.synapse.org/ and log in using your Personal Access Token (also known as Synapse Auth Token)\n",
    "# install.packages(\"synapser\", repos=c(\"http://ran.synapse.org\", \"https://cloud.r-project.org\"))\n",
    "synLogin(email = \"XXXX@gmail.com\", silent=FALSE, authToken=\"XXXX\", cache_client=TRUE)\n",
    "# After successful login, use the synGet function to download the RNA expression data\n",
    "synRNA <- synGet( \"syn2701943\", downloadLocation = \"/media/bio/Disk/Research Data/EBV/omicverse/Dataset/mRNAsi\" )"
   ]
  },
  {
   "cell_type": "code",
   "execution_count": null,
   "metadata": {
    "vscode": {
     "languageId": "r"
    }
   },
   "outputs": [],
   "source": [
    "library(tidyverse)\n",
    "exp <- read_delim(file = synRNA$path) %>%\n",
    "  separate(col = \"tracking_id\", sep = \"\\\\.\", into = c(\"Ensembl_ID\", \"suffix\")) %>%\n",
    "  dplyr::select(-suffix) %>%\n",
    "  column_to_rownames(\"Ensembl_ID\") %>%\n",
    "  as.matrix()\n",
    "exp[1:3,1:3]"
   ]
  },
  {
   "cell_type": "code",
   "execution_count": null,
   "metadata": {
    "vscode": {
     "languageId": "r"
    }
   },
   "outputs": [],
   "source": [
    "library(org.Hs.eg.db)\n",
    "unimap <- mapIds(\n",
    "  org.Hs.eg.db, keys = rownames(exp), keytype = \"ENSEMBL\", \n",
    "  column = \"SYMBOL\", multiVals = \"filter\")\n",
    "data.exp <- exp[names(unimap),]\n",
    "rownames(data.exp) <- unimap"
   ]
  },
  {
   "cell_type": "code",
   "execution_count": null,
   "metadata": {
    "vscode": {
     "languageId": "r"
    }
   },
   "outputs": [],
   "source": [
    "library(dplyr)\n",
    "synMeta <- synTableQuery(\"SELECT UID, Diffname_short FROM syn3156503\")\n",
    "metaInfo <- synMeta$asDataFrame()\n",
    "if (!is.null(rownames(metaInfo))) {\n",
    "  rownames(metaInfo) <- NULL \n",
    "}\n",
    "metaInfo <- metaInfo %>%\n",
    "  dplyr::select(UID, Diffname_short) %>%\n",
    "  filter(!is.na(Diffname_short))\n",
    "metaInfo <- column_to_rownames(metaInfo, \"UID\")\n",
    "X <- data.exp\n",
    "y <- metaInfo[colnames(X), ]\n",
    "names(y) <- colnames(X)\n",
    "head(y)"
   ]
  },
  {
   "cell_type": "code",
   "execution_count": null,
   "metadata": {
    "vscode": {
     "languageId": "r"
    }
   },
   "outputs": [],
   "source": [
    "library(gelnet)\n",
    "X <- data.exp\n",
    "m <- apply(X, 1, mean)\n",
    "X <- X - m\n",
    "sc <- which(y == \"SC\")\n",
    "X.sc <- X[, sc]\n",
    "X.or <- X[, -sc]\n",
    "model.RNA <- gelnet(t(X.sc), NULL, 0, 1)\n",
    "head(model.RNA$w)\n",
    "save(X, y, model.RNA, file = \"/media/bio/Disk/Research Data/EBV/omicverse/Dataset/mRNAsi/model.rda\")"
   ]
  }
 ],
 "metadata": {
  "kernelspec": {
   "display_name": "GEO_Renv",
   "language": "R",
   "name": "geo_renv"
  },
  "language_info": {
   "codemirror_mode": "r",
   "file_extension": ".r",
   "mimetype": "text/x-r-source",
   "name": "R",
   "pygments_lexer": "r",
   "version": "4.4.2"
  }
 },
 "nbformat": 4,
 "nbformat_minor": 2
}
