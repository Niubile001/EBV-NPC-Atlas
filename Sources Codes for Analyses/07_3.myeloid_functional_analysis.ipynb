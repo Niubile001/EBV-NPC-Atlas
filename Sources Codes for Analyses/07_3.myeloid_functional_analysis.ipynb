{
 "cells": [
  {
   "cell_type": "markdown",
   "id": "fa8cf4d9",
   "metadata": {},
   "source": [
    "## 07_2. Myeloid -- Functional enrichment of biological terms\n",
    "\n",
    "<div \n",
    "    <p style=\"text-align: left;\">Updated Time: 2025-02-20</p>\n",
    "</div>"
   ]
  },
  {
   "cell_type": "markdown",
   "id": "c06d1b7c",
   "metadata": {},
   "source": [
    "#### Loading packages\n",
    "\n",
    "First, we need to load the relevant packages, `scanpy` to handle scRNA-seq data\n",
    "and `decoupler` to use statistical methods."
   ]
  },
  {
   "cell_type": "code",
   "execution_count": null,
   "id": "6f23eaaa",
   "metadata": {},
   "outputs": [],
   "source": [
    "import scanpy as sc\n",
    "import omicverse as ov\n",
    "import decoupler as dc\n",
    "import pertpy as pt\n",
    "\n",
    "# Only needed for processing\n",
    "import os\n",
    "import sys\n",
    "import numpy as np\n",
    "import pandas as pd\n",
    "\n",
    "# Needed for some plotting\n",
    "import matplotlib.pyplot as plt\n",
    "ov.plot_set()\n",
    "\n",
    "# Plotting options, change to your liking\n",
    "sc.settings.set_figure_params(dpi=300, frameon=False)\n",
    "sc.set_figure_params(dpi=300)\n",
    "sc.set_figure_params(figsize=(4, 4))\n",
    "\n",
    "import warnings\n",
    "warnings.simplefilter(\"ignore\")"
   ]
  },
  {
   "cell_type": "markdown",
   "id": "6c0f936f",
   "metadata": {},
   "source": [
    "#### Loading the data\n"
   ]
  },
  {
   "cell_type": "markdown",
   "id": "43d830cb",
   "metadata": {},
   "source": [
    "\n",
    "**<span style=\"font-size:16px;\">Set working directory for analysis</span>**"
   ]
  },
  {
   "cell_type": "code",
   "execution_count": null,
   "id": "ba3701fb",
   "metadata": {},
   "outputs": [],
   "source": [
    "cwd = '/media/bio/Disk/Research Data/EBV/omicverse'\n",
    "os.chdir(cwd)\n",
    "updated_dir = os.getcwd()\n",
    "print(\"Updated working directory: \", updated_dir)"
   ]
  },
  {
   "cell_type": "markdown",
   "id": "9e710938",
   "metadata": {},
   "source": [
    "**<span style=\"font-size:16px;\">Load data for analysis</span>**"
   ]
  },
  {
   "cell_type": "code",
   "execution_count": null,
   "id": "5b4176e7",
   "metadata": {},
   "outputs": [],
   "source": [
    "adata_myeloid = sc.read_h5ad(\"Processed Data/scRNA_Myeloid.h5ad\")\n",
    "adata_myeloid"
   ]
  },
  {
   "cell_type": "code",
   "execution_count": null,
   "id": "d767eb55",
   "metadata": {},
   "outputs": [],
   "source": [
    "for i in adata_myeloid.obs['Myeloid_subtype'].cat.categories:\n",
    "  number = len(adata_myeloid.obs[adata_myeloid.obs['Myeloid_subtype']==i])\n",
    "  print('the number of category {} is {}'.format(i,number))"
   ]
  },
  {
   "cell_type": "code",
   "execution_count": null,
   "id": "17398da7",
   "metadata": {},
   "outputs": [],
   "source": [
    "print(np.min(adata_myeloid.X), np.max(adata_myeloid.X))"
   ]
  },
  {
   "cell_type": "markdown",
   "id": "0e376efa",
   "metadata": {},
   "source": [
    "\n",
    "#### Preprocessing"
   ]
  },
  {
   "cell_type": "markdown",
   "id": "4dc32a90",
   "metadata": {},
   "source": [
    "You can use `recover_counts` to recover the raw counts after normalize and log1p"
   ]
  },
  {
   "cell_type": "code",
   "execution_count": null,
   "id": "50ef922b",
   "metadata": {},
   "outputs": [],
   "source": [
    "X_counts_recovered, size_factors_sub=ov.pp.recover_counts(adata_myeloid.X, 50*1e4, 50*1e5, log_base=None, chunk_size=50000)\n",
    "adata_myeloid.layers['counts']=X_counts_recovered"
   ]
  },
  {
   "cell_type": "code",
   "execution_count": null,
   "id": "598208b0",
   "metadata": {},
   "outputs": [],
   "source": [
    "adata_myeloid.raw = adata_myeloid\n",
    "adata_myeloid.X=adata_myeloid.layers['counts']\n",
    "print(np.min(adata_myeloid.X), np.max(adata_myeloid.X))"
   ]
  },
  {
   "cell_type": "code",
   "execution_count": null,
   "id": "346e5bc8",
   "metadata": {},
   "outputs": [],
   "source": [
    "# Select myeloid cells for downstream analysis\n",
    "adata_myeloid = adata_myeloid[adata_myeloid.obs['Myeloid_subtype'].isin(['C1QC+ Macro','SPP1+ Macro','IL1B+ Macro'])].copy()\n",
    "adata_myeloid"
   ]
  },
  {
   "cell_type": "markdown",
   "id": "f2871bd3",
   "metadata": {},
   "source": [
    "#### Prepare gene set\n",
    "The Molecular Signatures Database (MSigDB) is a resource containing a collection of gene sets annotated to different biological processes.\n"
   ]
  },
  {
   "cell_type": "code",
   "execution_count": null,
   "id": "ee6bac58",
   "metadata": {},
   "outputs": [],
   "source": [
    "msigdb = dc.get_resource('MSigDB')\n",
    "msigdb"
   ]
  },
  {
   "cell_type": "markdown",
   "id": "de59fae2",
   "metadata": {},
   "source": [
    "#### DIY a collection of gene sets"
   ]
  },
  {
   "cell_type": "code",
   "execution_count": null,
   "id": "ad13d360",
   "metadata": {},
   "outputs": [],
   "source": [
    "# Process Myeloid Immunity Signature\n",
    "# 1) Load the Excel file\n",
    "df = pd.read_excel(\"Dataset/Myeloid.Immunity.Signature.xlsx\", header=0, dtype=str)\n",
    "\n",
    "# 2) Remove empty rows/columns and strip whitespace\n",
    "df = df.dropna(axis=1, how=\"all\").dropna(axis=0, how=\"all\")\n",
    "df = df.applymap(lambda x: x.strip() if isinstance(x, str) else x)\n",
    "\n",
    "# 3) Reshape from wide to long format\n",
    "long_df = df.melt(var_name=\"geneset\", value_name=\"genesymbol\")\n",
    "\n",
    "# 4) Remove NA/empty values and drop duplicates\n",
    "long_df = long_df.dropna(subset=[\"genesymbol\"])\n",
    "long_df = long_df[long_df[\"genesymbol\"].str.len() > 0]\n",
    "Myeloid_Immunity_Signature = (\n",
    "    long_df.drop_duplicates(subset=[\"geneset\", \"genesymbol\"])\n",
    "           .reset_index(drop=True)\n",
    ")\n",
    "\n",
    "Myeloid_Immunity_Signature"
   ]
  },
  {
   "cell_type": "code",
   "execution_count": null,
   "id": "3f34cc90",
   "metadata": {},
   "outputs": [],
   "source": [
    "# Assume net is Myeloid_Immunity_Signature\n",
    "genes_in_data = set(adata_myeloid.var_names)\n",
    "genes_in_net  = set(Myeloid_Immunity_Signature['genesymbol'])\n",
    "\n",
    "# Intersection\n",
    "present = genes_in_net & genes_in_data\n",
    "# Missing genes\n",
    "absent  = genes_in_net - genes_in_data\n",
    "\n",
    "print(f\"✅ Total genes in net: {len(genes_in_net)}\")\n",
    "print(f\"✅ Genes found in adata: {len(present)}\")\n",
    "print(f\"❌ Genes not found in adata: {len(absent)}\")\n",
    "\n",
    "# Show a subset of missing genes (first 100)\n",
    "print(\"Example of missing genes:\", list(absent)[:100])\n"
   ]
  },
  {
   "cell_type": "markdown",
   "id": "908b2c9d",
   "metadata": {},
   "source": [
    "#### Enrichment with Over Representation Analysis (ORA)\n",
    "To infer functional enrichment scores we will run the Over Representation Analysis (ora) method. As input data it accepts an expression matrix (decoupler.run_ora) or the results of differential expression analysis (decoupler.run_ora_df). For the former, by default the top 5% of expressed genes by sample are selected as the set of interest (S), and for the latter a user-defined significance filtering can be used. Once we have S, it builds a contingency table using set operations for each set stored in the gene set resource being used (net). Using the contingency table, ora performs a one-sided Fisher exact test to test for significance of overlap between sets. The final score is obtained by log-transforming the obtained p-values, meaning that higher values are more significant.\n",
    "\n",
    "\n",
    "We can run ora with a simple one-liner:"
   ]
  },
  {
   "cell_type": "code",
   "execution_count": null,
   "id": "b04dda71",
   "metadata": {},
   "outputs": [],
   "source": [
    "dc.run_ora(\n",
    "    mat=adata_myeloid,\n",
    "    net=Myeloid_Immunity_Signature,\n",
    "    source='geneset',\n",
    "    target='genesymbol',\n",
    "    verbose=True\n",
    ")"
   ]
  },
  {
   "cell_type": "markdown",
   "id": "35e47eff",
   "metadata": {},
   "source": [
    "The obtained scores (-log10(p-value))(ora_estimate) and p-values (ora_pvals) are stored in the .obsm key:"
   ]
  },
  {
   "cell_type": "code",
   "execution_count": null,
   "id": "8919a919",
   "metadata": {},
   "outputs": [],
   "source": [
    "adata_myeloid.obsm['ora_estimate']"
   ]
  },
  {
   "cell_type": "markdown",
   "id": "51ab8be9",
   "metadata": {},
   "source": [
    "#### Visualization\n",
    "To visualize the obtianed scores, we can re-use many of scanpy’s plotting functions. First though, we need to extract them from the adata object."
   ]
  },
  {
   "cell_type": "code",
   "execution_count": null,
   "id": "3b25a421",
   "metadata": {},
   "outputs": [],
   "source": [
    "acts = dc.get_acts(adata_myeloid, obsm_key='ora_estimate')\n",
    "\n",
    "# We need to remove inf and set them to the maximum value observed\n",
    "acts_v = acts.X.ravel()\n",
    "max_e = np.nanmax(acts_v[np.isfinite(acts_v)])\n",
    "acts.X[~np.isfinite(acts.X)] = max_e\n",
    "\n",
    "acts"
   ]
  },
  {
   "cell_type": "markdown",
   "id": "9fdc9c2d",
   "metadata": {},
   "source": [
    "dc.get_acts returns a new AnnData object which holds the obtained activities in its .X attribute, allowing us to re-use many scanpy functions, for example: \n",
    "\n",
    "Angiogenesis\n",
    "Antigen Presentation\n",
    "Cell Cycle and Apoptosis\n",
    "Cell Migration and Adhesion\n",
    "Chemokine Signaling\n",
    "Complement Activation\n",
    "Cytokine Signaling\n",
    "Differentiation and Maintenance of Myeloid Cells\n",
    "ECM remodeling\n",
    "Fc Receptor Signaling\n",
    "Growth Factor Signaling\n",
    "Interferon Signaling\n",
    "Lymphocyte Activation\n",
    "Metabolism\n",
    "Pathogen Response\n",
    "T-cell Activation and Checkpoint Signaling\n",
    "TH1 Activation\n",
    "TH2 Activation\n",
    "TLR Signaling"
   ]
  },
  {
   "cell_type": "code",
   "execution_count": null,
   "id": "73123878",
   "metadata": {},
   "outputs": [],
   "source": [
    "sc.pl.violin(acts, keys=['Anti-inflammatory', 'Pro inflammatory', 'M1 Macrophage Polarization', 'M2 Macrophage Polarization',\t\n",
    "                         'Type I Interferon response', 'Type II Interferon Response', 'Hypoxia', 'Angiogenesis'], \n",
    "                         groupby='Myeloid_subtype', rotation=90)"
   ]
  },
  {
   "cell_type": "code",
   "execution_count": null,
   "id": "07460b9e",
   "metadata": {},
   "outputs": [],
   "source": [
    "# -*- coding: utf-8 -*-\n",
    "import os\n",
    "import pandas as pd\n",
    "import seaborn as sns\n",
    "import matplotlib.pyplot as plt\n",
    "\n",
    "# ==== User config ====\n",
    "group_col = \"Myeloid_subtype\"  # grouping column in acts.obs\n",
    "signatures = [\n",
    "    \"Anti-inflammatory\",\n",
    "    \"Pro inflammatory\",\n",
    "    \"M1 Macrophage Polarization\",\n",
    "    \"M2 Macrophage Polarization\",\n",
    "    \"Type I Interferon response\",\n",
    "    \"Type II Interferon Response\",\n",
    "    \"Hypoxia\",\n",
    "    \"Angiogenesis\",\n",
    "]\n",
    "\n",
    "# Abbreviations for cleaner x-axis labels\n",
    "abbr_map = {\n",
    "    \"Anti-inflammatory\": \"Anti-inflammatory\",\n",
    "    \"Pro inflammatory\": \"Pro-inflammatory\",\n",
    "    \"M1 Macrophage Polarization\": \"M1 Polarization\",\n",
    "    \"M2 Macrophage Polarization\": \"M2 Polarization\",\n",
    "    \"Type I Interferon response\": \"IFN-I Response\",\n",
    "    \"Type II Interferon Response\": \"IFN-II Response\",\n",
    "    \"Hypoxia\": \"Hypoxia\",\n",
    "    \"Angiogenesis\": \"Angiogenesis\",\n",
    "}\n",
    "\n",
    "outdir = \"Results/07.Myeloid/\"\n",
    "os.makedirs(outdir, exist_ok=True)\n",
    "# =====================\n",
    "\n",
    "# 1) Pull scores from obsm\n",
    "ora = acts.obsm[\"ora_estimate\"]\n",
    "if not isinstance(ora, pd.DataFrame):\n",
    "    ora = pd.DataFrame(ora, index=acts.obs_names)\n",
    "\n",
    "# 2) Keep only available signature columns\n",
    "present = [s for s in signatures if s in ora.columns]\n",
    "missing = [s for s in signatures if s not in ora.columns]\n",
    "if missing:\n",
    "    print(\"⚠ Missing signatures in obsm['ora_estimate'] (ignored):\", missing)\n",
    "if not present:\n",
    "    raise ValueError(\"No target signature columns found in obsm['ora_estimate'].\")\n",
    "\n",
    "# 3) Assemble long-format dataframe\n",
    "if group_col not in acts.obs.columns:\n",
    "    raise KeyError(f\"Grouping column not found in acts.obs: {group_col}\")\n",
    "\n",
    "score_df = ora[present].copy()\n",
    "score_df[group_col] = acts.obs[group_col].values\n",
    "long_df = score_df.melt(id_vars=group_col, var_name=\"Signature\", value_name=\"Score\")\n",
    "\n",
    "# 4) Labels and order (use abbreviations; keep default group order/levels)\n",
    "long_df[\"Signature_lbl\"] = long_df[\"Signature\"].map(lambda s: abbr_map.get(s, s))\n",
    "sig_order = [abbr_map.get(s, s) for s in present]\n",
    "\n",
    "# Respect existing categorical order if present\n",
    "if str(acts.obs[group_col].dtype) == \"category\":\n",
    "    hue_order = list(acts.obs[group_col].cat.categories)\n",
    "else:\n",
    "    hue_order = None  # seaborn default\n",
    "\n",
    "# 5) Plot\n",
    "sns.set_theme(context=\"talk\", style=\"white\")  # white background\n",
    "plt.figure(figsize=(18, 5), facecolor=\"white\")\n",
    "\n",
    "ax = sns.violinplot(\n",
    "    data=long_df,\n",
    "    x=\"Signature_lbl\", y=\"Score\", hue=group_col,\n",
    "    order=sig_order, hue_order=hue_order, palette='Set3',\n",
    "    cut=0, scale=\"width\", inner=\"box\", linewidth=0.8, saturation=0.9\n",
    ")\n",
    "\n",
    "# Keep a single legend (no title), inside top-left\n",
    "handles, labels = ax.get_legend_handles_labels()\n",
    "if hue_order is not None:\n",
    "    n = len(hue_order)\n",
    "else:\n",
    "    n = len(pd.unique(labels))\n",
    "handles, labels = handles[:n], labels[:n]\n",
    "plt.legend(handles, labels, title=None, loc=\"upper left\", frameon=False)\n",
    "\n",
    "# Axes styling\n",
    "plt.xlabel(\"\")\n",
    "plt.ylabel(\"Cell score\")\n",
    "plt.title(\"\")\n",
    "plt.xticks(rotation=0)\n",
    "ax.set_facecolor(\"white\")\n",
    "sns.despine(trim=False)  # keep full spines\n",
    "ax.tick_params(axis=\"x\", which=\"both\", bottom=True, top=False, length=5)\n",
    "ax.tick_params(axis=\"y\", which=\"both\", left=True, right=False, length=5)\n",
    "\n",
    "plt.tight_layout()\n",
    "\n",
    "# 6) Save before show\n",
    "pdf_path = os.path.join(outdir, \"ORA_violin_Myeloid_Immunity_Signature.pdf\")\n",
    "png_path = os.path.join(outdir, \"ORA_violin_Myeloid_Immunity_Signature.png\")\n",
    "plt.savefig(pdf_path, bbox_inches=\"tight\", dpi=300)\n",
    "plt.savefig(png_path, bbox_inches=\"tight\", dpi=300)\n",
    "plt.show()\n",
    "plt.close()\n",
    "\n",
    "print(\"✅ Saved:\")\n",
    "print(\" -\", pdf_path)\n",
    "print(\" -\", png_path)\n"
   ]
  },
  {
   "cell_type": "markdown",
   "id": "eeea0395",
   "metadata": {},
   "source": [
    "\n",
    "**<span style=\"font-size:16px;\">Session information：</span>**"
   ]
  },
  {
   "cell_type": "code",
   "execution_count": null,
   "id": "2de0aef8",
   "metadata": {
    "ExecuteTime": {
     "end_time": "2023-08-07T23:25:25.822088Z",
     "start_time": "2023-08-07T23:25:25.817660Z"
    },
    "execution": {
     "iopub.execute_input": "2024-07-19T21:04:42.170951Z",
     "iopub.status.busy": "2024-07-19T21:04:42.170230Z",
     "iopub.status.idle": "2024-07-19T21:04:43.456099Z",
     "shell.execute_reply": "2024-07-19T21:04:43.454658Z",
     "shell.execute_reply.started": "2024-07-19T21:04:42.170904Z"
    },
    "tags": []
   },
   "outputs": [],
   "source": [
    "import sys\n",
    "import platform\n",
    "import pkg_resources\n",
    "\n",
    "# Get Python version information\n",
    "python_version = sys.version\n",
    "# Get operating system information\n",
    "os_info = platform.platform()\n",
    "# Get system architecture information\n",
    "architecture = platform.architecture()[0]\n",
    "# Get CPU information\n",
    "cpu_info = platform.processor()\n",
    "# Print Session information\n",
    "print(\"Python version:\", python_version)\n",
    "print(\"Operating system:\", os_info)\n",
    "print(\"System architecture:\", architecture)\n",
    "print(\"CPU info:\", cpu_info)\n",
    "\n",
    "# Print imported packages and their versions\n",
    "print(\"\\nImported packages and their versions:\")\n",
    "for package in pkg_resources.working_set:\n",
    "    print(package.key, package.version)"
   ]
  }
 ],
 "metadata": {
  "kernelspec": {
   "display_name": "npc_env",
   "language": "python",
   "name": "python3"
  },
  "language_info": {
   "codemirror_mode": {
    "name": "ipython",
    "version": 3
   },
   "file_extension": ".py",
   "mimetype": "text/x-python",
   "name": "python",
   "nbconvert_exporter": "python",
   "pygments_lexer": "ipython3",
   "version": "3.10.16"
  },
  "toc": {
   "base_numbering": 1,
   "nav_menu": {},
   "number_sections": true,
   "sideBar": true,
   "skip_h1_title": false,
   "title_cell": "Table of Contents",
   "title_sidebar": "Contents",
   "toc_cell": false,
   "toc_position": {},
   "toc_section_display": true,
   "toc_window_display": false
  }
 },
 "nbformat": 4,
 "nbformat_minor": 5
}
