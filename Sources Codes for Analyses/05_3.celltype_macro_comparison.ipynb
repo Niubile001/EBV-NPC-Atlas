{
 "cells": [
  {
   "cell_type": "markdown",
   "id": "8e316ace",
   "metadata": {},
   "source": [
    "## 05_3. Cellular Distributions and Differences\n",
    "\n",
    "<div style=\"text-align: left;\">\n",
    "    <p style=\"text-align: left;\">Updated Time: 2025-02-12</p>\n",
    "</div>"
   ]
  },
  {
   "cell_type": "markdown",
   "id": "c886d249",
   "metadata": {},
   "source": [
    "##### Load libraries"
   ]
  },
  {
   "cell_type": "code",
   "execution_count": null,
   "id": "84786c68",
   "metadata": {},
   "outputs": [],
   "source": [
    "import os\n",
    "import sys\n",
    "import numpy as np\n",
    "import anndata\n",
    "import scanpy as sc\n",
    "import pandas as pd\n",
    "import pertpy as pt\n",
    "from matplotlib.pyplot import rc_context\n",
    "import matplotlib.pyplot as plt\n",
    "import seaborn as sns\n",
    "from seaborn import despine\n",
    "\n",
    "import omicverse as ov\n",
    "ov.plot_set()\n",
    "\n",
    "import matplotlib.pyplot as plt\n",
    "from matplotlib import patheffects\n",
    "\n",
    "from PyComplexHeatmap import *\n",
    "use_pch_style() # or plt.style.use('default') to restore default style\n",
    "import random\n",
    "\n",
    "import warnings\n",
    "warnings.simplefilter(\"ignore\") "
   ]
  },
  {
   "cell_type": "markdown",
   "id": "a5435f25",
   "metadata": {},
   "source": [
    "##### Set working directory for analysis"
   ]
  },
  {
   "cell_type": "code",
   "execution_count": null,
   "id": "7ef37b6d",
   "metadata": {},
   "outputs": [],
   "source": [
    "cwd = '/media/bio/Disk/Research Data/EBV/omicverse'\n",
    "os.chdir(cwd)\n",
    "updated_dir = os.getcwd()\n",
    "print(\"Updated working directory: \", updated_dir)"
   ]
  },
  {
   "cell_type": "markdown",
   "id": "e4a55cf4",
   "metadata": {},
   "source": [
    "##### Reading in annotated AnnData object"
   ]
  },
  {
   "cell_type": "code",
   "execution_count": null,
   "id": "f24721da",
   "metadata": {},
   "outputs": [],
   "source": [
    "adata = sc.read_h5ad(\"Processed Data/scRNA_Annotation.h5ad\")\n",
    "adata.obs['Pass QC'] = \"Yes\"\n",
    "adata"
   ]
  },
  {
   "cell_type": "code",
   "execution_count": null,
   "id": "0ccbd5bc",
   "metadata": {},
   "outputs": [],
   "source": [
    "# annotate the group of mitochondrial genes as \"mt\"\n",
    "adata.var[\"mt\"] = adata.var_names.str.startswith(\"MT-\")\n",
    "sc.pp.calculate_qc_metrics(\n",
    "    adata, qc_vars=[\"mt\"], percent_top=None, log1p=False, inplace=True\n",
    ")"
   ]
  },
  {
   "cell_type": "code",
   "execution_count": null,
   "id": "6f9305f8",
   "metadata": {},
   "outputs": [],
   "source": [
    "plt.figure(figsize=(6, 3))\n",
    "\n",
    "sc.pl.violin(\n",
    "    adata,\n",
    "    [\"n_genes_by_counts\", \"total_counts\", \"pct_counts_mt\"],\n",
    "    jitter=0,\n",
    "    multi_panel=True,\n",
    "    show=False, \n",
    ")\n",
    "\n",
    "plt.savefig('Results/02.data_preprocessing/02.data_preprocessing_after_QC.png', format='png')\n",
    "plt.show()"
   ]
  },
  {
   "cell_type": "code",
   "execution_count": null,
   "id": "6396d525",
   "metadata": {},
   "outputs": [],
   "source": [
    "adata_unfiltered = sc.read_h5ad(\"Processed Data/scRNA_unfiltered.h5ad\")\n",
    "adata_unfiltered.obs['Pass QC'] = \"No\"\n",
    "adata_unfiltered"
   ]
  },
  {
   "cell_type": "code",
   "execution_count": null,
   "id": "d7a05397",
   "metadata": {},
   "outputs": [],
   "source": [
    "# annotate the group of mitochondrial genes as \"mt\"\n",
    "adata_unfiltered.var[\"mt\"] = adata_unfiltered.var_names.str.startswith(\"MT-\")\n",
    "sc.pp.calculate_qc_metrics(\n",
    "    adata_unfiltered, qc_vars=[\"mt\"], percent_top=None, log1p=False, inplace=True\n",
    ")"
   ]
  },
  {
   "cell_type": "code",
   "execution_count": null,
   "id": "59e35a3c",
   "metadata": {},
   "outputs": [],
   "source": [
    "plt.figure(figsize=(6, 3))\n",
    "\n",
    "sc.pl.violin(\n",
    "    adata_unfiltered,\n",
    "    [\"n_genes_by_counts\", \"total_counts\", \"pct_counts_mt\"],\n",
    "    jitter=0,\n",
    "    multi_panel=True,\n",
    "    show=False, \n",
    ")\n",
    "\n",
    "plt.savefig('Results/02.data_preprocessing/02.data_preprocessing_before_QC.png', format='png')\n",
    "plt.show()"
   ]
  },
  {
   "cell_type": "code",
   "execution_count": null,
   "id": "9736c248",
   "metadata": {},
   "outputs": [],
   "source": [
    "adata_unfiltered.obs['Pass QC'] = adata_unfiltered.obs['Pass QC'].astype(str)  # 先转为字符串类型\n",
    "adata_unfiltered.obs.loc[adata.obs.index, 'Pass QC'] = adata.obs['Pass QC']"
   ]
  },
  {
   "cell_type": "code",
   "execution_count": null,
   "id": "884d2012",
   "metadata": {},
   "outputs": [],
   "source": [
    "adata_unfiltered.obs['Pass QC'] = adata_unfiltered.obs['Pass QC'].astype('category')\n",
    "categories = adata_unfiltered.obs['Pass QC'].cat.categories\n",
    "colors = sc.pl.palettes.default_102[:len(categories)]\n",
    "adata_unfiltered.uns['Pass QC_colors'] = colors\n",
    "\n",
    "adata_unfiltered.obs['orig.ident'] = adata_unfiltered.obs['orig.ident'].astype('category')\n",
    "categories = adata_unfiltered.obs['orig.ident'].cat.categories\n",
    "colors = sc.pl.palettes.default_102[:len(categories)]\n",
    "adata_unfiltered.uns['orig.ident_colors'] = colors"
   ]
  },
  {
   "cell_type": "code",
   "execution_count": null,
   "id": "172d8168",
   "metadata": {},
   "outputs": [],
   "source": [
    "fig, ax = plt.subplots(figsize=(8, 3))\n",
    "ov.pl.cellproportion(\n",
    "    adata=adata_unfiltered, \n",
    "    celltype_clusters='Pass QC',\n",
    "    groupby='orig.ident', \n",
    "    legend=True,\n",
    "    ax=ax\n",
    ")\n",
    "\n",
    "legend = ax.legend(loc='center left', bbox_to_anchor=(1, 0.5), fontsize=10)\n",
    "xticks = ax.get_xticks()\n",
    "ax.set_xticks(xticks)  \n",
    "ax.set_xticklabels([str(i+1) for i in range(len(xticks))]) \n",
    "ax.set_xlabel('')\n",
    "ax.set_ylabel('Cell fractions Pass QC')\n",
    "ax.tick_params(axis='x', rotation=90, labelsize=6.5)\n",
    "plt.tight_layout()\n",
    "plt.savefig('Results/02.data_preprocessing/02.data_preprocessing_QC.pdf', format='pdf')\n",
    "plt.show()"
   ]
  },
  {
   "cell_type": "code",
   "execution_count": null,
   "id": "89946e3a",
   "metadata": {},
   "outputs": [],
   "source": [
    "for i in adata.obs['Cell_type'].cat.categories:\n",
    "  number = len(adata.obs[adata.obs['Cell_type']==i])\n",
    "  print('the number of category {} is {}'.format(i,number))"
   ]
  },
  {
   "cell_type": "code",
   "execution_count": null,
   "id": "2614b033",
   "metadata": {},
   "outputs": [],
   "source": [
    "adata.obs['EBV_status'] = adata.obs['EBV_status'].astype('category')\n",
    "adata.obs['EBV_status'] = adata.obs['EBV_status'].cat.reorder_categories(['Normal', 'Negative','Positive'])\n",
    "\n",
    "for i in adata.obs['EBV_status'].cat.categories:\n",
    "  number = len(adata.obs[adata.obs['EBV_status']==i])\n",
    "  print('the number of category {} is {}'.format(i,number))"
   ]
  },
  {
   "cell_type": "code",
   "execution_count": null,
   "id": "bddb9d5c",
   "metadata": {},
   "outputs": [],
   "source": [
    "categories = adata.obs['orig.ident'].cat.categories\n",
    "colors = sc.pl.palettes.default_102[:len(categories)]\n",
    "adata.uns['orig.ident_colors'] = colors"
   ]
  },
  {
   "cell_type": "code",
   "execution_count": null,
   "id": "cb0fff54",
   "metadata": {},
   "outputs": [],
   "source": [
    "fig, ax = plt.subplots(figsize=(5,5))\n",
    "\n",
    "ov.pl.embedding(adata,\n",
    "                basis='X_umap',\n",
    "                color=['Cell_type'], \n",
    "                palette='Paired',\n",
    "                show=False, legend_loc=None, add_outline=False, \n",
    "                frameon='small',legend_fontoutline=2,ax=ax\n",
    "                 )\n",
    "\n",
    "ov.utils.gen_mpl_labels(\n",
    "    adata,\n",
    "    'Cell_type',\n",
    "    exclude=(\"None\",),  \n",
    "    basis='X_umap',\n",
    "    ax=ax,\n",
    "    adjust_kwargs=dict(arrowprops=dict(arrowstyle='-', color='black')),\n",
    "    text_kwargs=dict(fontsize= 9,weight='bold',\n",
    "    path_effects=[patheffects.withStroke(linewidth=2, foreground='w')] ),\n",
    ")\n",
    "plt.title('',fontsize=10)\n",
    "plt.savefig(\"Results/05.celltype_annotation/05. UMAP_Major_Cell_Type.pdf\", format=\"pdf\", bbox_inches=\"tight\")\n",
    "plt.show()"
   ]
  },
  {
   "cell_type": "code",
   "execution_count": null,
   "id": "d7d9365e",
   "metadata": {},
   "outputs": [],
   "source": [
    "ov.pl.embedding(adata,\n",
    "                basis='X_umap',\n",
    "                color=['EPCAM', 'COL1A1', 'CD3D', 'KLRD1', 'MS4A1', 'LYZ', 'MZB1', 'TPSAB1', 'LILRA4', 'CSF3R'],\n",
    "                frameon='small',\n",
    "                vmax='p99.2',\n",
    "                ncols=5,\n",
    "                show=False,)"
   ]
  },
  {
   "cell_type": "code",
   "execution_count": null,
   "id": "3a985f78",
   "metadata": {},
   "outputs": [],
   "source": [
    "import os\n",
    "import matplotlib as mpl\n",
    "import matplotlib.pyplot as plt\n",
    "import scanpy as sc\n",
    "\n",
    "genes = ['EPCAM','COL1A1','CD3D','KLRD1','MS4A1',\n",
    "         'LYZ','MZB1','TPSAB1','LILRA4','CSF3R']\n",
    "\n",
    "out = \"Results/05.celltype_annotation/05.UMAP_Major_Cell_Type_MarkerGene\"\n",
    "os.makedirs(os.path.dirname(out), exist_ok=True)\n",
    "\n",
    "# optional: embed editable fonts in PDF\n",
    "mpl.rcParams['pdf.fonttype'] = 42\n",
    "mpl.rcParams['ps.fonttype']  = 42\n",
    "\n",
    "# build fixed grid; use constrained_layout to avoid tight_layout\n",
    "fig, axes = plt.subplots(nrows=2, ncols=5, figsize=(18, 7), constrained_layout=True)\n",
    "axes = axes.ravel()\n",
    "\n",
    "for i, g in enumerate(genes):\n",
    "    sc.pl.umap(\n",
    "        adata,\n",
    "        color=g,\n",
    "        vmax='p99.2',\n",
    "        frameon='small',\n",
    "        cmap=\"coolwarm\",\n",
    "        ax=axes[i],\n",
    "        show=False\n",
    "    )\n",
    "    axes[i].set_title(g, fontsize=10)\n",
    "\n",
    "# hide any extra axes if genes < 10\n",
    "for j in range(len(genes), len(axes)):\n",
    "    axes[j].axis('off')\n",
    "\n",
    "fig.savefig(out + \".pdf\", bbox_inches=\"tight\", dpi=300)\n",
    "plt.close(fig)\n"
   ]
  },
  {
   "cell_type": "code",
   "execution_count": null,
   "id": "27f432d7",
   "metadata": {},
   "outputs": [],
   "source": [
    "levels = adata.obs['orig.ident'].cat.categories\n",
    "\n",
    "id_map = {level: i+1 for i, level in enumerate(levels)}\n",
    "adata.obs['ID'] = adata.obs['orig.ident'].map(id_map)\n",
    "adata.obs['ID'] = adata.obs['ID'].astype(str)\n",
    "\n",
    "ov.pl.embedding(adata,\n",
    "                basis='X_umap',\n",
    "                color=['ID'], \n",
    "                #palette='Paired',\n",
    "                show=False, legend_loc=None, add_outline=False, \n",
    "                frameon='small',legend_fontoutline=2,ax=ax\n",
    "                 )"
   ]
  },
  {
   "cell_type": "code",
   "execution_count": null,
   "id": "5c76cd13",
   "metadata": {},
   "outputs": [],
   "source": [
    "fig, ax = plt.subplots(figsize=(8, 3))\n",
    "ov.pl.cellproportion(\n",
    "    adata=adata, \n",
    "    celltype_clusters='Cell_type',\n",
    "    groupby='ID', \n",
    "    legend=True,\n",
    "    ax=ax\n",
    ")\n",
    "\n",
    "legend = ax.legend(loc='center left', bbox_to_anchor=(1, 0.5), fontsize=10)\n",
    "xticks = ax.get_xticks()\n",
    "#ax.set_xticks(xticks)  \n",
    "#ax.set_xticklabels([str(i+1) for i in range(len(xticks))]) \n",
    "ax.set_xlabel('')\n",
    "ax.tick_params(axis='x', rotation=90, labelsize=6.5)\n",
    "plt.tight_layout()\n",
    "\n",
    "plt.savefig('Results/05.celltype_annotation/05.major_celltype_by_ID.pdf', format='pdf')\n",
    "plt.show()"
   ]
  },
  {
   "cell_type": "code",
   "execution_count": null,
   "id": "07c7e743",
   "metadata": {},
   "outputs": [],
   "source": [
    "df = adata.obs.copy()\n",
    "\n",
    "df_unique = df.drop_duplicates(subset='ID', keep='first')\n",
    "df_unique = df_unique.sort_values(by='EBV_status')\n",
    "\n",
    "conditions = [\n",
    "    df_unique['Age'].isna(),\n",
    "    df_unique['Age'] <= 45,\n",
    "    df_unique['Age'] > 45\n",
    "]\n",
    "choices = ['Missing', '≤45', '>45']\n",
    "df_unique['Age2'] = np.select(conditions, choices, default='Missing')\n",
    "\n",
    "df_unique.index = df_unique['ID']\n",
    "df_unique.head()"
   ]
  },
  {
   "cell_type": "code",
   "execution_count": null,
   "id": "70f45ad7",
   "metadata": {},
   "outputs": [],
   "source": [
    "count_df = df.groupby(['ID', 'Cell_type']).size().reset_index(name='count')\n",
    "count_df['percentage'] = count_df['count'] / count_df.groupby('ID')['count'].transform('sum')\n",
    "wide_df = count_df.pivot(index='ID', columns='Cell_type', values='percentage').fillna(0).reset_index()\n",
    "wide_df = wide_df.set_index('ID')\n",
    "wide_df.columns.name = None \n",
    "ordered_ids = df_unique['ID'].tolist()\n",
    "wide_df = wide_df.loc[ordered_ids]\n",
    "wide_df.head()"
   ]
  },
  {
   "cell_type": "code",
   "execution_count": null,
   "id": "22949a82",
   "metadata": {},
   "outputs": [],
   "source": [
    "count_df = df.groupby(['ID']).size().reset_index(name='count')\n",
    "count_df.index = count_df['ID']\n",
    "ordered_ids = df_unique['ID'].tolist()\n",
    "count_df = count_df.loc[ordered_ids]\n",
    "count_df.head()"
   ]
  },
  {
   "cell_type": "code",
   "execution_count": null,
   "id": "5854d2f6",
   "metadata": {},
   "outputs": [],
   "source": [
    "cell_types = adata.obs['Cell_type'].cat.categories.tolist()\n",
    "cell_type_colors = adata.uns['Cell_type_colors']  # 是个 list\n",
    "cell_type_color_dict = dict(zip(cell_types, cell_type_colors))\n",
    "cell_type_color_dict\n",
    "\n",
    "stage_color_dict = dict(zip(['Normal','I','II','III','IV'], sns.color_palette('Set3', n_colors=5).as_hex()))\n",
    "stage_color_dict\n",
    "\n",
    "Age_color_dict = dict(zip(['≤45', '>45', 'Missing'], sns.color_palette('tab20', n_colors=3).as_hex()))\n",
    "Age_color_dict"
   ]
  },
  {
   "cell_type": "code",
   "execution_count": null,
   "id": "bc134c00",
   "metadata": {},
   "outputs": [],
   "source": [
    "plt.figure(figsize=(15, 5))\n",
    "col_ha = HeatmapAnnotation(\n",
    "    # label=anno_label(df_unique['EBV_status'], merge=True,rotation=0, colors= {\"Normal\": \"#E41A1C\",  \"Negative\": \"#377EB8\",  \"Positive\": \"#4DAF4A\"}),\n",
    "                           EBV_status=anno_simple(df_unique['EBV_status'], add_text=True,text_kws={'color':'white', 'fontsize':'14'}, cmap='Set1', legend=False),\n",
    "                           No_of_cells=anno_barplot(count_df['count'],height=3.5, cmap='magma'),\n",
    "                           Sex=anno_simple(df_unique['Sex'], height=1.6,  cmap='Set2'),\n",
    "                           Age=anno_simple(df_unique['Age2'], height=1.6,  colors=Age_color_dict),\n",
    "                           Stage=anno_simple(df_unique['Stage'], height=1.6,  colors=stage_color_dict),\n",
    "                           Cell_fractions=anno_barplot(wide_df,legend=True, height=20, ylim=(0, 1.03), colors=cell_type_color_dict),\n",
    "                           plot=True,legend=True,legend_gap=3, wgap=0.2, hgap=1)\n",
    "col_ha.show_ticklabels(df_unique.index.tolist(),rotation=270)\n",
    "\n",
    "plt.savefig('Results/05.celltype_annotation/05.major_celltype_by_Characteristics.pdf', format='pdf')\n",
    "plt.show()"
   ]
  },
  {
   "cell_type": "code",
   "execution_count": null,
   "id": "2c7de340",
   "metadata": {},
   "outputs": [],
   "source": [
    "fig,ax=plt.subplots(figsize = (5,5))\n",
    "colors = sns.color_palette(\"Set2\", n_colors=len(adata.obs['EBV_status'].unique()))\n",
    "ov.pl.embedding(adata,\n",
    "                basis='X_umap',\n",
    "                color='EBV_status',\n",
    "                frameon='small',\n",
    "                palette=colors,\n",
    "                show=False,\n",
    "                ax=ax,)\n",
    "plt.title('',fontsize=10)\n",
    "\n",
    "plt.savefig(\"Results/05.celltype_annotation/05. UMAP_EBV_status.pdf\", format=\"pdf\", bbox_inches=\"tight\")\n",
    "plt.show()"
   ]
  },
  {
   "cell_type": "code",
   "execution_count": null,
   "id": "d5acdbe1",
   "metadata": {},
   "outputs": [],
   "source": [
    "fig, ax = plt.subplots(figsize=(3, 3))\n",
    "ov.pl.cellproportion(\n",
    "    adata=adata, \n",
    "    celltype_clusters='Cell_type',\n",
    "    groupby='EBV_status', \n",
    "    legend=False,\n",
    "    ax=ax\n",
    ")\n",
    "\n",
    "ax.set_xlabel('')\n",
    "ax.tick_params(axis='x', rotation=0, labelsize=9) \n",
    "plt.tight_layout()\n",
    "\n",
    "plt.savefig('Results/05.celltype_annotation/05.major_celltype_by_EBV.pdf', format='pdf')\n",
    "plt.show()"
   ]
  },
  {
   "cell_type": "markdown",
   "id": "b21c1e65",
   "metadata": {},
   "source": [
    "#### Distance metrics"
   ]
  },
  {
   "cell_type": "code",
   "execution_count": null,
   "id": "a7be4c9b",
   "metadata": {},
   "outputs": [],
   "source": [
    "\n",
    "adata_ebv = adata[adata.obs['EBV_status'].isin(['Negative','Positive'])].copy()\n",
    "adata_ebv.raw = adata_ebv.copy() # This saves the raw count data in adata.raw"
   ]
  },
  {
   "cell_type": "code",
   "execution_count": null,
   "id": "52da8860",
   "metadata": {},
   "outputs": [],
   "source": [
    "adata_ebv.obs['EBV_status'] = adata_ebv.obs['EBV_status'].cat.reorder_categories(['Negative','Positive'])"
   ]
  },
  {
   "cell_type": "markdown",
   "id": "1018dfce",
   "metadata": {},
   "source": [
    "Distance metrics between groups of single cells measured by the module pertpy.tl.Distance."
   ]
  },
  {
   "cell_type": "code",
   "execution_count": null,
   "id": "dbfcfa68",
   "metadata": {},
   "outputs": [],
   "source": [
    "distance = pt.tl.Distance(\"euclidean\", obsm_key=\"scaled|original|X_pca\")"
   ]
  },
  {
   "cell_type": "code",
   "execution_count": null,
   "id": "975cb786",
   "metadata": {},
   "outputs": [],
   "source": [
    "adata_epi = adata_ebv[adata_ebv.obs[\"Cell_type\"] == \"Epithelial\"]\n",
    "adata_epi.obs[\"EBV_status\"].value_counts()\n",
    "df_epi = distance.pairwise(adata_epi, groupby=\"EBV_status\", show_progressbar=False)\n",
    "print(df_epi)"
   ]
  },
  {
   "cell_type": "code",
   "execution_count": null,
   "id": "13654776",
   "metadata": {},
   "outputs": [],
   "source": [
    "adata_fir = adata_ebv[adata_ebv.obs[\"Cell_type\"] == \"Fibroblasts\"]\n",
    "adata_fir.obs[\"EBV_status\"].value_counts()\n",
    "df_fir = distance.pairwise(adata_fir, groupby=\"EBV_status\", show_progressbar=False)\n",
    "print(df_fir)"
   ]
  },
  {
   "cell_type": "code",
   "execution_count": null,
   "id": "7c90ff39",
   "metadata": {},
   "outputs": [],
   "source": [
    "adata_t = adata_ebv[adata_ebv.obs[\"Cell_type\"] == \"T\"]\n",
    "adata_t.obs[\"EBV_status\"].value_counts()\n",
    "df_t = distance.pairwise(adata_t, groupby=\"EBV_status\", show_progressbar=False)\n",
    "print(df_t)"
   ]
  },
  {
   "cell_type": "code",
   "execution_count": null,
   "id": "25c93a17",
   "metadata": {},
   "outputs": [],
   "source": [
    "adata_nk = adata_ebv[adata_ebv.obs[\"Cell_type\"] == \"NK\"]\n",
    "adata_nk.obs[\"EBV_status\"].value_counts()\n",
    "df_nk = distance.pairwise(adata_nk, groupby=\"EBV_status\", show_progressbar=False)\n",
    "print(df_nk)"
   ]
  },
  {
   "cell_type": "code",
   "execution_count": null,
   "id": "f4a731c9",
   "metadata": {},
   "outputs": [],
   "source": [
    "adata_b = adata_ebv[adata_ebv.obs[\"Cell_type\"] == \"B\"]\n",
    "adata_b.obs[\"EBV_status\"].value_counts()\n",
    "df_b = distance.pairwise(adata_b, groupby=\"EBV_status\", show_progressbar=False)\n",
    "print(df_b)"
   ]
  },
  {
   "cell_type": "code",
   "execution_count": null,
   "id": "47b0d272",
   "metadata": {},
   "outputs": [],
   "source": [
    "adata_mye = adata_ebv[adata_ebv.obs[\"Cell_type\"] == \"Myeloid\"]\n",
    "adata_mye.obs[\"EBV_status\"].value_counts()\n",
    "df_mye = distance.pairwise(adata_mye, groupby=\"EBV_status\", show_progressbar=False)\n",
    "print(df_mye)"
   ]
  },
  {
   "cell_type": "code",
   "execution_count": null,
   "id": "8da71880",
   "metadata": {},
   "outputs": [],
   "source": [
    "adata_pla = adata_ebv[adata_ebv.obs[\"Cell_type\"] == \"Plasma\"]\n",
    "adata_pla.obs[\"EBV_status\"].value_counts()\n",
    "df_pla = distance.pairwise(adata_pla, groupby=\"EBV_status\", show_progressbar=False)\n",
    "print(df_pla)"
   ]
  },
  {
   "cell_type": "code",
   "execution_count": null,
   "id": "3a98ef74",
   "metadata": {},
   "outputs": [],
   "source": [
    "adata_mas = adata_ebv[adata_ebv.obs[\"Cell_type\"] == \"Mast\"]\n",
    "adata_mas.obs[\"EBV_status\"].value_counts()\n",
    "df_mas = distance.pairwise(adata_mas, groupby=\"EBV_status\", show_progressbar=False)\n",
    "print(df_mas)"
   ]
  },
  {
   "cell_type": "code",
   "execution_count": null,
   "id": "87c9429e",
   "metadata": {},
   "outputs": [],
   "source": [
    "adata_pdc = adata_ebv[adata_ebv.obs[\"Cell_type\"] == \"pDC\"]\n",
    "adata_pdc.obs[\"EBV_status\"].value_counts()\n",
    "df_pdc = distance.pairwise(adata_pdc, groupby=\"EBV_status\", show_progressbar=False)\n",
    "print(df_pdc)"
   ]
  },
  {
   "cell_type": "code",
   "execution_count": null,
   "id": "006fec9a",
   "metadata": {},
   "outputs": [],
   "source": [
    "adata_neu = adata_ebv[adata_ebv.obs[\"Cell_type\"] == \"Neutrophils\"]\n",
    "adata_neu.obs[\"EBV_status\"].value_counts()\n",
    "df_neu = distance.pairwise(adata_neu, groupby=\"EBV_status\", show_progressbar=False)\n",
    "print(df_neu)"
   ]
  },
  {
   "cell_type": "code",
   "execution_count": null,
   "id": "20d3fc96",
   "metadata": {},
   "outputs": [],
   "source": [
    "# Creating the DataFrame with the given categories and values\n",
    "categories = ['Epithelial', 'Fibroblasts', 'T','NK','B','Myeloid','Plasma','Mast','pDC','Neutrophils']\n",
    "values = [32.406464, 18.446907, 5.777791, 7.285064, 4.803761, 10.269726, 6.19246, 7.852163, 7.921268, 8.944743]\n",
    "\n",
    "data = pd.DataFrame({'Cell type': categories, 'E-distance': values})"
   ]
  },
  {
   "cell_type": "code",
   "execution_count": null,
   "id": "2e207280",
   "metadata": {},
   "outputs": [],
   "source": [
    "# Optimizing the plot with the legend moved into the plot area\n",
    "plt.figure(figsize=(4.5, 3.5))\n",
    "\n",
    "# Generate a color palette for the categories using 'Paired'\n",
    "colors = plt.cm.Paired(np.linspace(0, 1, len(data)))\n",
    "\n",
    "# Create the bar chart\n",
    "bars = plt.bar(data['Cell type'], data['E-distance'], color=colors)\n",
    "\n",
    "# Adding labels\n",
    "plt.yticks(fontsize=11)\n",
    "plt.ylabel('E-distance', fontsize=12)\n",
    "plt.title('Distance metrics between EBV- and EBV+ groups', fontsize=11)\n",
    "\n",
    "# Removing x-axis ticks and labels\n",
    "plt.xticks([])\n",
    "plt.xlabel('')  # Ensure no x-axis label\n",
    "\n",
    "# Adding a legend inside the plot area\n",
    "plt.legend(\n",
    "    bars, \n",
    "    data['Cell type'], \n",
    "    loc='upper right', \n",
    "    title=\"\", \n",
    "    fontsize=8,\n",
    "    frameon=True\n",
    ")\n",
    "\n",
    "# Removing grid\n",
    "plt.grid(False)\n",
    "\n",
    "plt.tight_layout()\n",
    "\n",
    "plt.savefig('Results/05.celltype_annotation/05.E-distance_of_celltype_by_EBV_status.pdf', format='pdf')\n",
    "plt.show()"
   ]
  },
  {
   "cell_type": "markdown",
   "id": "2e19a2ff",
   "metadata": {},
   "source": [
    "\n",
    "**<span style=\"font-size:16px;\">Session information：</span>**"
   ]
  },
  {
   "cell_type": "code",
   "execution_count": null,
   "id": "2de0aef8",
   "metadata": {
    "ExecuteTime": {
     "end_time": "2023-08-07T23:25:25.822088Z",
     "start_time": "2023-08-07T23:25:25.817660Z"
    },
    "execution": {
     "iopub.execute_input": "2024-06-15T15:22:04.915883Z",
     "iopub.status.busy": "2024-06-15T15:22:04.915344Z",
     "iopub.status.idle": "2024-06-15T15:22:06.830326Z",
     "shell.execute_reply": "2024-06-15T15:22:06.829307Z",
     "shell.execute_reply.started": "2024-06-15T15:22:04.915845Z"
    },
    "tags": []
   },
   "outputs": [],
   "source": [
    "import sys\n",
    "import platform\n",
    "import pkg_resources\n",
    "\n",
    "# Get Python version information\n",
    "python_version = sys.version\n",
    "# Get operating system information\n",
    "os_info = platform.platform()\n",
    "# Get system architecture information\n",
    "architecture = platform.architecture()[0]\n",
    "# Get CPU information\n",
    "cpu_info = platform.processor()\n",
    "# Print Session information\n",
    "print(\"Python version:\", python_version)\n",
    "print(\"Operating system:\", os_info)\n",
    "print(\"System architecture:\", architecture)\n",
    "print(\"CPU info:\", cpu_info)\n",
    "\n",
    "# Print imported packages and their versions\n",
    "print(\"\\nImported packages and their versions:\")\n",
    "for package in pkg_resources.working_set:\n",
    "    print(package.key, package.version)"
   ]
  }
 ],
 "metadata": {
  "kernelspec": {
   "display_name": "npc_env",
   "language": "python",
   "name": "python3"
  },
  "language_info": {
   "codemirror_mode": {
    "name": "ipython",
    "version": 3
   },
   "file_extension": ".py",
   "mimetype": "text/x-python",
   "name": "python",
   "nbconvert_exporter": "python",
   "pygments_lexer": "ipython3",
   "version": "3.10.16"
  },
  "toc": {
   "base_numbering": 1,
   "nav_menu": {},
   "number_sections": true,
   "sideBar": true,
   "skip_h1_title": false,
   "title_cell": "Table of Contents",
   "title_sidebar": "Contents",
   "toc_cell": false,
   "toc_position": {},
   "toc_section_display": true,
   "toc_window_display": false
  }
 },
 "nbformat": 4,
 "nbformat_minor": 5
}
