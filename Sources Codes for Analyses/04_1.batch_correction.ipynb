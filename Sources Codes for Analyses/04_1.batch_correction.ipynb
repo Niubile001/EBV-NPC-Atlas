{
 "cells": [
  {
   "cell_type": "markdown",
   "id": "93b45037-874b-486f-8c79-2adbbf1d6acf",
   "metadata": {},
   "source": [
    "## 04_1. Data integration and batch correction\n",
    "\n",
    "<div style=\"text-align: right;\">\n",
    "    <p style=\"text-align: left;\">Updated Time: 2025-02-08</p>\n",
    "</div>\n"
   ]
  },
  {
   "cell_type": "markdown",
   "id": "20d3ad78",
   "metadata": {},
   "source": [
    "An important task of single-cell analysis is the integration of several samples, which we can perform with omicverse. \n",
    "\n",
    "Here we demonstrate how to merge data using omicverse and perform a corrective analysis for batch effects. We provide a total of 4 methods for batch effect correction in omicverse, including harmony, scanorama and combat which do not require GPU, and SIMBA which requires GPU. if available, we recommend using GPU-based scVI and scANVI to get the best batch effect correction results."
   ]
  },
  {
   "cell_type": "markdown",
   "id": "c3312e2a",
   "metadata": {},
   "source": [
    "##### Load libraries"
   ]
  },
  {
   "cell_type": "code",
   "execution_count": null,
   "id": "c3105a96",
   "metadata": {},
   "outputs": [],
   "source": [
    "import os\n",
    "os.environ[\"OPENBLAS_NUM_THREADS\"] = \"4\"\n",
    "os.environ[\"MKL_NUM_THREADS\"] = \"4\"\n",
    "os.environ[\"OMP_NUM_THREADS\"] = \"4\""
   ]
  },
  {
   "cell_type": "code",
   "execution_count": null,
   "id": "d2c60790-b923-4f40-81ce-cdadcff59876",
   "metadata": {},
   "outputs": [],
   "source": [
    "import numpy as np\n",
    "import pandas as pd\n",
    "\n",
    "import omicverse as ov\n",
    "#print(f\"omicverse version: {ov.__version__}\")\n",
    "import scanpy as sc\n",
    "#print(f\"scanpy version: {sc.__version__}\")\n",
    "# Needed for some plotting\n",
    "import seaborn as sns\n",
    "import matplotlib.pyplot as plt\n",
    "ov.utils.ov_plot_set()\n",
    "\n",
    "import warnings\n",
    "warnings.simplefilter(action=\"ignore\", category=FutureWarning)\n",
    "warnings.simplefilter(action=\"ignore\", category=DeprecationWarning)\n",
    "warnings.simplefilter(action=\"ignore\", category=UserWarning)"
   ]
  },
  {
   "cell_type": "markdown",
   "id": "8f2401f1",
   "metadata": {},
   "source": [
    "##### Set working directory  for analysis"
   ]
  },
  {
   "cell_type": "code",
   "execution_count": null,
   "id": "a58ca4f4",
   "metadata": {},
   "outputs": [],
   "source": [
    "working_dir = '/media/bio/Disk/Research Data/EBV/omicverse'\n",
    "os.chdir(working_dir)\n",
    "updated_dir = os.getcwd()\n",
    "print(\"Updated working directory: \", updated_dir)\n",
    "\n",
    "from pathlib import Path\n",
    "saving_dir = Path('Results/04.batch_correction')\n",
    "saving_dir.mkdir(parents=True, exist_ok=True)"
   ]
  },
  {
   "cell_type": "code",
   "execution_count": null,
   "id": "36578700",
   "metadata": {},
   "outputs": [],
   "source": [
    "adata = sc.read(\"Processed Data/scRNA_AutoAnnotation.h5ad\")\n",
    "adata.X=adata.X.tocsr()\n",
    "adata"
   ]
  },
  {
   "cell_type": "code",
   "execution_count": null,
   "id": "a1d18819",
   "metadata": {},
   "outputs": [],
   "source": [
    "print(np.min(adata.X), np.max(adata.X))"
   ]
  },
  {
   "cell_type": "markdown",
   "id": "a0bb826e-8949-45cf-9d5e-4fbfaa85c44b",
   "metadata": {},
   "source": [
    "Here, we set sample ID as the batch"
   ]
  },
  {
   "cell_type": "code",
   "execution_count": null,
   "id": "95c8cbd3-4041-4a79-acae-1d0a8dd15c12",
   "metadata": {},
   "outputs": [],
   "source": [
    "adata.obs['batch']=adata.obs['orig.ident']\n",
    "adata.obs['batch'] = adata.obs['batch'].astype('category')\n",
    "adata.obs['batch'].unique()"
   ]
  },
  {
   "cell_type": "markdown",
   "id": "94289fec-da84-4dd2-bc54-78fd2073252c",
   "metadata": {},
   "source": [
    "#### Data has been preprocessed previously"
   ]
  },
  {
   "cell_type": "markdown",
   "id": "58881ff7",
   "metadata": {},
   "source": [
    "Set the .raw attribute of the AnnData object to the raw gene expression (counts) for later use. This simply freezes the state of the AnnData object.\n",
    "We can get back an AnnData of the object in .raw by calling .raw.to_adata()."
   ]
  },
  {
   "cell_type": "code",
   "execution_count": null,
   "id": "5c696c43",
   "metadata": {},
   "outputs": [],
   "source": [
    "adata.raw = adata # This saves the raw count data in adata.raw"
   ]
  },
  {
   "cell_type": "markdown",
   "id": "c53c6c58",
   "metadata": {},
   "source": [
    "We subset to the highly variable genes so that each method has the same input."
   ]
  },
  {
   "cell_type": "code",
   "execution_count": null,
   "id": "2951e3a9",
   "metadata": {},
   "outputs": [],
   "source": [
    "adata = adata[:, adata.var.highly_variable_features]\n",
    "ov.pp.scale(adata)\n",
    "adata"
   ]
  },
  {
   "cell_type": "markdown",
   "id": "223236b0",
   "metadata": {},
   "source": [
    "#### Here we just visualise potential batch effects in the data."
   ]
  },
  {
   "cell_type": "markdown",
   "id": "5396d598",
   "metadata": {},
   "source": [
    "There is a very clear batch effect in the data"
   ]
  },
  {
   "cell_type": "code",
   "execution_count": null,
   "id": "96ec15a6",
   "metadata": {},
   "outputs": [],
   "source": [
    "plt.rcParams['figure.figsize'] = [5, 5]\n",
    "ov.utils.embedding(adata,\n",
    "                basis='X_umap',frameon='small',\n",
    "                color=['Dataset','gpt_celltype'],\n",
    "                show=False)\n",
    "\n",
    "plt.savefig('Results/04.batch_correction/04.X_umap_unintegrated.pdf', format='pdf', bbox_inches='tight')\n",
    "plt.show()"
   ]
  },
  {
   "cell_type": "markdown",
   "id": "c087b8e4",
   "metadata": {},
   "source": [
    "### Run intergration methods\n",
    "\n",
    "Here we run some frequently-used intergration methods.\n"
   ]
  },
  {
   "cell_type": "markdown",
   "id": "cdcbbaf7",
   "metadata": {},
   "source": [
    "#### Harmony\n",
    "\n",
    "Harmony is an algorithm for performing integration of single cell genomics datasets. Please check out manuscript on [Nature Methods](https://www.nature.com/articles/s41592-019-0619-0)."
   ]
  },
  {
   "cell_type": "code",
   "execution_count": null,
   "id": "1a41a059",
   "metadata": {},
   "outputs": [],
   "source": [
    "ov.single.batch_correction(adata,batch_key='batch', methods='harmony',n_pcs=50) "
   ]
  },
  {
   "cell_type": "code",
   "execution_count": null,
   "id": "7e647218",
   "metadata": {},
   "outputs": [],
   "source": [
    "ov.pp.neighbors(adata, n_neighbors=15, n_pcs=20, use_rep='X_harmony')\n",
    "ov.pp.umap(adata)"
   ]
  },
  {
   "cell_type": "code",
   "execution_count": null,
   "id": "100bad5d",
   "metadata": {},
   "outputs": [],
   "source": [
    "plt.rcParams['figure.figsize'] = [5, 5]\n",
    "ov.utils.embedding(adata,\n",
    "                basis='X_umap',frameon='small',\n",
    "                color=['Dataset'],\n",
    "                show=False)\n",
    "\n",
    "plt.savefig('Results/04.batch_correction/04.X_umap_harmony.pdf', format='pdf', bbox_inches='tight')\n",
    "plt.show()"
   ]
  },
  {
   "cell_type": "markdown",
   "id": "410b5471",
   "metadata": {},
   "source": [
    "#### Combat\n",
    "\n",
    "combat is a batch effect correction method that is very widely used in bulk RNA-seq, and it works just as well on single-cell sequencing data.\n",
    "\n"
   ]
  },
  {
   "cell_type": "code",
   "execution_count": null,
   "id": "90655bb5",
   "metadata": {},
   "outputs": [],
   "source": [
    "ov.single.batch_correction(adata,batch_key='batch', methods='combat',n_pcs=50)"
   ]
  },
  {
   "cell_type": "code",
   "execution_count": null,
   "id": "3e6ba9d6",
   "metadata": {},
   "outputs": [],
   "source": [
    "ov.pp.neighbors(adata, n_neighbors=15, n_pcs=20, use_rep='X_combat')\n",
    "ov.pp.umap(adata)"
   ]
  },
  {
   "cell_type": "code",
   "execution_count": null,
   "id": "4ca2236a",
   "metadata": {},
   "outputs": [],
   "source": [
    "plt.rcParams['figure.figsize'] = [5, 5]\n",
    "ov.utils.embedding(adata,\n",
    "                basis='X_umap',frameon='small',\n",
    "                color=['Dataset'],\n",
    "                show=False)\n",
    "\n",
    "plt.savefig('Results/04.batch_correction/04.X_umap_combat.pdf', format='pdf', bbox_inches='tight')\n",
    "plt.show()"
   ]
  },
  {
   "cell_type": "markdown",
   "id": "be242e9c",
   "metadata": {},
   "source": [
    "#### Scanorama"
   ]
  },
  {
   "cell_type": "code",
   "execution_count": null,
   "id": "55ffcd18",
   "metadata": {},
   "outputs": [],
   "source": [
    "ov.single.batch_correction(adata,batch_key='batch', methods='scanorama',n_pcs=50)"
   ]
  },
  {
   "cell_type": "code",
   "execution_count": null,
   "id": "6bf29abd",
   "metadata": {},
   "outputs": [],
   "source": [
    "ov.pp.neighbors(adata, n_neighbors=15, n_pcs=20, use_rep='X_scanorama')\n",
    "ov.pp.umap(adata)"
   ]
  },
  {
   "cell_type": "code",
   "execution_count": null,
   "id": "8775ed28",
   "metadata": {},
   "outputs": [],
   "source": [
    "plt.rcParams['figure.figsize'] = [5, 5]\n",
    "ov.utils.embedding(adata,\n",
    "                basis='X_umap',frameon='small',\n",
    "                color=['Dataset'],\n",
    "                show=False)\n",
    "\n",
    "plt.savefig('Results/04.batch_correction/04.X_umap_scanorama.pdf', format='pdf', bbox_inches='tight')\n",
    "plt.show()"
   ]
  },
  {
   "cell_type": "markdown",
   "id": "3f417201",
   "metadata": {},
   "source": [
    "#### scVI"
   ]
  },
  {
   "cell_type": "code",
   "execution_count": null,
   "id": "58c1b905",
   "metadata": {},
   "outputs": [],
   "source": [
    "import scvi\n",
    "\n",
    "scvi.model.SCVI.setup_anndata(adata, layer=\"counts\", batch_key=\"batch\")\n",
    "vae = scvi.model.SCVI(adata, gene_likelihood=\"nb\", n_layers=2, n_latent=50)\n",
    "vae.train()\n",
    "adata.obsm[\"X_scVI\"] = vae.get_latent_representation()"
   ]
  },
  {
   "cell_type": "code",
   "execution_count": null,
   "id": "ef66def0",
   "metadata": {},
   "outputs": [],
   "source": [
    "ov.pp.neighbors(adata, n_neighbors=15, n_pcs=20, use_rep='X_scVI')\n",
    "ov.pp.umap(adata)"
   ]
  },
  {
   "cell_type": "code",
   "execution_count": null,
   "id": "59ebaf58",
   "metadata": {},
   "outputs": [],
   "source": [
    "plt.rcParams['figure.figsize'] = [5, 5]\n",
    "ov.utils.embedding(adata,\n",
    "                basis='X_umap',frameon='small',\n",
    "                color=['Dataset'],\n",
    "                show=False)\n",
    "\n",
    "plt.savefig('Results/04.batch_correction/04.X_umap_scVI.pdf', format='pdf', bbox_inches='tight')\n",
    "plt.show()"
   ]
  },
  {
   "cell_type": "markdown",
   "id": "c57e1b56",
   "metadata": {},
   "source": [
    "#### scANVI"
   ]
  },
  {
   "cell_type": "code",
   "execution_count": null,
   "id": "02ab1530",
   "metadata": {},
   "outputs": [],
   "source": [
    "lvae = scvi.model.SCANVI.from_scvi_model(\n",
    "    vae,\n",
    "    adata=adata,\n",
    "    labels_key=\"gpt_celltype\",\n",
    "    unlabeled_category=\"Unknown\",\n",
    ")\n",
    "lvae.train(max_epochs=20, n_samples_per_label=100)\n",
    "adata.obsm[\"X_scANVI\"] = lvae.get_latent_representation()"
   ]
  },
  {
   "cell_type": "code",
   "execution_count": null,
   "id": "cf89cc8f",
   "metadata": {},
   "outputs": [],
   "source": [
    "ov.pp.neighbors(adata, n_neighbors=15, n_pcs=20, use_rep='X_scANVI')\n",
    "ov.pp.umap(adata)"
   ]
  },
  {
   "cell_type": "code",
   "execution_count": null,
   "id": "017ba3d0",
   "metadata": {},
   "outputs": [],
   "source": [
    "plt.rcParams['figure.figsize'] = [5, 5]\n",
    "ov.utils.embedding(adata,\n",
    "                basis='X_umap',frameon='small',\n",
    "                color=['Dataset'],\n",
    "                show=False)\n",
    "\n",
    "plt.savefig('Results/04.batch_correction/04.X_umap_scANVI.pdf', format='pdf', bbox_inches='tight')\n",
    "plt.show()"
   ]
  },
  {
   "cell_type": "markdown",
   "id": "61a21c5f",
   "metadata": {},
   "source": [
    "#### CellANOVA\n",
    "\n",
    "The integration of cells across samples to remove unwanted batch variation plays a critical role in single cell analyses. When the samples are expected to be biologically distinct, it is often unclear how aggressively the cells should be aligned across samples to achieve uniformity. CellANOVA is a Python package for batch integration with signal recovery in single cell data. It builds on existing single cell data integration methods, and uses a pool of control samples to quantify the batch effect and separate meaningful biological variation from unwanted batch variation. When used with an existing integration method, CellAnova allows the recovery of biological signals that are lost during integration.\n",
    "\n",
    "In omicverse, you only need to prepare the `control_dict`(At least two samples are required!) when you want to try `CellANOVA`. When you're done running it, there are two outputs you need to be aware of:\n",
    "\n",
    "1. the first one being: `adata.layers['denoised']`, which stores the matrix after the batch effect is removed.\n",
    "2. The second is `adata.obsm['X_mde_cellANOVA']`, which stores the low-dimensional representation of the cell after removing the batch effect\n",
    "\n",
    "- Zhang, Z., Mathew, D., Lim, T.L. et al. Recovery of biological signals lost in single-cell batch integration with CellANOVA. Nat Biotechnol (2024). https://doi.org/10.1038/s41587-024-02463-1"
   ]
  },
  {
   "cell_type": "code",
   "execution_count": null,
   "id": "ef9b1091",
   "metadata": {},
   "outputs": [],
   "source": [
    "## construct control pool\n",
    "unique_batches = adata.obs['batch'].unique()\n",
    "batches_except_last = unique_batches[:-1]\n",
    "\n",
    "control_dict = {\n",
    "    'pool1': batches_except_last,\n",
    "}\n",
    "\n",
    "ov.single.batch_correction(adata,batch_key='batch',n_pcs=50, methods='CellANOVA',control_dict=control_dict)"
   ]
  },
  {
   "cell_type": "code",
   "execution_count": null,
   "id": "da38d3ff",
   "metadata": {},
   "outputs": [],
   "source": [
    "ov.pp.neighbors(adata, n_neighbors=15, n_pcs=20, use_rep='X_cellanova')\n",
    "ov.pp.umap(adata)"
   ]
  },
  {
   "cell_type": "code",
   "execution_count": null,
   "id": "6c648dac",
   "metadata": {},
   "outputs": [],
   "source": [
    "plt.rcParams['figure.figsize'] = [5, 5]\n",
    "ov.pl.embedding(adata,\n",
    "                basis='X_umap',frameon='small',\n",
    "                color=['Dataset'],\n",
    "                show=False)\n",
    "\n",
    "plt.savefig('Results/04.batch_correction/04.X_umap_cellANOVA.pdf', format='pdf', bbox_inches='tight')\n",
    "plt.show()"
   ]
  },
  {
   "cell_type": "markdown",
   "id": "1b851cca",
   "metadata": {},
   "source": [
    "#### Save AnnData object with automated celltype annotation"
   ]
  },
  {
   "cell_type": "code",
   "execution_count": null,
   "id": "b4d9982b",
   "metadata": {},
   "outputs": [],
   "source": [
    "adata = adata.raw.to_adata() # This recovers the raw count data in adata.X\n",
    "adata"
   ]
  },
  {
   "cell_type": "code",
   "execution_count": null,
   "id": "a3464656",
   "metadata": {},
   "outputs": [],
   "source": [
    "print(np.min(adata.X), np.max(adata.X))"
   ]
  },
  {
   "cell_type": "code",
   "execution_count": null,
   "id": "158b2fff",
   "metadata": {},
   "outputs": [],
   "source": [
    "adata.write_h5ad(\"Processed Data/scRNA_Batch_All.h5ad\")"
   ]
  },
  {
   "cell_type": "markdown",
   "id": "81cd08c5",
   "metadata": {},
   "source": [
    "\n",
    "**<span style=\"font-size:16px;\">Session information：</span>**"
   ]
  },
  {
   "cell_type": "code",
   "execution_count": null,
   "id": "7342acf8",
   "metadata": {},
   "outputs": [],
   "source": [
    "import sys\n",
    "import platform\n",
    "import pkg_resources\n",
    "\n",
    "# Get Python version information\n",
    "python_version = sys.version\n",
    "# Get operating system information\n",
    "os_info = platform.platform()\n",
    "# Get system architecture information\n",
    "architecture = platform.architecture()[0]\n",
    "# Get CPU information\n",
    "cpu_info = platform.processor()\n",
    "# Print Session information\n",
    "print(\"Python version:\", python_version)\n",
    "print(\"Operating system:\", os_info)\n",
    "print(\"System architecture:\", architecture)\n",
    "print(\"CPU info:\", cpu_info)\n",
    "\n",
    "# Print imported packages and their versions\n",
    "print(\"\\nImported packages and their versions:\")\n",
    "for package in pkg_resources.working_set:\n",
    "    print(package.key, package.version)"
   ]
  }
 ],
 "metadata": {
  "kernelspec": {
   "display_name": "npc_env",
   "language": "python",
   "name": "python3"
  },
  "language_info": {
   "codemirror_mode": {
    "name": "ipython",
    "version": 3
   },
   "file_extension": ".py",
   "mimetype": "text/x-python",
   "name": "python",
   "nbconvert_exporter": "python",
   "pygments_lexer": "ipython3",
   "version": "3.10.16"
  }
 },
 "nbformat": 4,
 "nbformat_minor": 5
}
