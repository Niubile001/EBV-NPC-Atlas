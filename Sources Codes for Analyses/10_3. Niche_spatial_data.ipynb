{
 "cells": [
  {
   "cell_type": "code",
   "execution_count": null,
   "metadata": {
    "vscode": {
     "languageId": "r"
    }
   },
   "outputs": [],
   "source": [
    "### This script performs the wilcoxon rank sum test and hierarchical clustering on the Tangram deconvolution data to identify the significant abundant cell types between the clusters.\n",
    "#### Load necessary packages\n",
    "library(Seurat)\n",
    "library(compositions)\n",
    "library(tidyverse)\n",
    "library(clustree)\n",
    "library(patchwork)\n",
    "library(uwot)\n",
    "library(scran)\n",
    "library(cluster)\n",
    "library(ggrastr)\n",
    "library(cowplot)\n",
    "library(ggplot2)\n",
    "library(RColorBrewer)\n",
    "library(conflicted) # to be loaded in case of a conflict arises."
   ]
  },
  {
   "cell_type": "code",
   "execution_count": null,
   "metadata": {
    "vscode": {
     "languageId": "r"
    }
   },
   "outputs": [],
   "source": [
    "setwd(\"/media/bio/Disk/Research Data/EBV/omicverse\")"
   ]
  },
  {
   "cell_type": "code",
   "execution_count": null,
   "metadata": {
    "vscode": {
     "languageId": "r"
    }
   },
   "outputs": [],
   "source": [
    "tangram_ct_pred <- read.csv(\"Processed Data/tangram_ct_pred.csv\", row.names = 1, check.names = FALSE)\n",
    "colnames(tangram_ct_pred)"
   ]
  },
  {
   "cell_type": "code",
   "execution_count": null,
   "metadata": {
    "vscode": {
     "languageId": "r"
    }
   },
   "outputs": [],
   "source": [
    "# Get the proportions data\n",
    "deconv.mat <- as.data.frame(as.matrix(tangram_ct_pred))\n",
    "head(deconv.mat)"
   ]
  },
  {
   "cell_type": "code",
   "execution_count": null,
   "metadata": {
    "vscode": {
     "languageId": "r"
    }
   },
   "outputs": [],
   "source": [
    "# assign label to each spot based on the maximum predicted probabilities\n",
    "celltype_cols = c('Epithelial', 'Tumor', 'Fibroblast', 'T', 'NK', 'B', 'Plasma', 'C1QC+ Macro', 'SPP1+ Macro', 'IL1B+ Macro', 'IgM+ plasma-like', 'Monocyte', 'cDC', 'pDC', 'Neutrophil', 'Mast')\n",
    "tangram_ct_pred$cell_type <- apply(tangram_ct_pred[, celltype_cols], 1, function(x) {\n",
    "  celltype_cols[which.max(x)]\n",
    "})\n",
    "head(tangram_ct_pred)"
   ]
  },
  {
   "cell_type": "code",
   "execution_count": null,
   "metadata": {
    "vscode": {
     "languageId": "r"
    }
   },
   "outputs": [],
   "source": [
    "scNiche_metadata <- read.csv(\"Processed Data/scNiche_metadata.csv\", row.names = 1, check.names = FALSE)\n",
    "scNiche_metadata <- scNiche_metadata %>%\n",
    "  select(sample_id, scNiche) %>%\n",
    "  rownames_to_column(\"row_id\")\n",
    "\n",
    "head(scNiche_metadata)"
   ]
  },
  {
   "cell_type": "code",
   "execution_count": null,
   "metadata": {
    "vscode": {
     "languageId": "r"
    }
   },
   "outputs": [],
   "source": [
    "# Prepare data for summary statistics\n",
    "cluster_summary_pat <- deconv.mat %>%\n",
    "  as.data.frame() %>%\n",
    "  rownames_to_column(\"row_id\") %>%\n",
    "  left_join(scNiche_metadata, by = \"row_id\") %>%  # Join with meta_data using row_id as the key\n",
    "  pivot_longer(-c(row_id, sample_id, scNiche), values_to = \"ct_prop\", names_to = \"cell_type\") %>%\n",
    "  group_by(sample_id, scNiche, cell_type) %>%\n",
    "  summarize(median_ct_prop = median(ct_prop, na.rm = TRUE))\n",
    "\n",
    "  head(cluster_summary_pat)"
   ]
  },
  {
   "cell_type": "code",
   "execution_count": null,
   "metadata": {
    "vscode": {
     "languageId": "r"
    }
   },
   "outputs": [],
   "source": [
    "# Aggregate data for median ct prop\n",
    "cluster_summary <- cluster_summary_pat %>%\n",
    "  ungroup() %>%\n",
    "  group_by(scNiche, cell_type) %>%\n",
    "  summarize(patient_median_ct_prop = median(median_ct_prop, na.rm = TRUE))\n",
    " \n",
    "# Prepare matrix for hierarchical clustering\n",
    "cluster_summary_mat <- cluster_summary %>%\n",
    "  pivot_wider(values_from = patient_median_ct_prop, names_from = cell_type, values_fill = list(patient_median_ct_prop = 0)) %>%\n",
    "  column_to_rownames(\"scNiche\") %>%\n",
    "  as.matrix()"
   ]
  },
  {
   "cell_type": "code",
   "execution_count": null,
   "metadata": {
    "vscode": {
     "languageId": "r"
    }
   },
   "outputs": [],
   "source": [
    "# ---- Summary Code: Cluster Enrichment Analysis Based on Wilcoxon Test (Cross-Sample) + Significance Marking + Combined Barplots ----\n",
    "\n",
    "# Load necessary packages\n",
    "library(dplyr)\n",
    "library(tidyr)\n",
    "library(ggplot2)\n",
    "library(forcats)\n",
    "library(patchwork)\n",
    "library(cowplot)\n",
    "library(RColorBrewer)\n",
    "conflicts_prefer(dplyr::rename)\n",
    "conflicts_prefer(stats::dist)\n",
    "\n",
    "# Assume cluster_summary_pat contains sample_id, scNiche, cell_type, median_ct_prop\n",
    "\n",
    "# 1. Wilcoxon test (cluster vs. rest)\n",
    "run_wilcox_up <- function(prop_data) {\n",
    "  prop_data_group <- prop_data[[\"scNiche\"]] %>% unique() %>% set_names()\n",
    "  map(prop_data_group, function(g) {\n",
    "    test_data <- prop_data %>%\n",
    "      mutate(test_group = ifelse(scNiche == g, \"target\", \"rest\")) %>%\n",
    "      mutate(test_group = factor(test_group, levels = c(\"target\", \"rest\")))\n",
    "    wilcox.test(median_ct_prop ~ test_group, data = test_data, alternative = \"greater\") %>%\n",
    "      broom::tidy()\n",
    "  }) %>% enframe(\"scNiche\") %>% unnest(cols = value)\n",
    "}\n",
    "\n",
    "wilcoxon_res <- cluster_summary_pat %>%\n",
    "  group_by(cell_type) %>%\n",
    "  nest() %>%\n",
    "  mutate(wres = map(data, run_wilcox_up)) %>%\n",
    "  select(cell_type, wres) %>%\n",
    "  unnest(cols = wres) %>%\n",
    "  rename(p.value = p.value) %>%\n",
    "  mutate(p_corr = p.adjust(p.value, method = \"fdr\"),\n",
    "         significant = ifelse(p.value <= 0.05, \"*\", \"\"))\n",
    "write.csv(wilcoxon_res, \"Processed Data/CellType_Enrichment_scNiche_Wilcoxon_Res.csv\")\n",
    "\n",
    "# 2. Aggregate median values of cluster × cell_type\n",
    "cluster_summary <- cluster_summary_pat %>%\n",
    "  group_by(scNiche, cell_type) %>%\n",
    "  summarize(patient_median_ct_prop = median(median_ct_prop, na.rm = TRUE), .groups = \"drop\")\n",
    "\n",
    "# 3. Cluster ordering\n",
    "cluster_summary_mat <- cluster_summary %>%\n",
    "  pivot_wider(names_from = cell_type, values_from = patient_median_ct_prop, values_fill = 0) %>%\n",
    "  column_to_rownames(\"scNiche\") %>%\n",
    "  as.matrix()\n",
    "\n",
    "cluster_order <- hclust(dist(cluster_summary_mat))$labels[hclust(dist(cluster_summary_mat))$order]\n",
    "ct_order <- hclust(dist(t(cluster_summary_mat)))$labels[hclust(dist(t(cluster_summary_mat)))$order]\n",
    "\n",
    "# 4. Prepare data for plotting (with significance)\n",
    "ggplot_data <- cluster_summary %>%\n",
    "  left_join(wilcoxon_res, by = c(\"scNiche\", \"cell_type\")) %>%\n",
    "  mutate(cell_type = factor(cell_type, levels = ct_order),\n",
    "         scNiche = factor(scNiche, levels = cluster_order)) %>%\n",
    "  group_by(cell_type) %>%\n",
    "  mutate(scaled_pat_median = scale(patient_median_ct_prop)[, 1]) %>%\n",
    "  ungroup()\n",
    "\n",
    "# 5. Create color mapping for cluster rows\n",
    "cluster_color_map <- c(\n",
    "    'Niche1' = '#a6cee3',\n",
    "    'Niche2' = '#1f78b4',\n",
    "    'Niche3' = '#33a02c',\n",
    "    'Niche4' = '#fb9a99',\n",
    "    'Niche5' = '#fdbf6f',\n",
    "    'Niche6' = '#ff7f00',\n",
    "    'Niche7' = '#6a3d9a',\n",
    "    'Niche8' = '#ffff99',\n",
    "    'Niche9' = '#b15928')\n",
    "\n",
    "# 6. Row name color blocks + heatmap body (row name color blocks on the left)\n",
    "annotation_df <- data.frame(scNiche = factor(cluster_order, levels = cluster_order), fill = cluster_order)\n",
    "color_bar <- ggplot(annotation_df, aes(x = 1, y = scNiche, fill = fill)) +\n",
    "  geom_tile() +\n",
    "  geom_text(aes(label = scNiche), color = \"black\", size = 4) +\n",
    "  scale_fill_manual(values = cluster_color_map) +\n",
    "  theme_void() +\n",
    "  theme(legend.position = \"none\")\n",
    "\n",
    "mean_ct_prop_plt <- ggplot(ggplot_data, aes(x = cell_type, y = scNiche, fill = scaled_pat_median)) +\n",
    "  geom_tile(color = \"black\") +\n",
    "  geom_text(aes(label = significant), size = 4, na.rm = TRUE) +\n",
    "  scale_fill_gradient2() +\n",
    "  scale_color_manual(values = cluster_color_map) +\n",
    "  theme_minimal() +\n",
    "  theme(axis.text.x = element_text(angle = 90, hjust = 1, vjust = 0.5, size = 12),\n",
    "        axis.text.y = element_blank(),\n",
    "        axis.title = element_blank(),\n",
    "        legend.position = \"top\",\n",
    "        plot.margin = margin(0, 0, 0, 0))\n",
    "\n",
    "# 7. Right-side barplot: cluster counts (synchronized colors, ensure consistent direction)\n",
    "cluster_counts <- scNiche_metadata %>%\n",
    "  dplyr::select(row_id, scNiche) %>%\n",
    "  group_by(scNiche) %>%\n",
    "  summarize(nspots = dplyr::n(), .groups = \"drop\") %>%\n",
    "  mutate(prop_spots = nspots / sum(nspots),\n",
    "         scNiche = factor(scNiche, levels = cluster_order))\n",
    "\n",
    "bar_cluster <- ggplot(cluster_counts, aes(x = prop_spots, y = scNiche, fill = scNiche)) +\n",
    "  geom_bar(stat = \"identity\", orientation = \"y\") +\n",
    "  scale_fill_manual(values = cluster_color_map) +\n",
    "  scale_x_continuous(breaks = c(0.1, 0.2, 0.3), limits = c(0, 0.35)) +\n",
    "  theme_cowplot() + xlab(\"Fraction of Spots\") + ylab(\"\") + \n",
    "  theme(axis.text.y = element_blank(),\n",
    "        axis.text.x = element_text(size = 10),\n",
    "        legend.position = \"none\",\n",
    "        plot.margin = margin(0, 0, 0, 0))\n",
    "\n",
    "# 8. Combine plots: left color blocks + row names + heatmap + right barplot\n",
    "final_plot <- plot_grid(color_bar, mean_ct_prop_plt, bar_cluster, \n",
    "                        ncol = 3, rel_widths = c(0.08, 0.5, 0.42), align = \"h\")\n",
    "\n",
    "# Save and show the plot\n",
    "ggsave(filename = \"Results/10.NPC_ST_Analysis/CellType_Enrichment_Spatial_scNiche.pdf\", plot = final_plot, device = cairo_pdf, width = 12, height = 5)\n",
    "print(final_plot)"
   ]
  },
  {
   "cell_type": "code",
   "execution_count": null,
   "metadata": {
    "vscode": {
     "languageId": "r"
    }
   },
   "outputs": [],
   "source": [
    "cluster_summary_pat$cell_type <- factor(cluster_summary_pat$cell_type, \n",
    "levels = c('Epithelial', 'Tumor', 'Fibroblast', 'T', 'NK', 'B', 'Plasma', 'C1QC+ Macro', 'SPP1+ Macro', 'IL1B+ Macro', 'IgM+ plasma-like', 'Monocyte', 'cDC', 'pDC', 'Neutrophil', 'Mast'))"
   ]
  },
  {
   "cell_type": "code",
   "execution_count": null,
   "metadata": {
    "vscode": {
     "languageId": "r"
    }
   },
   "outputs": [],
   "source": [
    "# Set a color palette using RColorBrewer\n",
    "colors <- brewer.pal(n = 9, name = \"Paired\")\n",
    "\n",
    "# Create the plot\n",
    "bboxplot_median_ct_prop <- cluster_summary_pat %>%\n",
    "  ggplot(aes(x = scNiche, y = median_ct_prop, fill = scNiche)) +\n",
    "  geom_boxplot(outlier.size = 1.5, outlier.colour = \"red\", width = 0.6, alpha = 0.7) +\n",
    "  scale_fill_manual(values = cluster_color_map) +  # Applying the color palette\n",
    "  theme_classic() +\n",
    "  theme(axis.text.x = element_blank(),   # Remove x-axis labels\n",
    "        axis.ticks.x = element_blank(),  # Remove x-axis ticks\n",
    "        axis.title.x = element_blank(),  # Remove x-axis title\n",
    "        axis.title.y = element_text(size = 12), # Adjust y-axis title size\n",
    "        strip.text = element_text(size = 8),\n",
    "        plot.title = element_text(size = 11, face = \"bold\"),\n",
    "        legend.text = element_text(size = 11),  # Increase legend text size\n",
    "        legend.title = element_text(size = 12)) +  # Increase legend title size\n",
    "  labs(title = \"\",\n",
    "       x = \"\",\n",
    "       y = \"Median Cell Type Proportion\") +\n",
    "  facet_wrap(. ~ cell_type, ncol = 8, scales = \"free_y\")\n",
    "\n",
    "bboxplot_median_ct_prop\n",
    "# Save the plot as a PDF\n",
    "pdf(\"Results/10.NPC_ST_Analysis/bboxplot_median_ct_prop.pdf\", width = 12, height = 3.5)\n",
    "print(bboxplot_median_ct_prop)\n",
    "dev.off()"
   ]
  },
  {
   "cell_type": "code",
   "execution_count": null,
   "metadata": {
    "vscode": {
     "languageId": "r"
    }
   },
   "outputs": [],
   "source": [
    "sessionInfo()"
   ]
  }
 ],
 "metadata": {
  "kernelspec": {
   "display_name": "NPC_Renv",
   "language": "R",
   "name": "npc_renv"
  },
  "language_info": {
   "codemirror_mode": "r",
   "file_extension": ".r",
   "mimetype": "text/x-r-source",
   "name": "R",
   "pygments_lexer": "r",
   "version": "4.3.3"
  }
 },
 "nbformat": 4,
 "nbformat_minor": 2
}
