{
 "cells": [
  {
   "cell_type": "markdown",
   "id": "ad243b19",
   "metadata": {},
   "source": [
    "## 03_1. Automatic cell type annotation with GPT\n",
    "\n",
    "<div style=\"text-align: right;\">\n",
    "    <p style=\"text-align: left;\">Updated Time: 2025-02-10</p>\n",
    "</div>"
   ]
  },
  {
   "cell_type": "markdown",
   "id": "4eb4b8c5",
   "metadata": {},
   "source": [
    "##### Load libraries"
   ]
  },
  {
   "cell_type": "code",
   "execution_count": null,
   "id": "46cbda3d",
   "metadata": {
    "ExecuteTime": {
     "end_time": "2023-09-10T09:07:23.116607Z",
     "start_time": "2023-09-10T09:01:50.023627Z"
    },
    "execution": {
     "iopub.execute_input": "2024-08-29T12:30:51.935246Z",
     "iopub.status.busy": "2024-08-29T12:30:51.934703Z",
     "iopub.status.idle": "2024-08-29T12:30:57.587110Z",
     "shell.execute_reply": "2024-08-29T12:30:57.585949Z",
     "shell.execute_reply.started": "2024-08-29T12:30:51.935195Z"
    },
    "tags": []
   },
   "outputs": [],
   "source": [
    "import os\n",
    "import sys\n",
    "import warnings\n",
    "import numpy as np\n",
    "import pandas as pd\n",
    "\n",
    "import anndata as ad\n",
    "import scanpy as sc\n",
    "import omicverse as ov\n",
    "\n",
    "# Needed for some plotting\n",
    "import seaborn as sns\n",
    "import matplotlib.pyplot as plt\n",
    "ov.plot_set()\n",
    "\n",
    "import warnings\n",
    "warnings.simplefilter(action=\"ignore\", category=FutureWarning)\n",
    "warnings.simplefilter(action=\"ignore\", category=DeprecationWarning)\n",
    "warnings.simplefilter(action=\"ignore\", category=UserWarning)"
   ]
  },
  {
   "cell_type": "markdown",
   "id": "699adf5b-0eec-4599-9256-6b5d228f0c68",
   "metadata": {},
   "source": [
    "##### Set working directory  for analysis"
   ]
  },
  {
   "cell_type": "code",
   "execution_count": null,
   "id": "d74fbe9d",
   "metadata": {
    "ExecuteTime": {
     "end_time": "2023-09-10T09:07:23.127300Z",
     "start_time": "2023-09-10T09:07:23.122378Z"
    },
    "execution": {
     "iopub.execute_input": "2024-08-29T12:30:57.588759Z",
     "iopub.status.busy": "2024-08-29T12:30:57.588242Z",
     "iopub.status.idle": "2024-08-29T12:30:57.594619Z",
     "shell.execute_reply": "2024-08-29T12:30:57.593788Z",
     "shell.execute_reply.started": "2024-08-29T12:30:57.588734Z"
    },
    "tags": []
   },
   "outputs": [],
   "source": [
    "working_dir = '/media/bio/Disk/Research Data/EBV/omicverse'\n",
    "os.chdir(working_dir)\n",
    "updated_dir = os.getcwd()\n",
    "print(\"Updated working directory: \", updated_dir)\n",
    "\n",
    "from pathlib import Path\n",
    "saving_dir = Path('Results/03.automatic_annotation')\n",
    "saving_dir.mkdir(parents=True, exist_ok=True)"
   ]
  },
  {
   "cell_type": "markdown",
   "id": "6f0445d9",
   "metadata": {},
   "source": [
    "\n",
    "##### Reading the non-QC AnnData object"
   ]
  },
  {
   "cell_type": "code",
   "execution_count": null,
   "id": "ab4ee43f",
   "metadata": {
    "ExecuteTime": {
     "end_time": "2023-09-10T09:08:44.446619Z",
     "start_time": "2023-09-10T09:07:23.131981Z"
    },
    "execution": {
     "iopub.execute_input": "2024-08-29T12:30:57.595897Z",
     "iopub.status.busy": "2024-08-29T12:30:57.595660Z",
     "iopub.status.idle": "2024-08-29T12:31:13.054776Z",
     "shell.execute_reply": "2024-08-29T12:31:13.053844Z",
     "shell.execute_reply.started": "2024-08-29T12:30:57.595876Z"
    },
    "tags": []
   },
   "outputs": [],
   "source": [
    "adata = sc.read(\"Processed Data/scRNA_QC.h5ad\")\n",
    "adata"
   ]
  },
  {
   "cell_type": "code",
   "execution_count": null,
   "id": "1cc320be-09ec-4007-a2de-432d6c49fd97",
   "metadata": {
    "execution": {
     "iopub.execute_input": "2024-08-29T12:31:13.057124Z",
     "iopub.status.busy": "2024-08-29T12:31:13.056795Z",
     "iopub.status.idle": "2024-08-29T12:31:14.331198Z",
     "shell.execute_reply": "2024-08-29T12:31:14.330126Z",
     "shell.execute_reply.started": "2024-08-29T12:31:13.057104Z"
    },
    "tags": []
   },
   "outputs": [],
   "source": [
    "print(np.min(adata.X), np.max(adata.X))"
   ]
  },
  {
   "cell_type": "markdown",
   "id": "79199c15",
   "metadata": {},
   "source": [
    "### Automatic cell type annotation with GPT/Other"
   ]
  },
  {
   "cell_type": "markdown",
   "id": "d6d5feff",
   "metadata": {},
   "source": [
    "#### Finding cluster-specific differentially expressed genes\n",
    "\n",
    "Let us compute a ranking for the highly differential genes in each cluster. For this, by default, the .raw attribute of AnnData is used in case it has been initialized before. The simplest and fastest method to do so is the t-test."
   ]
  },
  {
   "cell_type": "code",
   "execution_count": null,
   "id": "af50494a",
   "metadata": {},
   "outputs": [],
   "source": [
    "sc.tl.dendrogram(adata,'leiden_1_0',use_rep='scaled|original|X_pca')\n",
    "sc.tl.rank_genes_groups(adata, 'leiden_1_0', use_rep='scaled|original|X_pca',\n",
    "                        method='wilcoxon',use_raw=False,key_added='leiden_1_0_wilcoxon')\n",
    "sc.pl.rank_genes_groups_dotplot(adata,groupby='leiden_1_0',\n",
    "                                cmap='Spectral_r',key='leiden_1_0_wilcoxon',\n",
    "                                standard_scale='var',n_genes=3)"
   ]
  },
  {
   "cell_type": "code",
   "execution_count": null,
   "id": "1c52163e",
   "metadata": {},
   "outputs": [],
   "source": [
    "pd.DataFrame(adata.uns['leiden_1_0_wilcoxon']['names']).head(6)"
   ]
  },
  {
   "cell_type": "markdown",
   "id": "5f4d8902",
   "metadata": {},
   "source": [
    "Get the 100 top ranked genes per cluster and save a table with the scores and groups.."
   ]
  },
  {
   "cell_type": "code",
   "execution_count": null,
   "id": "944a05dc",
   "metadata": {},
   "outputs": [],
   "source": [
    "rank_genes_groups_wilcoxon_result = adata.uns['leiden_1_0_wilcoxon']\n",
    "groups = rank_genes_groups_wilcoxon_result['names'].dtype.names\n",
    "\n",
    "rank_genes_groups_wilcoxon_result = pd.DataFrame(\n",
    "    {group + '_' + key[:1]: rank_genes_groups_wilcoxon_result[key][group]\n",
    "    for group in groups for key in ['names', 'pvals']}).head(100) \n",
    "\n",
    "rank_genes_groups_wilcoxon_result.to_csv('Results/03.automatic_annotation/top100_rank_genes_groups_leiden_1_0_wilcoxon.csv', index=False)"
   ]
  },
  {
   "cell_type": "markdown",
   "id": "ca95195c",
   "metadata": {},
   "source": [
    "#### Get Genes for Each Cluster Automatically"
   ]
  },
  {
   "cell_type": "code",
   "execution_count": null,
   "id": "86aff9a0",
   "metadata": {},
   "outputs": [],
   "source": [
    "top_genes_cluster=ov.single.get_celltype_marker(adata,clustertype='leiden_1_0',rank=True,\n",
    "                                          key='leiden_1_0_wilcoxon',\n",
    "                                          foldchange=2,topgenenumber=50)\n",
    "top_genes_cluster = {k: top_genes_cluster[k] for k in sorted(top_genes_cluster)}\n",
    "top_genes_cluster = {key: top_genes_cluster[key] for key in sorted(top_genes_cluster.keys(), key=int)}\n",
    "top_genes_cluster\n"
   ]
  },
  {
   "cell_type": "markdown",
   "id": "4f165de6",
   "metadata": {},
   "source": [
    "Automatic cell type annotation with GPT/Other"
   ]
  },
  {
   "cell_type": "code",
   "execution_count": null,
   "id": "78d6c526",
   "metadata": {},
   "outputs": [],
   "source": [
    "import requests\n",
    "import os\n",
    "import numpy as np\n",
    "import pandas as pd\n",
    "\n",
    "# Codes were modified from omicverse\n",
    "def gpt4celltype(input_data, tissuename=None, speciename='human',\n",
    "                provider='qwen', model='qwen-plus', topgenenumber=20,\n",
    "                base_url=None):\n",
    "    \"\"\"\n",
    "    Annotation of cell types using AGI model.\n",
    "\n",
    "    Arguments:\n",
    "        input: dict, input dictionary with clusters as keys and gene markers as values.\n",
    "        tissuename: str, tissue name.\n",
    "        provider: str, provider of the model. Default: 'qwen', you can select from ['openai','kimi','qwen'] now.\n",
    "\n",
    "    \"\"\"\n",
    "    input=input_data.copy()\n",
    "    input_data=input\n",
    "    del_k=[]\n",
    "    for k in input_data:\n",
    "        if len(input_data[k])==0:\n",
    "            del_k.append(k)\n",
    "    for k in del_k:\n",
    "        del input[k]\n",
    "    \n",
    "    if base_url is None:\n",
    "        if provider == 'openai':\n",
    "            base_url = \"https://api.openai.com/v1\"\n",
    "        elif provider == 'kimi':\n",
    "            base_url = \"https://api.moonshot.cn/v1\"\n",
    "        elif provider == 'qwen':\n",
    "            base_url = \"https://dashscope.aliyuncs.com/compatible-mode/v1\"\n",
    "\n",
    "    QWEN_API_KEY = os.getenv(\"AGI_API_KEY\")\n",
    "    if QWEN_API_KEY == \"\":\n",
    "        print(\"Note: AGI API key not found: returning the prompt itself.\")\n",
    "        API_flag = False\n",
    "    else:\n",
    "        API_flag = True\n",
    "\n",
    "    if isinstance(input, dict):\n",
    "        input = {k: 'unknown' if not v else ','.join(v[:topgenenumber]) for k, v in input.items()}\n",
    "    elif isinstance(input, pd.DataFrame):\n",
    "        # Filter genes with positive log fold change and group by cluster, selecting top genes\n",
    "        input = input[input['logfoldchanges'] > 0]\n",
    "        input = input.groupby('cluster')['names'].apply(lambda x: ','.join(x.iloc[:topgenenumber]))\n",
    "    else:\n",
    "        raise ValueError(\"Input must be either a dictionary of lists or a pandas DataFrame.\")\n",
    "\n",
    "    \n",
    "    if not API_flag:\n",
    "        message = f'Identify the most probable cell types of {speciename} {tissuename} tissue using the following gene markers separately for each row, which were ranked by log-foldchange and p value. Please return the cell subtype annotation in unified singular form without any other information and blanks, such as NK cell, Macrophage, T cell, etc. Do not show numbers before the name. Some can be a mixture of multiple cell types or not specific to a single cell type and label them as Unknown.\\n' + '\\n'.join([f'{k}: {v}' for k, v in input.items()])\n",
    "        return message\n",
    "    else:\n",
    "        print(\"Note: AGI API key found: returning the cell type annotations.\")\n",
    "        \n",
    "        headers = {\n",
    "            \"Authorization\": f\"Bearer {QWEN_API_KEY}\",\n",
    "        }\n",
    "        \n",
    "        cutnum = int(np.ceil(len(input) / 30))\n",
    "        if cutnum > 1:\n",
    "            cid = np.digitize(range(len(input)), bins=np.linspace(0, len(input), cutnum + 1))\n",
    "        else:\n",
    "            cid = np.ones(len(input), dtype=int)\n",
    "        \n",
    "        allres = {}\n",
    "        from tqdm import tqdm\n",
    "        for i in tqdm(range(1, cutnum + 1)):\n",
    "            id_list = [j for j, x in enumerate(cid) if x == i]\n",
    "            flag = False\n",
    "            while not flag:\n",
    "                messages = [{\"role\": \"user\", \n",
    "                             \"content\": f'Identify the most probable cell types of {speciename} {tissuename} tissue using the following gene markers separately for each row, which were ranked by log-foldchange and p value. Please return the cell subtype annotation in unified singular form without any other information and blanks, such as NK cell, Macrophage, T cell, etc. Do not show numbers before the name. Some can be a mixture of multiple cell types or not specific to a single cell type and label them as Unknown.\\n' + '\\n'.join([input[list(input.keys())[j]] for j in id_list if input[list(input.keys())[j]] != 'unknown'])}]\n",
    "                \n",
    "                params = {\n",
    "                    \"model\": model,\n",
    "                    \"messages\": messages\n",
    "                }\n",
    "                \n",
    "                \n",
    "                response = requests.post(\n",
    "                    f\"{base_url}/chat/completions\",\n",
    "                    headers=headers,\n",
    "                    json=params,\n",
    "                    stream=False\n",
    "                )\n",
    "                \n",
    "                res = response.json()\n",
    "                \n",
    "                if 'choices' in res and len(res['choices']) > 0:\n",
    "                    res_content = res['choices'][0]['message']['content'].split('\\n')\n",
    "                    #print(res_content)\n",
    "                    if len(res_content) == len(id_list):\n",
    "                        flag = True\n",
    "                        for idx, cell_type in zip(id_list, res_content):\n",
    "                            key = list(input.keys())[idx]\n",
    "                            allres[key] = 'unknown' if input[key] == 'unknown' else cell_type.strip(',')\n",
    "        \n",
    "        print('Note: It is always recommended to check the results returned by GPT-4 in case of AI hallucination, before going to downstream analysis.')\n",
    "        for k in del_k:\n",
    "            allres[k]='Unknown'\n",
    "        return allres"
   ]
  },
  {
   "cell_type": "code",
   "execution_count": null,
   "id": "82e50686",
   "metadata": {},
   "outputs": [],
   "source": [
    "os.environ['AGI_API_KEY'] = 'sk-921dec7b8cff42ee805d6eeebca5eec6'  # model='qwen-plus', provider='qwen',\n",
    "\n",
    "gpt_result = gpt4celltype(top_genes_cluster, tissuename='nasopharyngeal', speciename='human',\n",
    "                     model='qwen-max-2025-01-25', provider='qwen', # deepseek-v3 qwen-max-2025-01-25\n",
    "                     topgenenumber=50)\n",
    "gpt_result"
   ]
  },
  {
   "cell_type": "code",
   "execution_count": null,
   "id": "62252fc6",
   "metadata": {},
   "outputs": [],
   "source": [
    "# Removing trailing spaces from the dictionary values\n",
    "gpt_result = {key: value.strip() for key, value in gpt_result.items()}\n",
    "\n",
    "# Display the cleaned result\n",
    "gpt_result"
   ]
  },
  {
   "cell_type": "code",
   "execution_count": null,
   "id": "6f6c853a",
   "metadata": {},
   "outputs": [],
   "source": [
    "adata.obs['gpt_celltype'] = adata.obs['leiden_1_0'].map(gpt_result).astype('category')"
   ]
  },
  {
   "cell_type": "code",
   "execution_count": null,
   "id": "818182f4",
   "metadata": {},
   "outputs": [],
   "source": [
    "# Let's check the unique categories in `adata.obs['gpt_celltype']` \n",
    "adata.obs['gpt_celltype'].value_counts()"
   ]
  },
  {
   "cell_type": "code",
   "execution_count": null,
   "id": "01ca3cf9",
   "metadata": {},
   "outputs": [],
   "source": [
    "plt.rcParams['figure.figsize'] = [5, 5]\n",
    "ov.utils.embedding(adata,\n",
    "                basis='X_umap',frameon='small',\n",
    "                color=['gpt_celltype'],\n",
    "                show=False)\n",
    "\n",
    "plt.savefig('Results/03.automatic_annotation/03.X_umap_gpt_celltype.pdf', format='pdf', bbox_inches='tight')\n",
    "plt.show()"
   ]
  },
  {
   "cell_type": "markdown",
   "id": "17553f3f-843b-4c44-981d-7cdd75ea8c83",
   "metadata": {},
   "source": [
    "#### Save AnnData object with automated celltype annotation"
   ]
  },
  {
   "cell_type": "code",
   "execution_count": null,
   "id": "8c4dc9e2",
   "metadata": {},
   "outputs": [],
   "source": [
    "adata"
   ]
  },
  {
   "cell_type": "code",
   "execution_count": null,
   "id": "5c401a58",
   "metadata": {},
   "outputs": [],
   "source": [
    "print(np.min(adata.X), np.max(adata.X))"
   ]
  },
  {
   "cell_type": "code",
   "execution_count": null,
   "id": "3274e826-e0cf-4c41-8bb2-def5ea9c6e2f",
   "metadata": {
    "ExecuteTime": {
     "end_time": "2023-09-10T10:47:01.884880Z",
     "start_time": "2023-09-10T10:45:13.059619Z"
    },
    "execution": {
     "iopub.execute_input": "2024-08-29T12:59:23.856813Z",
     "iopub.status.busy": "2024-08-29T12:59:23.856449Z",
     "iopub.status.idle": "2024-08-29T12:59:30.701835Z",
     "shell.execute_reply": "2024-08-29T12:59:30.700911Z",
     "shell.execute_reply.started": "2024-08-29T12:59:23.856793Z"
    },
    "tags": []
   },
   "outputs": [],
   "source": [
    "adata.write_h5ad(\"Processed Data/scRNA_AutoAnnotation.h5ad\")"
   ]
  },
  {
   "cell_type": "markdown",
   "id": "fb1362bd",
   "metadata": {},
   "source": [
    "\n",
    "**<span style=\"font-size:16px;\">Session information：</span>**"
   ]
  },
  {
   "cell_type": "code",
   "execution_count": null,
   "id": "f7c0b3bb",
   "metadata": {
    "ExecuteTime": {
     "end_time": "2023-09-10T10:47:02.187379Z",
     "start_time": "2023-09-10T10:47:01.888967Z"
    },
    "execution": {
     "iopub.execute_input": "2024-08-29T12:59:30.703800Z",
     "iopub.status.busy": "2024-08-29T12:59:30.703195Z",
     "iopub.status.idle": "2024-08-29T12:59:30.856163Z",
     "shell.execute_reply": "2024-08-29T12:59:30.854895Z",
     "shell.execute_reply.started": "2024-08-29T12:59:30.703773Z"
    },
    "tags": []
   },
   "outputs": [],
   "source": [
    "import sys\n",
    "import platform\n",
    "import pkg_resources\n",
    "\n",
    "# Get Python version information\n",
    "python_version = sys.version\n",
    "\n",
    "# Get operating system information\n",
    "os_info = platform.platform()\n",
    "\n",
    "# Get system architecture information\n",
    "architecture = platform.architecture()[0]\n",
    "\n",
    "# Get CPU information\n",
    "cpu_info = platform.processor()\n",
    "\n",
    "# Print Session information\n",
    "print(\"Python version:\", python_version)\n",
    "print(\"Operating system:\", os_info)\n",
    "print(\"System architecture:\", architecture)\n",
    "print(\"CPU info:\", cpu_info)\n",
    "\n",
    "# Print imported packages and their versions\n",
    "print(\"\\nImported packages and their versions:\")\n",
    "for package in pkg_resources.working_set:\n",
    "    print(package.key, package.version)"
   ]
  }
 ],
 "metadata": {
  "kernelspec": {
   "display_name": "npc_env",
   "language": "python",
   "name": "python3"
  },
  "language_info": {
   "codemirror_mode": {
    "name": "ipython",
    "version": 3
   },
   "file_extension": ".py",
   "mimetype": "text/x-python",
   "name": "python",
   "nbconvert_exporter": "python",
   "pygments_lexer": "ipython3",
   "version": "3.10.13"
  },
  "toc": {
   "base_numbering": 1,
   "nav_menu": {},
   "number_sections": true,
   "sideBar": true,
   "skip_h1_title": false,
   "title_cell": "Table of Contents",
   "title_sidebar": "Contents",
   "toc_cell": false,
   "toc_position": {},
   "toc_section_display": true,
   "toc_window_display": false
  }
 },
 "nbformat": 4,
 "nbformat_minor": 5
}
