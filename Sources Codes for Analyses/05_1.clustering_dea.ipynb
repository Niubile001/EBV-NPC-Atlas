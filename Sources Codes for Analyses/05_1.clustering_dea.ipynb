{
 "cells": [
  {
   "cell_type": "markdown",
   "id": "fa8cf4d9",
   "metadata": {},
   "source": [
    "## 05_1. Clustering and DEG Analysis\n",
    "\n",
    "<div style=\"text-align: left;\">\n",
    "    <p style=\"text-align: left;\">Updated Time: 2025-02-11</p>\n",
    "</div>"
   ]
  },
  {
   "cell_type": "markdown",
   "id": "6f514896",
   "metadata": {},
   "source": [
    "##### Load libraries"
   ]
  },
  {
   "cell_type": "code",
   "execution_count": null,
   "id": "eb23983e",
   "metadata": {
    "ExecuteTime": {
     "end_time": "2023-08-08T07:50:19.351180Z",
     "start_time": "2023-08-08T07:48:08.500039Z"
    },
    "execution": {
     "iopub.execute_input": "2024-05-03T05:43:10.064024Z",
     "iopub.status.busy": "2024-05-03T05:43:10.063617Z",
     "iopub.status.idle": "2024-05-03T05:43:16.902452Z",
     "shell.execute_reply": "2024-05-03T05:43:16.900985Z",
     "shell.execute_reply.started": "2024-05-03T05:43:10.063972Z"
    },
    "tags": []
   },
   "outputs": [],
   "source": [
    "import os\n",
    "import sys\n",
    "import warnings\n",
    "import numpy as np\n",
    "import pandas as pd\n",
    "\n",
    "import anndata as ad\n",
    "import scanpy as sc\n",
    "import omicverse as ov\n",
    "from pyclustree import clustree\n",
    "\n",
    "# Needed for some plotting\n",
    "import seaborn as sns\n",
    "import matplotlib.pyplot as plt\n",
    "from matplotlib.pyplot import rc_context\n",
    "ov.plot_set()\n",
    "\n",
    "import warnings\n",
    "warnings.simplefilter(action=\"ignore\", category=FutureWarning)\n",
    "warnings.simplefilter(action=\"ignore\", category=DeprecationWarning)\n",
    "warnings.simplefilter(action=\"ignore\", category=UserWarning)"
   ]
  },
  {
   "cell_type": "markdown",
   "id": "904add21",
   "metadata": {},
   "source": [
    "##### Set working directory  for analysis"
   ]
  },
  {
   "cell_type": "code",
   "execution_count": null,
   "id": "6911b3fd",
   "metadata": {
    "ExecuteTime": {
     "end_time": "2023-08-07T17:25:31.271093Z",
     "start_time": "2023-08-07T17:25:31.267640Z"
    },
    "execution": {
     "iopub.execute_input": "2024-05-03T05:43:16.905157Z",
     "iopub.status.busy": "2024-05-03T05:43:16.904450Z",
     "iopub.status.idle": "2024-05-03T05:43:16.911355Z",
     "shell.execute_reply": "2024-05-03T05:43:16.910390Z",
     "shell.execute_reply.started": "2024-05-03T05:43:16.905133Z"
    },
    "tags": []
   },
   "outputs": [],
   "source": [
    "working_dir = '/media/bio/Disk/Research Data/EBV/omicverse'\n",
    "os.chdir(working_dir)\n",
    "updated_dir = os.getcwd()\n",
    "print(\"Updated working directory: \", updated_dir)\n",
    "\n",
    "from pathlib import Path\n",
    "saving_dir = Path('Results/05.celltype_annotation')\n",
    "saving_dir.mkdir(parents=True, exist_ok=True)"
   ]
  },
  {
   "cell_type": "markdown",
   "id": "6cc21525",
   "metadata": {},
   "source": [
    "##### Reading in integrated AnnData object"
   ]
  },
  {
   "cell_type": "code",
   "execution_count": null,
   "id": "f563e311",
   "metadata": {
    "ExecuteTime": {
     "end_time": "2023-08-07T17:27:26.733142Z",
     "start_time": "2023-08-07T17:25:45.341113Z"
    },
    "execution": {
     "iopub.execute_input": "2024-05-03T05:43:22.026019Z",
     "iopub.status.busy": "2024-05-03T05:43:22.024877Z",
     "iopub.status.idle": "2024-05-03T05:43:42.429926Z",
     "shell.execute_reply": "2024-05-03T05:43:42.429037Z",
     "shell.execute_reply.started": "2024-05-03T05:43:22.025991Z"
    },
    "scrolled": true,
    "tags": []
   },
   "outputs": [],
   "source": [
    "adata = sc.read(\"Processed Data/scRNA_Batch_All.h5ad\")\n",
    "adata"
   ]
  },
  {
   "cell_type": "code",
   "execution_count": null,
   "id": "671ae20e-0edd-4e31-bde5-d56adf81df01",
   "metadata": {
    "execution": {
     "iopub.execute_input": "2024-05-03T05:43:42.431159Z",
     "iopub.status.busy": "2024-05-03T05:43:42.430915Z",
     "iopub.status.idle": "2024-05-03T05:43:46.117850Z",
     "shell.execute_reply": "2024-05-03T05:43:46.116612Z",
     "shell.execute_reply.started": "2024-05-03T05:43:42.431138Z"
    },
    "tags": []
   },
   "outputs": [],
   "source": [
    "print(np.min(adata.X), np.max(adata.X))"
   ]
  },
  {
   "cell_type": "markdown",
   "id": "96cd705c",
   "metadata": {},
   "source": [
    "###  Re-perform umap and re-do clustering with different resolutions using intergrated data"
   ]
  },
  {
   "cell_type": "markdown",
   "id": "f394999e",
   "metadata": {},
   "source": [
    "##### Data has been intergrated previously\n",
    "Integration benchmarking indicates that Harmony outperformed other integration methods in terms of batch correction and biological preservation, making it the preferred choice for downstream analysis."
   ]
  },
  {
   "cell_type": "code",
   "execution_count": null,
   "id": "1e6fba49",
   "metadata": {},
   "outputs": [],
   "source": [
    "adata.raw = adata.copy() # This saves the raw count data in adata.raw"
   ]
  },
  {
   "cell_type": "code",
   "execution_count": null,
   "id": "9e1aa540",
   "metadata": {
    "ExecuteTime": {
     "end_time": "2023-08-07T19:03:33.473413Z",
     "start_time": "2023-08-07T17:27:26.734862Z"
    },
    "execution": {
     "iopub.execute_input": "2024-05-03T05:44:07.006591Z",
     "iopub.status.busy": "2024-05-03T05:44:07.006252Z",
     "iopub.status.idle": "2024-05-03T08:35:18.978646Z",
     "shell.execute_reply": "2024-05-03T08:35:18.688703Z",
     "shell.execute_reply.started": "2024-05-03T05:44:07.006572Z"
    },
    "tags": []
   },
   "outputs": [],
   "source": [
    "ov.pp.neighbors(adata, n_neighbors=15, n_pcs=20, use_rep='X_harmony')\n",
    "ov.pp.umap(adata)"
   ]
  },
  {
   "cell_type": "code",
   "execution_count": null,
   "id": "23379865",
   "metadata": {},
   "outputs": [],
   "source": [
    "# Run Leiden clustering in default resolution, which is adequate for first-round clustering based our experience.\n",
    "ov.pp.leiden(adata,resolution=1, key_added='leiden_1_0')"
   ]
  },
  {
   "cell_type": "code",
   "execution_count": null,
   "id": "4a849c29",
   "metadata": {},
   "outputs": [],
   "source": [
    "ov.pl.embedding(adata,\n",
    "                basis='X_umap',\n",
    "                color=['leiden_1_0'],\n",
    "                ncols=1,\n",
    "                frameon='small')"
   ]
  },
  {
   "cell_type": "markdown",
   "id": "045ccc04",
   "metadata": {},
   "source": [
    "### Cluster-specific Differentially Expressed Genes analysis"
   ]
  },
  {
   "cell_type": "code",
   "execution_count": null,
   "id": "c7366f50",
   "metadata": {},
   "outputs": [],
   "source": [
    "sc.tl.dendrogram(adata,'leiden_1_0',use_rep='scaled|original|X_pca')"
   ]
  },
  {
   "cell_type": "markdown",
   "id": "2737b317",
   "metadata": {},
   "source": [
    "Let us compute a ranking for the highly differential genes in each cluster. For this, by default, the .raw attribute of AnnData is used in case it has been initialized before. The simplest and fastest method to do so is the t-test."
   ]
  },
  {
   "cell_type": "code",
   "execution_count": null,
   "id": "e8a2c1fd",
   "metadata": {},
   "outputs": [],
   "source": [
    "sc.tl.rank_genes_groups(adata, 'leiden_1_0', use_rep='scaled|original|X_pca',\n",
    "                        method='t-test',use_raw=False,key_added='leiden_1_0_ttest')\n",
    "sc.pl.rank_genes_groups_dotplot(adata,groupby='leiden_1_0',\n",
    "                                cmap='Spectral_r',key='leiden_1_0_ttest',\n",
    "                                standard_scale='var',n_genes=3)"
   ]
  },
  {
   "cell_type": "markdown",
   "id": "67462af1",
   "metadata": {},
   "source": [
    "Output the marker list as pandas dataframe:"
   ]
  },
  {
   "cell_type": "code",
   "execution_count": null,
   "id": "ab1980b7",
   "metadata": {},
   "outputs": [],
   "source": [
    "ttest_marker_gene=pd.DataFrame(adata.uns['leiden_1_0_ttest']['names'])\n",
    "ttest_marker_gene.head()"
   ]
  },
  {
   "cell_type": "code",
   "execution_count": null,
   "id": "0df0911c",
   "metadata": {},
   "outputs": [],
   "source": [
    "ttest_marker_gene=ttest_marker_gene.head(50)\n",
    "ttest_marker_gene.to_csv('Results/05.celltype_annotation/ttest_marker_gene_leiden_1_0.csv', index=False)"
   ]
  },
  {
   "cell_type": "markdown",
   "id": "f8912f61",
   "metadata": {},
   "source": [
    "cosg is also considered to be a better algorithm for finding marker genes. Here, omicverse provides the calculation of cosg\n",
    "\n",
    "Paper: Accurate and fast cell marker gene identification with COSG\n",
    "\n",
    "Code: https://github.com/genecell/COSG"
   ]
  },
  {
   "cell_type": "code",
   "execution_count": null,
   "id": "612b030d",
   "metadata": {},
   "outputs": [],
   "source": [
    "import scipy.sparse\n",
    "if scipy.sparse.issparse(adata.X):\n",
    "    adata.X = adata.X.toarray()\n",
    "\n",
    "adata.uns['log1p'] = {'base': None}  "
   ]
  },
  {
   "cell_type": "code",
   "execution_count": null,
   "id": "460d67d6",
   "metadata": {},
   "outputs": [],
   "source": [
    "sc.tl.rank_genes_groups(adata, groupby='leiden_1_0', \n",
    "                        method='t-test',use_rep='scaled|original|X_pca',)\n",
    "ov.single.cosg(adata, key_added='leiden_1_0_cosg', groupby='leiden_1_0')\n",
    "sc.pl.rank_genes_groups_dotplot(adata,groupby='leiden_1_0',\n",
    "                                use_raw=True,\n",
    "                                cmap='Spectral_r',key='leiden_1_0_cosg',\n",
    "                                standard_scale='var',n_genes=3)"
   ]
  },
  {
   "cell_type": "markdown",
   "id": "2de73747",
   "metadata": {},
   "source": [
    "Output the marker list as pandas dataframe:"
   ]
  },
  {
   "cell_type": "code",
   "execution_count": null,
   "id": "c1881c5a",
   "metadata": {
    "ExecuteTime": {
     "end_time": "2023-08-07T22:53:17.151779Z",
     "start_time": "2023-08-07T22:53:16.816142Z"
    },
    "execution": {
     "iopub.execute_input": "2024-05-03T08:48:35.978010Z",
     "iopub.status.busy": "2024-05-03T08:48:35.977643Z",
     "iopub.status.idle": "2024-05-03T08:48:36.159931Z",
     "shell.execute_reply": "2024-05-03T08:48:36.158737Z",
     "shell.execute_reply.started": "2024-05-03T08:48:35.977987Z"
    },
    "tags": []
   },
   "outputs": [],
   "source": [
    "cosg_marker_gene=pd.DataFrame(adata.uns['leiden_1_0_cosg']['names'])\n",
    "cosg_marker_gene.head()"
   ]
  },
  {
   "cell_type": "code",
   "execution_count": null,
   "id": "707fbd07",
   "metadata": {},
   "outputs": [],
   "source": [
    "cosg_marker_gene=cosg_marker_gene.head(50)\n",
    "cosg_marker_gene.to_csv('Results/05.celltype_annotation/cosg_marker_gene_leiden_1_0.csv', index=False)"
   ]
  },
  {
   "cell_type": "markdown",
   "id": "937541f2",
   "metadata": {},
   "source": [
    "#### Automatic cell type annotation with GPT/Other"
   ]
  },
  {
   "cell_type": "code",
   "execution_count": null,
   "id": "c17dc23f",
   "metadata": {},
   "outputs": [],
   "source": [
    "top_genes_cluster_lists = {str(col): ttest_marker_gene[col].tolist() for col in ttest_marker_gene.columns}\n",
    "top_genes_cluster_lists\n",
    "top_genes_cluster_lists\n"
   ]
  },
  {
   "cell_type": "code",
   "execution_count": null,
   "id": "f8208093",
   "metadata": {},
   "outputs": [],
   "source": [
    "import requests\n",
    "import os\n",
    "import numpy as np\n",
    "import pandas as pd\n",
    "\n",
    "# Codes were modified from omicverse\n",
    "def gpt4celltype(input_data, tissuename=None, speciename='human',\n",
    "                provider='qwen', model='qwen-plus', topgenenumber=20,\n",
    "                base_url=None):\n",
    "    \"\"\"\n",
    "    Annotation of cell types using AGI model.\n",
    "\n",
    "    Arguments:\n",
    "        input: dict, input dictionary with clusters as keys and gene markers as values.\n",
    "        tissuename: str, tissue name.\n",
    "        provider: str, provider of the model. Default: 'qwen', you can select from ['openai','kimi','qwen'] now.\n",
    "\n",
    "    \"\"\"\n",
    "    input=input_data.copy()\n",
    "    input_data=input\n",
    "    del_k=[]\n",
    "    for k in input_data:\n",
    "        if len(input_data[k])==0:\n",
    "            del_k.append(k)\n",
    "    for k in del_k:\n",
    "        del input[k]\n",
    "    \n",
    "    if base_url is None:\n",
    "        if provider == 'openai':\n",
    "            base_url = \"https://api.openai.com/v1\"\n",
    "        elif provider == 'kimi':\n",
    "            base_url = \"https://api.moonshot.cn/v1\"\n",
    "        elif provider == 'qwen':\n",
    "            base_url = \"https://dashscope.aliyuncs.com/compatible-mode/v1\"\n",
    "\n",
    "    QWEN_API_KEY = os.getenv(\"AGI_API_KEY\")\n",
    "    if QWEN_API_KEY == \"\":\n",
    "        print(\"Note: AGI API key not found: returning the prompt itself.\")\n",
    "        API_flag = False\n",
    "    else:\n",
    "        API_flag = True\n",
    "\n",
    "    if isinstance(input, dict):\n",
    "        input = {k: 'unknown' if not v else ','.join(v[:topgenenumber]) for k, v in input.items()}\n",
    "    elif isinstance(input, pd.DataFrame):\n",
    "        # Filter genes with positive log fold change and group by cluster, selecting top genes\n",
    "        input = input[input['logfoldchanges'] > 0]\n",
    "        input = input.groupby('cluster')['names'].apply(lambda x: ','.join(x.iloc[:topgenenumber]))\n",
    "    else:\n",
    "        raise ValueError(\"Input must be either a dictionary of lists or a pandas DataFrame.\")\n",
    "\n",
    "    \n",
    "    if not API_flag:\n",
    "        message = f'Identify the most probable cell types of {speciename} {tissuename} tissue using the following gene markers separately for each row, which were ranked by log-foldchange and p value. Please return the cell subtype annotation in unified singular form without any other information and blanks, such as NK cell, Macrophage, T cell, etc. Do not show numbers before the name. Some can be a mixture of multiple cell types or not specific to a single cell type and label them as Unknown.\\n' + '\\n'.join([f'{k}: {v}' for k, v in input.items()])\n",
    "        return message\n",
    "    else:\n",
    "        print(\"Note: AGI API key found: returning the cell type annotations.\")\n",
    "        \n",
    "        headers = {\n",
    "            \"Authorization\": f\"Bearer {QWEN_API_KEY}\",\n",
    "        }\n",
    "        \n",
    "        cutnum = int(np.ceil(len(input) / 30))\n",
    "        if cutnum > 1:\n",
    "            cid = np.digitize(range(len(input)), bins=np.linspace(0, len(input), cutnum + 1))\n",
    "        else:\n",
    "            cid = np.ones(len(input), dtype=int)\n",
    "        \n",
    "        allres = {}\n",
    "        from tqdm import tqdm\n",
    "        for i in tqdm(range(1, cutnum + 1)):\n",
    "            id_list = [j for j, x in enumerate(cid) if x == i]\n",
    "            flag = False\n",
    "            while not flag:\n",
    "                messages = [{\"role\": \"user\", \n",
    "                             \"content\": f'Identify the most probable cell types of {speciename} {tissuename} tissue using the following gene markers separately for each row, which were ranked by log-foldchange and p value. Please return the cell subtype annotation in unified singular form without any other information and blanks, such as NK cell, Macrophage, T cell, etc. Do not show numbers before the name. Some can be a mixture of multiple cell types or not specific to a single cell type and label them as Unknown.\\n' + '\\n'.join([input[list(input.keys())[j]] for j in id_list if input[list(input.keys())[j]] != 'unknown'])}]\n",
    "                \n",
    "                params = {\n",
    "                    \"model\": model,\n",
    "                    \"messages\": messages\n",
    "                }\n",
    "                \n",
    "                \n",
    "                response = requests.post(\n",
    "                    f\"{base_url}/chat/completions\",\n",
    "                    headers=headers,\n",
    "                    json=params,\n",
    "                    stream=False\n",
    "                )\n",
    "                \n",
    "                res = response.json()\n",
    "                \n",
    "                if 'choices' in res and len(res['choices']) > 0:\n",
    "                    res_content = res['choices'][0]['message']['content'].split('\\n')\n",
    "                    #print(res_content)\n",
    "                    if len(res_content) == len(id_list):\n",
    "                        flag = True\n",
    "                        for idx, cell_type in zip(id_list, res_content):\n",
    "                            key = list(input.keys())[idx]\n",
    "                            allres[key] = 'unknown' if input[key] == 'unknown' else cell_type.strip(',')\n",
    "        \n",
    "        print('Note: It is always recommended to check the results returned by GPT-4 in case of AI hallucination, before going to downstream analysis.')\n",
    "        for k in del_k:\n",
    "            allres[k]='Unknown'\n",
    "        return allres"
   ]
  },
  {
   "cell_type": "code",
   "execution_count": null,
   "id": "e59601cc",
   "metadata": {},
   "outputs": [],
   "source": [
    "os.environ['AGI_API_KEY'] = 'sk-921dec7b8cff42ee805d6eeebca5eec6'  # model='qwen-plus', provider='qwen',\n",
    "\n",
    "gpt_result = gpt4celltype(top_genes_cluster_lists, tissuename='nasopharyngeal', speciename='human',\n",
    "                     model='qwen-max-2025-01-25', provider='qwen', # deepseek-v3 qwen-max-2025-01-25\n",
    "                     topgenenumber=50)\n",
    "gpt_result"
   ]
  },
  {
   "cell_type": "code",
   "execution_count": null,
   "id": "2a7b205c",
   "metadata": {},
   "outputs": [],
   "source": [
    "# Removing trailing spaces from the dictionary values\n",
    "gpt_result = {key: value.strip() for key, value in gpt_result.items()}\n",
    "\n",
    "# Display the cleaned result\n",
    "gpt_result"
   ]
  },
  {
   "cell_type": "code",
   "execution_count": null,
   "id": "51684382",
   "metadata": {},
   "outputs": [],
   "source": [
    "adata.obs['gpt_celltype'] = adata.obs['leiden_1_0'].map(gpt_result).astype('category')"
   ]
  },
  {
   "cell_type": "code",
   "execution_count": null,
   "id": "9cffdde9",
   "metadata": {},
   "outputs": [],
   "source": [
    "# Let's check the unique categories in `adata.obs['gpt_celltype']` \n",
    "adata.obs['gpt_celltype'].value_counts()"
   ]
  },
  {
   "cell_type": "code",
   "execution_count": null,
   "id": "8664d775",
   "metadata": {},
   "outputs": [],
   "source": [
    "plt.rcParams['figure.figsize'] = [5, 5]\n",
    "ov.pl.embedding(adata,\n",
    "                basis='X_umap',\n",
    "                color=['gpt_celltype'],\n",
    "                ncols=1,\n",
    "                frameon='small')\n",
    "plt.savefig('Results/05.celltype_annotation/05.X_umap_gpt_celltype.pdf', format='pdf', bbox_inches='tight')\n",
    "plt.show()"
   ]
  },
  {
   "cell_type": "markdown",
   "id": "449c8c62",
   "metadata": {},
   "source": [
    "Check leiden cluster and auto-annotated celltype"
   ]
  },
  {
   "cell_type": "code",
   "execution_count": null,
   "id": "2e1d7c35",
   "metadata": {},
   "outputs": [],
   "source": [
    "crosstab_data = adata.obs.groupby(['gpt_celltype', 'leiden_1_0']).size().unstack(fill_value=0)\n",
    "crosstab_data.to_csv('Results/05.celltype_annotation/automated_annotation_leiden_1_0_crosstab.csv', index=True)"
   ]
  },
  {
   "cell_type": "markdown",
   "id": "00fbd729",
   "metadata": {},
   "source": [
    "#### Save AnnData object with automated celltype annotation"
   ]
  },
  {
   "cell_type": "code",
   "execution_count": null,
   "id": "c321c3bb",
   "metadata": {},
   "outputs": [],
   "source": [
    "adata = adata.raw.to_adata() # This recovers the raw count data in adata.X"
   ]
  },
  {
   "cell_type": "code",
   "execution_count": null,
   "id": "b5b12d37",
   "metadata": {},
   "outputs": [],
   "source": [
    "adata"
   ]
  },
  {
   "cell_type": "code",
   "execution_count": null,
   "id": "623b8f51",
   "metadata": {},
   "outputs": [],
   "source": [
    "print(np.min(adata.X), np.max(adata.X))"
   ]
  },
  {
   "cell_type": "code",
   "execution_count": null,
   "id": "07466032",
   "metadata": {},
   "outputs": [],
   "source": [
    "adata.write_h5ad(\"Processed Data/scRNA_Reclustering_AutoAnnotation.h5ad\")"
   ]
  },
  {
   "cell_type": "markdown",
   "id": "6d2769ce",
   "metadata": {},
   "source": [
    "\n",
    "**<span style=\"font-size:16px;\">Session information：</span>**"
   ]
  },
  {
   "cell_type": "code",
   "execution_count": null,
   "id": "2de0aef8",
   "metadata": {
    "ExecuteTime": {
     "end_time": "2023-08-08T07:50:46.827841Z",
     "start_time": "2023-08-08T07:50:44.835552Z"
    },
    "execution": {
     "iopub.execute_input": "2024-05-03T09:12:46.668430Z",
     "iopub.status.busy": "2024-05-03T09:12:46.668112Z",
     "iopub.status.idle": "2024-05-03T09:12:46.674393Z",
     "shell.execute_reply": "2024-05-03T09:12:46.673240Z",
     "shell.execute_reply.started": "2024-05-03T09:12:46.668411Z"
    },
    "tags": []
   },
   "outputs": [],
   "source": [
    "import sys\n",
    "import platform\n",
    "import pkg_resources\n",
    "\n",
    "# Get Python version information\n",
    "python_version = sys.version\n",
    "# Get operating system information\n",
    "os_info = platform.platform()\n",
    "# Get system architecture information\n",
    "architecture = platform.architecture()[0]\n",
    "# Get CPU information\n",
    "cpu_info = platform.processor()\n",
    "# Print Session information\n",
    "print(\"Python version:\", python_version)\n",
    "print(\"Operating system:\", os_info)\n",
    "print(\"System architecture:\", architecture)\n",
    "print(\"CPU info:\", cpu_info)\n",
    "\n",
    "# Print imported packages and their versions\n",
    "print(\"\\nImported packages and their versions:\")\n",
    "for package in pkg_resources.working_set:\n",
    "    print(package.key, package.version)"
   ]
  }
 ],
 "metadata": {
  "kernelspec": {
   "display_name": "npc_env",
   "language": "python",
   "name": "python3"
  },
  "language_info": {
   "codemirror_mode": {
    "name": "ipython",
    "version": 3
   },
   "file_extension": ".py",
   "mimetype": "text/x-python",
   "name": "python",
   "nbconvert_exporter": "python",
   "pygments_lexer": "ipython3",
   "version": "3.10.13"
  },
  "toc": {
   "base_numbering": 1,
   "nav_menu": {},
   "number_sections": true,
   "sideBar": true,
   "skip_h1_title": false,
   "title_cell": "Table of Contents",
   "title_sidebar": "Contents",
   "toc_cell": false,
   "toc_position": {},
   "toc_section_display": true,
   "toc_window_display": false
  }
 },
 "nbformat": 4,
 "nbformat_minor": 5
}
