{
 "cells": [
  {
   "cell_type": "markdown",
   "metadata": {},
   "source": [
    "### Calculate stemness index (mRNAsi)"
   ]
  },
  {
   "cell_type": "code",
   "execution_count": null,
   "metadata": {
    "vscode": {
     "languageId": "r"
    }
   },
   "outputs": [],
   "source": [
    "# Loading Packages\n",
    "library(Seurat)\n",
    "#library(ReactomePA)\n",
    "# library(org.Hs.eg.db)\n",
    "library(ggplot2)\n",
    "library(ggrepel)\n",
    "library(ggpubr)\n",
    "library(readxl)\n",
    "library(survival)\n",
    "library(survminer)\n",
    "library(Publish)\n",
    "\n",
    "setwd(\"/media/bio/Disk/Research Data/EBV/omicverse\")\n",
    "options(future.globals.maxSize = 100 * 1024^3)  # 10 GB\n",
    "\n",
    "options(Seurat.object.assay.version = \"v3\")\n",
    "\n",
    "Sys.setenv(LANGUAGE = \"en\")"
   ]
  },
  {
   "cell_type": "code",
   "execution_count": null,
   "metadata": {
    "vscode": {
     "languageId": "r"
    }
   },
   "outputs": [],
   "source": [
    "# library(sceasy)\n",
    "# use_condaenv('npc_env')\n",
    "               \n",
    "# sceasy::convertFormat('Processed Data/scRNA_Epi_CNV_Traj.h5ad', from=\"anndata\", to=\"seurat\",\n",
    "#                       outFile='Processed Data/scRNA_Epi_CNV_Traj.rds')"
   ]
  },
  {
   "cell_type": "code",
   "execution_count": null,
   "metadata": {
    "vscode": {
     "languageId": "r"
    }
   },
   "outputs": [],
   "source": [
    "scRNA_Epi_CNV_Traj <- readRDS('Processed Data/scRNA_Epi_CNV_Traj.rds')\n",
    "colnames(scRNA_Epi_CNV_Traj@meta.data)"
   ]
  },
  {
   "cell_type": "code",
   "execution_count": null,
   "metadata": {
    "vscode": {
     "languageId": "r"
    }
   },
   "outputs": [],
   "source": [
    "scRNA_Epi_CNV_Traj_exp=GetAssayData(subset(scRNA_Epi_CNV_Traj),slot='counts')\n",
    "scRNA_Epi_CNV_Traj_exp[1:5, 1:5]"
   ]
  },
  {
   "cell_type": "code",
   "execution_count": null,
   "metadata": {
    "vscode": {
     "languageId": "r"
    }
   },
   "outputs": [],
   "source": [
    "predict.mRNAsi <- function(exp, modelPath='model.rda') {\n",
    "  load(modelPath)\n",
    "  common <- intersect(names(model.RNA$w), rownames(exp))\n",
    "  X <- exp[common, ]\n",
    "  w <- model.RNA$w[common]\n",
    "  \n",
    "  mRNAsi <- apply(X, 2, function(z) {cor(z, w, method=\"sp\", use=\"complete.obs\")})\n",
    "  mRNAsi <- mRNAsi - min(mRNAsi)\n",
    "  mRNAsi <- mRNAsi / max(mRNAsi)\n",
    "}"
   ]
  },
  {
   "cell_type": "code",
   "execution_count": null,
   "metadata": {
    "vscode": {
     "languageId": "r"
    }
   },
   "outputs": [],
   "source": [
    "scRNA_Epi_mRNAsi <- predict.mRNAsi(scRNA_Epi_CNV_Traj_exp, 'Dataset/mRNAsi/model.rda')\n",
    "head(scRNA_Epi_mRNAsi)"
   ]
  },
  {
   "cell_type": "code",
   "execution_count": null,
   "metadata": {
    "vscode": {
     "languageId": "r"
    }
   },
   "outputs": [],
   "source": [
    "scRNA_Epi_mRNAsi <- data.frame(scRNA_Epi_mRNAsi)\n",
    "scRNA_Epi_mRNAsi$CellID <- rownames(scRNA_Epi_mRNAsi)\n",
    "\n",
    "df <- scRNA_Epi_CNV_Traj@meta.data\n",
    "df$CellID <- rownames(df)\n",
    "\n",
    "df_scRNA_Epi_mRNAsi <-  merge(x = scRNA_Epi_mRNAsi, y = df, by = \"CellID\", all = TRUE)\n",
    "head(df_scRNA_Epi_mRNAsi)"
   ]
  },
  {
   "cell_type": "code",
   "execution_count": null,
   "metadata": {
    "vscode": {
     "languageId": "r"
    }
   },
   "outputs": [],
   "source": [
    "df_scRNA_Epi_mRNAsi$Epi_celltype <- factor(df_scRNA_Epi_mRNAsi$Epi_celltype, levels = c('Normal ECs', 'EBV- ECs', 'EBV+ ECs', 'EBV- CCs', 'EBV+ CCs'))"
   ]
  },
  {
   "cell_type": "code",
   "execution_count": null,
   "metadata": {
    "vscode": {
     "languageId": "r"
    }
   },
   "outputs": [],
   "source": [
    "library(compareGroups)\n",
    "table <- compareGroups(Epi_celltype~scRNA_Epi_mRNAsi+pt_via+CytoTRACE2_Score, data=df_scRNA_Epi_mRNAsi, method=4)\n",
    "export_table <- createTable(table,digits.p = 3, show.all=T)\n",
    "export_table"
   ]
  },
  {
   "cell_type": "code",
   "execution_count": null,
   "metadata": {
    "vscode": {
     "languageId": "r"
    }
   },
   "outputs": [],
   "source": [
    "ggviolin1 <- ggviolin(df_scRNA_Epi_mRNAsi,\n",
    "                     x = \"Epi_celltype\", \n",
    "                     y = \"cnv_score\",\n",
    "                     xlab = \"\",\n",
    "                     ylab = \"CNV Score\",\n",
    "                     color = \"Epi_celltype\", \n",
    "                     palette = \"jama\",\n",
    "                     add = c(\"boxplot\"), \n",
    "                     shape = \"Epi_celltype\" \n",
    ") + \n",
    "  stat_compare_means(comparisons = list(c('EBV- ECs','Normal ECs'), c('EBV+ ECs','Normal ECs'), c('EBV- CCs','EBV- ECs'), c('EBV+ CCs','EBV+ ECs')), \n",
    "                     method = \"wilcox.test\", label = \"p.format\", label.y = c(0.1,0.15,0.2,0.25)) +\n",
    "    theme(legend.position = \"none\", \n",
    "        axis.text.x = element_text(angle = 45, hjust = 1)) \n",
    "\n",
    "ggviolin1\n",
    "\n",
    "ggsave(\"Results/06.Epithelial/CNV_score_Epi_celltype.pdf\", ggviolin1, width = 6, height = 5, units = c(\"in\"), dpi = 300, limitsize = TRUE)"
   ]
  },
  {
   "cell_type": "code",
   "execution_count": null,
   "metadata": {
    "vscode": {
     "languageId": "r"
    }
   },
   "outputs": [],
   "source": [
    "ggviolin1 <- ggviolin(df_scRNA_Epi_mRNAsi,\n",
    "                     x = \"Epi_celltype\", \n",
    "                     y = \"scRNA_Epi_mRNAsi\",\n",
    "                     xlab = \"\",\n",
    "                     ylab = \"mRNAsi\",\n",
    "                     color = \"Epi_celltype\", \n",
    "                     palette = \"jama\",\n",
    "                     add = c(\"boxplot\"), \n",
    "                     shape = \"Epi_celltype\" \n",
    ") + \n",
    "  stat_compare_means(comparisons = list(c('EBV- ECs','Normal ECs'),c('EBV+ ECs','Normal ECs'), c('EBV- CCs','Normal ECs'),  \n",
    "  c('EBV+ CCs','Normal ECs'), c('EBV+ ECs','EBV- ECs'), c('EBV+ CCs','EBV- CCs')), \n",
    "                     method = \"wilcox.test\", label = \"p.format\", label.y = c(0.5,0.6,0.7,0.8,0.9,1.0)) +\n",
    "    theme(legend.position = \"none\", \n",
    "        axis.text.x = element_text(angle = 45, hjust = 1))\n",
    "\n",
    "ggviolin1\n",
    "\n",
    "ggsave(\"Results/06.Epithelial/mRNAsi_Epi_celltype.pdf\", ggviolin1, width = 6, height = 5, units = c(\"in\"), dpi = 300, limitsize = TRUE)\n"
   ]
  },
  {
   "cell_type": "code",
   "execution_count": null,
   "metadata": {
    "vscode": {
     "languageId": "r"
    }
   },
   "outputs": [],
   "source": [
    "ggviolin2 <- ggviolin(df_scRNA_Epi_mRNAsi,\n",
    "                     x = \"Epi_celltype\", \n",
    "                     y = \"CytoTRACE2_Score\",\n",
    "                     xlab = \"\",\n",
    "                     ylab = \"CytoTRACE2 Score\",\n",
    "                     color = \"Epi_celltype\", \n",
    "                     palette = \"jama\",\n",
    "                     add = c(\"boxplot\"),\n",
    "                     shape = \"Epi_celltype\" \n",
    ") + stat_compare_means(comparisons = list(c('EBV- ECs','Normal ECs'),c('EBV+ ECs','Normal ECs'), c('EBV- CCs','Normal ECs'),  \n",
    "  c('EBV+ CCs','Normal ECs'), c('EBV+ ECs','EBV- ECs'), c('EBV+ CCs','EBV- CCs')), \n",
    "                     method = \"wilcox.test\", label = \"p.format\", label.y = c(0.45,0.5,0.55,0.6,0.65,0.7)) +\n",
    "    theme(legend.position = \"none\", \n",
    "        axis.text.x = element_text(angle = 45, hjust = 1)) \n",
    "\n",
    "ggviolin2\n",
    "\n",
    "ggsave(\"Results/06.Epithelial/CytoTRACE2_Score_Epi_celltype.pdf\", ggviolin2, width = 6, height = 5, units = c(\"in\"), dpi = 300, limitsize = TRUE)"
   ]
  },
  {
   "cell_type": "code",
   "execution_count": null,
   "metadata": {
    "vscode": {
     "languageId": "r"
    }
   },
   "outputs": [],
   "source": [
    "ggviolin3 <- ggviolin(df_scRNA_Epi_mRNAsi,\n",
    "                     x = \"Epi_celltype\", \n",
    "                     y = \"pt_via\",\n",
    "                     xlab = \"\",\n",
    "                     ylab = \"StaVia Pseudotime\",\n",
    "                     color = \"Epi_celltype\", \n",
    "                     palette = \"jama\",\n",
    "                     add = c(\"boxplot\"),\n",
    "                     shape = \"Epi_celltype\"\n",
    ") + stat_compare_means(comparisons = list(c('EBV- ECs','Normal ECs'),c('EBV+ ECs','Normal ECs'), c('EBV- CCs','Normal ECs'),  \n",
    "  c('EBV+ CCs','Normal ECs'), c('EBV+ ECs','EBV- ECs'), c('EBV+ CCs','EBV- CCs')), \n",
    "                     method = \"wilcox.test\", label = \"p.format\", label.y = c(0.2,0.4,0.6,0.8,1.0,1.2)) +\n",
    "    theme(legend.position = \"none\",\n",
    "        axis.text.x = element_text(angle = 0, hjust = 1))\n",
    "\n",
    "ggviolin3\n",
    "\n",
    "ggsave(\"Results/06.Epithelial/pt_via_Epi_celltype.pdf\", ggviolin3, width =8 , height = 3, units = c(\"in\"), dpi = 300, limitsize = TRUE)"
   ]
  },
  {
   "cell_type": "code",
   "execution_count": null,
   "metadata": {
    "vscode": {
     "languageId": "r"
    }
   },
   "outputs": [],
   "source": [
    "write.csv(df_scRNA_Epi_mRNAsi, \"Processed Data/df_scRNA_Epi_CNV_Traj_mRNAsi.csv\", row.names=FALSE)"
   ]
  },
  {
   "cell_type": "code",
   "execution_count": null,
   "metadata": {
    "vscode": {
     "languageId": "r"
    }
   },
   "outputs": [],
   "source": [
    "library(ggplot2)\n",
    "vocanol_Epi_data <- read_excel(\"Results/06.Epithelial/DEG_results.xlsx\", sheet = 1)\n",
    "head(vocanol_Epi_data)"
   ]
  },
  {
   "cell_type": "code",
   "execution_count": null,
   "metadata": {
    "vscode": {
     "languageId": "r"
    }
   },
   "outputs": [],
   "source": [
    "vocanol_Epi_data = subset(vocanol_Epi_data, ...1!='AC090498.1')\n",
    "vocanol_Epi_data = subset(vocanol_Epi_data, padj!='NA')\n",
    "head(vocanol_Epi_data)"
   ]
  },
  {
   "cell_type": "code",
   "execution_count": null,
   "metadata": {
    "vscode": {
     "languageId": "r"
    }
   },
   "outputs": [],
   "source": [
    "vocanol_Epi_data %>% arrange(padj) %>% head(30)"
   ]
  },
  {
   "cell_type": "code",
   "execution_count": null,
   "metadata": {
    "vscode": {
     "languageId": "r"
    }
   },
   "outputs": [],
   "source": [
    "library(ggrepel)\n",
    "library(dplyr)\n",
    "\n",
    "ggplot(vocanol_Epi_data, aes(log2FoldChange, -log10(padj))) +\n",
    "  geom_hline(yintercept = -log10(0.05), linetype = \"dashed\", color = \"#999999\") +\n",
    "  geom_vline(xintercept = c(-1.2, 1.2), linetype = \"dashed\", color = \"#999999\") +\n",
    "  geom_point(aes(size = -log10(padj), color = -log10(padj))) +\n",
    "  scale_color_gradientn(values = seq(0, 1, 0.2), \n",
    "                        colors = c(\"#39489f\", \"#39bbec\", \"#f9ed36\", \"#f38466\", \"#b81f25\")) +\n",
    "  scale_size_continuous(range = c(1, 3)) +\n",
    "  scale_x_continuous(limits = c(-5.5, 10.5), breaks = seq(-5, 10, by = 2.5)) + \n",
    "  theme_bw() +\n",
    "  theme(panel.grid = element_blank(),\n",
    "        legend.position = c(0.7, 0.9),\n",
    "        legend.justification = c(0, 1),\n",
    "        axis.title.x = element_text(size = 16),\n",
    "        axis.title.y = element_text(size = 16), \n",
    "        axis.text.x = element_text(size = 14), \n",
    "        axis.text.y = element_text(size = 14)\n",
    "  ) +\n",
    "  guides(col = guide_colourbar(title = \"-Log10 q-value\"), size = \"none\") +\n",
    "  geom_text_repel(data = vocanol_Epi_data %>% arrange(padj) %>% head(30),\n",
    "                  aes(label = ...1, color = -log10(padj)), \n",
    "                  size = 3, max.overlaps = 50) +\n",
    "  xlab(\"Log2FC\") +\n",
    "  ylab(\"-Log10(q-value)\")\n",
    "\n",
    "ggsave(\"Results/06.Epithelial/06.Epithelial_DEG_VacanoPlot.pdf\", height = 4, width = 5)"
   ]
  }
 ],
 "metadata": {
  "kernelspec": {
   "display_name": "NPC_Renv",
   "language": "R",
   "name": "npc_renv"
  },
  "language_info": {
   "codemirror_mode": "r",
   "file_extension": ".r",
   "mimetype": "text/x-r-source",
   "name": "R",
   "pygments_lexer": "r",
   "version": "4.4.2"
  }
 },
 "nbformat": 4,
 "nbformat_minor": 2
}
