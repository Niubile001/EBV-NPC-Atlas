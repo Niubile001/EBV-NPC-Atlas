{
 "cells": [
  {
   "cell_type": "markdown",
   "id": "1d6938a4",
   "metadata": {},
   "source": [
    "## 06_2. Consensus Non-negative Matrix factorization (cNMF)\n",
    "\n",
    "<div style=\"text-align: left;\">\n",
    "    <p style=\"text-align: left;\">Updated Time: 2025-02-13</p>\n",
    "</div>"
   ]
  },
  {
   "cell_type": "markdown",
   "id": "ff98409a",
   "metadata": {},
   "source": [
    "cNMF is an analysis pipeline for inferring gene expression programs from single-cell RNA-Seq (scRNA-Seq) data.\n",
    "\n",
    "It takes a count matrix (N cells X G genes) as input and produces a (K x G) matrix of gene expression programs (GEPs) and a (N x K) matrix specifying the usage of each program for each cell in the data. You can read more about the method in the github and check out examples on dentategyrus."
   ]
  },
  {
   "cell_type": "code",
   "execution_count": null,
   "id": "0048aeb9",
   "metadata": {},
   "outputs": [],
   "source": [
    "import os\n",
    "import sys\n",
    "import numpy as np\n",
    "import pandas as pd\n",
    "import scanpy as sc\n",
    "import omicverse as ov\n",
    "from omicverse.externel import VIA\n",
    "\n",
    "import matplotlib.pyplot as plt\n",
    "ov.plot_set()\n",
    "\n",
    "import warnings\n",
    "warnings.simplefilter(\"ignore\")"
   ]
  },
  {
   "cell_type": "markdown",
   "id": "42790b53",
   "metadata": {},
   "source": [
    "##### Set working directory for analysis"
   ]
  },
  {
   "cell_type": "code",
   "execution_count": null,
   "id": "0430667e",
   "metadata": {},
   "outputs": [],
   "source": [
    "cwd = '/media/bio/Disk/Research Data/EBV/omicverse'\n",
    "os.chdir(cwd)\n",
    "updated_dir = os.getcwd()\n",
    "print(\"Updated working directory: \", updated_dir)"
   ]
  },
  {
   "cell_type": "markdown",
   "id": "d925d601",
   "metadata": {},
   "source": [
    "#### Reading in annotated AnnData object"
   ]
  },
  {
   "cell_type": "code",
   "execution_count": null,
   "id": "d517a8ca",
   "metadata": {},
   "outputs": [],
   "source": [
    "adata_epi = sc.read_h5ad(\"Processed Data/scRNA_Epi_CNV_Traj.h5ad\")\n",
    "adata_epi"
   ]
  },
  {
   "cell_type": "code",
   "execution_count": null,
   "id": "bbe6b636",
   "metadata": {},
   "outputs": [],
   "source": [
    "for i in adata_epi.obs['Epi_celltype'].cat.categories:\n",
    "  number = len(adata_epi.obs[adata_epi.obs['Epi_celltype']==i])\n",
    "  print('the number of category {} is {}'.format(i,number))"
   ]
  },
  {
   "cell_type": "code",
   "execution_count": null,
   "id": "df00788d",
   "metadata": {},
   "outputs": [],
   "source": [
    "adata_epi.layers['counts']=adata_epi.X\n",
    "print(np.min(adata_epi.layers['counts']), np.max(adata_epi.layers['counts']))"
   ]
  },
  {
   "cell_type": "code",
   "execution_count": null,
   "id": "19718b7a",
   "metadata": {},
   "outputs": [],
   "source": [
    "ov.utils.embedding(adata_epi,basis='X_umap',\n",
    "                   color=['Epi_celltype'],\n",
    "                   frameon='small',cmap='Reds',wspace=0.55)"
   ]
  },
  {
   "cell_type": "markdown",
   "id": "536cdea3",
   "metadata": {},
   "source": [
    "##### Preprocess data\n"
   ]
  },
  {
   "cell_type": "code",
   "execution_count": null,
   "id": "4f5e27df",
   "metadata": {},
   "outputs": [],
   "source": [
    "adata_epi=ov.pp.preprocess(adata_epi,mode='shiftlog|pearson',n_HVGs=2000)\n",
    "adata_epi = adata_epi[:, adata_epi.var.highly_variable_features]\n",
    "ov.pp.scale(adata_epi)\n",
    "ov.pp.pca(adata_epi,layer='scaled',n_pcs=50)"
   ]
  },
  {
   "cell_type": "markdown",
   "id": "97c25db3-ebc8-495a-9a5f-7cf20a5c7b5a",
   "metadata": {},
   "source": [
    "## Initialize and Training model"
   ]
  },
  {
   "cell_type": "code",
   "execution_count": null,
   "id": "eb2ee50e-c69b-4f69-b70b-526a78bceb2f",
   "metadata": {
    "tags": []
   },
   "outputs": [],
   "source": [
    "## Initialize the cnmf object that will be used to run analyses\n",
    "cnmf_obj = ov.single.cNMF(adata_epi,components=np.arange(6,16), n_iter=100, seed=14, num_highvar_genes=2000, output_dir='Results/06.Epithelial/cNMF_Results', name='dg_cNMF')"
   ]
  },
  {
   "cell_type": "code",
   "execution_count": null,
   "id": "8a9d74eb-e86d-40f0-baa6-8a56b72e5a1a",
   "metadata": {
    "tags": []
   },
   "outputs": [],
   "source": [
    "## Specify that the jobs are being distributed over a single worker (total_workers=1) and then launch that worker\n",
    "cnmf_obj.factorize(worker_i=0, total_workers=1)"
   ]
  },
  {
   "cell_type": "code",
   "execution_count": null,
   "id": "793531b9-eb2a-4df3-9031-a7885c0079b0",
   "metadata": {
    "tags": []
   },
   "outputs": [],
   "source": [
    "cnmf_obj.combine(skip_missing_files=True)"
   ]
  },
  {
   "cell_type": "markdown",
   "id": "e82c5830-66fc-4095-ae86-d252525a8378",
   "metadata": {},
   "source": [
    "## Compute the stability and error at each choice of K to see if a clear choice jumps out.\n",
    "\n",
    "Please note that the maximum stability solution is not always the best choice depending on the application. However it is often a good starting point even if you have to investigate several choices of K"
   ]
  },
  {
   "cell_type": "code",
   "execution_count": null,
   "id": "c35139a4-5143-4009-ac35-2249d50e700e",
   "metadata": {
    "tags": []
   },
   "outputs": [],
   "source": [
    "cnmf_obj.k_selection_plot(close_fig=False)"
   ]
  },
  {
   "cell_type": "markdown",
   "id": "b78268b7-38da-420a-a806-42c79980f767",
   "metadata": {},
   "source": [
    "In this range, K=10 gave the most stable solution so we will begin by looking at that.\n",
    "\n",
    "The next step computes the consensus solution for a given choice of K. We first run it without any outlier filtering to see what that looks like. Setting the density threshold to anything >= 2.00 (the maximum possible distance between two unit vectors) ensures that nothing will be filtered.\n",
    "\n",
    "Then we run the consensus with a filter for outliers determined based on inspecting the histogram of distances between components and their nearest neighbors"
   ]
  },
  {
   "cell_type": "code",
   "execution_count": null,
   "id": "02ca94dc-cb54-4c6a-a700-d67c67984579",
   "metadata": {
    "tags": []
   },
   "outputs": [],
   "source": [
    "selected_K = 10\n",
    "density_threshold = 2.00"
   ]
  },
  {
   "cell_type": "code",
   "execution_count": null,
   "id": "5c5f1b3c-e5f1-43b8-aa1b-fcd802e8b0df",
   "metadata": {
    "tags": []
   },
   "outputs": [],
   "source": [
    "cnmf_obj.consensus(k=selected_K, \n",
    "                   density_threshold=density_threshold, \n",
    "                   show_clustering=True, \n",
    "                   close_clustergram_fig=False)"
   ]
  },
  {
   "cell_type": "markdown",
   "id": "d1a8b218-44f8-4454-9925-3ea28a348def",
   "metadata": {},
   "source": [
    "The above consensus plot shows that there is a substantial degree of concordance between the replicates with a few outliers. An outlier threshold of 0.1 seems appropriate"
   ]
  },
  {
   "cell_type": "code",
   "execution_count": null,
   "id": "04255612-756f-4ea4-84ce-d7abfea18a57",
   "metadata": {
    "tags": []
   },
   "outputs": [],
   "source": [
    "density_threshold = 0.1"
   ]
  },
  {
   "cell_type": "code",
   "execution_count": null,
   "id": "84e88e60-859d-4247-a3fe-5a6bebe1efd7",
   "metadata": {
    "tags": []
   },
   "outputs": [],
   "source": [
    "cnmf_obj.consensus(k=selected_K, \n",
    "                   density_threshold=density_threshold, \n",
    "                   show_clustering=True, \n",
    "                   close_clustergram_fig=False)"
   ]
  },
  {
   "cell_type": "markdown",
   "id": "9f42b265-5567-43f0-9e2c-4b259fcf4c49",
   "metadata": {},
   "source": [
    "## Visualization the result"
   ]
  },
  {
   "cell_type": "code",
   "execution_count": null,
   "id": "971acae9-6f12-476d-8cfe-7a7719b1c6fa",
   "metadata": {
    "tags": []
   },
   "outputs": [],
   "source": [
    "import seaborn as sns\n",
    "import matplotlib.pyplot as plt\n",
    "from matplotlib import patheffects\n",
    "\n",
    "from matplotlib import gridspec\n",
    "import matplotlib.pyplot as plt\n",
    "\n",
    "width_ratios = [0.2, 4, 0.5, 10, 1]\n",
    "height_ratios = [0.2, 4]\n",
    "fig = plt.figure(figsize=(sum(width_ratios), sum(height_ratios)))\n",
    "gs = gridspec.GridSpec(len(height_ratios), len(width_ratios), fig,\n",
    "                        0.01, 0.01, 0.98, 0.98,\n",
    "                       height_ratios=height_ratios,\n",
    "                       width_ratios=width_ratios,\n",
    "                       wspace=0, hspace=0)\n",
    "            \n",
    "D = cnmf_obj.topic_dist[cnmf_obj.spectra_order, :][:, cnmf_obj.spectra_order]\n",
    "dist_ax = fig.add_subplot(gs[1,1], xscale='linear', yscale='linear',\n",
    "                                      xticks=[], yticks=[],xlabel='', ylabel='',\n",
    "                                      frameon=True)\n",
    "dist_im = dist_ax.imshow(D, interpolation='none', cmap='magma',\n",
    "                         aspect='auto', rasterized=True)\n",
    "\n",
    "left_ax = fig.add_subplot(gs[1,0], xscale='linear', yscale='linear', xticks=[], yticks=[],\n",
    "                xlabel='', ylabel='', frameon=True)\n",
    "left_ax.imshow(cnmf_obj.kmeans_cluster_labels.values[cnmf_obj.spectra_order].reshape(-1, 1),\n",
    "                            interpolation='none', cmap='Spectral', aspect='auto',\n",
    "                            rasterized=True)\n",
    "\n",
    "top_ax = fig.add_subplot(gs[0,1], xscale='linear', yscale='linear', xticks=[], yticks=[],\n",
    "                xlabel='', ylabel='', frameon=True)\n",
    "top_ax.imshow(cnmf_obj.kmeans_cluster_labels.values[cnmf_obj.spectra_order].reshape(1, -1),\n",
    "                  interpolation='none', cmap='Spectral', aspect='auto',\n",
    "                    rasterized=True)\n",
    "\n",
    "cbar_gs = gridspec.GridSpecFromSubplotSpec(3, 3, subplot_spec=gs[1, 2],\n",
    "                                   wspace=0, hspace=0)\n",
    "cbar_ax = fig.add_subplot(cbar_gs[1,2], xscale='linear', yscale='linear',\n",
    "    xlabel='', ylabel='', frameon=True, title='Euclidean\\nDistance')\n",
    "cbar_ax.set_title('Euclidean\\nDistance',fontsize=12)\n",
    "vmin = D.min().min()\n",
    "vmax = D.max().max()\n",
    "fig.colorbar(dist_im, cax=cbar_ax,\n",
    "        ticks=np.linspace(vmin, vmax, 3),\n",
    "        )\n",
    "cbar_ax.set_yticklabels(cbar_ax.get_yticklabels(),fontsize=12)\n",
    "\n",
    "# Save to PDF\n",
    "fig.savefig(\"Results/06.Epithelial/cNMF_Results/cnmf_clustergram.pdf\", format='pdf', bbox_inches='tight')"
   ]
  },
  {
   "cell_type": "code",
   "execution_count": null,
   "id": "54b5ad9f-fce7-4a20-8bbc-37ecec42ff6c",
   "metadata": {
    "tags": []
   },
   "outputs": [],
   "source": [
    "density_filter = cnmf_obj.local_density.iloc[:, 0] < density_threshold\n",
    "fig, hist_ax = plt.subplots(figsize=(5,5))\n",
    "\n",
    "#hist_ax = fig.add_subplot(hist_gs[0,0], xscale='linear', yscale='linear',\n",
    " #   xlabel='', ylabel='', frameon=True, title='Local density histogram')\n",
    "hist_ax.hist(cnmf_obj.local_density.values, bins=np.linspace(0, 1, 50))\n",
    "hist_ax.yaxis.tick_right()\n",
    "\n",
    "xlim = hist_ax.get_xlim()\n",
    "ylim = hist_ax.get_ylim()\n",
    "if density_threshold < xlim[1]:\n",
    "    hist_ax.axvline(density_threshold, linestyle='--', color='k')\n",
    "    hist_ax.text(density_threshold  + 0.02, ylim[1] * 0.95, 'filtering\\nthreshold\\n\\n', va='top')\n",
    "hist_ax.set_xlim(xlim)\n",
    "hist_ax.set_xlabel('Mean distance to k nearest neighbors\\n\\n%d/%d (%.0f%%) spectra above threshold\\nwere removed prior to clustering'%(sum(~density_filter), len(density_filter), 100*(~density_filter).mean()))\n",
    "hist_ax.set_title('Local density histogram')\n",
    "\n",
    "# Save to PDF\n",
    "fig.savefig(\"Results/06.Epithelial/cNMF_Results/cnmf_local_density_histogram.pdf\", format='pdf', bbox_inches='tight')"
   ]
  },
  {
   "cell_type": "markdown",
   "id": "7fcb144f-b6da-4269-a30b-213fbc8e45e9",
   "metadata": {},
   "source": [
    "## Explode the cNMF result\n",
    "\n",
    "We can load the results for a cNMF run with a given K and density filtering threshold like below"
   ]
  },
  {
   "cell_type": "code",
   "execution_count": null,
   "id": "68eed1ef-d63f-4276-a8cb-6bb86ce2edc6",
   "metadata": {
    "tags": []
   },
   "outputs": [],
   "source": [
    "result_dict = cnmf_obj.load_results(K=selected_K, density_threshold=density_threshold)\n"
   ]
  },
  {
   "cell_type": "code",
   "execution_count": null,
   "id": "bdc33286-ebb0-464c-ab9f-e95148342c6e",
   "metadata": {
    "tags": []
   },
   "outputs": [],
   "source": [
    "result_dict['usage_norm'].head()"
   ]
  },
  {
   "cell_type": "code",
   "execution_count": null,
   "id": "d2225a95-68f7-4282-bdf1-531857e0510f",
   "metadata": {
    "tags": []
   },
   "outputs": [],
   "source": [
    "result_dict['gep_scores'].head()"
   ]
  },
  {
   "cell_type": "code",
   "execution_count": null,
   "id": "9bd72ede-0fa7-44e2-b422-5fec415c4918",
   "metadata": {
    "tags": []
   },
   "outputs": [],
   "source": [
    "result_dict['gep_tpm'].head()"
   ]
  },
  {
   "cell_type": "code",
   "execution_count": null,
   "id": "a0851d14-7577-4fc4-b307-ae7b4360126d",
   "metadata": {
    "tags": []
   },
   "outputs": [],
   "source": [
    "result_dict['top_genes'].head()"
   ]
  },
  {
   "cell_type": "markdown",
   "id": "59cc81c0-88f9-4052-9f22-2d13f99544fc",
   "metadata": {},
   "source": [
    "We can extract cell classes directly based on the highest cNMF in each cell, but this has the disadvantage that it will lead to mixed cell classes if the heterogeneity of our data is not as strong as it should be."
   ]
  },
  {
   "cell_type": "code",
   "execution_count": null,
   "id": "e9e7876d-7d62-4f4b-a3cd-afb13083ddd5",
   "metadata": {
    "tags": []
   },
   "outputs": [],
   "source": [
    "cnmf_obj.get_results(adata_epi,result_dict)"
   ]
  },
  {
   "cell_type": "code",
   "execution_count": null,
   "id": "858a1691-47eb-4e73-916d-0322ec69a3fa",
   "metadata": {
    "tags": []
   },
   "outputs": [],
   "source": [
    "sc.settings.figdir = \"Results/06.Epithelial/cNMF\"\n",
    "\n",
    "ov.pl.embedding(adata_epi, basis='X_umap', color=result_dict['usage_norm'].columns,\n",
    "                use_raw=False, ncols=5, vmin=0, vmax=1, frameon='small', save=\"_cnmf.pdf\")\n"
   ]
  },
  {
   "cell_type": "code",
   "execution_count": null,
   "id": "bef7c04a-c456-4a1d-9eb8-e806ed892c53",
   "metadata": {
    "tags": []
   },
   "outputs": [],
   "source": [
    "ov.pl.embedding(\n",
    "    adata_epi,\n",
    "    basis=\"X_umap\",\n",
    "    color=['cNMF_cluster'],\n",
    "    frameon='small',\n",
    "    #title=\"Celltypes\",\n",
    "    #legend_loc='on data',\n",
    "    legend_fontsize=14,\n",
    "    legend_fontoutline=2,\n",
    "    #size=10,\n",
    "    #legend_loc=True, \n",
    "    add_outline=False, \n",
    "    #add_outline=True,\n",
    "    outline_color='black',\n",
    "    outline_width=1,\n",
    "    show=False,\n",
    ")"
   ]
  },
  {
   "cell_type": "markdown",
   "id": "905b53dd-5d85-466e-a4b2-e5161363e1ac",
   "metadata": {},
   "source": [
    "Here we are, proposing another idea of categorisation. We use cells with cNMF greater than 0.5 as a primitive class, and then train a random forest classification model, and then use the random forest classification model to classify cells with cNMF less than 0.5 to get a more accurate"
   ]
  },
  {
   "cell_type": "code",
   "execution_count": null,
   "id": "2cabfe5c-db2f-4427-8641-9a607c433814",
   "metadata": {
    "tags": []
   },
   "outputs": [],
   "source": [
    "cnmf_obj.get_results_rfc(adata_epi,result_dict,\n",
    "                         use_rep='scaled|original|X_pca',\n",
    "                        cNMF_threshold=0.5)"
   ]
  },
  {
   "cell_type": "code",
   "execution_count": null,
   "id": "586574e4-5cc7-400e-bf1d-2005812f1703",
   "metadata": {
    "tags": []
   },
   "outputs": [],
   "source": [
    "ov.pl.embedding(\n",
    "    adata_epi,\n",
    "    basis=\"X_umap\",\n",
    "    color=['cNMF_cluster_rfc','cNMF_cluster_clf'],\n",
    "    frameon='small',\n",
    "    #title=\"Celltypes\",\n",
    "    #legend_loc='on data',\n",
    "    legend_fontsize=14,\n",
    "    legend_fontoutline=2,\n",
    "    #size=10,\n",
    "    #legend_loc=True, \n",
    "    add_outline=False, \n",
    "    #add_outline=True,\n",
    "    outline_color='black',\n",
    "    outline_width=1,\n",
    "    show=False,\n",
    ")"
   ]
  },
  {
   "cell_type": "code",
   "execution_count": null,
   "id": "cec7fd64",
   "metadata": {},
   "outputs": [],
   "source": [
    "result_dict['top_genes'].head(10)"
   ]
  },
  {
   "cell_type": "code",
   "execution_count": null,
   "id": "a8e439a6-5365-4070-ab94-9a82e674f6d7",
   "metadata": {
    "tags": []
   },
   "outputs": [],
   "source": [
    "plot_genes=[]\n",
    "for i in result_dict['top_genes'].columns:\n",
    "    plot_genes+=result_dict['top_genes'][i][:5].values.reshape(-1).tolist()"
   ]
  },
  {
   "cell_type": "code",
   "execution_count": null,
   "id": "17eb0ca6-917c-446f-ac9e-61e0de5977b3",
   "metadata": {
    "tags": []
   },
   "outputs": [],
   "source": [
    "sc.pl.dotplot(adata_epi,plot_genes, \"cNMF_cluster_rfc\", dendrogram=False,standard_scale='var',)"
   ]
  },
  {
   "cell_type": "code",
   "execution_count": null,
   "id": "f4432cb7",
   "metadata": {},
   "outputs": [],
   "source": [
    "import matplotlib.pyplot as plt\n",
    "import scanpy as sc\n",
    "\n",
    "keys = ['cNMF_2', 'cNMF_3', 'cNMF_4', 'cNMF_5', 'cNMF_6', 'cNMF_7', 'cNMF_8', 'cNMF_9', 'cNMF_10']\n",
    "ncols = 3\n",
    "nrows = (len(keys) + ncols - 1) // ncols \n",
    "\n",
    "fig, axes = plt.subplots(nrows=nrows, ncols=ncols, figsize=(ncols * 4, nrows * 4))\n",
    "axes = axes.flatten() \n",
    "\n",
    "for i, key in enumerate(keys):\n",
    "    sc.pl.violin(\n",
    "        adata_epi,\n",
    "        keys=key,\n",
    "        groupby='Epi_celltype',\n",
    "        stripplot=False,\n",
    "        inner='box',\n",
    "        rotation=45,\n",
    "        ax=axes[i],\n",
    "        show=False\n",
    "    )\n",
    "    \n",
    "for j in range(len(keys), len(axes)):\n",
    "    fig.delaxes(axes[j])\n",
    "\n",
    "plt.tight_layout()\n",
    "plt.savefig(\"Results/06.Epithelial/cNMF_Results/cNMF2_to_10_violin_combined.pdf\", dpi=300, bbox_inches='tight')\n",
    "plt.show()\n"
   ]
  },
  {
   "cell_type": "code",
   "execution_count": null,
   "id": "a004409b",
   "metadata": {},
   "outputs": [],
   "source": [
    "fig2, ax1 = plt.subplots(figsize=(4.5, 4))\n",
    "ov.pl.bardotplot(adata_epi, groupby='Epi_celltype', color='cNMF_1', figsize=(4, 4), \n",
    "                 ax=ax1,\n",
    "                 ylabel='Expression',\n",
    "                 bar_kwargs={'alpha': 0.5, 'linewidth': 2, 'width': 0.6, 'capsize': 4},\n",
    "                 scatter_kwargs={'alpha': 0.8, 's': 10, 'marker': '.'})\n",
    "\n",
    "ov.pl.add_palue(ax1, line_x1=0, line_x2=4, line_y=0.7,\n",
    "                text_y=0.02,\n",
    "                text='$p={}$'.format(round(0.001, 3)),\n",
    "                fontsize=12, fontcolor='#000000', \n",
    "                horizontalalignment='center')\n",
    "ov.pl.add_palue(ax1, line_x1=3, line_x2=4, line_y=0.6,\n",
    "                text_y=0.02,\n",
    "                text='$p={}$'.format(round(0.001, 3)),\n",
    "                fontsize=12, fontcolor='#000000', \n",
    "                horizontalalignment='center')\n",
    "ov.pl.add_palue(ax1, line_x1=1, line_x2=2, line_y=0.5,\n",
    "                text_y=0.02,\n",
    "                text='$p={}$'.format(round(0.001, 3)),\n",
    "                fontsize=12, fontcolor='#000000',\n",
    "                horizontalalignment='center')\n",
    "ax1.tick_params(axis='x', labelrotation=45, labelsize=12)\n",
    "ax1.set_ylabel('GEP1 Score', fontsize=12)\n",
    "ax1.set_title('')\n",
    "plt.tight_layout(pad=0.1)\n",
    "\n",
    "violin_file = 'Results/06.Epithelial/cNMF_Results/cNMF_1_Score_Violin_Plot.pdf'\n",
    "plt.savefig(violin_file, dpi=300, bbox_inches='tight')\n",
    "print(f\"Violin plot saved as: {violin_file}\")\n",
    "plt.show()\n",
    "plt.close()"
   ]
  },
  {
   "cell_type": "code",
   "execution_count": null,
   "id": "ff941a6a",
   "metadata": {},
   "outputs": [],
   "source": [
    "import os\n",
    "import matplotlib.pyplot as plt\n",
    "\n",
    "out_dir = \"Results/06.Epithelial/cNMF_Results\"\n",
    "os.makedirs(out_dir, exist_ok=True)\n",
    "\n",
    "geps = [f\"cNMF_{k}\" for k in range(2, 11)]\n",
    "\n",
    "for gep in geps:\n",
    "    fig, ax = plt.subplots(figsize=(4.5, 4))\n",
    "\n",
    "    ov.pl.violin(\n",
    "        adata_epi,\n",
    "        keys=gep,\n",
    "        groupby='Epi_celltype',\n",
    "        ax=ax,\n",
    "        rotation=45,     \n",
    "        stripplot=True,  \n",
    "        jitter=True\n",
    "    )\n",
    "\n",
    "    ax.set_ylabel(f'{gep.replace(\"cNMF_\", \"GEP\")} Score', fontsize=12)\n",
    "    ax.set_title('')\n",
    "    plt.tight_layout(pad=0.1)\n",
    "\n",
    "    out_file = os.path.join(out_dir, f'{gep}_Score_Violin_Plot.pdf')\n",
    "    plt.savefig(out_file, dpi=300, bbox_inches='tight')\n",
    "    print(f\"Saved: {out_file}\")\n",
    "    plt.close(fig)\n",
    "\n",
    "rows, cols = 3, 3\n",
    "fig, axes = plt.subplots(rows, cols, figsize=(4.5*cols, 4*rows))\n",
    "axes = axes.flatten()\n",
    "\n",
    "for i, gep in enumerate(geps):\n",
    "    ax = axes[i]\n",
    "\n",
    "    ov.pl.violin(\n",
    "        adata_epi,\n",
    "        keys=gep,\n",
    "        groupby='Epi_celltype',\n",
    "        ax=ax,\n",
    "        rotation=45,\n",
    "        stripplot=True,\n",
    "        jitter=True\n",
    "    )\n",
    "\n",
    "    ax.set_title(gep.replace(\"cNMF_\", \"GEP\"), fontsize=12)\n",
    "    ax.set_ylabel('')\n",
    "\n",
    "for j in range(len(geps), rows*cols):\n",
    "    fig.delaxes(axes[j])\n",
    "\n",
    "plt.tight_layout(pad=0.6, w_pad=0.6, h_pad=0.8)\n",
    "panel_file = os.path.join(out_dir, 'GEP2-10_Violin_Panel_3x3.pdf')\n",
    "plt.savefig(panel_file, dpi=300, bbox_inches='tight')\n",
    "print(f\"Panel saved: {panel_file}\")\n",
    "plt.show()\n",
    "plt.close(fig)\n"
   ]
  },
  {
   "cell_type": "code",
   "execution_count": null,
   "id": "cda726e6",
   "metadata": {},
   "outputs": [],
   "source": [
    "topgenes_df = pd.DataFrame(result_dict['top_genes'])"
   ]
  },
  {
   "cell_type": "code",
   "execution_count": null,
   "id": "599d1f98",
   "metadata": {},
   "outputs": [],
   "source": [
    "topgenes_df.head(10)"
   ]
  },
  {
   "cell_type": "code",
   "execution_count": null,
   "id": "86afd3bf",
   "metadata": {},
   "outputs": [],
   "source": [
    "topgenes_df.to_csv('Results/06.Epithelial/cNMF_Results/cNMF_topgenes_df.csv', index=False)"
   ]
  },
  {
   "cell_type": "code",
   "execution_count": null,
   "id": "7e69fb1a",
   "metadata": {},
   "outputs": [],
   "source": [
    "gep1 = topgenes_df[1].squeeze().str.strip().to_list()[:100]\n",
    "gep7 = topgenes_df[7].squeeze().str.strip().to_list()[:100]"
   ]
  },
  {
   "cell_type": "code",
   "execution_count": null,
   "id": "4f4efae9",
   "metadata": {},
   "outputs": [],
   "source": [
    "# %matplotlib inline\n",
    "# %config InlineBackend.figure_format='retina' # mac\n",
    "%load_ext autoreload\n",
    "%autoreload 2\n",
    "import pandas as pd\n",
    "import gseapy as gp\n",
    "import matplotlib.pyplot as plt"
   ]
  },
  {
   "cell_type": "code",
   "execution_count": null,
   "id": "e5dc87c5",
   "metadata": {},
   "outputs": [],
   "source": [
    "yeast = gp.get_library_name(organism='Human')\n",
    "yeast"
   ]
  },
  {
   "cell_type": "code",
   "execution_count": null,
   "id": "513ab0c2",
   "metadata": {},
   "outputs": [],
   "source": [
    "# Over-representation analysis via Enrichr web services\n",
    "# This is an Example of the Enrichr analysis\n",
    "# NOTE: 1. Enrichr Web Sevices need gene symbols as input 2. Gene symbols will convert to upcases automatically. 3. (Optional) Input an user defined background gene list\n",
    "\n",
    "# Enrichr Web Serives (without a backgound input)\n",
    "# if you are only intrested in dataframe that enrichr returned, please set outdir=None\n",
    "\n",
    "enr1 = gp.enrichr(gene_list=gep1, # or \"./tests/data/gene_list.txt\",\n",
    "                 gene_sets=['MSigDB_Hallmark_2020','KEGG_2021_Human'],\n",
    "                 organism='human', # don't forget to set organism to the one you desired! e.g. Yeast\n",
    "                 outdir=None, # don't write to disk\n",
    "                )\n",
    "\n",
    "enr7 = gp.enrichr(gene_list=gep7, # or \"./tests/data/gene_list.txt\",\n",
    "                 gene_sets=['MSigDB_Hallmark_2020','KEGG_2021_Human'],\n",
    "                 organism='human', # don't forget to set organism to the one you desired! e.g. Yeast\n",
    "                 outdir=None, # don't write to disk\n",
    "                )"
   ]
  },
  {
   "cell_type": "code",
   "execution_count": null,
   "id": "bca9a11c",
   "metadata": {},
   "outputs": [],
   "source": [
    "# obj.results stores all results\n",
    "enr1.results.head(10)"
   ]
  },
  {
   "cell_type": "code",
   "execution_count": null,
   "id": "59a3bf31",
   "metadata": {},
   "outputs": [],
   "source": [
    "# simple plotting function\n",
    "from gseapy import barplot, dotplot"
   ]
  },
  {
   "cell_type": "code",
   "execution_count": null,
   "id": "fe8583aa",
   "metadata": {},
   "outputs": [],
   "source": [
    "# categorical scatterplot\n",
    "ax1 = dotplot(enr1.results,\n",
    "              column=\"P-value\",\n",
    "              x='Gene_set', # set x axis, so you could do a multi-sample/library comparsion\n",
    "              size=20,\n",
    "              top_term=5,\n",
    "              cmap = \"magma\",\n",
    "              figsize=(3,5),\n",
    "              title = \"GEP1\",\n",
    "              xticklabels_rot=45, # rotate xtick labels\n",
    "              show_ring=True, # set to False to revmove outer ring\n",
    "              marker='o',\n",
    "             )"
   ]
  },
  {
   "cell_type": "code",
   "execution_count": null,
   "id": "d1b4e9a5",
   "metadata": {},
   "outputs": [],
   "source": [
    "# categorical scatterplot\n",
    "ax1 = barplot(enr1.results,\n",
    "              column=\"P-value\",\n",
    "              group='Gene_set', # set group, so you could do a multi-sample/library comparsion\n",
    "              size=10,\n",
    "              top_term=5,\n",
    "              title = \"GEP1\",\n",
    "              figsize=(3,5),\n",
    "              color=['darkred', 'darkblue'] # set colors for group\n",
    "              # color = {'KEGG_2021_Human': 'salmon', 'MSigDB_Hallmark_2020':'darkblue'}\n",
    "             )\n",
    "\n",
    "plt.tight_layout()\n",
    "plt.savefig(\"Results/06.Epithelial/cNMF_Results/GEP1_barplot.pdf\", format='pdf', bbox_inches='tight', dpi=300)\n",
    "\n",
    "plt.show()\n",
    "plt.close()"
   ]
  },
  {
   "cell_type": "code",
   "execution_count": null,
   "id": "44d55260",
   "metadata": {},
   "outputs": [],
   "source": [
    "# categorical scatterplot\n",
    "ax1 = barplot(enr7.results,\n",
    "              column=\"P-value\",\n",
    "              group='Gene_set', # set group, so you could do a multi-sample/library comparsion\n",
    "              size=10,\n",
    "              top_term=5,\n",
    "              title = \"GEP7\",\n",
    "              figsize=(3,5),\n",
    "              color=['darkred', 'darkblue'] # set colors for group\n",
    "              # color = {'KEGG_2021_Human': 'salmon', 'MSigDB_Hallmark_2020':'darkblue'}\n",
    "             )\n",
    "\n",
    "plt.tight_layout()\n",
    "plt.savefig(\"Results/06.Epithelial/cNMF_Results/GEP7_barplot.pdf\", format='pdf', bbox_inches='tight', dpi=300)\n",
    "\n",
    "plt.show()\n",
    "plt.close()"
   ]
  }
 ],
 "metadata": {
  "kernelspec": {
   "display_name": "npc_env",
   "language": "python",
   "name": "python3"
  },
  "language_info": {
   "codemirror_mode": {
    "name": "ipython",
    "version": 3
   },
   "file_extension": ".py",
   "mimetype": "text/x-python",
   "name": "python",
   "nbconvert_exporter": "python",
   "pygments_lexer": "ipython3",
   "version": "3.10.16"
  }
 },
 "nbformat": 4,
 "nbformat_minor": 5
}
