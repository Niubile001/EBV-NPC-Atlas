{
 "cells": [
  {
   "cell_type": "markdown",
   "id": "fa8cf4d9",
   "metadata": {},
   "source": [
    "## 11_1. T -- Cell Annotation\n",
    "\n",
    "<div \n",
    "    <p style=\"text-align: left;\">Updated Time: 2025-06-03</p>\n",
    "</div>"
   ]
  },
  {
   "cell_type": "markdown",
   "id": "6f514896",
   "metadata": {},
   "source": [
    "##### Load libraries"
   ]
  },
  {
   "cell_type": "code",
   "execution_count": null,
   "id": "eb23983e",
   "metadata": {
    "ExecuteTime": {
     "end_time": "2023-08-31T13:06:17.697146Z",
     "start_time": "2023-08-31T13:04:25.828612Z"
    },
    "execution": {
     "iopub.execute_input": "2024-07-19T18:55:26.019176Z",
     "iopub.status.busy": "2024-07-19T18:55:26.018925Z",
     "iopub.status.idle": "2024-07-19T18:59:04.879757Z",
     "shell.execute_reply": "2024-07-19T18:59:04.878278Z",
     "shell.execute_reply.started": "2024-07-19T18:55:26.019149Z"
    },
    "tags": []
   },
   "outputs": [],
   "source": [
    "import os\n",
    "import sys\n",
    "import numpy as np\n",
    "import pandas as pd\n",
    "\n",
    "import omicverse as ov\n",
    "import scanpy as sc\n",
    "import decoupler as dc\n",
    "import seaborn as sns\n",
    "import matplotlib.pyplot as plt\n",
    "import matplotlib.cm as cm\n",
    "from matplotlib.pyplot import rc_context\n",
    "from pyclustree import clustree\n",
    "ov.plot_set()\n",
    "\n",
    "import warnings\n",
    "warnings.simplefilter(\"ignore\")"
   ]
  },
  {
   "cell_type": "markdown",
   "id": "904add21",
   "metadata": {},
   "source": [
    "##### Set working directory for analysis"
   ]
  },
  {
   "cell_type": "code",
   "execution_count": null,
   "id": "6911b3fd",
   "metadata": {
    "ExecuteTime": {
     "end_time": "2023-08-31T13:06:17.699085Z",
     "start_time": "2023-08-31T13:04:26.492Z"
    },
    "execution": {
     "iopub.execute_input": "2024-07-19T18:59:04.882897Z",
     "iopub.status.busy": "2024-07-19T18:59:04.881734Z",
     "iopub.status.idle": "2024-07-19T18:59:04.889345Z",
     "shell.execute_reply": "2024-07-19T18:59:04.888331Z",
     "shell.execute_reply.started": "2024-07-19T18:59:04.882860Z"
    },
    "tags": []
   },
   "outputs": [],
   "source": [
    "cwd = '/media/bio/Disk/Research Data/EBV/omicverse'\n",
    "os.chdir(cwd)\n",
    "updated_dir = os.getcwd()\n",
    "print(\"Updated working directory: \", updated_dir)\n",
    "\n",
    "from pathlib import Path\n",
    "saving_dir = Path('Results/11.TCell')\n",
    "saving_dir.mkdir(parents=True, exist_ok=True)"
   ]
  },
  {
   "cell_type": "markdown",
   "id": "6cc21525",
   "metadata": {},
   "source": [
    "##### Reading in annotated AnnData object"
   ]
  },
  {
   "cell_type": "code",
   "execution_count": null,
   "id": "f563e311",
   "metadata": {
    "ExecuteTime": {
     "end_time": "2023-08-11T06:19:50.673997Z",
     "start_time": "2023-08-11T06:18:35.382768Z"
    },
    "execution": {
     "iopub.execute_input": "2024-07-19T19:01:31.169691Z",
     "iopub.status.busy": "2024-07-19T19:01:31.167868Z",
     "iopub.status.idle": "2024-07-19T19:02:22.427601Z",
     "shell.execute_reply": "2024-07-19T19:02:22.426609Z",
     "shell.execute_reply.started": "2024-07-19T19:01:31.169655Z"
    },
    "scrolled": true,
    "tags": []
   },
   "outputs": [],
   "source": [
    "adata = sc.read_h5ad(\"Processed Data/scRNA_Annotation.h5ad\")\n",
    "adata"
   ]
  },
  {
   "cell_type": "code",
   "execution_count": null,
   "id": "0969936e-2f1b-468c-a2d9-85d4e0e934a1",
   "metadata": {
    "execution": {
     "iopub.execute_input": "2024-07-19T19:02:22.429385Z",
     "iopub.status.busy": "2024-07-19T19:02:22.428715Z",
     "iopub.status.idle": "2024-07-19T19:02:26.156187Z",
     "shell.execute_reply": "2024-07-19T19:02:26.155111Z",
     "shell.execute_reply.started": "2024-07-19T19:02:22.429332Z"
    },
    "tags": []
   },
   "outputs": [],
   "source": [
    "for i in adata.obs['Cell_type'].cat.categories:\n",
    "  number = len(adata.obs[adata.obs['Cell_type']==i])\n",
    "  print('the number of category {} is {}'.format(i,number))"
   ]
  },
  {
   "cell_type": "code",
   "execution_count": null,
   "id": "3af3ede0-acae-4c04-8ce9-794368325763",
   "metadata": {
    "execution": {
     "iopub.execute_input": "2024-07-19T19:02:26.158199Z",
     "iopub.status.busy": "2024-07-19T19:02:26.157628Z",
     "iopub.status.idle": "2024-07-19T19:02:34.256793Z",
     "shell.execute_reply": "2024-07-19T19:02:34.255562Z",
     "shell.execute_reply.started": "2024-07-19T19:02:26.158165Z"
    },
    "tags": []
   },
   "outputs": [],
   "source": [
    "# Select myeloid cells for downstream analysis\n",
    "adata_tcell = adata[adata.obs['Cell_type'].isin(['T'])].copy()\n",
    "adata_tcell"
   ]
  },
  {
   "cell_type": "code",
   "execution_count": null,
   "id": "0f5c16b8",
   "metadata": {},
   "outputs": [],
   "source": [
    "print(np.min(adata_tcell.X), np.max(adata_tcell.X))"
   ]
  },
  {
   "cell_type": "code",
   "execution_count": null,
   "id": "0387a5ad",
   "metadata": {},
   "outputs": [],
   "source": [
    "adata_tcell.obs['EBV_status'] = adata_tcell.obs['EBV_status'].cat.reorder_categories(['Normal', 'Negative', 'Positive'])"
   ]
  },
  {
   "cell_type": "code",
   "execution_count": null,
   "id": "547a5812-cca2-44b8-927e-0232bda7b29d",
   "metadata": {
    "execution": {
     "iopub.execute_input": "2024-07-19T19:02:34.259694Z",
     "iopub.status.busy": "2024-07-19T19:02:34.259259Z",
     "iopub.status.idle": "2024-07-19T19:02:34.310607Z",
     "shell.execute_reply": "2024-07-19T19:02:34.309471Z",
     "shell.execute_reply.started": "2024-07-19T19:02:34.259673Z"
    },
    "tags": []
   },
   "outputs": [],
   "source": [
    "for i in adata_tcell.obs['EBV_status'].cat.categories:\n",
    "  number = len(adata_tcell.obs[adata_tcell.obs['EBV_status']==i])\n",
    "  print('the number of category {} is {}'.format(i,number))"
   ]
  },
  {
   "cell_type": "markdown",
   "id": "2b178819-4e95-4442-81b6-bf695ab2b41b",
   "metadata": {},
   "source": [
    "\n",
    "#### Preprocessing"
   ]
  },
  {
   "cell_type": "markdown",
   "id": "8b33815c",
   "metadata": {},
   "source": [
    "You can use `recover_counts` to recover the raw counts after normalize and log1p"
   ]
  },
  {
   "cell_type": "code",
   "execution_count": null,
   "id": "de0a4625",
   "metadata": {},
   "outputs": [],
   "source": [
    "X_counts_recovered, size_factors_sub=ov.pp.recover_counts(adata_tcell.X, 50*1e4, 50*1e5, log_base=None, chunk_size=50000)\n",
    "adata_tcell.layers['counts']=X_counts_recovered"
   ]
  },
  {
   "cell_type": "code",
   "execution_count": null,
   "id": "bbd52ef8",
   "metadata": {},
   "outputs": [],
   "source": [
    "adata_tcell.X=adata_tcell.layers['counts']\n",
    "print(np.min(adata_tcell.X), np.max(adata_tcell.X))"
   ]
  },
  {
   "cell_type": "code",
   "execution_count": null,
   "id": "6247a6d0",
   "metadata": {},
   "outputs": [],
   "source": [
    "adata_tcell=ov.pp.preprocess(adata_tcell,mode='shiftlog|pearson',n_HVGs=2000,)\n",
    "adata_tcell.raw = adata_tcell\n",
    "adata_tcell = adata_tcell[:, adata_tcell.var.highly_variable_features]\n",
    "ov.pp.scale(adata_tcell)\n",
    "ov.pp.pca(adata_tcell,layer='scaled',n_pcs=50)"
   ]
  },
  {
   "cell_type": "code",
   "execution_count": null,
   "id": "d61ca659",
   "metadata": {},
   "outputs": [],
   "source": [
    "ov.utils.plot_pca_variance_ratio(adata_tcell)"
   ]
  },
  {
   "cell_type": "code",
   "execution_count": null,
   "id": "146454ab",
   "metadata": {},
   "outputs": [],
   "source": [
    "ov.single.batch_correction(adata_tcell,batch_key='Dataset', methods='harmony',max_iter_harmony = 20, n_pcs=10) "
   ]
  },
  {
   "cell_type": "markdown",
   "id": "84e158b1",
   "metadata": {},
   "source": [
    "#### Unsupervised clustering\n",
    "The Leiden algorithm is as an improved version of the Louvain algorithm which outperformed other clustering methods for single-cell RNA-seq data analysis ([Du et al., 2018, Freytag et al., 2018, Weber and Robinson, 2016]). Since the Louvain algorithm is no longer maintained, using Leiden instead is preferred.\n",
    "\n",
    "We, therefore, propose to use the Leiden algorithm[Traag et al., 2019] on single-cell k-nearest-neighbour (KNN) graphs to cluster single-cell datasets.\n",
    "\n",
    "Leiden creates clusters by taking into account the number of links between cells in a cluster versus the overall expected number of links in the dataset.\n",
    "\n",
    "Here, we set method='leiden' to cluster the cells using Leiden"
   ]
  },
  {
   "cell_type": "code",
   "execution_count": null,
   "id": "453c08a1",
   "metadata": {},
   "outputs": [],
   "source": [
    "ov.pp.neighbors(adata_tcell, n_neighbors=15, use_rep='X_harmony')"
   ]
  },
  {
   "cell_type": "code",
   "execution_count": null,
   "id": "6d0244c1",
   "metadata": {},
   "outputs": [],
   "source": [
    "ov.pp.umap(adata_tcell)"
   ]
  },
  {
   "cell_type": "code",
   "execution_count": null,
   "id": "76042650",
   "metadata": {},
   "outputs": [],
   "source": [
    "ov.utils.embedding(adata_tcell,basis='X_umap',\n",
    "                   color=['EBV_status'],\n",
    "                   frameon='small',wspace=0.5)"
   ]
  },
  {
   "cell_type": "code",
   "execution_count": null,
   "id": "18203f73",
   "metadata": {},
   "outputs": [],
   "source": [
    "# Run leiden clustering for different resolutions\n",
    "for resolution in [0.1, 0.2, 0.3, 0.4, 0.5, 0.6, 0.7, 0.8, 0.9, 1.0]:\n",
    "    ov.pp.leiden(\n",
    "        adata_tcell,\n",
    "        resolution=resolution,\n",
    "        flavor=\"igraph\",\n",
    "        n_iterations=2,\n",
    "        key_added=f\"leiden_{str(resolution).replace('.', '_')}\",\n",
    "    )"
   ]
  },
  {
   "cell_type": "markdown",
   "id": "2bfad1d8",
   "metadata": {},
   "source": [
    "#### Plot the clustree"
   ]
  },
  {
   "cell_type": "code",
   "execution_count": null,
   "id": "0b4882e3",
   "metadata": {},
   "outputs": [],
   "source": [
    "# Plot the clustree\n",
    "fig = clustree(\n",
    "    adata_tcell,\n",
    "    [f\"leiden_{str(resolution).replace('.', '_')}\" for resolution in [0.1, 0.2, 0.3, 0.4, 0.5, 0.6, 0.7, 0.8, 0.9, 1.0]],\n",
    "    title=\"Clustree of T Cell Clusters\",\n",
    "    edge_weight_threshold=0.00,  # the minimum fraction of the parent cluster assigned to the child cluster to plot\n",
    "    show_fraction=True,  # show the fraction of cells in each cluster\n",
    ")\n",
    "fig.set_size_inches(10, 8)\n",
    "fig.set_dpi(100)"
   ]
  },
  {
   "cell_type": "code",
   "execution_count": null,
   "id": "92a2d83c",
   "metadata": {},
   "outputs": [],
   "source": [
    "for i in adata_tcell.obs['leiden_1_0'].cat.categories:\n",
    "  number = len(adata_tcell.obs[adata_tcell.obs['leiden_1_0']==i])\n",
    "  print('the number of category {} is {}'.format(i,number))"
   ]
  },
  {
   "cell_type": "markdown",
   "id": "eeb35388-41a4-45cc-a775-ef3822a30a4c",
   "metadata": {},
   "source": [
    "Based on the cluster scoring，a resolution of 0.4 may be the optimal. Here we visualize the optimal clustering using UMAP representation:"
   ]
  },
  {
   "cell_type": "code",
   "execution_count": null,
   "id": "9a4b1a2c",
   "metadata": {},
   "outputs": [],
   "source": [
    "from matplotlib import patheffects\n",
    "import matplotlib.pyplot as plt\n",
    "fig, ax = plt.subplots(figsize=(4,4))\n",
    "\n",
    "ov.pl.embedding(adata_tcell,\n",
    "                  basis='X_umap',\n",
    "                  color=['leiden_1_0'],\n",
    "                  show=False, legend_loc=None, add_outline=False, \n",
    "                  frameon='small',legend_fontoutline=2,ax=ax\n",
    "                 )\n",
    "\n",
    "ov.utils.gen_mpl_labels(\n",
    "    adata_tcell,\n",
    "    'leiden_1_0',\n",
    "    exclude=(\"None\",),  \n",
    "    basis='X_umap',\n",
    "    ax=ax,\n",
    "    adjust_kwargs=dict(arrowprops=dict(arrowstyle='-', color='black')),\n",
    "    text_kwargs=dict(fontsize= 12 ,weight='bold',\n",
    "                     path_effects=[patheffects.withStroke(linewidth=2, foreground='w')] ),\n",
    ")"
   ]
  },
  {
   "cell_type": "code",
   "execution_count": null,
   "id": "7ad78d46",
   "metadata": {},
   "outputs": [],
   "source": [
    "ov.pl.cellproportion(\n",
    "    adata=adata_tcell,\n",
    "    celltype_clusters='leiden_1_0',\n",
    "    groupby='EBV_status',\n",
    "    legend=True,\n",
    ")"
   ]
  },
  {
   "cell_type": "markdown",
   "id": "917ccd78",
   "metadata": {},
   "source": [
    "#### Finding marker genes"
   ]
  },
  {
   "cell_type": "code",
   "execution_count": null,
   "id": "eb51850e",
   "metadata": {},
   "outputs": [],
   "source": [
    "adata_tcell = adata_tcell.raw.to_adata() # This recovers the raw count data in adata.X"
   ]
  },
  {
   "cell_type": "markdown",
   "id": "bec5317d",
   "metadata": {},
   "source": [
    "Let us compute a ranking for the highly differential genes in each cluster. For this, by default, the .raw attribute of AnnData is used in case it has been initialized before. The simplest and fastest method to do so is the t-test."
   ]
  },
  {
   "cell_type": "code",
   "execution_count": null,
   "id": "e9c27214",
   "metadata": {},
   "outputs": [],
   "source": [
    "sc.tl.dendrogram(adata_tcell,'leiden_1_0',use_rep='X_harmony')\n",
    "\n",
    "plt.rcParams[\"figure.figsize\"] = [10, 4]\n",
    "sc.pl.dendrogram(adata_tcell,'leiden_1_0')"
   ]
  },
  {
   "cell_type": "code",
   "execution_count": null,
   "id": "44b16a2b",
   "metadata": {},
   "outputs": [],
   "source": [
    "sc.tl.rank_genes_groups(adata_tcell, 'leiden_1_0', method='t-test',use_raw=False,key_added='leiden_1_0_ttest')\n",
    "sc.pl.rank_genes_groups_dotplot(adata_tcell,groupby='leiden_1_0',\n",
    "                                cmap='Spectral_r',key='leiden_1_0_ttest',\n",
    "                                standard_scale='var',n_genes=3)"
   ]
  },
  {
   "cell_type": "markdown",
   "id": "da2c4aa4",
   "metadata": {},
   "source": [
    "Output the marker list as pandas dataframe:"
   ]
  },
  {
   "cell_type": "code",
   "execution_count": null,
   "id": "0511a915",
   "metadata": {},
   "outputs": [],
   "source": [
    "ttest_marker_gene=pd.DataFrame(adata_tcell.uns['leiden_1_0_ttest']['names'])\n",
    "ttest_marker_gene.head()"
   ]
  },
  {
   "cell_type": "code",
   "execution_count": null,
   "id": "ee9b9200",
   "metadata": {},
   "outputs": [],
   "source": [
    "ttest_marker_gene=ttest_marker_gene.head(50)\n",
    "ttest_marker_gene.to_csv('Results/11.TCell/ttest_marker_gene_leiden_1_0_ttest.csv', index=False)"
   ]
  },
  {
   "cell_type": "markdown",
   "id": "03f8237a",
   "metadata": {},
   "source": [
    "cosg is also considered to be a better algorithm for finding marker genes. Here, omicverse provides the calculation of cosg\n",
    "\n",
    "Paper: Accurate and fast cell marker gene identification with COSG\n",
    "\n",
    "Code: https://github.com/genecell/COSG"
   ]
  },
  {
   "cell_type": "code",
   "execution_count": null,
   "id": "7c02d4cf",
   "metadata": {},
   "outputs": [],
   "source": [
    "sc.tl.rank_genes_groups(adata, groupby='leiden_1_0', method='t-test',key_added='leiden_1_0_ttest', use_rep='scaled|original|X_pca')\n",
    "\n",
    "adata_tcell.uns['X_sparse_backup'] = adata_tcell.X.copy()\n",
    "\n",
    "adata_tcell.X = adata_tcell.X.toarray()\n",
    "ov.single.cosg(adata_tcell, key_added='leiden_1_0_cosg', groupby='leiden_1_0')\n",
    "\n",
    "adata_tcell.X = adata_tcell.uns['X_sparse_backup']\n",
    "del adata_tcell.uns['X_sparse_backup']\n",
    "\n",
    "sc.pl.rank_genes_groups_dotplot(adata,groupby='leiden_1_0',\n",
    "                                cmap='Spectral_r',key='leiden_1_0_cosg',\n",
    "                                standard_scale='var',n_genes=3)"
   ]
  },
  {
   "cell_type": "markdown",
   "id": "87f25741",
   "metadata": {},
   "source": [
    "Output the marker list as pandas dataframe:"
   ]
  },
  {
   "cell_type": "code",
   "execution_count": null,
   "id": "7cb1975e",
   "metadata": {},
   "outputs": [],
   "source": [
    "cosg_marker_gene=pd.DataFrame(adata_tcell.uns['leiden_1_0_cosg']['names'])\n",
    "cosg_marker_gene.head()"
   ]
  },
  {
   "cell_type": "code",
   "execution_count": null,
   "id": "aeb8a44c",
   "metadata": {},
   "outputs": [],
   "source": [
    "cosg_marker_gene=cosg_marker_gene.head(100)\n",
    "cosg_marker_gene.to_csv('Results/11.TCell/cosg_marker_gene_leiden_1_0.csv', index=False)"
   ]
  },
  {
   "cell_type": "markdown",
   "id": "f0b3eb73",
   "metadata": {},
   "source": [
    "##### Cell type annotation from marker genes"
   ]
  },
  {
   "cell_type": "code",
   "execution_count": null,
   "id": "27d96c8c-37b3-4f6f-89ea-2587c5a01e19",
   "metadata": {
    "execution": {
     "iopub.execute_input": "2024-07-19T21:02:45.778450Z",
     "iopub.status.busy": "2024-07-19T21:02:45.778042Z",
     "iopub.status.idle": "2024-07-19T21:02:57.118342Z",
     "shell.execute_reply": "2024-07-19T21:02:57.117730Z",
     "shell.execute_reply.started": "2024-07-19T21:02:45.778426Z"
    },
    "tags": []
   },
   "outputs": [],
   "source": [
    "from matplotlib import patheffects\n",
    "import matplotlib.pyplot as plt\n",
    "fig, ax = plt.subplots(figsize=(4,4))\n",
    "\n",
    "ov.pl.embedding(adata_tcell,\n",
    "                  basis='X_umap',\n",
    "                  color=['leiden_1_0'],\n",
    "                  show=False, legend_loc=None, add_outline=False, \n",
    "                  frameon='small',legend_fontoutline=2,ax=ax\n",
    "                 )\n",
    "\n",
    "ov.utils.gen_mpl_labels(\n",
    "    adata_tcell,\n",
    "    'leiden_1_0',\n",
    "    exclude=(\"None\",),  \n",
    "    basis='X_umap',\n",
    "    ax=ax,\n",
    "    adjust_kwargs=dict(arrowprops=dict(arrowstyle='-', color='black')),\n",
    "    text_kwargs=dict(fontsize= 12 ,weight='bold',\n",
    "                     path_effects=[patheffects.withStroke(linewidth=2, foreground='w')] ),\n",
    ")"
   ]
  },
  {
   "cell_type": "markdown",
   "id": "6c3a994d",
   "metadata": {},
   "source": [
    "#### DIY a collection of gene sets"
   ]
  },
  {
   "cell_type": "code",
   "execution_count": null,
   "id": "fda399cc",
   "metadata": {},
   "outputs": [],
   "source": [
    "Tcell_Functional_Signatures = pd.read_excel('Dataset/Tcell_Functional_Signatures.xlsx', sheet_name=0)\n",
    "\n",
    "data = []\n",
    "for column in Tcell_Functional_Signatures.columns:\n",
    "    genes = Tcell_Functional_Signatures[column].dropna().astype(str).tolist()\n",
    "    for gene in genes:\n",
    "        data.append({'source': column, 'target': gene})\n",
    "\n",
    "Tcell_Functional_Signatures = pd.DataFrame(data)\n",
    "\n",
    "Tcell_Functional_Signatures.head()"
   ]
  },
  {
   "cell_type": "markdown",
   "id": "7517cd3f",
   "metadata": {},
   "source": [
    "We can easily compute cell type enrichment scores by running the ulm method."
   ]
  },
  {
   "cell_type": "code",
   "execution_count": null,
   "id": "17065cb1",
   "metadata": {},
   "outputs": [],
   "source": [
    "net=Tcell_Functional_Signatures.drop_duplicates(subset=['source', 'target'])"
   ]
  },
  {
   "cell_type": "code",
   "execution_count": null,
   "id": "c67364c0",
   "metadata": {},
   "outputs": [],
   "source": [
    "# Runs multiple enrichment methods sequentially.\n",
    "dc.mt.aucell(data=adata_tcell, net=net, tmin=1)\n",
    "adata_tcell"
   ]
  },
  {
   "cell_type": "code",
   "execution_count": null,
   "id": "6d5f879a",
   "metadata": {},
   "outputs": [],
   "source": [
    "scores = dc.pp.get_obsm(adata_tcell, key='score_aucell')"
   ]
  },
  {
   "cell_type": "code",
   "execution_count": null,
   "id": "dc06c357",
   "metadata": {},
   "outputs": [],
   "source": [
    "sc.pl.matrixplot(\n",
    "    adata=scores,\n",
    "    var_names=scores.var_names,\n",
    "    groupby='leiden_1_0',\n",
    "    dendrogram=True,\n",
    "    standard_scale='var',\n",
    "    colorbar_title='Z-scaled scores',\n",
    "    cmap='RdBu_r',\n",
    ")"
   ]
  },
  {
   "cell_type": "markdown",
   "id": "2acb68b2",
   "metadata": {},
   "source": [
    "Based on the literature and existing knowledge, a feature dictionary was constructed by integrating the marker genes of each subpopulation obtained from the previous section, defining potential cell subtypes and their corresponding marker genes."
   ]
  },
  {
   "cell_type": "code",
   "execution_count": null,
   "id": "4a172c05-51c5-42a4-b056-2b085bb361dc",
   "metadata": {
    "execution": {
     "iopub.execute_input": "2024-07-19T21:02:45.768846Z",
     "iopub.status.busy": "2024-07-19T21:02:45.768152Z",
     "iopub.status.idle": "2024-07-19T21:02:45.776950Z",
     "shell.execute_reply": "2024-07-19T21:02:45.775846Z",
     "shell.execute_reply.started": "2024-07-19T21:02:45.768800Z"
    },
    "tags": []
   },
   "outputs": [],
   "source": [
    "tcell_genes_dict1 = {\n",
    "    'T': ['CD3D', 'CD3E', 'CD3G'], \n",
    "    'CD8+': ['CD8A', 'CD8B', 'PRF1', 'IFNG', 'LAMP1'],\n",
    "    'CD4+': ['CD4',  'IL2RA','CCR7','CXCR5','CD40LG'],\n",
    "    'Treg': ['FOXP3', 'CTLA4', 'TNFRSF18'],\n",
    "    'Proliferative': ['TOP2A', 'MKI67', 'STMN1'],\n",
    "}\n",
    "\n",
    "sc.pl.dotplot(adata_tcell, tcell_genes_dict1, 'leiden_1_0', dendrogram=False, use_raw=False, standard_scale='var', show=True, save='11_1. Dotplot_TcellCluster_Curated_Markers_leiden_1_0.pdf.pdf')"
   ]
  },
  {
   "cell_type": "code",
   "execution_count": null,
   "id": "822257ed",
   "metadata": {},
   "outputs": [],
   "source": [
    "# Pan-cancer single-cell landscape of tumor-infiltrating T cells\n",
    "cd8_genes_dict = ['TCF7', 'LEF1', 'CCR7', 'SELL', 'MAL', \n",
    "                  'IL7R', 'GPR183', 'ZFP36L2', 'CXCR4', \n",
    "                  'ZNF683', 'CD52', 'HOPX', 'ID2', 'CXCR6', 'XCL1', 'XCL2', \n",
    "                  'TBX21', 'ASCL2',  'CX3CR1', 'KLRG1',\n",
    "                  'KLRD1', 'TYROBP', 'KIR2DL3', 'KIR2DL1', 'KIR3DL1', 'KIR3DL2',  'CD160',  'EOMES',  'TXK',  'KLRC1',  'KIR2DL4', \n",
    "                  'GZMK', 'CXCR5', 'CCR4', 'CD28', 'CXCR3', 'GZMH', 'CD27', 'HLA-DRB1', \n",
    "                  'PDCD1', 'CXCL13', 'LAYN', \n",
    "                  'STAT1', 'IFIT1', 'ISG15', 'CCR1', \n",
    "                  'SLC4A10', 'KLRB1', 'TMIGD2', 'RORA', 'RORC', 'ZBTB16', 'IL26', 'IL17A', 'IL23R', \n",
    "                  'NME1', 'NME2', 'MND1', 'SPC24', 'MYB']  \n",
    "\n",
    "cd4_genes_dict = ['CD40LG', \n",
    "                  'FOXP3', \n",
    "                  'TCF7', 'LEF1', 'TXK', 'CCR7', 'SELL', 'MAL', 'CXCR5', 'ADSL', 'IL16', 'IL7R', \n",
    "                  'TNF', 'AREG', 'TIMP1', 'CREM', 'CCL5', 'CAPG', 'GZMK', 'KLRG1', 'CX3CR1', 'TBX21', \n",
    "                  'RORA', 'RORC', 'CCR6', 'IL23R', 'IL22', 'IL17A', 'IL17F', 'IL26', \n",
    "                  'TOX', 'TOX2', 'IL21', 'CXCL13', 'GNG4', 'CD200', 'BCL6', 'ZBED2', 'CCL3', 'CCL4', 'IFNG', 'GZMB', 'LAG3', 'HAVCR2', \n",
    "                  'RTKN2', 'IL2RA', 'S1PR1', 'TNFRSF9', 'CTLA4', 'LAYN', 'STAT1', 'IFIT1', 'IRF7', \n",
    "                  'NME1', 'NME2', 'SPC24', 'CCR4', ] # 'MND1'"
   ]
  },
  {
   "cell_type": "code",
   "execution_count": null,
   "id": "59845f46",
   "metadata": {},
   "outputs": [],
   "source": [
    "sc.pl.dotplot(adata_tcell, cd8_genes_dict, 'leiden_1_0', dendrogram=False, use_raw=False, standard_scale='var', show=True, save='11_1. Dotplot_cd8Cluster_Curated_Markers1_leiden_1_0.pdf.pdf')\n",
    "sc.pl.dotplot(adata_tcell, cd4_genes_dict, 'leiden_1_0', dendrogram=False, use_raw=False, standard_scale='var', show=True, save='11_1. Dotplot_cd4Cluster_Curated_Markers1_leiden_1_0.pdf.pdf')"
   ]
  },
  {
   "cell_type": "code",
   "execution_count": null,
   "id": "cbe11825",
   "metadata": {},
   "outputs": [],
   "source": [
    "# Pan-cancer T cell atlas links a cellular stress response state to immunotherapy resistance\n",
    "cd8_genes_dict = ['GZMK', 'GZMB', 'PRF1', 'CD44', 'CD69', \n",
    "                  'TOX', 'NR3C1', 'PDCD1', 'LAG3', 'CTLA4', \n",
    "                  'FGFBP2', 'GZMH', 'GNLY', 'NR4A1', 'BAG3', \n",
    "                  'HSPA1A', 'IFIT1', 'MX1', 'DKK3', 'CCR4', \n",
    "                  'EOMES', 'CNN2', 'LIMD2', 'CD27', 'LGR6', \n",
    "                  'KLRC4', 'CD244', 'SEMA4A', 'ITGA1', 'KLRB1', \n",
    "                  'PRDM1', 'CCR7', 'SELL', 'TCF7', 'TRGV5', 'TRGV10']\n",
    "\n",
    "cd4_genes_dict = ['IL7R', 'CD69', 'GPR183', 'CTLA4', 'IL2RA', \n",
    "                  'FOXP3', 'TNFRSF4', 'RPL31', 'RPL21', 'CXCL13', \n",
    "                  'NR4A1', 'BCL6', 'ICOS', 'TOX', 'PDCD1', \n",
    "                  'BAG3', 'FOS', 'JUN', 'IFNG', 'GZMA', \n",
    "                  'GZMH', 'GZMB', 'GZMK', 'SELL', 'LEF1', \n",
    "                  'CCR7', 'FHIT', 'PRF1', 'NKG7', 'TCF7', \n",
    "                  'TCEA3', 'CDC25B', 'IL17A', 'IL17F', 'RORA', \n",
    "                  'KLRB1', 'CCR6', 'SLC40A1', 'ANKRD55', 'ISG15', \n",
    "                  'IFI44L', 'IFIT1']\n",
    "\n",
    "treg_genes_dict = ['KLF2', 'LEF1', 'SELL', 'IL1R2', 'IL1R1', \n",
    "                   'TNFRSF4', 'TNFRSF18', 'TNFRSF9', 'IL2RA', 'BATF', \n",
    "                   'IL21R', 'FOXP3', 'FANK1', 'GATA3', 'TNFRSF13B', \n",
    "                   'GPX1', 'HSPA1A', 'HSPA1B', 'BAG3', 'HSPE1', \n",
    "                   'HSPB1', 'HSPD1', 'NR4A1', 'IL7R', 'LRRC32', \n",
    "                   'CCR7', 'ICA1', 'CXCL13', 'TCF7', 'KLRB1']\n",
    "\n",
    "tfh_genes_dict = ['NMB', 'IL7R', 'CXCL13', 'CD200', 'CCR7', \n",
    "                  'PDCD1', 'TOX2', 'SH2D1A', 'IL6R', 'CD40LG', \n",
    "                  'TIGIT', 'CXCR5', 'ASCL2', 'ICOS', 'KLRB1', \n",
    "                  'GPR183', 'CD69', 'KLF2', 'CCR5', 'TGFB1', \n",
    "                  'PRF1', 'PRDM1', 'NKG7', 'MAF', 'LAG3', \n",
    "                  'IL2RG', 'IL2RB', 'IL10RA', 'IFNG', 'HAVCR2', \n",
    "                  'GZMB', 'GZMA', 'GNLY', 'ENTPD1', 'IRF4', \n",
    "                  'BATF', 'TNFRSF4', 'IL2RA', 'NRN1']"
   ]
  },
  {
   "cell_type": "code",
   "execution_count": null,
   "id": "d9ead95f",
   "metadata": {},
   "outputs": [],
   "source": [
    "sc.pl.dotplot(adata_tcell, cd8_genes_dict, 'leiden_1_0', dendrogram=False, use_raw=False, standard_scale='var', show=True, save='11_1. Dotplot_cd8Cluster_Curated_Markers2_leiden_1_0.pdf.pdf')\n",
    "sc.pl.dotplot(adata_tcell, cd4_genes_dict, 'leiden_1_0', dendrogram=False, use_raw=False, standard_scale='var', show=True, save='11_1. Dotplot_cd4Cluster_Curated_Markers2_leiden_1_0.pdf.pdf')\n",
    "sc.pl.dotplot(adata_tcell, treg_genes_dict, 'leiden_1_0', dendrogram=False, use_raw=False, standard_scale='var', show=True, save='11_1. Dotplot_tregCluster_Curated_Markers2_leiden_1_0.pdf.pdf')\n",
    "sc.pl.dotplot(adata_tcell, tfh_genes_dict, 'leiden_1_0', dendrogram=False, use_raw=False, standard_scale='var', show=True, save='11_1. Dotplot_tfhCluster_Curated_Markers2_leiden_1_0.pdf.pdf')"
   ]
  },
  {
   "cell_type": "markdown",
   "id": "370a3e53",
   "metadata": {},
   "source": [
    "The dotplot visualization provides a compact way of showing per group, the fraction of cells expressing a gene (dot size) and the mean expression of the gene in those cell (color scale)."
   ]
  },
  {
   "cell_type": "markdown",
   "id": "81eb9086-c114-41ba-8795-449b112606bc",
   "metadata": {},
   "source": [
    "**<span style=\"font-size:16px;\">Create a dictionary to map cluster to annotation label</span>**"
   ]
  },
  {
   "cell_type": "code",
   "execution_count": null,
   "id": "76df234d-f0f9-478e-95a7-b623b3577d03",
   "metadata": {
    "ExecuteTime": {
     "end_time": "2023-08-07T23:23:40.026251Z",
     "start_time": "2023-08-07T23:23:39.973939Z"
    },
    "execution": {
     "iopub.execute_input": "2024-07-19T21:02:57.119483Z",
     "iopub.status.busy": "2024-07-19T21:02:57.119276Z",
     "iopub.status.idle": "2024-07-19T21:02:57.146712Z",
     "shell.execute_reply": "2024-07-19T21:02:57.145763Z",
     "shell.execute_reply.started": "2024-07-19T21:02:57.119463Z"
    },
    "tags": []
   },
   "outputs": [],
   "source": [
    "cluster2annotation = {\n",
    "     '0': 'Proliferating T', \n",
    "     '1': 'CD8⁺ GZMK⁺ Tpex',\n",
    "     '2': 'CD8⁺ GZMB⁺ early Tem', \n",
    "     '3': 'CD8⁺ MT⁺ Tstr',\n",
    "     '4': 'CD8⁺ GZMB⁺ Tem',\n",
    "     '5': 'CD8⁺ ISG⁺ T',\n",
    "     '6': 'Proliferating T',\n",
    "     '7': 'CD4⁺ IL21⁺ Tfh',\n",
    "     '8':  'Undefined',\n",
    "     '9':  'Undefined',\n",
    "     '10': 'Undefined',\n",
    "     '11': 'CD8⁺ GZMB⁺ Tem',\n",
    "     '12': 'Undefined',\n",
    "     '13': 'CD4⁺ ISG⁺ T',\n",
    "     '14': 'Undefined',\n",
    "     '15': 'CD4⁻CD8⁻ T', \n",
    "     '16': 'Undefined',\n",
    "     '17': 'CD4⁻CD8⁻ T',\n",
    "     '18': 'CD4⁻CD8⁻ T',\n",
    "     '19': 'TNFRSF9⁻ Treg',\n",
    "     '20': 'CD4⁻CD8⁻ T',\n",
    "     '21': 'TNFRSF9⁺ Treg',\n",
    "     '22': 'CD8⁺ ZNF683⁺ Trm',\n",
    "     '23': 'CD8⁺ ZNF683⁺ Trm',\n",
    "     '24': 'Undefined',\n",
    "     '25': 'CD4⁺ Tcm',\n",
    "     '26': 'CD8⁺ GZMB⁺ Tex',\n",
    "     '27': 'CD8⁺ GZMB⁺ Tem', \n",
    "     '28': 'CD8⁺ GZMB⁺ Tem',\n",
    "}\n",
    "adata_tcell.obs['T_subtype'] = adata_tcell.obs['leiden_1_0'].map(cluster2annotation).astype('category')\n",
    "adata_tcell.obs['T_subtype'] = adata_tcell.obs['T_subtype'].cat.reorder_categories(['CD8⁺ GZMB⁺ early Tem','CD8⁺ GZMB⁺ Tem', 'CD8⁺ GZMK⁺ Tpex', 'CD8⁺ GZMB⁺ Tex', 'CD8⁺ MT⁺ Tstr', 'CD8⁺ ZNF683⁺ Trm', 'CD8⁺ ISG⁺ T',\n",
    "                                                                                    'CD4⁺ Tcm', 'CD4⁺ ISG⁺ T', 'CD4⁺ IL21⁺ Tfh', 'TNFRSF9⁺ Treg', 'TNFRSF9⁻ Treg',\n",
    "                                                                                    'CD4⁻CD8⁻ T', 'Proliferating T','Undefined'])"
   ]
  },
  {
   "cell_type": "code",
   "execution_count": null,
   "id": "2b5ecefc",
   "metadata": {},
   "outputs": [],
   "source": [
    "adata_tcell0 = adata_tcell[adata_tcell.obs['T_subtype'] != 'Undefined'].copy()"
   ]
  },
  {
   "cell_type": "code",
   "execution_count": null,
   "id": "a7bbeec1",
   "metadata": {},
   "outputs": [],
   "source": [
    "scores = dc.pp.get_obsm(adata_tcell0, key='score_aucell')\n",
    "\n",
    "sc.pl.matrixplot(\n",
    "    adata=scores,\n",
    "    var_names=scores.var_names,\n",
    "    groupby='T_subtype',\n",
    "    dendrogram=True,\n",
    "    standard_scale='var',\n",
    "    colorbar_title='Z-scaled scores',\n",
    "    cmap='RdBu_r',\n",
    ")"
   ]
  },
  {
   "cell_type": "code",
   "execution_count": null,
   "id": "f3cb8745",
   "metadata": {},
   "outputs": [],
   "source": [
    "\n",
    "target_subtypes = [\n",
    "    'CD8⁺ GZMB⁺ early Tem',\n",
    "    'CD8⁺ GZMB⁺ Tem',\n",
    "    'CD8⁺ GZMK⁺ Tpex',\n",
    "    'CD8⁺ GZMB⁺ Tex',\n",
    "    'CD8⁺ MT⁺ Tstr',\n",
    "    'CD8⁺ ZNF683⁺ Trm',\n",
    "    'CD8⁺ ISG⁺ T'\n",
    "]\n",
    "\n",
    "cd8_scores = scores[scores.obs[\"T_subtype\"].isin(target_subtypes)].copy()\n",
    "cd8_scores.obs[\"T_subtype\"] = cd8_scores.obs[\"T_subtype\"].str.replace(r\"^CD8⁺\\s+\", \"\", regex=True)\n",
    "\n",
    "plt.figure(figsize=(8, 6))\n",
    "sc.pl.violin(\n",
    "    adata=cd8_scores,\n",
    "    keys=['Exhaustion'],\n",
    "    groupby='T_subtype',\n",
    "    jitter=False,\n",
    "    rotation=45,\n",
    "    show=False\n",
    ")\n",
    "\n",
    "plt.gcf().set_size_inches(6, 6) \n",
    "\n",
    "plt.tight_layout()\n",
    "plt.savefig(\"Results/11.TCell/11.violin_exhaustion_by_CD8T_subtype.png\", dpi=300)"
   ]
  },
  {
   "cell_type": "code",
   "execution_count": null,
   "id": "abf27937",
   "metadata": {},
   "outputs": [],
   "source": [
    "import matplotlib.pyplot as plt\n",
    "import distinctipy\n",
    "\n",
    "n_types = adata_tcell0.obs['T_subtype'].nunique()\n",
    "colors = distinctipy.get_colors(n_types)\n",
    "colors_hex = [distinctipy.get_hex(color) for color in colors]\n",
    "\n",
    "fig, ax = plt.subplots(figsize=(6,5)) \n",
    "ov.pl.embedding(\n",
    "    adata=adata_tcell0,\n",
    "    basis='X_umap',\n",
    "    color=['T_subtype'],\n",
    "    palette=colors_hex,\n",
    "    show=False,\n",
    "    add_outline=False,\n",
    "    frameon='small',\n",
    "    legend_fontoutline=2,\n",
    "    ax=ax\n",
    ")\n",
    "\n",
    "plt.savefig('Results/11.TCell/11.TCell_subtype_UMAPplot.pdf', format='pdf', bbox_inches='tight')\n",
    "plt.show()"
   ]
  },
  {
   "cell_type": "markdown",
   "id": "3a3c6234",
   "metadata": {},
   "source": [
    "### Compositional data visualization\n",
    "Analyzing compositional data is not straightforward. scCODA provides some ways of visualizing the properties of a compositional dataset before analysis. We will showcase these functions on the data on pathogen infection of mice from *Haber et al. [2017]*."
   ]
  },
  {
   "cell_type": "code",
   "execution_count": null,
   "id": "d73363b4",
   "metadata": {},
   "outputs": [],
   "source": [
    "fig, ax = plt.subplots(figsize=(5, 5))\n",
    "ov.pl.cellproportion(\n",
    "    adata=adata_tcell0,\n",
    "    celltype_clusters='T_subtype',\n",
    "    groupby='EBV_status',\n",
    "    legend=True,\n",
    "    ax=ax,\n",
    ")\n",
    "\n",
    "legend = ax.legend(loc='center left', bbox_to_anchor=(1, 0.5), fontsize=10)\n",
    "xticks = ax.get_xticks()\n",
    "ax.set_xticks(xticks)  \n",
    "ax.set_xticklabels([str(i+1) for i in range(len(xticks))])\n",
    "ax.set_xlabel('')\n",
    "ax.tick_params(axis='x', rotation=90, labelsize=6.5) \n",
    "plt.tight_layout()\n",
    "plt.savefig(\"Results/11.TCell/11.Stacked_Barplot_of_Myeloid_Composition.pdf\", format='pdf', dpi=300, bbox_inches='tight')\n",
    "plt.show()"
   ]
  },
  {
   "cell_type": "markdown",
   "id": "20f465f4",
   "metadata": {},
   "source": [
    "#### Save AnnData object with automated celltype annotation"
   ]
  },
  {
   "cell_type": "code",
   "execution_count": null,
   "id": "5ce0e1e4-4035-4b42-b660-75928c72d3c9",
   "metadata": {
    "execution": {
     "iopub.execute_input": "2024-07-19T21:04:21.036686Z",
     "iopub.status.busy": "2024-07-19T21:04:21.036018Z",
     "iopub.status.idle": "2024-07-19T21:04:21.043763Z",
     "shell.execute_reply": "2024-07-19T21:04:21.042876Z",
     "shell.execute_reply.started": "2024-07-19T21:04:21.036664Z"
    },
    "tags": []
   },
   "outputs": [],
   "source": [
    "adata_tcell0"
   ]
  },
  {
   "cell_type": "code",
   "execution_count": null,
   "id": "55a10686",
   "metadata": {},
   "outputs": [],
   "source": [
    "print(np.min(adata_tcell0.X), np.max(adata_tcell0.X))"
   ]
  },
  {
   "cell_type": "code",
   "execution_count": null,
   "id": "92c8b47c-ddec-49e9-a0ef-3e9432ef900d",
   "metadata": {
    "execution": {
     "iopub.execute_input": "2024-07-19T21:04:21.045344Z",
     "iopub.status.busy": "2024-07-19T21:04:21.044923Z",
     "iopub.status.idle": "2024-07-19T21:04:42.168432Z",
     "shell.execute_reply": "2024-07-19T21:04:42.167103Z",
     "shell.execute_reply.started": "2024-07-19T21:04:21.045305Z"
    },
    "tags": []
   },
   "outputs": [],
   "source": [
    "adata_tcell0.write_h5ad(\"Processed Data/scRNA_TCell.h5ad\")"
   ]
  },
  {
   "cell_type": "markdown",
   "id": "eeea0395",
   "metadata": {},
   "source": [
    "\n",
    "**<span style=\"font-size:16px;\">Session information：</span>**"
   ]
  },
  {
   "cell_type": "code",
   "execution_count": null,
   "id": "2de0aef8",
   "metadata": {
    "ExecuteTime": {
     "end_time": "2023-08-07T23:25:25.822088Z",
     "start_time": "2023-08-07T23:25:25.817660Z"
    },
    "execution": {
     "iopub.execute_input": "2024-07-19T21:04:42.170951Z",
     "iopub.status.busy": "2024-07-19T21:04:42.170230Z",
     "iopub.status.idle": "2024-07-19T21:04:43.456099Z",
     "shell.execute_reply": "2024-07-19T21:04:43.454658Z",
     "shell.execute_reply.started": "2024-07-19T21:04:42.170904Z"
    },
    "tags": []
   },
   "outputs": [],
   "source": [
    "import sys\n",
    "import platform\n",
    "import pkg_resources\n",
    "\n",
    "# Get Python version information\n",
    "python_version = sys.version\n",
    "# Get operating system information\n",
    "os_info = platform.platform()\n",
    "# Get system architecture information\n",
    "architecture = platform.architecture()[0]\n",
    "# Get CPU information\n",
    "cpu_info = platform.processor()\n",
    "# Print Session information\n",
    "print(\"Python version:\", python_version)\n",
    "print(\"Operating system:\", os_info)\n",
    "print(\"System architecture:\", architecture)\n",
    "print(\"CPU info:\", cpu_info)\n",
    "\n",
    "# Print imported packages and their versions\n",
    "print(\"\\nImported packages and their versions:\")\n",
    "for package in pkg_resources.working_set:\n",
    "    print(package.key, package.version)"
   ]
  }
 ],
 "metadata": {
  "kernelspec": {
   "display_name": "npc_env",
   "language": "python",
   "name": "npc_env"
  },
  "language_info": {
   "codemirror_mode": {
    "name": "ipython",
    "version": 3
   },
   "file_extension": ".py",
   "mimetype": "text/x-python",
   "name": "python",
   "nbconvert_exporter": "python",
   "pygments_lexer": "ipython3",
   "version": "3.10.16"
  },
  "toc": {
   "base_numbering": 1,
   "nav_menu": {},
   "number_sections": true,
   "sideBar": true,
   "skip_h1_title": false,
   "title_cell": "Table of Contents",
   "title_sidebar": "Contents",
   "toc_cell": false,
   "toc_position": {},
   "toc_section_display": true,
   "toc_window_display": false
  }
 },
 "nbformat": 4,
 "nbformat_minor": 5
}
