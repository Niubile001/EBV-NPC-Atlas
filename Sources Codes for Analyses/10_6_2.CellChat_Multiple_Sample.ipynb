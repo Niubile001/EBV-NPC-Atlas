{
 "cells": [
  {
   "cell_type": "markdown",
   "metadata": {},
   "source": [
    "## CellChat analysis of multiple spatial transcriptomics datasets\n",
    "Suoqin Jin\n",
    "22 February, 2024\n",
    "Load the required libraries\n",
    "Part I: Data input & processing and initialization of CellChat object\n",
    "Load data\n",
    "Create a CellChat object\n",
    "Set the ligand-receptor interaction database\n",
    "Preprocessing the expression data for cell-cell communication analysis\n",
    "Part II: Inference of cell-cell communication network\n",
    "Compute the communication probability and infer cellular communication network\n",
    "Infer the cell-cell communication at a signaling pathway level\n",
    "Calculate the aggregated cell-cell communication network\n",
    "Part III: Visualization of cell-cell communication network\n",
    "Compute the contribution of each ligand-receptor pair to the overall signaling pathway\n",
    "Part V: Save the CellChat object\n",
    "This vignette outlines the steps of inference, analysis and visualization of cell-cell communication network for multiple spatial transcriptomics datasets using CellChat. We showcase CellChat’s application to multiple spatial transcriptomics datasets by applying it to two replicates from human spatial intestine datasets, which were downloaded from https://simmonslab.shinyapps.io/FetalAtlasDataPortal/.\n",
    "\n",
    "Below we briefly describe the key steps of applying CellChat to multiple spatial transcriptomics datasets. Please check the vignette of applying CellChat to an individual spatially resolved transcriptomics dataset for detailed descriptions of the methods and steps, and check the vignette of FAQ on applying CellChat to spatially resolved transcriptomics data for detailed descriptions of applying CellChat to different types of spatial transcriptomics data."
   ]
  },
  {
   "cell_type": "markdown",
   "metadata": {
    "vscode": {
     "languageId": "r"
    }
   },
   "source": [
    "Load the required libraries"
   ]
  },
  {
   "cell_type": "code",
   "execution_count": null,
   "metadata": {
    "vscode": {
     "languageId": "r"
    }
   },
   "outputs": [],
   "source": [
    "rm(list = ls())\n",
    "library(CellChat)\n",
    "library(patchwork)\n",
    "library(Seurat)"
   ]
  },
  {
   "cell_type": "code",
   "execution_count": null,
   "metadata": {
    "vscode": {
     "languageId": "r"
    }
   },
   "outputs": [],
   "source": [
    "setwd(\"/media/bio/Disk/Research Data/EBV/omicverse\")"
   ]
  },
  {
   "cell_type": "markdown",
   "metadata": {},
   "source": [
    "#### load the CellChat object"
   ]
  },
  {
   "cell_type": "code",
   "execution_count": null,
   "metadata": {
    "vscode": {
     "languageId": "r"
    }
   },
   "outputs": [],
   "source": [
    "cellchat <- readRDS(file = \"Processed Data/GSE206245_NPC_ST_Cluster_Tangram_Cellchat.rds\")"
   ]
  },
  {
   "cell_type": "markdown",
   "metadata": {},
   "source": [
    "Subset CellChat object using a portion of cells"
   ]
  },
  {
   "cell_type": "code",
   "execution_count": null,
   "metadata": {
    "vscode": {
     "languageId": "r"
    }
   },
   "outputs": [],
   "source": [
    "cellchat_Niche4 <- readRDS(file = \"Processed Data/GSE206245_NPC_ST_Cluster_Tangram_Cellchat_Niche4.rds\")\n",
    "cellchat_Niche4\n",
    "\n",
    "cellchat_NonNiche4 <- readRDS(file = \"Processed Data/GSE206245_NPC_ST_Cluster_Tangram_Cellchat_NonNiche4.rds\")\n",
    "cellchat_NonNiche4"
   ]
  },
  {
   "cell_type": "code",
   "execution_count": null,
   "metadata": {
    "vscode": {
     "languageId": "r"
    }
   },
   "outputs": [],
   "source": [
    "object.list <- list(Other.Niches = cellchat_NonNiche4, Niche4 = cellchat_Niche4)\n",
    "cellchat <- mergeCellChat(object.list, add.names = names(object.list))\n",
    "cellchat"
   ]
  },
  {
   "cell_type": "code",
   "execution_count": null,
   "metadata": {
    "vscode": {
     "languageId": "r"
    }
   },
   "outputs": [],
   "source": [
    "compareInteractions(cellchat, show.legend = F, group = c(1,2), color.use = c(\"darkred\",\"skyblue\"), measure = \"weight\")\n",
    "\n",
    "pdf(\"Results/10.NPC_ST_Analysis/Spatial_compareInteractions.pdf\", width = 4, height = 5)  # You can adjust width and height as needed\n",
    "compareInteractions(cellchat, show.legend = F, group = c(1,2), color.use = c(\"darkred\",\"skyblue\"), measure = \"weight\")\n",
    "dev.off()"
   ]
  },
  {
   "cell_type": "code",
   "execution_count": null,
   "metadata": {
    "vscode": {
     "languageId": "r"
    }
   },
   "outputs": [],
   "source": [
    "netVisual_diffInteraction(cellchat, sources.use = c(\"Tumor\",\"SPP1..Macro\", \"IL1B..Macro\", \"C1QC..Macro\"), comparison = c(1,2),\n",
    "targets.use = c(\"Tumor\",\"SPP1..Macro\", \"IL1B..Macro\", \"C1QC..Macro\"), weight.scale = T, measure = \"weight\")\n",
    "\n",
    "pdf(\"Results/10.NPC_ST_Analysis/Spatial_netVisual_diffInteraction.pdf\", width = 6, height = 6)  # You can adjust width and height as needed\n",
    "netVisual_diffInteraction(cellchat, sources.use = c(\"Tumor\",\"SPP1..Macro\", \"IL1B..Macro\", \"C1QC..Macro\"), comparison = c(1,2),\n",
    "targets.use = c(\"Tumor\",\"SPP1..Macro\", \"IL1B..Macro\", \"C1QC..Macro\"), weight.scale = T, measure = \"weight\")\n",
    "dev.off()\n",
    "dev.off()"
   ]
  },
  {
   "cell_type": "code",
   "execution_count": null,
   "metadata": {
    "vscode": {
     "languageId": "r"
    }
   },
   "outputs": [],
   "source": [
    "netVisual_heatmap(cellchat, sources.use = c(\"Tumor\",\"SPP1..Macro\", \"IL1B..Macro\", \"C1QC..Macro\"), comparison = c(1,2),\n",
    "targets.use = c(\"Tumor\",\"SPP1..Macro\", \"IL1B..Macro\", \"C1QC..Macro\"), measure = \"weight\", color.heatmap = c('#2166ac','#b2182b'))\n",
    "\n",
    "pdf(\"Results/10.NPC_ST_Analysis/Spatial_netVisual_heatmap.pdf\", width = 5, height = 4.5)  # You can adjust width and height as needed\n",
    "netVisual_heatmap(cellchat, sources.use = c(\"Tumor\",\"SPP1..Macro\", \"IL1B..Macro\", \"C1QC..Macro\"), comparison = c(1,2),\n",
    "targets.use = c(\"Tumor\",\"SPP1..Macro\", \"IL1B..Macro\", \"C1QC..Macro\"), measure = \"weight\", color.heatmap = c('#2166ac','#b2182b'))\n",
    "dev.off()"
   ]
  },
  {
   "cell_type": "code",
   "execution_count": null,
   "metadata": {
    "vscode": {
     "languageId": "r"
    }
   },
   "outputs": [],
   "source": [
    "pdf(\"Results/10.NPC_ST_Analysis/Spatial_netVisual_aggregate_SPP1_MIF.pdf.pdf\", width = 10, height = 8)  # You can adjust width and height as needed\n",
    "\n",
    "par(mfrow = c(2,2), xpd=TRUE)\n",
    "\n",
    "pathways.show <- c(\"MIF\") \n",
    "weight.max <- getMaxWeight(object.list, slot.name = c(\"netP\"), attribute = pathways.show) # control the edge weights across different datasets\n",
    "for (i in 1:length(object.list)) {\n",
    "  netVisual_aggregate(object.list[[i]], signaling = pathways.show, layout = \"circle\", edge.weight.max = weight.max[1], edge.width.max = 10, \n",
    "  sources.use = c(\"Tumor\"),\n",
    "targets.use = c(\"Tumor\",\"SPP1..Macro\", \"IL1B..Macro\", \"C1QC..Macro\"),\n",
    "signaling.name = paste(pathways.show, names(object.list)[i]))\n",
    "}\n",
    "\n",
    "pathways.show <- c(\"SPP1\") \n",
    "weight.max <- getMaxWeight(object.list, slot.name = c(\"netP\"), attribute = pathways.show) # control the edge weights across different datasets\n",
    "for (i in 1:length(object.list)) {\n",
    "  netVisual_aggregate(object.list[[i]], signaling = pathways.show, layout = \"circle\", edge.weight.max = weight.max[1], edge.width.max = 10, \n",
    "  sources.use = c(\"SPP1..Macro\"),\n",
    "targets.use = c(\"Tumor\",\"SPP1..Macro\", \"IL1B..Macro\", \"C1QC..Macro\"),\n",
    "signaling.name = paste(pathways.show, names(object.list)[i]))\n",
    "}\n",
    "\n",
    "dev.off()"
   ]
  },
  {
   "cell_type": "code",
   "execution_count": null,
   "metadata": {
    "vscode": {
     "languageId": "r"
    }
   },
   "outputs": [],
   "source": [
    "rankNet(cellchat, mode = \"comparison\", measure = \"weight\", color.use = c(\"darkred\",\"skyblue\"), signaling = c(\"CCL\",\"CXCL\",\"FGF\",\"SPP1\",\"MIF\"), stacked = T, do.stat = TRUE)\n",
    "\n",
    "pdf(\"Results/10.NPC_ST_Analysis/Spatial_rankNet.pdf\", width = 4, height = 6)  # You can adjust width and height as needed\n",
    "rankNet(cellchat, mode = \"comparison\", measure = \"weight\", signaling = c(\"CCL\",\"CXCL\",\"FGF\",\"SPP1\",\"MIF\"), stacked = T, do.stat = TRUE)\n",
    "dev.off()"
   ]
  },
  {
   "cell_type": "code",
   "execution_count": null,
   "metadata": {
    "vscode": {
     "languageId": "r"
    }
   },
   "outputs": [],
   "source": [
    "pairLR.use <- extractEnrichedLR(cellchat, signaling = c(\"CCL\",\"CXCL\",\"EGF\",\"SPP1\"))\n",
    "n1 <- netVisual_bubble(cellchat, sources.use = c(\"SPP1..Macro\"), targets.use = c(\"Tumor\",\"SPP1..Macro\", \"IL1B..Macro\", \"C1QC..Macro\"), pairLR.use = pairLR.use, comparison = c(1, 2), angle.x = 45)\n",
    "n1\n",
    "\n",
    "\n",
    "pdf(\"Results/10.NPC_ST_Analysis/Spatial_netVisual_bubble1.pdf\", width = 8, height = 6)  # You can adjust width and height as needed\n",
    "netVisual_bubble(cellchat, sources.use = c(\"SPP1..Macro\"), targets.use = c(\"Tumor\",\"SPP1..Macro\", \"IL1B..Macro\", \"C1QC..Macro\"), pairLR.use = pairLR.use, comparison = c(1, 2), angle.x = 45)\n",
    "n1\n",
    "dev.off()\n"
   ]
  },
  {
   "cell_type": "code",
   "execution_count": null,
   "metadata": {
    "vscode": {
     "languageId": "r"
    }
   },
   "outputs": [],
   "source": [
    "pairLR.use <- extractEnrichedLR(cellchat, signaling = c(\"CCL\",\"CXCL\",\"EGF\",\"MIF\"))\n",
    "n2 <- netVisual_bubble(cellchat, sources.use = c(\"Tumor\"), targets.use = c(\"Tumor\",\"SPP1..Macro\", \"IL1B..Macro\", \"C1QC..Macro\"), pairLR.use = pairLR.use, comparison = c(1, 2), angle.x = 45)\n",
    "n2\n",
    "\n",
    "pdf(\"Results/10.NPC_ST_Analysis/Spatial_netVisual_bubble2.pdf\", width = 8, height = 6)  # You can adjust width and height as needed\n",
    "netVisual_bubble(cellchat, sources.use = c(\"Tumor\"), targets.use = c(\"Tumor\",\"SPP1..Macro\", \"IL1B..Macro\", \"C1QC..Macro\"), pairLR.use = pairLR.use, comparison = c(1, 2), angle.x = 45)\n",
    "dev.off()"
   ]
  },
  {
   "cell_type": "code",
   "execution_count": null,
   "metadata": {
    "vscode": {
     "languageId": "r"
    }
   },
   "outputs": [],
   "source": [
    "pathways.show <- c(\"MIF\") \n",
    "weight.max <- getMaxWeight(object.list, slot.name = c(\"netP\"), attribute = pathways.show) # control the edge weights across different datasets\n",
    "par(mfrow = c(1,2), xpd=TRUE)\n",
    "for (i in 1:length(object.list)) {\n",
    "  netVisual_aggregate(object.list[[i]], signaling = pathways.show, layout = \"circle\", edge.weight.max = weight.max[1], edge.width.max = 10, signaling.name = paste(pathways.show, names(object.list)[i]))\n",
    "}"
   ]
  },
  {
   "cell_type": "code",
   "execution_count": null,
   "metadata": {
    "vscode": {
     "languageId": "r"
    }
   },
   "outputs": [],
   "source": [
    "# Spatial plot\n",
    "pathways.show <- c(\"SPP1\") \n",
    "\n",
    "netVisual_aggregate(cellchat_Niche4, signaling = pathways.show, sample.use = \"NPC_ST16\", layout = \"spatial\", \n",
    "sources.use = c(\"Tumor\",\"SPP1..Macro\", \"IL1B..Macro\", \"C1QC..Macro\"), \n",
    "targets.use = c(\"Tumor\",\"SPP1..Macro\", \"IL1B..Macro\", \"C1QC..Macro\"),\n",
    "edge.width.max = 2, alpha.image = 0.2, vertex.size.max = 0.1, vertex.label.cex = 0, vertex.weight = 1)\n",
    "\n",
    "netVisual_aggregate(cellchat_Niche4, signaling = pathways.show, sample.use = \"NPC_ST17\", layout = \"spatial\", \n",
    "sources.use = c(\"Tumor\",\"SPP1..Macro\", \"IL1B..Macro\", \"C1QC..Macro\"), \n",
    "targets.use = c(\"Tumor\",\"SPP1..Macro\", \"IL1B..Macro\", \"C1QC..Macro\"),\n",
    "edge.width.max = 2, alpha.image = 0.2, vertex.size.max = 0.1, vertex.label.cex = 0, vertex.weight = 1)\n",
    "\n",
    "netVisual_aggregate(cellchat_Niche4, signaling = pathways.show, sample.use = \"NPC_ST18\", layout = \"spatial\", \n",
    "sources.use = c(\"Tumor\",\"SPP1..Macro\", \"IL1B..Macro\", \"C1QC..Macro\"), \n",
    "targets.use = c(\"Tumor\",\"SPP1..Macro\", \"IL1B..Macro\", \"C1QC..Macro\"),\n",
    "edge.width.max = 2, alpha.image = 0.2, vertex.size.max = 0.1, vertex.label.cex = 0, vertex.weight = 1)\n",
    "\n",
    "netVisual_aggregate(cellchat_Niche4, signaling = pathways.show, sample.use = \"NPC_ST19\", layout = \"spatial\", \n",
    "sources.use = c(\"Tumor\",\"SPP1..Macro\", \"IL1B..Macro\", \"C1QC..Macro\"),\n",
    "targets.use = c(\"Tumor\",\"SPP1..Macro\", \"IL1B..Macro\", \"C1QC..Macro\"),\n",
    "edge.width.max = 2, alpha.image = 0.2, vertex.size.max = 0.1, vertex.label.cex = 0, vertex.weight = 1)"
   ]
  },
  {
   "cell_type": "code",
   "execution_count": null,
   "metadata": {
    "vscode": {
     "languageId": "r"
    }
   },
   "outputs": [],
   "source": [
    "library(ggplot2)\n",
    "library(ggpubr)\n",
    "\n",
    "plot1 <- netVisual_aggregate(cellchat_Niche4, signaling = c(\"MIF\"), sample.use = \"NPC_ST16\", layout = \"spatial\", \n",
    "                             sources.use = c(\"Tumor\", \"SPP1..Macro\", \"IL1B..Macro\", \"C1QC..Macro\"), \n",
    "                             targets.use = c(\"Tumor\", \"SPP1..Macro\", \"IL1B..Macro\", \"C1QC..Macro\"),\n",
    "                             edge.width.max = 2, alpha.image = 0.2, vertex.size.max = 0.1, vertex.label.cex = 0, vertex.weight = 1)\n",
    "\n",
    "plot2 <- netVisual_aggregate(cellchat_Niche4, signaling = c(\"MIF\"), sample.use = \"NPC_ST17\", layout = \"spatial\", \n",
    "                             sources.use = c(\"Tumor\", \"SPP1..Macro\", \"IL1B..Macro\", \"C1QC..Macro\"), \n",
    "                             targets.use = c(\"Tumor\", \"SPP1..Macro\", \"IL1B..Macro\", \"C1QC..Macro\"),\n",
    "                             edge.width.max = 2, alpha.image = 0.2, vertex.size.max = 0.1, vertex.label.cex = 0, vertex.weight = 1)\n",
    "\n",
    "plot3 <- netVisual_aggregate(cellchat_Niche4, signaling = c(\"MIF\"), sample.use = \"NPC_ST18\", layout = \"spatial\", \n",
    "                             sources.use = c(\"Tumor\", \"SPP1..Macro\", \"IL1B..Macro\", \"C1QC..Macro\"), \n",
    "                             targets.use = c(\"Tumor\", \"SPP1..Macro\", \"IL1B..Macro\", \"C1QC..Macro\"),\n",
    "                             edge.width.max = 2, alpha.image = 0.2, vertex.size.max = 0.1, vertex.label.cex = 0, vertex.weight = 1)\n",
    "\n",
    "plot4 <- netVisual_aggregate(cellchat_Niche4, signaling = c(\"MIF\"), sample.use = \"NPC_ST19\", layout = \"spatial\", \n",
    "                             sources.use = c(\"Tumor\", \"SPP1..Macro\", \"IL1B..Macro\", \"C1QC..Macro\"),\n",
    "                             targets.use = c(\"Tumor\", \"SPP1..Macro\", \"IL1B..Macro\", \"C1QC..Macro\"),\n",
    "                             edge.width.max = 2, alpha.image = 0.2, vertex.size.max = 0.1, vertex.label.cex = 0, vertex.weight = 1)\n",
    "\n",
    "plot5 <- netVisual_aggregate(cellchat_Niche4, signaling = c(\"SPP1\"), sample.use = \"NPC_ST16\", layout = \"spatial\", \n",
    "                             sources.use = c(\"Tumor\", \"SPP1..Macro\", \"IL1B..Macro\", \"C1QC..Macro\"), \n",
    "                             targets.use = c(\"Tumor\", \"SPP1..Macro\", \"IL1B..Macro\", \"C1QC..Macro\"),\n",
    "                             edge.width.max = 2, alpha.image = 0.2, vertex.size.max = 0.1, vertex.label.cex = 0, vertex.weight = 1)\n",
    "\n",
    "plot6 <- netVisual_aggregate(cellchat_Niche4, signaling = c(\"SPP1\"), sample.use = \"NPC_ST17\", layout = \"spatial\", \n",
    "                             sources.use = c(\"Tumor\", \"SPP1..Macro\", \"IL1B..Macro\", \"C1QC..Macro\"), \n",
    "                             targets.use = c(\"Tumor\", \"SPP1..Macro\", \"IL1B..Macro\", \"C1QC..Macro\"),\n",
    "                             edge.width.max = 2, alpha.image = 0.2, vertex.size.max = 0.1, vertex.label.cex = 0, vertex.weight = 1)\n",
    "\n",
    "plot7 <- netVisual_aggregate(cellchat_Niche4, signaling = c(\"SPP1\"), sample.use = \"NPC_ST18\", layout = \"spatial\", \n",
    "                             sources.use = c(\"Tumor\", \"SPP1..Macro\", \"IL1B..Macro\", \"C1QC..Macro\"), \n",
    "                             targets.use = c(\"Tumor\", \"SPP1..Macro\", \"IL1B..Macro\", \"C1QC..Macro\"),\n",
    "                             edge.width.max = 2, alpha.image = 0.2, vertex.size.max = 0.1, vertex.label.cex = 0, vertex.weight = 1)\n",
    "\n",
    "plot8 <- netVisual_aggregate(cellchat_Niche4, signaling = c(\"SPP1\"), sample.use = \"NPC_ST19\", layout = \"spatial\", \n",
    "                             sources.use = c(\"Tumor\", \"SPP1..Macro\", \"IL1B..Macro\", \"C1QC..Macro\"),\n",
    "                             targets.use = c(\"Tumor\", \"SPP1..Macro\", \"IL1B..Macro\", \"C1QC..Macro\"),\n",
    "                             edge.width.max = 2, alpha.image = 0.2, vertex.size.max = 0.1, vertex.label.cex = 0, vertex.weight = 1)\n",
    "\n",
    "combined_plot <- ggarrange(plot1, plot2, plot3, plot4, plot5, plot6, plot7, plot8,\n",
    "                           ncol = 4, nrow = 2, \n",
    "                           common.legend = TRUE, legend = \"top\")\n",
    "\n",
    "ggsave(\"Results/10.NPC_ST_Analysis/Spatial_cellchat_SPP1_MIF.pdf\", combined_plot, width = 16, height = 8)"
   ]
  },
  {
   "cell_type": "code",
   "execution_count": null,
   "metadata": {
    "vscode": {
     "languageId": "r"
    }
   },
   "outputs": [],
   "source": [
    "sessionInfo()"
   ]
  }
 ],
 "metadata": {
  "kernelspec": {
   "display_name": "NPC_Renv",
   "language": "R",
   "name": "npc_renv"
  },
  "language_info": {
   "codemirror_mode": "r",
   "file_extension": ".r",
   "mimetype": "text/x-r-source",
   "name": "R",
   "pygments_lexer": "r",
   "version": "4.3.3"
  }
 },
 "nbformat": 4,
 "nbformat_minor": 2
}
