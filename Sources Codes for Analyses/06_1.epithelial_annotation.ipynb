{
 "cells": [
  {
   "cell_type": "markdown",
   "id": "fa8cf4d9",
   "metadata": {},
   "source": [
    "**<span style=\"color:darkred; font-size:22px;\">06_1. Epithelial Cells  -- Cell Annotation</span>**\n",
    "\n",
    "<div style=\"text-align: left;\">\n",
    "    <p style=\"text-align: left;\">Updated Time: 2025-01-19</p>\n",
    "</div>"
   ]
  },
  {
   "cell_type": "markdown",
   "id": "6f514896",
   "metadata": {},
   "source": [
    "##### Load libraries"
   ]
  },
  {
   "cell_type": "code",
   "execution_count": null,
   "id": "eb23983e",
   "metadata": {
    "ExecuteTime": {
     "end_time": "2023-08-31T13:06:17.697146Z",
     "start_time": "2023-08-31T13:04:25.828612Z"
    },
    "execution": {
     "iopub.execute_input": "2024-06-15T13:19:26.219946Z",
     "iopub.status.busy": "2024-06-15T13:19:26.219466Z",
     "iopub.status.idle": "2024-06-15T13:19:33.214784Z",
     "shell.execute_reply": "2024-06-15T13:19:33.213445Z",
     "shell.execute_reply.started": "2024-06-15T13:19:26.219900Z"
    },
    "tags": []
   },
   "outputs": [],
   "source": [
    "import os\n",
    "import sys\n",
    "import numpy as np\n",
    "import pandas as pd\n",
    "import scanpy as sc\n",
    "import anndata as ad\n",
    "import infercnvpy as cnv\n",
    "import matplotlib.pyplot as plt\n",
    "import seaborn as sns\n",
    "import omicverse as ov\n",
    "ov.plot_set()\n",
    "\n",
    "import warnings\n",
    "warnings.simplefilter(\"ignore\")"
   ]
  },
  {
   "cell_type": "markdown",
   "id": "904add21",
   "metadata": {},
   "source": [
    "##### Set working directory for analysis"
   ]
  },
  {
   "cell_type": "code",
   "execution_count": null,
   "id": "6911b3fd",
   "metadata": {
    "ExecuteTime": {
     "end_time": "2023-08-31T13:06:17.699085Z",
     "start_time": "2023-08-31T13:04:26.492Z"
    },
    "execution": {
     "iopub.execute_input": "2024-06-15T13:19:33.219500Z",
     "iopub.status.busy": "2024-06-15T13:19:33.217975Z",
     "iopub.status.idle": "2024-06-15T13:19:33.226800Z",
     "shell.execute_reply": "2024-06-15T13:19:33.225553Z",
     "shell.execute_reply.started": "2024-06-15T13:19:33.219453Z"
    },
    "tags": []
   },
   "outputs": [],
   "source": [
    "cwd = '/media/bio/Disk/Research Data/EBV/omicverse'\n",
    "os.chdir(cwd)\n",
    "updated_dir = os.getcwd()\n",
    "print(\"Updated working directory: \", updated_dir)\n",
    "\n",
    "from pathlib import Path\n",
    "saving_dir = Path('Results/06.Epithelial')\n",
    "saving_dir.mkdir(parents=True, exist_ok=True)"
   ]
  },
  {
   "cell_type": "markdown",
   "id": "6cc21525",
   "metadata": {},
   "source": [
    "#### Reading in annotated AnnData object"
   ]
  },
  {
   "cell_type": "code",
   "execution_count": null,
   "id": "f563e311",
   "metadata": {
    "ExecuteTime": {
     "end_time": "2023-08-11T06:19:50.673997Z",
     "start_time": "2023-08-11T06:18:35.382768Z"
    },
    "execution": {
     "iopub.execute_input": "2024-06-15T13:19:38.309825Z",
     "iopub.status.busy": "2024-06-15T13:19:38.305191Z",
     "iopub.status.idle": "2024-06-15T13:20:07.483458Z",
     "shell.execute_reply": "2024-06-15T13:20:07.482297Z",
     "shell.execute_reply.started": "2024-06-15T13:19:38.309740Z"
    },
    "scrolled": true,
    "tags": []
   },
   "outputs": [],
   "source": [
    "adata = sc.read_h5ad(\"Processed Data/scRNA_Annotation.h5ad\")\n",
    "adata"
   ]
  },
  {
   "cell_type": "markdown",
   "id": "e614cbe8",
   "metadata": {},
   "source": [
    "##### Select Epithelial cells for downstream analysis"
   ]
  },
  {
   "cell_type": "code",
   "execution_count": null,
   "id": "3af3ede0-acae-4c04-8ce9-794368325763",
   "metadata": {
    "execution": {
     "iopub.execute_input": "2024-06-15T13:20:07.485388Z",
     "iopub.status.busy": "2024-06-15T13:20:07.484986Z",
     "iopub.status.idle": "2024-06-15T13:20:25.323871Z",
     "shell.execute_reply": "2024-06-15T13:20:25.322565Z",
     "shell.execute_reply.started": "2024-06-15T13:20:07.485364Z"
    },
    "tags": []
   },
   "outputs": [],
   "source": [
    "adata_epi = adata[adata.obs['Cell_type'].isin(['Epithelial'])].copy()\n",
    "print(np.min(adata_epi.X), np.max(adata_epi.X))"
   ]
  },
  {
   "cell_type": "code",
   "execution_count": null,
   "id": "b6a7f8b5-6a0a-4bbe-b5d6-6f7213e69250",
   "metadata": {
    "execution": {
     "iopub.execute_input": "2024-06-15T13:20:25.326461Z",
     "iopub.status.busy": "2024-06-15T13:20:25.325747Z",
     "iopub.status.idle": "2024-06-15T13:20:25.335731Z",
     "shell.execute_reply": "2024-06-15T13:20:25.334754Z",
     "shell.execute_reply.started": "2024-06-15T13:20:25.326410Z"
    },
    "tags": []
   },
   "outputs": [],
   "source": [
    "adata_epi.obs['EBV_status'] = adata_epi.obs['EBV_status'].cat.reorder_categories(['Normal','Negative','Positive'])\n",
    "for i in adata_epi.obs['EBV_status'].cat.categories:\n",
    "  number = len(adata_epi.obs[adata_epi.obs['EBV_status']==i])\n",
    "  print('the number of category {} is {}'.format(i,number))"
   ]
  },
  {
   "cell_type": "markdown",
   "id": "90bae62b-8d76-4aff-8c9c-a42e48adf14d",
   "metadata": {
    "tags": []
   },
   "source": [
    "### Infer CNV on all epithelial cells"
   ]
  },
  {
   "cell_type": "markdown",
   "id": "fe6c0dfb",
   "metadata": {},
   "source": [
    "##### Download the gencode.v44.annotation.gtf"
   ]
  },
  {
   "cell_type": "code",
   "execution_count": null,
   "id": "69bde3fa-d82e-46bf-93e9-974ab3ebc3c5",
   "metadata": {
    "execution": {
     "iopub.execute_input": "2024-06-15T13:20:39.242984Z",
     "iopub.status.busy": "2024-06-15T13:20:39.242557Z",
     "iopub.status.idle": "2024-06-15T13:20:39.247591Z",
     "shell.execute_reply": "2024-06-15T13:20:39.246218Z",
     "shell.execute_reply.started": "2024-06-15T13:20:39.242958Z"
    },
    "tags": []
   },
   "outputs": [],
   "source": [
    "# https://ftp.ebi.ac.uk/pub/databases/gencode/Gencode_human/release_44/gencode.v44.annotation.gtf.gz\n",
    "gtf_file='/media/bio/Disk/Research Data/EBV/Data/gencode.v44.annotation.gtf.gz' "
   ]
  },
  {
   "cell_type": "code",
   "execution_count": null,
   "id": "dafdfd25-eff1-4cf3-8867-e9ae152541da",
   "metadata": {
    "execution": {
     "iopub.execute_input": "2024-06-15T13:20:39.249365Z",
     "iopub.status.busy": "2024-06-15T13:20:39.249009Z",
     "iopub.status.idle": "2024-06-15T13:21:44.365900Z",
     "shell.execute_reply": "2024-06-15T13:21:44.364814Z",
     "shell.execute_reply.started": "2024-06-15T13:20:39.249341Z"
    },
    "tags": []
   },
   "outputs": [],
   "source": [
    "# The GTF file needs to match the genome annotation used for your single cell dataset.\n",
    "cnv.io.genomic_position_from_gtf(gtf_file, adata=adata_epi, gtf_gene_id='gene_name', inplace=True)"
   ]
  },
  {
   "cell_type": "code",
   "execution_count": null,
   "id": "368c5476-0b78-4845-9e13-0f177322e338",
   "metadata": {
    "execution": {
     "iopub.execute_input": "2024-06-15T13:21:44.367350Z",
     "iopub.status.busy": "2024-06-15T13:21:44.366974Z",
     "iopub.status.idle": "2024-06-15T13:21:44.409402Z",
     "shell.execute_reply": "2024-06-15T13:21:44.408244Z",
     "shell.execute_reply.started": "2024-06-15T13:21:44.367330Z"
    },
    "tags": []
   },
   "outputs": [],
   "source": [
    "adata_epi.var.head()"
   ]
  },
  {
   "cell_type": "markdown",
   "id": "24114f89-456b-471e-8a9d-6af19ba604c7",
   "metadata": {},
   "source": [
    "##### Running infercnv"
   ]
  },
  {
   "cell_type": "code",
   "execution_count": null,
   "id": "2cc5e532-d5a1-446b-b441-d9e7c2f3c660",
   "metadata": {
    "execution": {
     "iopub.execute_input": "2024-06-15T13:21:44.411130Z",
     "iopub.status.busy": "2024-06-15T13:21:44.410732Z",
     "iopub.status.idle": "2024-06-15T13:22:30.003358Z",
     "shell.execute_reply": "2024-06-15T13:22:30.002327Z",
     "shell.execute_reply.started": "2024-06-15T13:21:44.411102Z"
    },
    "tags": []
   },
   "outputs": [],
   "source": [
    "# We provide all epithelial cells from health control sample as \"normal cells\".\n",
    "cnv.tl.infercnv(\n",
    "    adata_epi,\n",
    "    reference_key='EBV_status',\n",
    "    reference_cat=[\n",
    "       'Normal',\n",
    "        ],\n",
    "    window_size=500, \n",
    ")"
   ]
  },
  {
   "cell_type": "markdown",
   "id": "bc688ce2-3dfd-470b-85d6-47811b4f60b2",
   "metadata": {},
   "source": [
    "Now, we can plot smoothed gene expression by tissuetype and chromosome."
   ]
  },
  {
   "cell_type": "code",
   "execution_count": null,
   "id": "40e61901-5960-4995-9b70-64e97557cc39",
   "metadata": {
    "execution": {
     "iopub.execute_input": "2024-06-15T13:22:30.011846Z",
     "iopub.status.busy": "2024-06-15T13:22:30.011668Z",
     "iopub.status.idle": "2024-06-15T13:22:58.035591Z",
     "shell.execute_reply": "2024-06-15T13:22:58.034361Z",
     "shell.execute_reply.started": "2024-06-15T13:22:30.011829Z"
    },
    "scrolled": true,
    "tags": []
   },
   "outputs": [],
   "source": [
    "cnv.pl.chromosome_heatmap(adata_epi, groupby=\"EBV_status\")\n",
    "# adata_epi.obsm[\"X_cnv\"].data = np.clip(adata_epi.obsm[\"X_cnv\"].data, -0.2, 0.2)"
   ]
  },
  {
   "cell_type": "markdown",
   "id": "f5b8bbd4",
   "metadata": {},
   "source": [
    "##### Calculate CNV score for each cell and ithcna/ithgex score for each sample"
   ]
  },
  {
   "cell_type": "code",
   "execution_count": null,
   "id": "39bf5164-248e-4563-8dc8-89262e6773b8",
   "metadata": {
    "execution": {
     "iopub.execute_input": "2024-06-15T13:22:58.038097Z",
     "iopub.status.busy": "2024-06-15T13:22:58.037397Z",
     "iopub.status.idle": "2024-06-15T13:51:09.746391Z",
     "shell.execute_reply": "2024-06-15T13:51:09.744681Z",
     "shell.execute_reply.started": "2024-06-15T13:22:58.038047Z"
    },
    "tags": []
   },
   "outputs": [],
   "source": [
    "barcode_keys = adata_epi.obs.index\n",
    "adata_epi.obs['CellID'] = barcode_keys\n",
    "cnv.tl.cnv_score(adata_epi, groupby='CellID', key_added='cnv_score')\n",
    "# cnv.tl.ithcna(adata_epi, groupby='orig.ident', use_rep='X_cnv', key_added='ithcna', inplace=True)\n",
    "# cnv.tl.ithgex(adata_epi, groupby='orig.ident', use_raw=None, layer=None, inplace=True, key_added='ithgex')\n",
    "\n",
    "adata_epi.obs.head()"
   ]
  },
  {
   "cell_type": "markdown",
   "id": "0860c86d",
   "metadata": {},
   "source": [
    "##### Compare CNV level of different tissue types"
   ]
  },
  {
   "cell_type": "code",
   "execution_count": null,
   "id": "b1048255-4e1f-43e2-ab0e-f17a562a2723",
   "metadata": {
    "execution": {
     "iopub.execute_input": "2024-06-15T13:51:09.748308Z",
     "iopub.status.busy": "2024-06-15T13:51:09.748031Z",
     "iopub.status.idle": "2024-06-15T13:51:14.871120Z",
     "shell.execute_reply": "2024-06-15T13:51:14.870222Z",
     "shell.execute_reply.started": "2024-06-15T13:51:09.748280Z"
    },
    "tags": []
   },
   "outputs": [],
   "source": [
    "plt.rcParams['figure.figsize'] = [5, 5]\n",
    "sc.pl.violin(adata_epi, 'cnv_score', groupby='EBV_status', jitter=0, multi_panel=True, show=False)\n",
    "\n",
    "df = adata_epi.obs[['EBV_status', 'cnv_score']]\n",
    "result = df.groupby('EBV_status')['cnv_score'].agg(['mean', 'std'])\n",
    "print(result)"
   ]
  },
  {
   "cell_type": "markdown",
   "id": "30ad1983",
   "metadata": {},
   "source": [
    "##### Clustering by CNV profiles and identifying tumor cells"
   ]
  },
  {
   "cell_type": "code",
   "execution_count": null,
   "id": "a0f59ee3",
   "metadata": {},
   "outputs": [],
   "source": [
    "cnv.tl.pca(adata_epi)\n",
    "cnv.pp.neighbors(adata_epi)\n",
    "cnv.tl.leiden(adata_epi)"
   ]
  },
  {
   "cell_type": "markdown",
   "id": "5e2d9d27",
   "metadata": {},
   "source": [
    "##### Calculate CNV score for each cnv_leiden"
   ]
  },
  {
   "cell_type": "code",
   "execution_count": null,
   "id": "b05e86d5",
   "metadata": {},
   "outputs": [],
   "source": [
    "cnv.tl.cnv_score(adata_epi, groupby='cnv_leiden', key_added='cnv_cluster')"
   ]
  },
  {
   "cell_type": "code",
   "execution_count": null,
   "id": "840c4958",
   "metadata": {},
   "outputs": [],
   "source": [
    "cnv.pl.chromosome_heatmap(adata_epi, groupby=\"cnv_leiden\", figsize=(10, 6),  dendrogram=True, show=False)\n",
    "\n",
    "plt.savefig('Results/06.Epithelial/06.Epithelial.cnv.pl.chromosome_heatmap.pdf', format='pdf')\n",
    "plt.show()"
   ]
  },
  {
   "cell_type": "markdown",
   "id": "7324fd28",
   "metadata": {},
   "source": [
    "##### UMAP plot of CNV profiles"
   ]
  },
  {
   "cell_type": "code",
   "execution_count": null,
   "id": "47ebd61d",
   "metadata": {},
   "outputs": [],
   "source": [
    "cnv.tl.umap(adata_epi)"
   ]
  },
  {
   "cell_type": "code",
   "execution_count": null,
   "id": "72f4a19d",
   "metadata": {},
   "outputs": [],
   "source": [
    "sc.pl.umap"
   ]
  },
  {
   "cell_type": "code",
   "execution_count": null,
   "id": "2fa0e916",
   "metadata": {},
   "outputs": [],
   "source": [
    "fig, ((ax1, ax2)) = plt.subplots(1, 2, figsize=(7, 3))\n",
    "\n",
    "cnv.pl.umap(adata_epi, color=\"cnv_leiden\", legend_loc=\"on data\", legend_fontoutline=2,  ax=ax1, show=False)\n",
    "cnv.pl.umap(adata_epi, color=\"cnv_score\", ax=ax2, show=False)\n",
    "\n",
    "plt.savefig('Results/06.Epithelial/06.Epithelial_cnv_leiden_score.pdf', format='pdf', bbox_inches='tight')\n",
    "plt.show()"
   ]
  },
  {
   "cell_type": "markdown",
   "id": "57a06729",
   "metadata": {},
   "source": [
    "##### Compare CNV level of different tissue types"
   ]
  },
  {
   "cell_type": "code",
   "execution_count": null,
   "id": "a502323a",
   "metadata": {},
   "outputs": [],
   "source": [
    "sc.pl.violin(adata_epi, 'cnv_score', groupby='cnv_leiden', xlabel=None, \n",
    "                  jitter=0, multi_panel=True, show=True, rotation=90, size=0.8)\n"
   ]
  },
  {
   "cell_type": "code",
   "execution_count": null,
   "id": "d5ec9aea",
   "metadata": {},
   "outputs": [],
   "source": [
    "df = adata_epi.obs[['cnv_leiden', 'cnv_score']]\n",
    "result = df.groupby('cnv_leiden')['cnv_score'].agg(['mean', 'std'])\n",
    "print(result)"
   ]
  },
  {
   "cell_type": "markdown",
   "id": "69972eb9",
   "metadata": {},
   "source": [
    "Stacked Bar Plot of Percentage of Cells Passing QC by Dataset"
   ]
  },
  {
   "cell_type": "code",
   "execution_count": null,
   "id": "2888c1ae",
   "metadata": {},
   "outputs": [],
   "source": [
    "grouped = adata_epi.obs.groupby(['cnv_leiden','EBV_status']).size().unstack(fill_value=0)\n",
    "cross_tab = grouped.div(grouped.sum(axis=1), axis=0) * 100\n",
    "\n",
    "ax = cross_tab.plot(kind='bar', stacked=True, figsize=(12, 4))\n",
    "ax.legend(loc='best', bbox_to_anchor=(1.0, 0.5))\n",
    "ax.grid(False)\n",
    "plt.show()"
   ]
  },
  {
   "cell_type": "code",
   "execution_count": null,
   "id": "4f4f8d8a",
   "metadata": {},
   "outputs": [],
   "source": [
    "adata_epi.obs[\"cnv_status\"] = \"Tumor\"\n",
    "adata_epi.obs.loc[adata_epi.obs[\"cnv_leiden\"].isin([\"3\", \"6\", \"9\", \"13\", \"14\", \"19\",\"24\"]), \"cnv_status\"] = (\n",
    "    \"Normal\"\n",
    ")"
   ]
  },
  {
   "cell_type": "markdown",
   "id": "f3e7b303",
   "metadata": {},
   "source": [
    "##### Compare CNV level of different tissue types"
   ]
  },
  {
   "cell_type": "code",
   "execution_count": null,
   "id": "77cbce2e",
   "metadata": {},
   "outputs": [],
   "source": [
    "fig, ((ax1, ax2)) = plt.subplots(1, 2, figsize=(10, 5))\n",
    "sc.pl.violin(adata_epi, 'cnv_score', groupby='cnv_status', jitter=0, multi_panel=True, ax=ax1, show=False)\n",
    "cnv.pl.umap(adata_epi, color=\"cnv_status\", ax=ax2, show=False)\n",
    "\n",
    "df = adata_epi.obs[['cnv_status', 'cnv_score']]\n",
    "result = df.groupby('cnv_status')['cnv_score'].agg(['mean', 'std'])\n",
    "print(result)"
   ]
  },
  {
   "cell_type": "markdown",
   "id": "c8e1cbae",
   "metadata": {},
   "source": [
    "##### Stacked Bar Plot of Percentage of Cells Passing QC by cnv_status"
   ]
  },
  {
   "cell_type": "code",
   "execution_count": null,
   "id": "ec15d0d5",
   "metadata": {},
   "outputs": [],
   "source": [
    "\n",
    "grouped = adata_epi.obs.groupby(['orig.ident','cnv_status']).size().unstack(fill_value=0)\n",
    "cross_tab = grouped.div(grouped.sum(axis=1), axis=0) * 100\n",
    "\n",
    "ax = cross_tab.plot(kind='bar', stacked=True, figsize=(10, 6))\n",
    "ax.legend(loc='best', bbox_to_anchor=(1.0, 0.5))\n",
    "ax.grid(False)\n",
    "plt.show()"
   ]
  },
  {
   "cell_type": "markdown",
   "id": "1d685805",
   "metadata": {},
   "source": [
    "##### Classification of epithelial cells"
   ]
  },
  {
   "cell_type": "code",
   "execution_count": null,
   "id": "ea6a8beb",
   "metadata": {},
   "outputs": [],
   "source": [
    "adata_epi"
   ]
  },
  {
   "cell_type": "code",
   "execution_count": null,
   "id": "aa5c3640",
   "metadata": {},
   "outputs": [],
   "source": [
    "def define_new_variable(row):\n",
    "    if row['EBV_status'] == 'Normal':\n",
    "        return 'Normal ECs'\n",
    "    elif row['cnv_status'] == 'Normal' and row['EBV_status'] == 'Negative':\n",
    "        return 'EBV- ECs'\n",
    "    elif row['cnv_status'] == 'Normal' and row['EBV_status'] == 'Positive':\n",
    "        return 'EBV+ ECs'\n",
    "    elif row['cnv_status'] == 'Tumor' and row['EBV_status'] == 'Negative':\n",
    "        return 'EBV- CCs'\n",
    "    else:\n",
    "        return 'EBV+ CCs'\n",
    "\n",
    "adata_epi.obs['Epi_celltype'] = adata_epi.obs.apply(define_new_variable, axis=1)\n",
    "\n",
    "categories = ['Normal ECs', 'EBV- ECs', 'EBV+ ECs', 'EBV- CCs', 'EBV+ CCs']\n",
    "adata_epi.obs['Epi_celltype'] = pd.Categorical(adata_epi.obs['Epi_celltype'], categories=categories, ordered=True )"
   ]
  },
  {
   "cell_type": "code",
   "execution_count": null,
   "id": "415f18bd",
   "metadata": {},
   "outputs": [],
   "source": [
    "for i in adata_epi.obs['Epi_celltype'].cat.categories:\n",
    "  number = len(adata_epi.obs[adata_epi.obs['Epi_celltype']==i])\n",
    "  print('the number of category {} is {}'.format(i,number))    "
   ]
  },
  {
   "cell_type": "code",
   "execution_count": null,
   "id": "33188705",
   "metadata": {},
   "outputs": [],
   "source": [
    "fig, ((ax1, ax2)) = plt.subplots(1, 2, figsize=(9, 3.5), gridspec_kw={'width_ratios': [1.25, 1]})\n",
    "\n",
    "sc.pl.violin(adata_epi, 'cnv_score', groupby='cnv_leiden', xlabel=None, ax=ax1, \n",
    "             jitter=0, multi_panel=True, show=False, rotation=90, size=0.5)\n",
    "\n",
    "cnv.pl.umap(adata_epi, color=\"Epi_celltype\", ax=ax2, show=False)\n",
    "\n",
    "ax2.set_title('') \n",
    "ax2.legend(loc='center', bbox_to_anchor=(0.25, 0.82), fontsize=8)\n",
    "\n",
    "\n",
    "plt.savefig('Results/06.Epithelial/06.Epithelial_cnv_leiden_violin_umap.pdf', format='pdf', bbox_inches='tight')\n",
    "plt.show()"
   ]
  },
  {
   "cell_type": "markdown",
   "id": "d2f98fa9",
   "metadata": {},
   "source": [
    "#### Save Epi AnnData object with CNV score"
   ]
  },
  {
   "cell_type": "code",
   "execution_count": null,
   "id": "80478293-0615-4e4f-a98e-c1aca936b088",
   "metadata": {
    "ExecuteTime": {
     "end_time": "2023-08-07T23:25:25.815534Z",
     "start_time": "2023-08-07T23:24:55.208717Z"
    },
    "execution": {
     "iopub.execute_input": "2024-06-15T15:21:38.579469Z",
     "iopub.status.busy": "2024-06-15T15:21:38.579247Z",
     "iopub.status.idle": "2024-06-15T15:22:04.913462Z",
     "shell.execute_reply": "2024-06-15T15:22:04.911578Z",
     "shell.execute_reply.started": "2024-06-15T15:21:38.579449Z"
    },
    "tags": []
   },
   "outputs": [],
   "source": [
    "adata_epi.write_h5ad(\"Processed Data/scRNA_Epi_CNV.h5ad\")"
   ]
  },
  {
   "cell_type": "markdown",
   "id": "eeea0395",
   "metadata": {},
   "source": [
    "\n",
    "**<span style=\"font-size:16px;\">Session information：</span>**"
   ]
  },
  {
   "cell_type": "code",
   "execution_count": null,
   "id": "2de0aef8",
   "metadata": {
    "ExecuteTime": {
     "end_time": "2023-08-07T23:25:25.822088Z",
     "start_time": "2023-08-07T23:25:25.817660Z"
    },
    "execution": {
     "iopub.execute_input": "2024-06-15T15:22:04.915883Z",
     "iopub.status.busy": "2024-06-15T15:22:04.915344Z",
     "iopub.status.idle": "2024-06-15T15:22:06.830326Z",
     "shell.execute_reply": "2024-06-15T15:22:06.829307Z",
     "shell.execute_reply.started": "2024-06-15T15:22:04.915845Z"
    },
    "tags": []
   },
   "outputs": [],
   "source": [
    "import sys\n",
    "import platform\n",
    "import pkg_resources\n",
    "\n",
    "# Get Python version information\n",
    "python_version = sys.version\n",
    "# Get operating system information\n",
    "os_info = platform.platform()\n",
    "# Get system architecture information\n",
    "architecture = platform.architecture()[0]\n",
    "# Get CPU information\n",
    "cpu_info = platform.processor()\n",
    "# Print Session information\n",
    "print(\"Python version:\", python_version)\n",
    "print(\"Operating system:\", os_info)\n",
    "print(\"System architecture:\", architecture)\n",
    "print(\"CPU info:\", cpu_info)\n",
    "\n",
    "# Print imported packages and their versions\n",
    "print(\"\\nImported packages and their versions:\")\n",
    "for package in pkg_resources.working_set:\n",
    "    print(package.key, package.version)"
   ]
  }
 ],
 "metadata": {
  "kernelspec": {
   "display_name": "npc_env",
   "language": "python",
   "name": "python3"
  },
  "language_info": {
   "codemirror_mode": {
    "name": "ipython",
    "version": 3
   },
   "file_extension": ".py",
   "mimetype": "text/x-python",
   "name": "python",
   "nbconvert_exporter": "python",
   "pygments_lexer": "ipython3",
   "version": "3.10.13"
  },
  "toc": {
   "base_numbering": 1,
   "nav_menu": {},
   "number_sections": true,
   "sideBar": true,
   "skip_h1_title": false,
   "title_cell": "Table of Contents",
   "title_sidebar": "Contents",
   "toc_cell": false,
   "toc_position": {},
   "toc_section_display": true,
   "toc_window_display": false
  }
 },
 "nbformat": 4,
 "nbformat_minor": 5
}
