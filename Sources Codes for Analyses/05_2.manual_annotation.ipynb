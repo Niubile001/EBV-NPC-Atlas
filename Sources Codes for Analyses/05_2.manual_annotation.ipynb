{
 "cells": [
  {
   "cell_type": "markdown",
   "id": "fa8cf4d9",
   "metadata": {},
   "source": [
    "## 05_2. Manual Major Cell Type Annotation\n",
    "\n",
    "<div style=\"text-align: left;\">\n",
    "    <p style=\"text-align: left;\">Updated Time: 2024-02-12</p>\n",
    "</div>"
   ]
  },
  {
   "cell_type": "markdown",
   "id": "6f514896",
   "metadata": {},
   "source": [
    "##### Load libraries"
   ]
  },
  {
   "cell_type": "code",
   "execution_count": null,
   "id": "eb23983e",
   "metadata": {
    "ExecuteTime": {
     "end_time": "2023-08-08T07:50:19.351180Z",
     "start_time": "2023-08-08T07:48:08.500039Z"
    },
    "execution": {
     "iopub.execute_input": "2024-05-18T13:27:01.698023Z",
     "iopub.status.busy": "2024-05-18T13:27:01.697531Z",
     "iopub.status.idle": "2024-05-18T13:27:12.533160Z",
     "shell.execute_reply": "2024-05-18T13:27:12.531488Z",
     "shell.execute_reply.started": "2024-05-18T13:27:01.697971Z"
    },
    "tags": []
   },
   "outputs": [],
   "source": [
    "import os\n",
    "import sys\n",
    "import numpy as np\n",
    "import anndata\n",
    "import scanpy as sc\n",
    "import pandas as pd\n",
    "from matplotlib.pyplot import rc_context\n",
    "import matplotlib.pyplot as plt\n",
    "import seaborn as sns\n",
    "\n",
    "import omicverse as ov\n",
    "ov.plot_set()\n",
    "\n",
    "import warnings\n",
    "warnings.simplefilter(\"ignore\")"
   ]
  },
  {
   "cell_type": "markdown",
   "id": "904add21",
   "metadata": {},
   "source": [
    "##### Set working directory  for analysis"
   ]
  },
  {
   "cell_type": "code",
   "execution_count": null,
   "id": "6911b3fd",
   "metadata": {
    "ExecuteTime": {
     "end_time": "2023-08-07T17:25:31.271093Z",
     "start_time": "2023-08-07T17:25:31.267640Z"
    },
    "execution": {
     "iopub.execute_input": "2024-05-18T13:27:12.536678Z",
     "iopub.status.busy": "2024-05-18T13:27:12.535761Z",
     "iopub.status.idle": "2024-05-18T13:27:12.543665Z",
     "shell.execute_reply": "2024-05-18T13:27:12.542686Z",
     "shell.execute_reply.started": "2024-05-18T13:27:12.536648Z"
    },
    "tags": []
   },
   "outputs": [],
   "source": [
    "working_dir = '/media/bio/Disk/Research Data/EBV/omicverse'\n",
    "os.chdir(working_dir)\n",
    "updated_dir = os.getcwd()\n",
    "print(\"Updated working directory: \", updated_dir)\n",
    "\n",
    "from pathlib import Path\n",
    "saving_dir = Path('Results/05.celltype_annotation')\n",
    "saving_dir.mkdir(parents=True, exist_ok=True)"
   ]
  },
  {
   "cell_type": "markdown",
   "id": "6cc21525",
   "metadata": {},
   "source": [
    "##### Reading in clustered AnnData object"
   ]
  },
  {
   "cell_type": "code",
   "execution_count": null,
   "id": "f563e311",
   "metadata": {
    "ExecuteTime": {
     "end_time": "2023-08-07T17:27:26.733142Z",
     "start_time": "2023-08-07T17:25:45.341113Z"
    },
    "execution": {
     "iopub.execute_input": "2024-05-18T13:27:18.407720Z",
     "iopub.status.busy": "2024-05-18T13:27:18.406860Z",
     "iopub.status.idle": "2024-05-18T13:27:56.915487Z",
     "shell.execute_reply": "2024-05-18T13:27:56.914505Z",
     "shell.execute_reply.started": "2024-05-18T13:27:18.407686Z"
    },
    "scrolled": true,
    "tags": []
   },
   "outputs": [],
   "source": [
    "adata = sc.read(\"Processed Data/scRNA_Reclustering_AutoAnnotation.h5ad\")\n",
    "adata"
   ]
  },
  {
   "cell_type": "code",
   "execution_count": null,
   "id": "869c1a7e",
   "metadata": {},
   "outputs": [],
   "source": [
    "from scipy.sparse import csr_matrix\n",
    "\n",
    "adata.X = csr_matrix(adata.X)\n"
   ]
  },
  {
   "cell_type": "code",
   "execution_count": null,
   "id": "671ae20e-0edd-4e31-bde5-d56adf81df01",
   "metadata": {
    "execution": {
     "iopub.execute_input": "2024-05-18T13:27:56.917066Z",
     "iopub.status.busy": "2024-05-18T13:27:56.916794Z",
     "iopub.status.idle": "2024-05-18T13:28:00.297201Z",
     "shell.execute_reply": "2024-05-18T13:28:00.296279Z",
     "shell.execute_reply.started": "2024-05-18T13:27:56.917042Z"
    },
    "tags": []
   },
   "outputs": [],
   "source": [
    "print(np.min(adata.X), np.max(adata.X))"
   ]
  },
  {
   "cell_type": "markdown",
   "id": "a67ff604",
   "metadata": {},
   "source": [
    "##### Cell type annotation from marker genes"
   ]
  },
  {
   "cell_type": "markdown",
   "id": "3d25f853",
   "metadata": {},
   "source": [
    "Based on the literature and existing knowledge, a feature dictionary was constructed by integrating the marker genes of each subpopulation obtained from the previous section, defining potential cell subtypes and their corresponding marker genes."
   ]
  },
  {
   "cell_type": "code",
   "execution_count": null,
   "id": "0155ce50",
   "metadata": {
    "ExecuteTime": {
     "end_time": "2023-08-07T23:22:58.780551Z",
     "start_time": "2023-08-07T23:22:27.452356Z"
    },
    "execution": {
     "iopub.execute_input": "2024-05-18T13:28:00.298451Z",
     "iopub.status.busy": "2024-05-18T13:28:00.298246Z",
     "iopub.status.idle": "2024-05-18T13:28:00.637830Z",
     "shell.execute_reply": "2024-05-18T13:28:00.636706Z",
     "shell.execute_reply.started": "2024-05-18T13:28:00.298432Z"
    },
    "tags": []
   },
   "outputs": [],
   "source": [
    "for i in adata.obs['leiden_1_0'].cat.categories:\n",
    "  number = len(adata.obs[adata.obs['leiden_1_0']==i])\n",
    "  print('the number of category {} is {}'.format(i,number))"
   ]
  },
  {
   "cell_type": "markdown",
   "id": "257a5ed6",
   "metadata": {},
   "source": [
    "The marker genes list can be a list or a dictionary. If marker genes List is a dictionary, then plot shows the marker genes grouped and labelled"
   ]
  },
  {
   "cell_type": "code",
   "execution_count": null,
   "id": "4c601119-4f4c-4a87-83f1-fc859d3b962f",
   "metadata": {
    "execution": {
     "iopub.execute_input": "2024-05-18T13:28:07.125242Z",
     "iopub.status.busy": "2024-05-18T13:28:07.124832Z",
     "iopub.status.idle": "2024-05-18T13:28:07.130556Z",
     "shell.execute_reply": "2024-05-18T13:28:07.129638Z",
     "shell.execute_reply.started": "2024-05-18T13:28:07.125222Z"
    },
    "tags": []
   },
   "outputs": [],
   "source": [
    "marker_genes_dict = {\n",
    "        'Epithelial': ['EPCAM', 'KRT18', 'KRT19'],    \n",
    "        'Fibroblasts': ['FN1', 'COL1A1', 'CALD1'],  \n",
    "        'T': ['CD3D','CD4','CD8A'],\n",
    "        'NK': ['NKG7','GNLY','KLRD1'],   \n",
    "        'B': ['CD79A','CD79B','MS4A1'], \n",
    "        'Myeloid':  ['TYROBP','C1QA','LYZ'],\n",
    "        'Plasma': ['CD38','MZB1','JCHAIN'], \n",
    "        'Mast': ['TPSAB1','CPA3','KIT'], \n",
    "        'pDC': ['IRF7','IL3RA','LILRA4'],\n",
    "        'Neutrophils': ['CSF3R','S100A8','S100A9'],\n",
    "}"
   ]
  },
  {
   "cell_type": "markdown",
   "id": "469b822a",
   "metadata": {},
   "source": [
    "##### Dot plots"
   ]
  },
  {
   "cell_type": "markdown",
   "id": "20c8ada0",
   "metadata": {},
   "source": [
    "The dotplot visualization provides a compact way of showing per group, the fraction of cells expressing a gene (dot size) and the mean expression of the gene in those cell (color scale)."
   ]
  },
  {
   "cell_type": "code",
   "execution_count": null,
   "id": "cdf678be",
   "metadata": {
    "ExecuteTime": {
     "end_time": "2023-08-07T23:23:39.972458Z",
     "start_time": "2023-08-07T23:23:31.788093Z"
    },
    "execution": {
     "iopub.execute_input": "2024-05-18T13:28:07.131662Z",
     "iopub.status.busy": "2024-05-18T13:28:07.131345Z",
     "iopub.status.idle": "2024-05-18T13:28:24.737539Z",
     "shell.execute_reply": "2024-05-18T13:28:24.736502Z",
     "shell.execute_reply.started": "2024-05-18T13:28:07.131644Z"
    },
    "tags": []
   },
   "outputs": [],
   "source": [
    "sc.pl.dotplot(adata, marker_genes_dict, 'leiden_1_0', dendrogram=True, use_raw=False, standard_scale='var', show=False)\n",
    "\n",
    "plt.savefig(\"Results/05.celltype_annotation/05. Dotplot_Cluster_Curated_Markers.pdf\", format=\"pdf\", bbox_inches=\"tight\")\n",
    "plt.show()"
   ]
  },
  {
   "cell_type": "markdown",
   "id": "6f92d452",
   "metadata": {},
   "source": [
    "Create a dictionary to map cluster to annotation label"
   ]
  },
  {
   "cell_type": "code",
   "execution_count": null,
   "id": "5af9db87",
   "metadata": {
    "ExecuteTime": {
     "end_time": "2023-08-07T23:23:40.026251Z",
     "start_time": "2023-08-07T23:23:39.973939Z"
    },
    "execution": {
     "iopub.execute_input": "2024-05-18T13:28:24.739004Z",
     "iopub.status.busy": "2024-05-18T13:28:24.738505Z",
     "iopub.status.idle": "2024-05-18T13:29:20.974185Z",
     "shell.execute_reply": "2024-05-18T13:29:20.972992Z",
     "shell.execute_reply.started": "2024-05-18T13:28:24.738983Z"
    },
    "tags": []
   },
   "outputs": [],
   "source": [
    "cluster2annotation = {\n",
    "    '0': 'T',\n",
    "    '1': 'B',\n",
    "    '2': 'B',\n",
    "    '3': 'T',\n",
    "    '4': 'T',\n",
    "    '5': 'T',\n",
    "    '6': 'T',\n",
    "    '7': 'T',\n",
    "    '8': 'Myeloid',\n",
    "    '9': 'NK',\n",
    "    '10': 'Epithelial',\n",
    "    '11': 'Plasma',\n",
    "    '12': 'T',\n",
    "    '13': 'B',\n",
    "    '14': 'pDC',\n",
    "    '15': 'B',\n",
    "    '16': 'B',\n",
    "    '17': 'Fibroblasts',\n",
    "    '18': 'Mast',\n",
    "    '19': 'Neutrophils',\n",
    "    '20': 'Epithelial',\n",
    "    '21': 'T',\n",
    "    '22': 'B',\n",
    "    '23': 'T',\n",
    "}\n",
    "adata.obs['Cell_type'] = adata.obs['leiden_1_0'].map(cluster2annotation).astype('category')\n",
    "adata.obs['Cell_type'] = adata.obs['Cell_type'].cat.reorder_categories(['Epithelial', 'Fibroblasts', 'T','NK','B','Myeloid','Plasma','Mast','pDC','Neutrophils'])"
   ]
  },
  {
   "cell_type": "code",
   "execution_count": null,
   "id": "22847bb3",
   "metadata": {},
   "outputs": [],
   "source": [
    "fig,ax=plt.subplots(figsize = (5,5))\n",
    "colors = sns.color_palette(\"Paired\", n_colors=len(adata.obs['Cell_type'].unique()))\n",
    "ov.pl.embedding(adata,\n",
    "                basis='X_umap',\n",
    "                color='Cell_type',\n",
    "                frameon='small',\n",
    "                palette=colors,\n",
    "                show=False,\n",
    "                ax=ax,)\n",
    "plt.title('',fontsize=10)\n",
    "\n",
    "plt.savefig(\"Results/05.celltype_annotation/05. UMAP_Major_Cell_Type.pdf\", format=\"pdf\", bbox_inches=\"tight\")\n",
    "plt.show()"
   ]
  },
  {
   "cell_type": "markdown",
   "id": "b0c8e790",
   "metadata": {},
   "source": [
    "#### Visualizing marker genes"
   ]
  },
  {
   "cell_type": "markdown",
   "id": "e68f5ade",
   "metadata": {},
   "source": [
    "Visualize marker genes using Heatmap"
   ]
  },
  {
   "cell_type": "code",
   "execution_count": null,
   "id": "fe0a8f1e",
   "metadata": {},
   "outputs": [],
   "source": [
    "ov.pl.marker_heatmap(\n",
    "    adata,\n",
    "    marker_genes_dict,\n",
    "    groupby='Cell_type',\n",
    "    color_map=\"RdBu_r\",\n",
    "    use_raw=False,\n",
    "    standard_scale=\"var\",\n",
    "    expression_cutoff=0.0,\n",
    "    fontsize=12,\n",
    "    bbox_to_anchor=(7, -2),\n",
    "    figsize=(8.5,3),\n",
    "    spines=False,\n",
    "    show_rownames=False,\n",
    "    show_colnames=True,\n",
    ")\n",
    "\n",
    "plt.savefig(\"Results/05.celltype_annotation/05. Heatmap_Cell_type_Marker_Genes.pdf\", format=\"pdf\", bbox_inches=\"tight\")"
   ]
  },
  {
   "cell_type": "markdown",
   "id": "490691d3",
   "metadata": {},
   "source": [
    "#### Visualize marker genes using stacked violing plots"
   ]
  },
  {
   "cell_type": "code",
   "execution_count": null,
   "id": "e6d48c0c",
   "metadata": {},
   "outputs": [],
   "source": [
    "adata"
   ]
  },
  {
   "cell_type": "code",
   "execution_count": null,
   "id": "350cc79e",
   "metadata": {},
   "outputs": [],
   "source": [
    "print(np.min(adata.X), np.max(adata.X))"
   ]
  },
  {
   "cell_type": "markdown",
   "id": "9046953e",
   "metadata": {},
   "source": [
    "#### Save AnnData object with celltype annotation"
   ]
  },
  {
   "cell_type": "code",
   "execution_count": null,
   "id": "a8269387",
   "metadata": {},
   "outputs": [],
   "source": [
    "adata.write_h5ad(\"Processed Data/scRNA_Annotation.h5ad\")"
   ]
  },
  {
   "cell_type": "markdown",
   "id": "6d2769ce",
   "metadata": {},
   "source": [
    "\n",
    "**<span style=\"font-size:16px;\">Session information：</span>**"
   ]
  },
  {
   "cell_type": "code",
   "execution_count": null,
   "id": "2de0aef8",
   "metadata": {
    "ExecuteTime": {
     "end_time": "2023-08-08T07:50:46.827841Z",
     "start_time": "2023-08-08T07:50:44.835552Z"
    },
    "execution": {
     "iopub.execute_input": "2024-05-18T13:32:51.796795Z",
     "iopub.status.busy": "2024-05-18T13:32:51.796162Z",
     "iopub.status.idle": "2024-05-18T13:32:53.711584Z",
     "shell.execute_reply": "2024-05-18T13:32:53.710188Z",
     "shell.execute_reply.started": "2024-05-18T13:32:51.796770Z"
    }
   },
   "outputs": [],
   "source": [
    "import sys\n",
    "import platform\n",
    "import pkg_resources\n",
    "\n",
    "# Get Python version information\n",
    "python_version = sys.version\n",
    "# Get operating system information\n",
    "os_info = platform.platform()\n",
    "# Get system architecture information\n",
    "architecture = platform.architecture()[0]\n",
    "# Get CPU information\n",
    "cpu_info = platform.processor()\n",
    "# Print Session information\n",
    "print(\"Python version:\", python_version)\n",
    "print(\"Operating system:\", os_info)\n",
    "print(\"System architecture:\", architecture)\n",
    "print(\"CPU info:\", cpu_info)\n",
    "\n",
    "# Print imported packages and their versions\n",
    "print(\"\\nImported packages and their versions:\")\n",
    "for package in pkg_resources.working_set:\n",
    "    print(package.key, package.version)"
   ]
  }
 ],
 "metadata": {
  "kernelspec": {
   "display_name": "npc_env",
   "language": "python",
   "name": "python3"
  },
  "language_info": {
   "codemirror_mode": {
    "name": "ipython",
    "version": 3
   },
   "file_extension": ".py",
   "mimetype": "text/x-python",
   "name": "python",
   "nbconvert_exporter": "python",
   "pygments_lexer": "ipython3",
   "version": "3.10.13"
  },
  "toc": {
   "base_numbering": 1,
   "nav_menu": {},
   "number_sections": true,
   "sideBar": true,
   "skip_h1_title": false,
   "title_cell": "Table of Contents",
   "title_sidebar": "Contents",
   "toc_cell": false,
   "toc_position": {},
   "toc_section_display": true,
   "toc_window_display": false
  }
 },
 "nbformat": 4,
 "nbformat_minor": 5
}
