{
 "cells": [
  {
   "cell_type": "markdown",
   "id": "63d054d6",
   "metadata": {},
   "source": [
    "# Spatial functional analysis\n",
    "\n",
    "Spatial transcriptomics technologies yield many molecular readouts that are hard to interpret by themselves. One way of summarizing this information is by inferring biological activities from prior knowledge.\n",
    "\n",
    "In this notebook we showcase how to use `decoupler` for transcription factor and pathway activity inference from a human data-set. The data consists of a 10X Genomics Visium slide of a human lymph node and it is available at their [website](https://www.10xgenomics.com/resources/datasets)."
   ]
  },
  {
   "cell_type": "markdown",
   "id": "88102b2f",
   "metadata": {},
   "source": [
    "\n",
    "<div class=\"alert alert-info\">\n",
    "\n",
    "**Note**\n",
    "    \n",
    "This tutorial assumes that you already know the basics of `decoupler`. Else, check out the [Usage](https://decoupler-py.readthedocs.io/en/latest/notebooks/usage.html) tutorial first.\n",
    "\n",
    "</div>"
   ]
  },
  {
   "cell_type": "markdown",
   "id": "320130bc",
   "metadata": {},
   "source": [
    "## Loading packages\n",
    "\n",
    "First, we need to load the relevant packages, `scanpy` to handle RNA-seq data\n",
    "and `decoupler` to use statistical methods."
   ]
  },
  {
   "cell_type": "code",
   "execution_count": null,
   "id": "c47c625a",
   "metadata": {},
   "outputs": [],
   "source": [
    "import os\n",
    "import sys\n",
    "import numpy as np\n",
    "import pandas as pd\n",
    "import scanpy as sc\n",
    "import decoupler as dc\n",
    "\n",
    "# Plotting options, change to your liking\n",
    "sc.settings.set_figure_params(dpi=200, frameon=False)\n",
    "sc.set_figure_params(dpi=200)\n",
    "sc.set_figure_params(figsize=(4, 4))\n",
    "\n",
    "import matplotlib as mpl\n",
    "from matplotlib import font_manager as fm\n",
    "import matplotlib.pyplot as plt\n",
    "\n",
    "fm.fontManager.addfont(\"/usr/share/fonts/truetype/msttcorefonts/Arial.ttf\")\n",
    "mpl.rcParams.update({\n",
    "    \"font.family\": [\"Arial\", \"Noto Sans\", \"DejaVu Sans\"],\n",
    "    \"mathtext.fontset\": \"dejavusans\",\n",
    "    \"axes.unicode_minus\": False,\n",
    "    \"pdf.fonttype\": 42,\n",
    "    \"svg.fonttype\": \"none\",\n",
    "})"
   ]
  },
  {
   "cell_type": "markdown",
   "id": "41c911fb",
   "metadata": {},
   "source": [
    "##### Set working directory for analysis"
   ]
  },
  {
   "cell_type": "code",
   "execution_count": null,
   "id": "d8db99fc",
   "metadata": {},
   "outputs": [],
   "source": [
    "cwd = '/media/bio/Disk/Research Data/EBV/omicverse'\n",
    "os.chdir(cwd)\n",
    "updated_dir = os.getcwd()\n",
    "print(\"Updated working directory: \", updated_dir)\n",
    "\n",
    "from pathlib import Path\n",
    "saving_dir = Path('Results/10.NPC_ST_Analysis')\n",
    "saving_dir.mkdir(parents=True, exist_ok=True)"
   ]
  },
  {
   "cell_type": "markdown",
   "id": "30ac92bf",
   "metadata": {},
   "source": [
    "## Loading the data"
   ]
  },
  {
   "cell_type": "markdown",
   "id": "29b756b9",
   "metadata": {},
   "source": [
    "#### Reading in annotated AnnData object"
   ]
  },
  {
   "cell_type": "code",
   "execution_count": null,
   "id": "8f1ec342",
   "metadata": {},
   "outputs": [],
   "source": [
    "adata = sc.read_h5ad(\"Processed Data/GSE206245_NPC_ST_Cluster_Tangram.h5ad\")\n",
    "adata"
   ]
  },
  {
   "cell_type": "code",
   "execution_count": null,
   "id": "3c730be2",
   "metadata": {},
   "outputs": [],
   "source": [
    "print(np.min(adata.X), np.max(adata.X))"
   ]
  },
  {
   "cell_type": "markdown",
   "id": "bf228727",
   "metadata": {},
   "source": [
    "## Transcription factor activity inference\n",
    "\n",
    "The first functional analysis we can perform is to infer transcription factor (TF) activities from our transcriptomics data. We will need a gene regulatory network (GRN) and a statistical method.\n",
    "\n",
    "### CollecTRI network\n",
    "[CollecTRI](https://github.com/saezlab/CollecTRI) is a comprehensive resource\n",
    "containing a curated collection of TFs and their transcriptional targets\n",
    "compiled from 12 different resources. This collection provides an increased\n",
    "coverage of transcription factors and a superior performance in identifying\n",
    "perturbed TFs compared to our previous\n",
    "[DoRothEA](https://saezlab.github.io/dorothea/) network and other literature\n",
    "based GRNs. Similar to DoRothEA, interactions are weighted by their mode of\n",
    "regulation (activation or inhibition).\n",
    "\n",
    "For this example we will use the human version (mouse and rat are also\n",
    "available). We can use `decoupler` to retrieve it from `omnipath`. The argument\n",
    "`split_complexes` keeps complexes or splits them into subunits, by default we\n",
    "recommend to keep complexes together.\n",
    "\n",
    "<div class=\"alert alert-info\">\n",
    "\n",
    "**Note**\n",
    "    \n",
    "In this tutorial we use the network CollecTRI, but we could use any other GRN coming from an inference method such as [CellOracle](https://morris-lab.github.io/CellOracle.documentation/), [pySCENIC](https://pyscenic.readthedocs.io/en/latest/) or [SCENIC+](https://scenicplus.readthedocs.io/en/latest/). \n",
    "\n",
    "</div> "
   ]
  },
  {
   "cell_type": "code",
   "execution_count": null,
   "id": "95d4ce38",
   "metadata": {},
   "outputs": [],
   "source": [
    "net = dc.get_collectri(organism='human', split_complexes=False)\n",
    "net"
   ]
  },
  {
   "cell_type": "markdown",
   "id": "b6b8ef82",
   "metadata": {},
   "source": [
    "### Activity inference with Univariate Linear Model (ULM)\n",
    "\n",
    "To infer TF enrichment scores we will run the Univariate Linear Model (`ulm`) method. For each spot in our slide (`adata`) and each TF in our network (`net`), it fits a linear model that predicts the observed gene expression\n",
    "based solely on the TF's TF-Gene interaction weights. Once fitted, the obtained t-value of the slope is the score. If it is positive, we interpret that the TF is active and if it is negative we interpret that it is inactive.\n",
    "\n",
    "\n",
    "To run `decoupler` methods, we need an input matrix (`mat`), an input prior knowledge\n",
    "network/resource (`net`), and the name of the columns of `net` that we want to use."
   ]
  },
  {
   "cell_type": "code",
   "execution_count": null,
   "id": "98fd7d12",
   "metadata": {},
   "outputs": [],
   "source": [
    "dc.run_ulm(\n",
    "    mat=adata,\n",
    "    net=net,\n",
    "    source='source',\n",
    "    target='target',\n",
    "    weight='weight',\n",
    "    verbose=True,\n",
    "    use_raw=False\n",
    ")"
   ]
  },
  {
   "cell_type": "markdown",
   "id": "7bb9a04f",
   "metadata": {},
   "source": [
    "The obtained scores (`ulm_estimate`) and p-values (`ulm_pvals`) are stored in the `.obsm` key:"
   ]
  },
  {
   "cell_type": "code",
   "execution_count": null,
   "id": "227ee8a2",
   "metadata": {},
   "outputs": [],
   "source": [
    "adata.obsm['ulm_estimate']"
   ]
  },
  {
   "cell_type": "markdown",
   "id": "c922903d",
   "metadata": {},
   "source": [
    "**Note**: Each run of `run_ulm` overwrites what is inside of `ulm_estimate` and `ulm_pvals`. if you want to run `ulm` with other resources and still keep the activities inside the same `AnnData` object, you can store the results in any other key in `.obsm` with different names, for example:"
   ]
  },
  {
   "cell_type": "code",
   "execution_count": null,
   "id": "c65e1f0b",
   "metadata": {},
   "outputs": [],
   "source": [
    "adata.obsm['collectri_ulm_estimate'] = adata.obsm['ulm_estimate'].copy()\n",
    "adata.obsm['collectri_ulm_pvals'] = adata.obsm['ulm_pvals'].copy()\n",
    "adata"
   ]
  },
  {
   "cell_type": "markdown",
   "id": "1fa7e7d6",
   "metadata": {},
   "source": [
    "### Visualization\n",
    "\n",
    "To visualize the obtained scores, we can re-use many of `scanpy`'s plotting functions.\n",
    "First though, we need to extract them from the `adata` object."
   ]
  },
  {
   "cell_type": "code",
   "execution_count": null,
   "id": "877a97a0",
   "metadata": {},
   "outputs": [],
   "source": [
    "acts = dc.get_acts(adata, obsm_key='collectri_ulm_estimate')\n",
    "acts"
   ]
  },
  {
   "cell_type": "markdown",
   "id": "b5c3003a",
   "metadata": {},
   "source": [
    "`dc.get_acts` returns a new `AnnData` object which holds the obtained activities in its `.X` attribute, allowing us to re-use many `scanpy` functions, for example:"
   ]
  },
  {
   "cell_type": "code",
   "execution_count": null,
   "id": "43b98351",
   "metadata": {},
   "outputs": [],
   "source": [
    "acts"
   ]
  },
  {
   "cell_type": "markdown",
   "id": "e3019a27",
   "metadata": {},
   "source": [
    "### Exploration\n",
    "\n",
    "Let's identify which are the top TF per cluster. We can do it by using the function `dc.rank_sources_groups`, which identifies marker TFs using the same statistical tests available in scanpy's `scanpy.tl.rank_genes_groups`."
   ]
  },
  {
   "cell_type": "code",
   "execution_count": null,
   "id": "7ec0a2ca",
   "metadata": {},
   "outputs": [],
   "source": [
    "df = dc.rank_sources_groups(acts, groupby='scNiche', reference='rest', method='t-test_overestim_var')\n",
    "df"
   ]
  },
  {
   "cell_type": "markdown",
   "id": "1ea247b4",
   "metadata": {},
   "source": [
    "We can then extract the top 3 markers per cluster:"
   ]
  },
  {
   "cell_type": "code",
   "execution_count": null,
   "id": "0663bc81",
   "metadata": {},
   "outputs": [],
   "source": [
    "n_markers = 5\n",
    "source_markers = df.groupby('group').head(n_markers).groupby('group')['names'].apply(lambda x: list(x)).to_dict()\n",
    "source_markers"
   ]
  },
  {
   "cell_type": "markdown",
   "id": "6ee53d91-14fa-4691-8b15-475a5fdefd6a",
   "metadata": {},
   "source": [
    "We can plot the obtained markers:"
   ]
  },
  {
   "cell_type": "code",
   "execution_count": null,
   "id": "b50df107-9fbe-4dd2-8c62-d0b2d269889a",
   "metadata": {},
   "outputs": [],
   "source": [
    "sc.pl.matrixplot(acts, source_markers, 'scNiche', dendrogram=False, standard_scale='var',\n",
    "                 colorbar_title='Z-scaled scores', cmap='magma',\n",
    "                 save=\"TF_Activities_Spatial_scNiche.pdf\")"
   ]
  },
  {
   "cell_type": "markdown",
   "id": "989e3bfe",
   "metadata": {},
   "source": [
    "## Pathway activity inference\n",
    "\n",
    "We can also infer pathway activities from our transcriptomics data.\n",
    "\n",
    "### PROGENy model\n",
    "\n",
    "[PROGENy](https://saezlab.github.io/progeny/) is a comprehensive resource containing a curated collection of pathways and their target genes, with weights for each interaction.\n",
    "For this example we will use the human weights (other organisms are available) and we will use the top 500 responsive genes ranked by p-value. Here is a brief description of each pathway:\n",
    "\n",
    "- **Androgen**: involved in the growth and development of the male reproductive organs.\n",
    "- **EGFR**: regulates growth, survival, migration, apoptosis, proliferation, and differentiation in mammalian cells\n",
    "- **Estrogen**: promotes the growth and development of the female reproductive organs.\n",
    "- **Hypoxia**: promotes angiogenesis and metabolic reprogramming when O2 levels are low.\n",
    "- **JAK-STAT**: involved in immunity, cell division, cell death, and tumor formation.\n",
    "- **MAPK**: integrates external signals and promotes cell growth and proliferation.\n",
    "- **NFkB**: regulates immune response, cytokine production and cell survival.\n",
    "- **p53**: regulates cell cycle, apoptosis, DNA repair and tumor suppression.\n",
    "- **PI3K**: promotes growth and proliferation.\n",
    "- **TGFb**: involved in development, homeostasis, and repair of most tissues.\n",
    "- **TNFa**: mediates haematopoiesis, immune surveillance, tumour regression and protection from infection.\n",
    "- **Trail**: induces apoptosis.\n",
    "- **VEGF**: mediates angiogenesis, vascular permeability, and cell migration.\n",
    "- **WNT**: regulates organ morphogenesis during development and tissue repair.\n",
    "\n",
    "To access it we can use `decoupler`."
   ]
  },
  {
   "cell_type": "code",
   "execution_count": null,
   "id": "ea8ad4e0",
   "metadata": {},
   "outputs": [],
   "source": [
    "progeny = dc.get_progeny(organism='human', top=100)\n",
    "progeny"
   ]
  },
  {
   "cell_type": "markdown",
   "id": "8bb7b894",
   "metadata": {},
   "source": [
    "### Activity inference with Multivariate Linear Model (MLM)\n",
    "\n",
    "To infer pathway enrichment scores we will run the Multivariate Linear Model (`mlm`) method. For each spot in our slide (`adata`), it fits a linear model that predicts the observed gene expression based on all pathways' Pathway-Gene interactions weights.\n",
    "Once fitted, the obtained t-values of the slopes are the scores. If it is positive, we interpret that the pathway is active and if it is negative we interpret that it is inactive.\n",
    "     \n",
    "We can run `mlm` with a simple one-liner:"
   ]
  },
  {
   "cell_type": "code",
   "execution_count": null,
   "id": "e0d33066",
   "metadata": {},
   "outputs": [],
   "source": [
    "dc.run_mlm(\n",
    "    mat=adata,\n",
    "    net=progeny,\n",
    "    source='source',\n",
    "    target='target',\n",
    "    weight='weight',\n",
    "    verbose=True,\n",
    "    use_raw=False\n",
    ")\n",
    "\n",
    "# Store in new obsm keys\n",
    "adata.obsm['progeny_mlm_estimate'] = adata.obsm['mlm_estimate'].copy()\n",
    "adata.obsm['progeny_mlm_pvals'] = adata.obsm['mlm_pvals'].copy()"
   ]
  },
  {
   "cell_type": "markdown",
   "id": "54373c80",
   "metadata": {},
   "source": [
    "The obtained scores (t-values)(`mlm_estimate`) and p-values (`mlm_pvals`) are stored in the `.obsm` key:"
   ]
  },
  {
   "cell_type": "code",
   "execution_count": null,
   "id": "651190ae",
   "metadata": {},
   "outputs": [],
   "source": [
    "adata.obsm['progeny_mlm_estimate']"
   ]
  },
  {
   "cell_type": "markdown",
   "id": "79ea2abf",
   "metadata": {},
   "source": [
    "### Visualization\n",
    "\n",
    "Like in the previous section, we will extract the activities from the `adata` object."
   ]
  },
  {
   "cell_type": "code",
   "execution_count": null,
   "id": "9df4beba",
   "metadata": {},
   "outputs": [],
   "source": [
    "acts = dc.get_acts(adata, obsm_key='progeny_mlm_estimate')\n",
    "acts"
   ]
  },
  {
   "cell_type": "markdown",
   "id": "19a5ed37",
   "metadata": {},
   "source": [
    "Once extracted we can visualize them:"
   ]
  },
  {
   "cell_type": "code",
   "execution_count": null,
   "id": "c7ee6230",
   "metadata": {},
   "outputs": [],
   "source": [
    "sc.pl.violin(\n",
    "    acts,\n",
    "    keys='EGFR',\n",
    "    groupby='scNiche',\n",
    "    rotation=90\n",
    ")"
   ]
  },
  {
   "cell_type": "markdown",
   "id": "9a173835",
   "metadata": {},
   "source": [
    "Here we show the activity of the pathway Trail, which is associated with apoptosis."
   ]
  },
  {
   "cell_type": "markdown",
   "id": "97d9e5b8",
   "metadata": {},
   "source": [
    "### Exploration\n",
    "\n",
    "We can visualize which pathways are more active in each cluster:"
   ]
  },
  {
   "cell_type": "code",
   "execution_count": null,
   "id": "25eecb72",
   "metadata": {},
   "outputs": [],
   "source": [
    "sc.pl.matrixplot(acts, var_names=acts.var_names, groupby='scNiche', dendrogram=False, standard_scale='var',\n",
    "                 colorbar_title='Z-scaled scores', cmap='magma',\n",
    "                 save=\"PROGENy_Pathways_Spatial_scNiche.pdf\")"
   ]
  },
  {
   "cell_type": "markdown",
   "id": "8e255d51",
   "metadata": {},
   "source": [
    "## Functional enrichment of biological terms\n",
    "\n",
    "Finally, we can also infer activities for general biological terms or processes.\n",
    "\n",
    "### MSigDB gene sets\n",
    "\n",
    "The Molecular Signatures Database ([MSigDB](http://www.gsea-msigdb.org/gsea/msigdb/)) is a resource containing a collection of gene sets annotated to different biological processes."
   ]
  },
  {
   "cell_type": "code",
   "execution_count": null,
   "id": "d7b6773b",
   "metadata": {},
   "outputs": [],
   "source": [
    "# Retrieve MSigDB resource\n",
    "msigdb = dc.get_resource('MSigDB')\n",
    "msigdb"
   ]
  },
  {
   "cell_type": "markdown",
   "id": "ff26ee5e",
   "metadata": {},
   "source": [
    "As an example, we will use the hallmark and stemness gene sets, but we could have used any other. \n",
    "\n",
    "<div class=\"alert alert-info\">\n",
    "\n",
    "**Note**\n",
    "    \n",
    "To see what other collections are available in MSigDB, type: `msigdb['collection'].unique()`.\n",
    "\n",
    "</div>  \n",
    "\n",
    "We can filter by for `hallmark`:"
   ]
  },
  {
   "cell_type": "code",
   "execution_count": null,
   "id": "913d600d",
   "metadata": {},
   "outputs": [],
   "source": [
    "# Filter by hallmark and stemness\n",
    "# msigdb = msigdb[(msigdb['collection'] == 'hallmark') | (msigdb['geneset'] == 'MALTA_CURATED_STEMNESS_MARKERS')]\n",
    "msigdb = msigdb[(msigdb['collection'] == 'hallmark')]\n",
    "\n",
    "# Remove duplicated entries\n",
    "msigdb = msigdb[~msigdb.duplicated(['geneset', 'genesymbol'])]\n",
    "\n",
    "# Rename\n",
    "# Ensure that 'geneset' contains 'HALLMARK_' before splitting\n",
    "def safe_split(name):\n",
    "    if 'HALLMARK_' in name:\n",
    "        return name.split('HALLMARK_')[1]\n",
    "    else:\n",
    "        return 'CURATED_STEMNESS'  # Or return a default value like 'Unknown' if you prefer\n",
    "\n",
    "# Apply the safe_split function to the 'geneset' column\n",
    "msigdb.loc[:, 'geneset'] = msigdb['geneset'].apply(safe_split)\n",
    "\n",
    "# Check the result\n",
    "msigdb"
   ]
  },
  {
   "cell_type": "markdown",
   "id": "d4158047",
   "metadata": {},
   "source": [
    "### Enrichment with Over Representation Analysis (ORA)\n",
    "\n",
    "To infer functional enrichment scores we will run the Over Representation Analysis (`ora`) method.\n",
    "As input data it accepts an expression matrix (`decoupler.run_ora`) or the results of differential expression analysis (`decoupler.run_ora_df`).\n",
    "For the former, by default the top 5% of expressed genes by sample are selected as the set of interest (S*), and for the latter a user-defined\n",
    "significance filtering can be used.\n",
    "Once we have S*, it builds a contingency table using set operations for each set stored in the gene set resource being used (`net`).\n",
    "Using the contingency table, `ora` performs a one-sided Fisher exact test to test for significance of overlap between sets.\n",
    "The final score is obtained by log-transforming the obtained p-values, meaning that higher values are more significant.\n",
    "\n",
    "     \n",
    "We can run `ora` with a simple one-liner:"
   ]
  },
  {
   "cell_type": "code",
   "execution_count": null,
   "id": "86a84836",
   "metadata": {},
   "outputs": [],
   "source": [
    "dc.run_ora(\n",
    "    mat=adata,\n",
    "    net=msigdb,\n",
    "    source='geneset',\n",
    "    target='genesymbol',\n",
    "    verbose=True,\n",
    "    use_raw=False\n",
    ")\n",
    "\n",
    "# Store in a different key\n",
    "adata.obsm['msigdb_ora_estimate'] = adata.obsm['ora_estimate'].copy()\n",
    "adata.obsm['msigdb_ora_pvals'] = adata.obsm['ora_pvals'].copy()"
   ]
  },
  {
   "cell_type": "markdown",
   "id": "37b400ad",
   "metadata": {},
   "source": [
    "The obtained scores (-log10(p-value))(`ora_estimate`) and p-values (`ora_pvals`) are stored in the `.obsm` key:"
   ]
  },
  {
   "cell_type": "code",
   "execution_count": null,
   "id": "beed208d",
   "metadata": {},
   "outputs": [],
   "source": [
    "adata.obsm['msigdb_ora_estimate'].iloc[:, 0:5]"
   ]
  },
  {
   "cell_type": "markdown",
   "id": "83089f62",
   "metadata": {},
   "source": [
    "### Visualization\n",
    "\n",
    "Like in the previous sections, we will extract the activities from the `adata` object."
   ]
  },
  {
   "cell_type": "code",
   "execution_count": null,
   "id": "054d65c7",
   "metadata": {},
   "outputs": [],
   "source": [
    "acts = dc.get_acts(adata, obsm_key='msigdb_ora_estimate')\n",
    "\n",
    "# We need to remove inf and set them to the maximum value observed\n",
    "acts_v = acts.X.ravel()\n",
    "max_e = np.nanmax(acts_v[np.isfinite(acts_v)])\n",
    "acts.X[~np.isfinite(acts.X)] = max_e\n",
    "\n",
    "acts"
   ]
  },
  {
   "cell_type": "markdown",
   "id": "2ce936e9",
   "metadata": {},
   "source": [
    "Once extracted we can visualize them:"
   ]
  },
  {
   "cell_type": "code",
   "execution_count": null,
   "id": "58b75332",
   "metadata": {},
   "outputs": [],
   "source": [
    "sc.pl.matrixplot(\n",
    "    acts,\n",
    "    var_names=acts.var_names,      \n",
    "    groupby='scNiche',      \n",
    "    dendrogram=False,                \n",
    "    standard_scale='var',            \n",
    "    colorbar_title='Z-scaled scores', \n",
    "    cmap='magma',                    \n",
    "    swap_axes=False,                   \n",
    "    save=\"Hallmark_Enrichment_Spatial_scNiche_New.pdf\"\n",
    ")\n"
   ]
  },
  {
   "cell_type": "markdown",
   "id": "aebb1403",
   "metadata": {},
   "source": [
    "### Exploration\n",
    "\n",
    "Let's identify which are the top terms per cluster. We can do it by using the function `dc.rank_sources_groups`, as shown before."
   ]
  },
  {
   "cell_type": "code",
   "execution_count": null,
   "id": "f20fd2a7",
   "metadata": {},
   "outputs": [],
   "source": [
    "df = dc.rank_sources_groups(acts, groupby='scNiche', reference='rest', method='t-test_overestim_var')\n",
    "df"
   ]
  },
  {
   "cell_type": "markdown",
   "id": "69643350",
   "metadata": {},
   "source": [
    "We can then extract the top 5 terms per cluster:"
   ]
  },
  {
   "cell_type": "code",
   "execution_count": null,
   "id": "e8a12d85",
   "metadata": {},
   "outputs": [],
   "source": [
    "n_top = 5\n",
    "term_markers = df.groupby('group').head(n_top).groupby('group')['names'].apply(lambda x: list(x)).to_dict()\n",
    "term_markers"
   ]
  },
  {
   "cell_type": "markdown",
   "id": "def3cf84-2391-4ed2-b3e0-db08b27c9303",
   "metadata": {},
   "source": [
    "We can plot the obtained terms:"
   ]
  },
  {
   "cell_type": "code",
   "execution_count": null,
   "id": "db1ef28c-d4f9-4ef0-9af3-e34341985d0b",
   "metadata": {},
   "outputs": [],
   "source": [
    "# Create the matrix plot and ensure it uses the correct figure\n",
    "sc.pl.matrixplot(acts, term_markers, 'scNiche', dendrogram=False, standard_scale='var',\n",
    "                 colorbar_title='Z-scaled scores', cmap='magma', swap_axes=True, \n",
    "                 save=\"Top_Hallmark_Enrichment_Spatial_scNiche_New.pdf\")"
   ]
  },
  {
   "cell_type": "markdown",
   "id": "bea9f7df",
   "metadata": {},
   "source": [
    "### DIY stemness gene sets"
   ]
  },
  {
   "cell_type": "code",
   "execution_count": null,
   "id": "e0c079bc",
   "metadata": {},
   "outputs": [],
   "source": [
    "# Read gmt file with NA filtering\n",
    "def read_gmt(gmt_file):\n",
    "    with open(gmt_file, 'r') as f:\n",
    "        gene_sets = {}\n",
    "        for line in f:\n",
    "            parts = line.strip().split('\\t')  \n",
    "            gene_name = parts[0]  \n",
    "            genes = [gene for gene in parts[2:] if gene and gene != \"NA\"]  \n",
    "            gene_sets[gene_name] = genes\n",
    "    return gene_sets\n"
   ]
  },
  {
   "cell_type": "code",
   "execution_count": null,
   "id": "d0a88e91",
   "metadata": {},
   "outputs": [],
   "source": [
    "gmt_file = 'Dataset/CURATED_STEMNESS_GENESET_PNAS_2019.gmt'\n",
    "gene_sets = read_gmt(gmt_file)\n",
    "\n",
    "gene_sets"
   ]
  },
  {
   "cell_type": "code",
   "execution_count": null,
   "id": "3ca956e9",
   "metadata": {},
   "outputs": [],
   "source": [
    "# Creat new dataFrame\n",
    "new_data = pd.DataFrame({\n",
    "    'genesymbol': [gene for gene in gene_sets['CURATED_STEMNESS_GENESET_PNAS_2019']],\n",
    "    'collection': ['hallmark'] * len(gene_sets['CURATED_STEMNESS_GENESET_PNAS_2019']),\n",
    "    'geneset': ['Stemness'] * len(gene_sets['CURATED_STEMNESS_GENESET_PNAS_2019'])\n",
    "})\n",
    "new_data"
   ]
  },
  {
   "cell_type": "code",
   "execution_count": null,
   "id": "297c9037",
   "metadata": {},
   "outputs": [],
   "source": [
    "# Merge the new data into the existing msigdb dataset\n",
    "msigdb = pd.concat([msigdb, new_data], ignore_index=True)\n",
    "print(msigdb)"
   ]
  },
  {
   "cell_type": "code",
   "execution_count": null,
   "id": "44a16650",
   "metadata": {},
   "outputs": [],
   "source": [
    "dc.run_ora(\n",
    "    mat=adata,\n",
    "    net=msigdb,\n",
    "    source='geneset',\n",
    "    target='genesymbol',\n",
    "    verbose=True,\n",
    "    use_raw=False\n",
    ")\n",
    "\n",
    "# Store in a different key\n",
    "adata.obsm['msigdb_ora_estimate'] = adata.obsm['ora_estimate'].copy()\n",
    "adata.obsm['msigdb_ora_pvals'] = adata.obsm['ora_pvals'].copy()"
   ]
  },
  {
   "cell_type": "code",
   "execution_count": null,
   "id": "d5d1783a",
   "metadata": {},
   "outputs": [],
   "source": [
    "acts = dc.get_acts(adata, obsm_key='msigdb_ora_estimate')\n",
    "\n",
    "# We need to remove inf and set them to the maximum value observed\n",
    "acts_v = acts.X.ravel()\n",
    "max_e = np.nanmax(acts_v[np.isfinite(acts_v)])\n",
    "acts.X[~np.isfinite(acts.X)] = max_e\n",
    "\n",
    "acts"
   ]
  },
  {
   "cell_type": "code",
   "execution_count": null,
   "id": "c9e668a4",
   "metadata": {},
   "outputs": [],
   "source": [
    "sc.pl.spatial(\n",
    "    acts[acts.obs['sample_id']==\"NPC_ST19\"],\n",
    "    color=['Tumor', 'SPP1+ Macro','Stemness','MYC_TARGETS_V2','E2F_TARGETS','G2M_CHECKPOINT','WNT_BETA_CATENIN_SIGNALING','TGF_BETA_SIGNALING'],\n",
    "    cmap='magma',\n",
    "    size=1.5,\n",
    "    ncols=4,\n",
    "    library_id=\"NPC_ST19\",\n",
    "    frameon=False,\n",
    "    save=\"Top_Hallmark_Enrichment_Spatial_scNiche4_new.pdf\"\n",
    ")"
   ]
  },
  {
   "cell_type": "markdown",
   "id": "312928e9",
   "metadata": {},
   "source": [
    "#### DIY a collection of immune cell function gene sets"
   ]
  },
  {
   "cell_type": "markdown",
   "id": "9dc6ae72",
   "metadata": {},
   "source": [
    "We can easily compute cell type enrichment scores by running the ulm method."
   ]
  },
  {
   "cell_type": "code",
   "execution_count": null,
   "id": "b348d9a9",
   "metadata": {},
   "outputs": [],
   "source": [
    "Immune_Functional_Signatures = pd.read_excel('Dataset/Immune_Functional_Genesets.xlsx', sheet_name=0)\n",
    "Immune_Functional_Signatures.head()"
   ]
  },
  {
   "cell_type": "code",
   "execution_count": null,
   "id": "6b9f73fd",
   "metadata": {},
   "outputs": [],
   "source": [
    "dc.run_ora(\n",
    "    mat=adata,\n",
    "    net=Immune_Functional_Signatures,\n",
    "    source='geneset',\n",
    "    target='genesymbol',\n",
    "    verbose=True,\n",
    "    use_raw=False\n",
    ")\n",
    "\n",
    "# Store in a different key\n",
    "adata.obsm['Immune_Functional_Signatures_ora_estimate'] = adata.obsm['ora_estimate'].copy()\n",
    "adata.obsm['Immune_Functional_Signatures_ora_pvals'] = adata.obsm['ora_pvals'].copy()"
   ]
  },
  {
   "cell_type": "markdown",
   "id": "dee49cb3",
   "metadata": {},
   "source": [
    "### Visualization\n",
    "\n",
    "Like in the previous sections, we will extract the activities from the `adata` object."
   ]
  },
  {
   "cell_type": "code",
   "execution_count": null,
   "id": "0a9c8ad5",
   "metadata": {},
   "outputs": [],
   "source": [
    "acts = dc.get_acts(adata, obsm_key='Immune_Functional_Signatures_ora_estimate')\n",
    "\n",
    "# We need to remove inf and set them to the maximum value observed\n",
    "acts_v = acts.X.ravel()\n",
    "max_e = np.nanmax(acts_v[np.isfinite(acts_v)])\n",
    "acts.X[~np.isfinite(acts.X)] = max_e\n",
    "\n",
    "acts"
   ]
  },
  {
   "cell_type": "markdown",
   "id": "d4b3dd78",
   "metadata": {},
   "source": [
    "Once extracted we can visualize them:"
   ]
  },
  {
   "cell_type": "code",
   "execution_count": null,
   "id": "85818fcd",
   "metadata": {},
   "outputs": [],
   "source": [
    "sc.pl.matrixplot(\n",
    "    acts,\n",
    "    var_names=acts.var_names,         \n",
    "    groupby='scNiche',               \n",
    "    dendrogram=False,                 \n",
    "    standard_scale='var',           \n",
    "    colorbar_title='Z-scaled scores', \n",
    "    cmap='magma',                    \n",
    "    swap_axes=False,       \n",
    "    save=\"Immune_Functional_Enrichment_Spatial_scNiche.pdf\"\n",
    ")\n"
   ]
  },
  {
   "cell_type": "markdown",
   "id": "66df3179",
   "metadata": {},
   "source": [
    "\n",
    "**<span style=\"font-size:16px;\">Session information：</span>**"
   ]
  },
  {
   "cell_type": "code",
   "execution_count": null,
   "id": "32c5ff4b",
   "metadata": {},
   "outputs": [],
   "source": [
    "import sys\n",
    "import platform\n",
    "import pkg_resources\n",
    "\n",
    "# Get Python version information\n",
    "python_version = sys.version\n",
    "# Get operating system information\n",
    "os_info = platform.platform()\n",
    "# Get system architecture information\n",
    "architecture = platform.architecture()[0]\n",
    "# Get CPU information\n",
    "cpu_info = platform.processor()\n",
    "# Print Session information\n",
    "print(\"Python version:\", python_version)\n",
    "print(\"Operating system:\", os_info)\n",
    "print(\"System architecture:\", architecture)\n",
    "print(\"CPU info:\", cpu_info)\n",
    "\n",
    "# Print imported packages and their versions\n",
    "print(\"\\nImported packages and their versions:\")\n",
    "for package in pkg_resources.working_set:\n",
    "    print(package.key, package.version)"
   ]
  }
 ],
 "metadata": {
  "kernelspec": {
   "display_name": "npc_env",
   "language": "python",
   "name": "python3"
  },
  "language_info": {
   "codemirror_mode": {
    "name": "ipython",
    "version": 3
   },
   "file_extension": ".py",
   "mimetype": "text/x-python",
   "name": "python",
   "nbconvert_exporter": "python",
   "pygments_lexer": "ipython3",
   "version": "3.10.16"
  }
 },
 "nbformat": 4,
 "nbformat_minor": 5
}
