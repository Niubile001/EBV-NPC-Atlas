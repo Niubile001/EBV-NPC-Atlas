{
 "cells": [
  {
   "cell_type": "markdown",
   "id": "adce5302-db78-4fff-a001-6ba677cd53f0",
   "metadata": {
    "execution": {
     "iopub.execute_input": "2023-11-13T05:51:18.387990Z",
     "iopub.status.busy": "2023-11-13T05:51:18.387232Z",
     "iopub.status.idle": "2023-11-13T05:51:18.403268Z",
     "shell.execute_reply": "2023-11-13T05:51:18.402119Z",
     "shell.execute_reply.started": "2023-11-13T05:51:18.387933Z"
    },
    "tags": []
   },
   "source": [
    "**<span style=\"color:darkred; font-size:20px;\">01. Data Preparation</span>**\n",
    "\n",
    "<div style=\"text-align: right;\">\n",
    "    <p style=\"text-align: left;\">Updated Time: 2025-02-02</p>\n",
    "</div>"
   ]
  },
  {
   "cell_type": "code",
   "execution_count": null,
   "id": "394997c9-f0e2-4074-b08f-ef7fc4cfadd2",
   "metadata": {
    "execution": {
     "iopub.execute_input": "2024-08-29T08:34:44.205072Z",
     "iopub.status.busy": "2024-08-29T08:34:44.202187Z",
     "iopub.status.idle": "2024-08-29T08:34:48.767602Z",
     "shell.execute_reply": "2024-08-29T08:34:48.766242Z"
    },
    "tags": [],
    "vscode": {
     "languageId": "r"
    }
   },
   "outputs": [],
   "source": [
    "rm(list=ls())\n",
    "library(Seurat)\n",
    "options(Seurat.object.assay.version = \"v3\")\n",
    "library(dplyr)\n",
    "library(data.table)"
   ]
  },
  {
   "cell_type": "markdown",
   "id": "f36e516e-7873-4064-84eb-8bfefb25b836",
   "metadata": {},
   "source": [
    "##### Set Working Directory"
   ]
  },
  {
   "cell_type": "code",
   "execution_count": null,
   "id": "144012ab-ed65-4d17-88da-83c4b0a821f6",
   "metadata": {
    "execution": {
     "iopub.execute_input": "2024-08-29T08:34:48.794532Z",
     "iopub.status.busy": "2024-08-29T08:34:48.769616Z",
     "iopub.status.idle": "2024-08-29T08:34:48.808883Z",
     "shell.execute_reply": "2024-08-29T08:34:48.807297Z"
    },
    "vscode": {
     "languageId": "r"
    }
   },
   "outputs": [],
   "source": [
    "setwd(\"/media/bio/Disk/Research Data/EBV/omicverse\")\n",
    "options(stringsAsFactors = F)\n",
    "Sys.setenv(\"VROOM_CONNECTION_SIZE\"=9999999)"
   ]
  },
  {
   "cell_type": "markdown",
   "id": "30ed48bb-d3f9-4b63-9b52-f0b821a00c16",
   "metadata": {},
   "source": [
    "#### Load GSE150430 Dataset"
   ]
  },
  {
   "cell_type": "code",
   "execution_count": null,
   "id": "c91ee5c3-81a4-405d-a453-368df95f13e6",
   "metadata": {
    "execution": {
     "iopub.execute_input": "2024-08-29T08:34:48.812232Z",
     "iopub.status.busy": "2024-08-29T08:34:48.811124Z",
     "iopub.status.idle": "2024-08-29T08:35:44.013706Z",
     "shell.execute_reply": "2024-08-29T08:35:44.012449Z"
    },
    "tags": [],
    "vscode": {
     "languageId": "r"
    }
   },
   "outputs": [],
   "source": [
    "Data_GSE150430 <- fread(\"Dataset/GSE150430/npc_scRNA_hg19_processed_data.txt.gz\", sep=\"\\t\")\n",
    "geneNames <- unname(unlist(Data_GSE150430[,1, with=FALSE]))\n",
    "Data_GSE150430 <- as.matrix(Data_GSE150430[,-1, with=FALSE])\n",
    "dim(Data_GSE150430)\n",
    "rownames(Data_GSE150430) <- geneNames\n",
    "Data_GSE150430[1:5,1:4]\n",
    "scRNA_GSE150430 <- CreateSeuratObject(counts = Data_GSE150430, project = \"GSE150430\", names.field = c(1), names.delim = \"_\", min.cells = 3)\n",
    "head(scRNA_GSE150430@meta.data)\n",
    "table(scRNA_GSE150430$orig.ident)\n",
    "dim(scRNA_GSE150430)\n",
    "rm(Data_GSE150430)"
   ]
  },
  {
   "cell_type": "markdown",
   "id": "733815cc-38d5-4724-9a86-36e60114dca1",
   "metadata": {},
   "source": [
    "#### Load GSE150430 Dataset"
   ]
  },
  {
   "cell_type": "code",
   "execution_count": null,
   "id": "2325435b-1c9b-4848-b943-2496db0d58ca",
   "metadata": {
    "execution": {
     "iopub.execute_input": "2024-08-29T08:35:44.016511Z",
     "iopub.status.busy": "2024-08-29T08:35:44.015537Z",
     "iopub.status.idle": "2024-08-29T08:36:28.486857Z",
     "shell.execute_reply": "2024-08-29T08:36:28.485551Z"
    },
    "vscode": {
     "languageId": "r"
    }
   },
   "outputs": [],
   "source": [
    "Data_GSE150825 <-Read10X(data.dir=\"Dataset/GSE150825\")\n",
    "Data_GSE150825[1:5,1:4]\n",
    "scRNA_GSE150825 <- CreateSeuratObject(counts = Data_GSE150825, project = \"GSE150825\", names.field = c(2), names.delim = \"-\", min.cells = 3)\n",
    "head(scRNA_GSE150825@meta.data)\n",
    "table(scRNA_GSE150825$orig.ident)\n",
    "dim(scRNA_GSE150825)\n",
    "rm(Data_GSE150825)"
   ]
  },
  {
   "cell_type": "markdown",
   "id": "e0f00456-9c55-4347-af5b-1cb825b01fd7",
   "metadata": {},
   "source": [
    "#### Load GSE162025 Dataset"
   ]
  },
  {
   "cell_type": "code",
   "execution_count": null,
   "id": "27e8c457-e79e-42a2-95e4-1eef10a683d9",
   "metadata": {
    "execution": {
     "iopub.execute_input": "2024-08-29T08:36:28.489802Z",
     "iopub.status.busy": "2024-08-29T08:36:28.488814Z",
     "iopub.status.idle": "2024-08-29T08:37:48.975114Z",
     "shell.execute_reply": "2024-08-29T08:37:48.973734Z"
    },
    "tags": [],
    "vscode": {
     "languageId": "r"
    }
   },
   "outputs": [],
   "source": [
    "sample_list = list.files(\"Dataset/GSE162025/\")\n",
    "scRNA_list = list()\n",
    "for (sample in sample_list){\n",
    "  filedir = paste0(\"Dataset/GSE162025/\", sample)\n",
    "  scrna_data <- fread(filedir)\n",
    "  scrna_data[1:5,1:4]\n",
    "  geneNames <- unname(unlist(scrna_data[,1, with=FALSE]))\n",
    "  scrna_data <- as.matrix(scrna_data[,-1, with=FALSE])\n",
    "  rownames(scrna_data) <- geneNames\n",
    "  scrna_data[1:5,1:4]\n",
    "  Seurat_object <- CreateSeuratObject(counts = scrna_data, project = \"GSE162025\", names.field = c(1,2,3), names.delim = \"_\", min.cells = 3)\n",
    "  rm(scrna_data)\n",
    "  sample = substring(sample, 12, 22)\n",
    "\n",
    "  scRNA_list[[sample]] = Seurat_object\n",
    "  rm(Seurat_object)\n",
    "}\n",
    "# merge\n",
    "scRNA_GSE162025 <- merge(scRNA_list[[\"NPC_SC_1802\"]], \n",
    "                         y = c(scRNA_list[[\"NPC_SC_1805\"]], scRNA_list[[\"NPC_SC_1806\"]], scRNA_list[[\"NPC_SC_1807\"]], \n",
    "                               scRNA_list[[\"NPC_SC_1808\"]], scRNA_list[[\"NPC_SC_1810\"]], scRNA_list[[\"NPC_SC_1811\"]], \n",
    "                               scRNA_list[[\"NPC_SC_1813\"]], scRNA_list[[\"NPC_SC_1815\"]], scRNA_list[[\"NPC_SC_1816\"]]), \n",
    "                         project = \"GSE162025\")\n",
    "head(scRNA_GSE162025@meta.data)\n",
    "table(scRNA_GSE162025$orig.ident)\n",
    "dim(scRNA_GSE162025)\n",
    "rm(scRNA_list)"
   ]
  },
  {
   "cell_type": "markdown",
   "id": "99db9fd4-2da5-41c4-aee4-10d2aaafdf82",
   "metadata": {},
   "source": [
    "#### Load ChiCTR2000032317 Dataset"
   ]
  },
  {
   "cell_type": "code",
   "execution_count": null,
   "id": "aa0d6dba-28ac-456a-964f-0a97bb0d85f1",
   "metadata": {
    "execution": {
     "iopub.execute_input": "2024-08-29T08:37:48.978225Z",
     "iopub.status.busy": "2024-08-29T08:37:48.977179Z",
     "iopub.status.idle": "2024-08-29T08:39:07.419619Z",
     "shell.execute_reply": "2024-08-29T08:39:07.418160Z"
    },
    "tags": [],
    "vscode": {
     "languageId": "r"
    }
   },
   "outputs": [],
   "source": [
    "samples <- c(\"YX92\",  \"YX93\", \"YX122\", \"YX124\", \"YX155\", \"YX156\")\n",
    "\n",
    "for (i in seq_along(samples)){\n",
    "  assign(paste0(\"scs_data_\", samples[i]), Read10X(data.dir = paste0(\"Dataset/ChiCTR2000032317/\", samples[i])))\n",
    "}\n",
    "\n",
    "for (i in seq_along(samples)){\n",
    "  assign(paste0(\"seu_obj_\", samples[i]), CreateSeuratObject(counts = eval(parse(text = paste0(\"scs_data_\", samples[i]))), \n",
    "                                                            project = samples[i], min.cells = 3))\n",
    "}\n",
    "rm(scs_data_YX92, scs_data_YX93, scs_data_YX122, scs_data_YX124, scs_data_YX155, scs_data_YX156)\n",
    "\n",
    "# merge\n",
    "scRNA_ChiCTR2000032317 <- merge(seu_obj_YX92, y = c(seu_obj_YX93, seu_obj_YX122, seu_obj_YX124, \n",
    "                                                    seu_obj_YX155, seu_obj_YX156), \n",
    "                                add.cell.ids = samples, project = \"ChiCTR2000032317\")\n",
    "head(scRNA_ChiCTR2000032317@meta.data)\n",
    "table(scRNA_ChiCTR2000032317$orig.ident)\n",
    "dim(scRNA_ChiCTR2000032317)\n",
    "rm(seu_obj_YX92, seu_obj_YX93, seu_obj_YX122, seu_obj_YX124, seu_obj_YX155, seu_obj_YX156)"
   ]
  },
  {
   "cell_type": "markdown",
   "id": "7dab34a6-fd52-4ee3-97b7-8242c3518228",
   "metadata": {},
   "source": [
    "#### Merge All Dataset"
   ]
  },
  {
   "cell_type": "code",
   "execution_count": null,
   "id": "dda547dd-8d6c-45f4-9d12-df4a24cc143f",
   "metadata": {
    "execution": {
     "iopub.execute_input": "2024-08-29T08:39:07.422800Z",
     "iopub.status.busy": "2024-08-29T08:39:07.421726Z",
     "iopub.status.idle": "2024-08-29T08:41:02.135589Z",
     "shell.execute_reply": "2024-08-29T08:41:02.126975Z"
    },
    "vscode": {
     "languageId": "r"
    }
   },
   "outputs": [],
   "source": [
    "scRNA <- merge(scRNA_GSE150430, y = c(scRNA_GSE150825, scRNA_GSE162025, scRNA_ChiCTR2000032317),  project = \"scRNA_EBV\")\n",
    "rm(scRNA_GSE150430, scRNA_GSE150825, scRNA_GSE162025, scRNA_ChiCTR2000032317)\n",
    "table(scRNA$orig.ident)"
   ]
  },
  {
   "cell_type": "markdown",
   "id": "dd3cc664-02eb-47f0-91cc-3c117131a732",
   "metadata": {},
   "source": [
    "#### Add Metadata"
   ]
  },
  {
   "cell_type": "code",
   "execution_count": null,
   "id": "b6e2ebfe-61f7-4d84-a5ff-e6870b71f05d",
   "metadata": {
    "execution": {
     "iopub.execute_input": "2024-08-29T08:41:02.138948Z",
     "iopub.status.busy": "2024-08-29T08:41:02.137850Z",
     "iopub.status.idle": "2024-08-29T08:41:02.247569Z",
     "shell.execute_reply": "2024-08-29T08:41:02.246047Z"
    },
    "vscode": {
     "languageId": "r"
    }
   },
   "outputs": [],
   "source": [
    "library(readxl)\n",
    "metatable <- read_excel(\"Dataset/Add_Metadata.xlsx\", sheet = 1)\n",
    "metatable <- as.data.frame(metatable)\n",
    "for (i in names(metatable)[c(1:5,7:10)]){metatable[,i] <- as.factor(metatable[,i])}\n",
    "summary(metatable)"
   ]
  },
  {
   "cell_type": "code",
   "execution_count": null,
   "id": "50f030a4-7354-4724-a570-fd85414c3305",
   "metadata": {
    "execution": {
     "iopub.execute_input": "2024-08-29T08:41:02.250732Z",
     "iopub.status.busy": "2024-08-29T08:41:02.249661Z",
     "iopub.status.idle": "2024-08-29T08:41:03.898937Z",
     "shell.execute_reply": "2024-08-29T08:41:03.897445Z"
    },
    "vscode": {
     "languageId": "r"
    }
   },
   "outputs": [],
   "source": [
    "metadata <- FetchData(scRNA, \"orig.ident\")\n",
    "metadata$cell_id <- rownames(metadata)\n",
    "metadata <- left_join(x = metadata, y = metatable, by = \"orig.ident\")\n",
    "rownames(metadata) <- metadata$cell_id\n",
    "scRNA <- AddMetaData(scRNA, metadata = metadata)\n",
    "summary(scRNA@meta.data)\n",
    "head(scRNA@meta.data)\n",
    "table(scRNA$orig.ident)"
   ]
  },
  {
   "cell_type": "markdown",
   "id": "49b1b466-be18-493d-a8fc-3f10599639fc",
   "metadata": {},
   "source": [
    "#### Select Samples"
   ]
  },
  {
   "cell_type": "code",
   "execution_count": null,
   "id": "3c6322d1-3c61-4d40-9e8f-cf3558fad921",
   "metadata": {
    "execution": {
     "iopub.execute_input": "2024-08-29T08:41:03.901991Z",
     "iopub.status.busy": "2024-08-29T08:41:03.900955Z",
     "iopub.status.idle": "2024-08-29T08:41:21.643940Z",
     "shell.execute_reply": "2024-08-29T08:41:21.642606Z"
    },
    "vscode": {
     "languageId": "r"
    }
   },
   "outputs": [],
   "source": [
    "scRNA_unfiltered <- subset(scRNA, Stage!=\"rII\")\n",
    "scRNA_unfiltered <- subset(scRNA_unfiltered, EBV_status!=\"NA\")\n",
    "\n",
    "head(scRNA_unfiltered)\n",
    "table(scRNA$orig.ident)"
   ]
  },
  {
   "cell_type": "code",
   "execution_count": null,
   "id": "adabc008-3a09-411f-b5b6-7cdcc311006e",
   "metadata": {
    "execution": {
     "iopub.execute_input": "2024-08-29T08:41:21.646746Z",
     "iopub.status.busy": "2024-08-29T08:41:21.645778Z",
     "iopub.status.idle": "2024-08-29T08:49:22.494666Z",
     "shell.execute_reply": "2024-08-29T08:49:22.489737Z"
    },
    "vscode": {
     "languageId": "r"
    }
   },
   "outputs": [],
   "source": [
    "saveRDS(scRNA_unfiltered, \"Processed Data/scRNA_unfiltered.rds\")"
   ]
  },
  {
   "cell_type": "markdown",
   "id": "e2d56612-6864-46ac-b947-9baa0048cb6a",
   "metadata": {},
   "source": [
    "#### Transfer Seurat Object Into H5AD Format"
   ]
  },
  {
   "cell_type": "code",
   "execution_count": null,
   "id": "e56c29ed-751d-4408-a621-7e130a089907",
   "metadata": {
    "execution": {
     "iopub.execute_input": "2024-08-29T08:49:22.499952Z",
     "iopub.status.busy": "2024-08-29T08:49:22.498592Z",
     "iopub.status.idle": "2024-08-29T08:49:33.995954Z",
     "shell.execute_reply": "2024-08-29T08:49:33.993538Z"
    },
    "tags": [],
    "vscode": {
     "languageId": "r"
    }
   },
   "outputs": [],
   "source": [
    "library(sceasy)\n",
    "use_condaenv('npc_env')"
   ]
  },
  {
   "cell_type": "code",
   "execution_count": null,
   "id": "7e86c535-5445-4a76-ae80-331da91c5f16",
   "metadata": {
    "execution": {
     "iopub.execute_input": "2024-08-29T08:49:34.000141Z",
     "iopub.status.busy": "2024-08-29T08:49:33.998757Z",
     "iopub.status.idle": "2024-08-29T08:52:56.489765Z",
     "shell.execute_reply": "2024-08-29T08:52:56.487003Z"
    },
    "tags": [],
    "vscode": {
     "languageId": "r"
    }
   },
   "outputs": [],
   "source": [
    "sceasy::convertFormat(scRNA_unfiltered, from=\"seurat\", to=\"anndata\", outFile= \"Processed Data/scRNA_unfiltered.h5ad\")"
   ]
  },
  {
   "cell_type": "code",
   "execution_count": null,
   "id": "0e4a3024-0b91-4a3c-b297-5f49516b8d44",
   "metadata": {
    "execution": {
     "iopub.execute_input": "2024-08-29T09:23:05.380942Z",
     "iopub.status.busy": "2024-08-29T09:23:05.377290Z",
     "iopub.status.idle": "2024-08-29T09:23:05.901626Z",
     "shell.execute_reply": "2024-08-29T09:23:05.899593Z"
    },
    "tags": [],
    "vscode": {
     "languageId": "r"
    }
   },
   "outputs": [],
   "source": [
    "sessionInfo()"
   ]
  }
 ],
 "metadata": {
  "kernelspec": {
   "display_name": "npc_Renv",
   "language": "R",
   "name": "npc_renv"
  },
  "language_info": {
   "codemirror_mode": "r",
   "file_extension": ".r",
   "mimetype": "text/x-r-source",
   "name": "R",
   "pygments_lexer": "r",
   "version": "4.3.3"
  }
 },
 "nbformat": 4,
 "nbformat_minor": 5
}
