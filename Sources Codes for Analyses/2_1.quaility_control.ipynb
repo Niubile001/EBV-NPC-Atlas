{
 "cells": [
  {
   "cell_type": "markdown",
   "id": "ad243b19",
   "metadata": {},
   "source": [
    "## 02_1. Preprocessing the data of scRNA-seq\n",
    "\n",
    "<div style=\"text-align: right;\">\n",
    "    <p style=\"text-align: left;\">Updated Time: 2025-02-09</p>\n",
    "</div>"
   ]
  },
  {
   "cell_type": "markdown",
   "id": "4eb4b8c5",
   "metadata": {},
   "source": [
    "\n",
    "**<span style=\"font-size:14px;\">Load libraries</span>**"
   ]
  },
  {
   "cell_type": "code",
   "execution_count": null,
   "id": "46cbda3d",
   "metadata": {
    "ExecuteTime": {
     "end_time": "2023-09-10T09:07:23.116607Z",
     "start_time": "2023-09-10T09:01:50.023627Z"
    },
    "execution": {
     "iopub.execute_input": "2024-08-29T12:30:51.935246Z",
     "iopub.status.busy": "2024-08-29T12:30:51.934703Z",
     "iopub.status.idle": "2024-08-29T12:30:57.587110Z",
     "shell.execute_reply": "2024-08-29T12:30:57.585949Z",
     "shell.execute_reply.started": "2024-08-29T12:30:51.935195Z"
    },
    "tags": []
   },
   "outputs": [],
   "source": [
    "import os\n",
    "import sys\n",
    "import warnings\n",
    "import numpy as np\n",
    "import pandas as pd\n",
    "\n",
    "import anndata as ad\n",
    "import scanpy as sc\n",
    "import omicverse as ov\n",
    "\n",
    "# Needed for some plotting\n",
    "import seaborn as sns\n",
    "import matplotlib.pyplot as plt\n",
    "ov.plot_set()\n",
    "\n",
    "import warnings\n",
    "warnings.simplefilter(action=\"ignore\", category=FutureWarning)\n",
    "warnings.simplefilter(action=\"ignore\", category=DeprecationWarning)\n",
    "warnings.simplefilter(action=\"ignore\", category=UserWarning)"
   ]
  },
  {
   "cell_type": "markdown",
   "id": "699adf5b-0eec-4599-9256-6b5d228f0c68",
   "metadata": {},
   "source": [
    "##### Set working directory  for analysis"
   ]
  },
  {
   "cell_type": "code",
   "execution_count": null,
   "id": "d74fbe9d",
   "metadata": {
    "ExecuteTime": {
     "end_time": "2023-09-10T09:07:23.127300Z",
     "start_time": "2023-09-10T09:07:23.122378Z"
    },
    "execution": {
     "iopub.execute_input": "2024-08-29T12:30:57.588759Z",
     "iopub.status.busy": "2024-08-29T12:30:57.588242Z",
     "iopub.status.idle": "2024-08-29T12:30:57.594619Z",
     "shell.execute_reply": "2024-08-29T12:30:57.593788Z",
     "shell.execute_reply.started": "2024-08-29T12:30:57.588734Z"
    },
    "tags": []
   },
   "outputs": [],
   "source": [
    "working_dir = '/media/bio/Disk/Research Data/EBV/omicverse'\n",
    "os.chdir(working_dir)\n",
    "updated_dir = os.getcwd()\n",
    "print(\"Updated working directory: \", updated_dir)\n",
    "\n",
    "from pathlib import Path\n",
    "saving_dir = Path('Results/02.data_preprocessing')\n",
    "saving_dir.mkdir(parents=True, exist_ok=True)"
   ]
  },
  {
   "cell_type": "markdown",
   "id": "6f0445d9",
   "metadata": {},
   "source": [
    "\n",
    "##### Reading the non-QC AnnData object"
   ]
  },
  {
   "cell_type": "code",
   "execution_count": null,
   "id": "ab4ee43f",
   "metadata": {
    "ExecuteTime": {
     "end_time": "2023-09-10T09:08:44.446619Z",
     "start_time": "2023-09-10T09:07:23.131981Z"
    },
    "execution": {
     "iopub.execute_input": "2024-08-29T12:30:57.595897Z",
     "iopub.status.busy": "2024-08-29T12:30:57.595660Z",
     "iopub.status.idle": "2024-08-29T12:31:13.054776Z",
     "shell.execute_reply": "2024-08-29T12:31:13.053844Z",
     "shell.execute_reply.started": "2024-08-29T12:30:57.595876Z"
    },
    "tags": []
   },
   "outputs": [],
   "source": [
    "adata = sc.read(\"Processed Data/scRNA_unfiltered.h5ad\")\n",
    "adata"
   ]
  },
  {
   "cell_type": "code",
   "execution_count": null,
   "id": "1cc320be-09ec-4007-a2de-432d6c49fd97",
   "metadata": {
    "execution": {
     "iopub.execute_input": "2024-08-29T12:31:13.057124Z",
     "iopub.status.busy": "2024-08-29T12:31:13.056795Z",
     "iopub.status.idle": "2024-08-29T12:31:14.331198Z",
     "shell.execute_reply": "2024-08-29T12:31:14.330126Z",
     "shell.execute_reply.started": "2024-08-29T12:31:13.057104Z"
    },
    "tags": []
   },
   "outputs": [],
   "source": [
    "print(np.min(adata.X), np.max(adata.X))"
   ]
  },
  {
   "cell_type": "markdown",
   "id": "4227b026",
   "metadata": {},
   "source": [
    "### Preprocessing\n",
    "\n",
    "#### Quantity control\n",
    "\n",
    "For single-cell data, we require quality control prior to analysis, including the removal of cells containing double cells, low-expressing cells, and low-expressing genes. In addition to this, we need to filter based on mitochondrial gene ratios, number of transcripts, number of genes expressed per cell, cellular Complexity, etc. For a detailed description of the different QCs please see the document: https://hbctraining.github.io/scRNA-seq/lessons/04_SC_quality_control.html\n",
    "\n",
    "<div class=\"admonition warning\">\n",
    "  <p class=\"admonition-title\">Note</p>\n",
    "  <p>\n",
    "    if the version of `omicverse` larger than `1.6.4`, the `doublets_method` can be set between `scrublet` and `sccomposite`.\n",
    "  </p>\n",
    "</div>\n",
    "\n",
    "COMPOSITE (COMpound POiSson multIplet deTEction model) is a computational tool for multiplet detection in both single-cell single-omics and multiomics settings. It has been implemented as an automated pipeline and is available as both a cloud-based application with a user-friendly interface and a Python package.\n",
    "\n",
    "Hu, H., Wang, X., Feng, S. et al. A unified model-based framework for doublet or multiplet detection in single-cell multiomics data. Nat Commun 15, 5562 (2024). https://doi.org/10.1038/s41467-024-49448-x"
   ]
  },
  {
   "cell_type": "code",
   "execution_count": null,
   "id": "b5fb5c22",
   "metadata": {},
   "outputs": [],
   "source": [
    "%%time\n",
    "adata=ov.pp.qc(adata,\n",
    "              tresh={'mito_perc': 0.2, 'nUMIs': 500, 'detected_genes': 250},\n",
    "              doublets_method='scrublet',\n",
    "              batch_key='orig.ident',\n",
    "              path_viz='Results/02.data_preprocessing')\n",
    "adata"
   ]
  },
  {
   "cell_type": "markdown",
   "id": "a4a0c9f3",
   "metadata": {},
   "source": [
    "### Highly variable gene detection\n",
    "\n",
    "Here we try to use Pearson's method to calculate highly variable genes. This is the method that is proposed to be superior to ordinary normalisation. See [Article](https://www.nature.com/articles/s41592-023-01814-1#MOESM3) in *Nature Method* for details.\n"
   ]
  },
  {
   "cell_type": "markdown",
   "id": "c550a9be",
   "metadata": {},
   "source": [
    "normalize|HVGs：We use | to control the preprocessing step, | before for the normalisation step, either `shiftlog` or `pearson`, and | after for the highly variable gene calculation step, either `pearson` or `seurat`. Our default is `shiftlog|pearson`.\n",
    "\n",
    "- if you use `mode`=`shiftlog|pearson` you need to set `target_sum=50*1e4`, more people like to se `target_sum=1e4`, we test the result think 50*1e4 will be better\n",
    "- if you use `mode`=`pearson|pearson`, you don't need to set `target_sum`\n",
    "\n",
    "<div class=\"admonition warning\">\n",
    "  <p class=\"admonition-title\">Note</p>\n",
    "  <p>\n",
    "    if the version of `omicverse` lower than `1.4.13`, the mode can only be set between `scanpy` and `pearson`.\n",
    "  </p>\n",
    "</div>\n"
   ]
  },
  {
   "cell_type": "code",
   "execution_count": null,
   "id": "c179064e",
   "metadata": {},
   "outputs": [],
   "source": [
    "adata=ov.pp.preprocess(adata,mode='shiftlog|pearson',n_HVGs=2000,target_sum=50*1e4)\n",
    "adata"
   ]
  },
  {
   "cell_type": "markdown",
   "id": "228d333e",
   "metadata": {},
   "source": [
    "Set the .raw attribute of the AnnData object to the normalized and logarithmized raw gene expression for later use in differential testing and visualizations of gene expression. This simply freezes the state of the AnnData object."
   ]
  },
  {
   "cell_type": "code",
   "execution_count": null,
   "id": "456ea8c6",
   "metadata": {},
   "outputs": [],
   "source": [
    "adata.raw = adata\n",
    "adata = adata[:, adata.var.highly_variable_features]\n",
    "adata"
   ]
  },
  {
   "cell_type": "markdown",
   "id": "03900b92",
   "metadata": {},
   "source": [
    "### Principal component analysis\n",
    "\n",
    "In contrast to scanpy, we do not directly scale the variance of the original expression matrix, but store the results of the variance scaling in the layer, due to the fact that scale may cause changes in the data distribution, and we have not found scale to be meaningful in any scenario other than a principal component analysis"
   ]
  },
  {
   "cell_type": "code",
   "execution_count": null,
   "id": "dfce02d3",
   "metadata": {},
   "outputs": [],
   "source": [
    "ov.pp.scale(adata)\n",
    "adata"
   ]
  },
  {
   "cell_type": "markdown",
   "id": "53117d9d",
   "metadata": {},
   "source": [
    "If you want to perform pca in normlog layer, you can set `layer`=`normlog`, but we think scaled is necessary in PCA."
   ]
  },
  {
   "cell_type": "code",
   "execution_count": null,
   "id": "cef00cdc",
   "metadata": {},
   "outputs": [],
   "source": [
    "ov.pp.pca(adata,layer='scaled',n_pcs=50)\n",
    "adata"
   ]
  },
  {
   "cell_type": "markdown",
   "id": "e8993f18",
   "metadata": {},
   "source": [
    "Let us inspect the contribution of single PCs to the total variance in the data. \n",
    "This gives us information about how many PCs we should consider in order to compute the neighborhood relations of cells. In our experience, often a rough estimate of the number of PCs does fine.\n"
   ]
  },
  {
   "cell_type": "code",
   "execution_count": null,
   "id": "231c40d8",
   "metadata": {},
   "outputs": [],
   "source": [
    "ov.utils.plot_pca_variance_ratio(adata)"
   ]
  },
  {
   "cell_type": "markdown",
   "id": "fdab05be",
   "metadata": {},
   "source": [
    "### Embedding the neighborhood graph\n",
    "\n",
    "We suggest embedding the graph in two dimensions using UMAP (McInnes et al., 2018), see below. It is potentially more faithful to the global connectivity of the manifold than tSNE, i.e., it better preserves trajectories. In some ocassions, you might still observe disconnected clusters and similar connectivity violations. They can usually be remedied by running:"
   ]
  },
  {
   "cell_type": "code",
   "execution_count": null,
   "id": "2c911130",
   "metadata": {},
   "outputs": [],
   "source": [
    "ov.pp.neighbors(adata, n_neighbors=15, n_pcs=20, use_rep='scaled|original|X_pca')"
   ]
  },
  {
   "cell_type": "markdown",
   "id": "ae5fb270",
   "metadata": {},
   "source": [
    "### Clustering the neighborhood graph\n",
    "\n",
    "As with Seurat and many other frameworks, we recommend the Leiden graph-clustering method (community detection based on optimizing modularity) by Traag *et al.* (2018). Note that Leiden clustering directly clusters the neighborhood graph of cells, which we already computed in the previous section."
   ]
  },
  {
   "cell_type": "code",
   "execution_count": null,
   "id": "50a4449e",
   "metadata": {},
   "outputs": [],
   "source": [
    "ov.pp.leiden(adata,resolution=1,key_added='leiden_1_0')"
   ]
  },
  {
   "cell_type": "markdown",
   "id": "35a0b797",
   "metadata": {},
   "source": [
    "#### Embedding the neighborhood graph\n",
    "We suggest embedding the graph in two dimensions using UMAP (McInnes et al., 2018), see below. It is potentially more faithful to the global connectivity of the manifold than tSNE, i.e., it better preserves trajectories. In some ocassions, you might still observe disconnected clusters and similar connectivity violations. They can usually be remedied by running:"
   ]
  },
  {
   "cell_type": "markdown",
   "id": "e857b0e9",
   "metadata": {},
   "source": [
    "To visualize the PCA’s embeddings, we use the pymde package wrapper in omicverse. This is an alternative to UMAP that is GPU-accelerated."
   ]
  },
  {
   "cell_type": "code",
   "execution_count": null,
   "id": "2368cd03",
   "metadata": {},
   "outputs": [],
   "source": [
    "ov.pp.umap(adata)"
   ]
  },
  {
   "cell_type": "markdown",
   "id": "de5efcc3",
   "metadata": {},
   "source": [
    "We redesigned the visualisation of embedding to distinguish it from scanpy's embedding by adding the parameter `fraemon='small'`, which causes the axes to be scaled with the colourbar"
   ]
  },
  {
   "cell_type": "code",
   "execution_count": null,
   "id": "bbd33417",
   "metadata": {},
   "outputs": [],
   "source": [
    "ov.pl.embedding(adata,\n",
    "                basis='X_umap',\n",
    "                color=['leiden_1_0','CD3E','Dataset'],\n",
    "                ncols=1,\n",
    "                frameon='small')"
   ]
  },
  {
   "cell_type": "markdown",
   "id": "d3e0efdc",
   "metadata": {},
   "source": [
    "### Score cell cyle\n",
    "\n",
    "In OmicVerse, we store both G1M/S and G2M genes into the function (both human and mouse), so you can run cell cycle analysis without having to manually enter cycle genes!"
   ]
  },
  {
   "cell_type": "code",
   "execution_count": null,
   "id": "8ce640d5",
   "metadata": {},
   "outputs": [],
   "source": [
    "adata =adata.raw.to_adata()\n",
    "adata.raw = adata\n",
    "ov.pp.score_genes_cell_cycle(adata,species='human')\n"
   ]
  },
  {
   "cell_type": "code",
   "execution_count": null,
   "id": "f7f07359",
   "metadata": {},
   "outputs": [],
   "source": [
    "ov.pl.embedding(adata,\n",
    "                basis='X_umap',\n",
    "                color='phase',\n",
    "                frameon='small')"
   ]
  },
  {
   "cell_type": "markdown",
   "id": "17553f3f-843b-4c44-981d-7cdd75ea8c83",
   "metadata": {},
   "source": [
    "#### Recover raw counts"
   ]
  },
  {
   "cell_type": "code",
   "execution_count": null,
   "id": "8c4dc9e2",
   "metadata": {},
   "outputs": [],
   "source": [
    "adata"
   ]
  },
  {
   "cell_type": "code",
   "execution_count": null,
   "id": "5c401a58",
   "metadata": {},
   "outputs": [],
   "source": [
    "print(np.min(adata.X), np.max(adata.X))"
   ]
  },
  {
   "cell_type": "markdown",
   "id": "1822a70e",
   "metadata": {},
   "source": [
    "You can use `recover_counts` to recover the raw counts after normalize and log1p"
   ]
  },
  {
   "cell_type": "code",
   "execution_count": null,
   "id": "4ebcb33d",
   "metadata": {},
   "outputs": [],
   "source": [
    "X_counts_recovered, size_factors_sub=ov.pp.recover_counts(adata.X, 50*1e4, 50*1e5, log_base=None, chunk_size=50000)\n",
    "adata.layers['counts']=X_counts_recovered"
   ]
  },
  {
   "cell_type": "code",
   "execution_count": null,
   "id": "d6d015e7",
   "metadata": {},
   "outputs": [],
   "source": [
    "adata.layers['counts'].shape\n",
    "print(np.min(adata.layers['counts']), np.max(adata.layers['counts']))"
   ]
  },
  {
   "cell_type": "code",
   "execution_count": null,
   "id": "0b976b8b",
   "metadata": {},
   "outputs": [],
   "source": [
    "adata"
   ]
  },
  {
   "cell_type": "markdown",
   "id": "6fb583e9",
   "metadata": {},
   "source": [
    "#### Save QC AnnData object"
   ]
  },
  {
   "cell_type": "code",
   "execution_count": null,
   "id": "3274e826-e0cf-4c41-8bb2-def5ea9c6e2f",
   "metadata": {
    "ExecuteTime": {
     "end_time": "2023-09-10T10:47:01.884880Z",
     "start_time": "2023-09-10T10:45:13.059619Z"
    },
    "execution": {
     "iopub.execute_input": "2024-08-29T12:59:23.856813Z",
     "iopub.status.busy": "2024-08-29T12:59:23.856449Z",
     "iopub.status.idle": "2024-08-29T12:59:30.701835Z",
     "shell.execute_reply": "2024-08-29T12:59:30.700911Z",
     "shell.execute_reply.started": "2024-08-29T12:59:23.856793Z"
    },
    "tags": []
   },
   "outputs": [],
   "source": [
    "adata.write_h5ad(\"Processed Data/scRNA_QC.h5ad\")"
   ]
  },
  {
   "cell_type": "markdown",
   "id": "fb1362bd",
   "metadata": {},
   "source": [
    "\n",
    "**<span style=\"font-size:16px;\">Session information：</span>**"
   ]
  },
  {
   "cell_type": "code",
   "execution_count": null,
   "id": "f7c0b3bb",
   "metadata": {
    "ExecuteTime": {
     "end_time": "2023-09-10T10:47:02.187379Z",
     "start_time": "2023-09-10T10:47:01.888967Z"
    },
    "execution": {
     "iopub.execute_input": "2024-08-29T12:59:30.703800Z",
     "iopub.status.busy": "2024-08-29T12:59:30.703195Z",
     "iopub.status.idle": "2024-08-29T12:59:30.856163Z",
     "shell.execute_reply": "2024-08-29T12:59:30.854895Z",
     "shell.execute_reply.started": "2024-08-29T12:59:30.703773Z"
    },
    "tags": []
   },
   "outputs": [],
   "source": [
    "import sys\n",
    "import platform\n",
    "import pkg_resources\n",
    "\n",
    "# Get Python version information\n",
    "python_version = sys.version\n",
    "\n",
    "# Get operating system information\n",
    "os_info = platform.platform()\n",
    "\n",
    "# Get system architecture information\n",
    "architecture = platform.architecture()[0]\n",
    "\n",
    "# Get CPU information\n",
    "cpu_info = platform.processor()\n",
    "\n",
    "# Print Session information\n",
    "print(\"Python version:\", python_version)\n",
    "print(\"Operating system:\", os_info)\n",
    "print(\"System architecture:\", architecture)\n",
    "print(\"CPU info:\", cpu_info)\n",
    "\n",
    "# Print imported packages and their versions\n",
    "print(\"\\nImported packages and their versions:\")\n",
    "for package in pkg_resources.working_set:\n",
    "    print(package.key, package.version)"
   ]
  }
 ],
 "metadata": {
  "kernelspec": {
   "display_name": "npc_env",
   "language": "python",
   "name": "python3"
  },
  "language_info": {
   "codemirror_mode": {
    "name": "ipython",
    "version": 3
   },
   "file_extension": ".py",
   "mimetype": "text/x-python",
   "name": "python",
   "nbconvert_exporter": "python",
   "pygments_lexer": "ipython3",
   "version": "3.10.13"
  },
  "toc": {
   "base_numbering": 1,
   "nav_menu": {},
   "number_sections": true,
   "sideBar": true,
   "skip_h1_title": false,
   "title_cell": "Table of Contents",
   "title_sidebar": "Contents",
   "toc_cell": false,
   "toc_position": {},
   "toc_section_display": true,
   "toc_window_display": false
  }
 },
 "nbformat": 4,
 "nbformat_minor": 5
}
