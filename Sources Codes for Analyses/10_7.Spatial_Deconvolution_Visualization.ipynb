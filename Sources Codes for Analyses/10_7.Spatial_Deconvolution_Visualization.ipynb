{
 "cells": [
  {
   "cell_type": "markdown",
   "metadata": {},
   "source": [
    "## Spatial transcriptomics deconvolution visualization\n",
    "We support to visualize the scatterpie chart for any deconvolution or label transferring tools.\n",
    "\n",
    "Here we will describe how to use SPOTlight and Seurat Label transferring to visualize in stLearn"
   ]
  },
  {
   "cell_type": "code",
   "execution_count": null,
   "metadata": {},
   "outputs": [],
   "source": [
    "import os\n",
    "import sys\n",
    "import numpy as np\n",
    "import pandas as pd\n",
    "import scanpy as sc\n",
    "import stlearn as st"
   ]
  },
  {
   "cell_type": "markdown",
   "metadata": {},
   "source": [
    "##### Set working directory for analysis"
   ]
  },
  {
   "cell_type": "code",
   "execution_count": null,
   "metadata": {},
   "outputs": [],
   "source": [
    "cwd = '/media/bio/Disk/Research Data/EBV/omicverse'\n",
    "os.chdir(cwd)\n",
    "updated_dir = os.getcwd()\n",
    "print(\"Updated working directory: \", updated_dir)\n",
    "\n",
    "from pathlib import Path\n",
    "saving_dir = Path('Results/10.NPC_ST_Analysis')\n",
    "saving_dir.mkdir(parents=True, exist_ok=True)"
   ]
  },
  {
   "cell_type": "markdown",
   "metadata": {},
   "source": [
    "## Loading the data"
   ]
  },
  {
   "cell_type": "markdown",
   "metadata": {},
   "source": [
    "#### Reading in annotated AnnData object"
   ]
  },
  {
   "cell_type": "code",
   "execution_count": null,
   "metadata": {},
   "outputs": [],
   "source": [
    "adata = sc.read_h5ad(\"Processed Data/GSE206245_NPC_ST_Cluster_Tangram.h5ad\")\n",
    "adata"
   ]
  },
  {
   "cell_type": "code",
   "execution_count": null,
   "metadata": {},
   "outputs": [],
   "source": [
    "print(np.min(adata.X), np.max(adata.X))"
   ]
  },
  {
   "cell_type": "code",
   "execution_count": null,
   "metadata": {},
   "outputs": [],
   "source": [
    "import pandas as pd\n",
    "\n",
    "sample_response = {\n",
    "    'NPC_ST05': 'CR',\n",
    "    'NPC_ST06': 'CR',\n",
    "    'NPC_ST07': 'PD',\n",
    "    'NPC_ST08': 'CR',\n",
    "    'NPC_ST09': 'PD',\n",
    "    'NPC_ST10': 'PR',\n",
    "    'NPC_ST11': 'CR',\n",
    "    'NPC_ST12': 'CR',\n",
    "    'NPC_ST16': 'PD',\n",
    "    'NPC_ST17': 'SD',\n",
    "    'NPC_ST18': 'PR',\n",
    "    'NPC_ST19': 'PD'\n",
    "}\n",
    "\n",
    "response_map = pd.Series(sample_response, name='response')\n",
    "\n",
    "adata.obs['response'] = adata.obs['sample_id'].map(response_map)\n",
    "\n",
    "print(adata.obs[['sample_id', 'response']].head())\n",
    "print(adata.obs['response'].value_counts(dropna=False))\n"
   ]
  },
  {
   "cell_type": "code",
   "execution_count": null,
   "metadata": {},
   "outputs": [],
   "source": [
    "import omicverse as ov\n",
    "from matplotlib import patheffects\n",
    "import matplotlib.pyplot as plt\n",
    "\n",
    "fig, ax = plt.subplots(figsize=(4,4))\n",
    "ov.pl.embedding(adata,\n",
    "                  basis='X_umap',\n",
    "                  color=['response'], \n",
    "                  palette='Paired',\n",
    "                  show=False, legend_loc=None, add_outline=False, \n",
    "                  frameon='small',legend_fontoutline=2,ax=ax\n",
    "                 )\n",
    "\n",
    "ov.utils.gen_mpl_labels(\n",
    "    adata,\n",
    "    'response',\n",
    "    exclude=(\"None\",),  \n",
    "    basis='X_umap',\n",
    "    ax=ax,\n",
    "    adjust_kwargs=dict(arrowprops=dict(arrowstyle='-', color='black')),\n",
    "    text_kwargs=dict(fontsize= 9,weight='bold',\n",
    "                     path_effects=[patheffects.withStroke(linewidth=2, foreground='w')] ),\n",
    ")\n",
    "\n",
    "plt.show()"
   ]
  },
  {
   "cell_type": "code",
   "execution_count": null,
   "metadata": {},
   "outputs": [],
   "source": [
    "fig,ax=plt.subplots(figsize = (3,6))\n",
    "ov.pl.cellstackarea(adata=adata,celltype_clusters='scNiche',\n",
    "                    groupby='response',groupby_li=['CR','PR','SD','PD'],\n",
    "                     legend=True,ax=ax,legend_awargs={})\n",
    "\n",
    "# Save and Show plot\n",
    "plt.savefig(\"Results/10.NPC_ST_Analysis/Cellstackarea_Response_scNiche.pdf\", bbox_inches='tight')\n",
    "plt.show()"
   ]
  },
  {
   "cell_type": "code",
   "execution_count": null,
   "metadata": {},
   "outputs": [],
   "source": [
    "# import packages\n",
    "import scimap as sm\n",
    "import anndata as ad"
   ]
  },
  {
   "cell_type": "code",
   "execution_count": null,
   "metadata": {},
   "outputs": [],
   "source": [
    "import os\n",
    "import numpy as np\n",
    "import matplotlib.pyplot as plt\n",
    "from PIL import Image\n",
    "\n",
    "os.makedirs(\"Processed Data/plots\", exist_ok=True)\n",
    "\n",
    "sample_ids = adata.obs['sample_id'].unique()\n",
    "saved_paths = []\n",
    "\n",
    "for sid in sample_ids:\n",
    "    print(f\"Processing {sid}...\")\n",
    "\n",
    "    adata_subset = adata[adata.obs['sample_id'] == sid].copy()\n",
    "    adata_subset.obs['imagecol'] = adata_subset.obsm['spatial'][:, 0]\n",
    "    adata_subset.obs['imagerow'] = adata_subset.obsm['spatial'][:, 1]\n",
    "\n",
    "    if 'use_quality' not in adata_subset.uns['spatial'][sid]:\n",
    "        adata_subset.uns['spatial'][sid]['use_quality'] = 'hires'\n",
    "\n",
    "    pred_path = f\"Processed Data/tangram_ct_pred_{sid}.csv\"\n",
    "    tangram_ct_pred = adata_subset.obsm['tangram_ct_pred'].T\n",
    "    tangram_ct_pred.to_csv(pred_path)\n",
    "\n",
    "    st.add.add_deconvolution(adata_subset, annotation_path=pred_path)\n",
    "\n",
    "    output_folder = f\"Processed Data/plots/deconv_{sid}\"\n",
    "    os.makedirs(output_folder, exist_ok=True)\n",
    "    st.pl.deconvolution_plot(\n",
    "        adata_subset,\n",
    "        threshold=0.0,\n",
    "        library_id=sid,\n",
    "        spot_size=80,\n",
    "        cmap=\"tab20\",\n",
    "        dpi=300,\n",
    "        output=output_folder,\n",
    "        show=False\n",
    "    )\n",
    "    saved_paths.append(f\"{output_folder}/louvain.png\")\n",
    "\n",
    "n_cols = 4\n",
    "n_rows = int(np.ceil(len(saved_paths) / n_cols))\n",
    "fig, axs = plt.subplots(n_rows, n_cols, figsize=(n_cols * 5, n_rows * 5))\n",
    "\n",
    "for i, path in enumerate(saved_paths):\n",
    "    row, col = divmod(i, n_cols)\n",
    "    ax = axs[row, col] if n_rows > 1 else axs[col]\n",
    "    img = Image.open(path)\n",
    "    ax.imshow(img)\n",
    "    sid = os.path.basename(os.path.dirname(path)).replace(\"deconv_\", \"\")\n",
    "    ax.set_title(sid, fontsize=12)\n",
    "    ax.axis('off')\n",
    "\n",
    "for i in range(len(saved_paths), n_rows * n_cols):\n",
    "    row, col = divmod(i, n_cols)\n",
    "    ax = axs[row, col] if n_rows > 1 else axs[col]\n",
    "    ax.axis('off')\n",
    "\n",
    "plt.tight_layout()\n",
    "plt.savefig(\"Processed Data/deconvolution_all_samples_singlepage.pdf\", bbox_inches='tight', dpi=300)\n",
    "plt.close()\n",
    "\n",
    "print(\"✅ 所有样本图已拼图并保存为一个 PDF 页面：Processed Data/deconvolution_all_samples_singlepage.pdf\")"
   ]
  },
  {
   "cell_type": "code",
   "execution_count": null,
   "metadata": {},
   "outputs": [],
   "source": [
    "\n",
    "adata_subset = adata[adata.obs['sample_id'] == \"NPC_ST05\"].copy()\n",
    "adata_subset.obs['imagecol'] = adata_subset.obsm['spatial'][:, 0]\n",
    "adata_subset.obs['imagerow'] = adata_subset.obsm['spatial'][:, 1]\n",
    "adata_subset.uns['spatial'][\"NPC_ST05\"]['use_quality'] = 'hires'\n",
    "tangram_ct_pred = adata_subset.obsm['tangram_ct_pred'].T\n",
    "tangram_ct_pred.to_csv(\"Processed Data/tangram_ct_pred_stlearn.csv\")\n",
    "st.add.add_deconvolution(adata_subset, annotation_path=\"Processed Data/tangram_ct_pred_stlearn.csv\")\n",
    "st.pl.deconvolution_plot(adata_subset, threshold=0.0, library_id = \"NPC_ST05\", spot_size = 80, dpi = 300,\n",
    "                         cmap=\"tab20\",  # \"tab10\", \"Paired\", \"Accent\", \"Set1\"\n",
    "                         )\n"
   ]
  },
  {
   "cell_type": "markdown",
   "metadata": {},
   "source": [
    "\n",
    "**<span style=\"font-size:16px;\">Session information：</span>**"
   ]
  },
  {
   "cell_type": "code",
   "execution_count": null,
   "metadata": {},
   "outputs": [],
   "source": [
    "import sys\n",
    "import platform\n",
    "import pkg_resources\n",
    "\n",
    "# Get Python version information\n",
    "python_version = sys.version\n",
    "# Get operating system information\n",
    "os_info = platform.platform()\n",
    "# Get system architecture information\n",
    "architecture = platform.architecture()[0]\n",
    "# Get CPU information\n",
    "cpu_info = platform.processor()\n",
    "# Print Session information\n",
    "print(\"Python version:\", python_version)\n",
    "print(\"Operating system:\", os_info)\n",
    "print(\"System architecture:\", architecture)\n",
    "print(\"CPU info:\", cpu_info)\n",
    "\n",
    "# Print imported packages and their versions\n",
    "print(\"\\nImported packages and their versions:\")\n",
    "for package in pkg_resources.working_set:\n",
    "    print(package.key, package.version)"
   ]
  }
 ],
 "metadata": {
  "kernelspec": {
   "display_name": "npc_env",
   "language": "python",
   "name": "python3"
  },
  "language_info": {
   "codemirror_mode": {
    "name": "ipython",
    "version": 3
   },
   "file_extension": ".py",
   "mimetype": "text/x-python",
   "name": "python",
   "nbconvert_exporter": "python",
   "pygments_lexer": "ipython3",
   "version": "3.10.16"
  }
 },
 "nbformat": 4,
 "nbformat_minor": 2
}
