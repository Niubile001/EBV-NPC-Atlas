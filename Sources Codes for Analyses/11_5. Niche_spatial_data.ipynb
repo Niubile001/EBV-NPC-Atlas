{
 "cells": [
  {
   "cell_type": "code",
   "execution_count": null,
   "metadata": {
    "vscode": {
     "languageId": "r"
    }
   },
   "outputs": [],
   "source": [
    "### This script performs the wilcoxon rank sum test and hierarchical clustering on the Tangram deconvolution data to identify the significant abundant cell types between the clusters.\n",
    "#### Load necessary packages\n",
    "library(Seurat)\n",
    "library(compositions)\n",
    "library(tidyverse)\n",
    "library(clustree)\n",
    "library(patchwork)\n",
    "library(uwot)\n",
    "library(scran)\n",
    "library(cluster)\n",
    "library(ggrastr)\n",
    "library(cowplot)\n",
    "library(ggplot2)\n",
    "library(RColorBrewer)\n",
    "library(conflicted) # to be loaded in case of a conflict arises."
   ]
  },
  {
   "cell_type": "code",
   "execution_count": null,
   "metadata": {
    "vscode": {
     "languageId": "r"
    }
   },
   "outputs": [],
   "source": [
    "setwd(\"/media/bio/Disk/Research Data/EBV/omicverse\")"
   ]
  },
  {
   "cell_type": "code",
   "execution_count": null,
   "metadata": {
    "vscode": {
     "languageId": "r"
    }
   },
   "outputs": [],
   "source": [
    "tangram_ct_pred <- read.csv(\"Processed Data/tangram_ct_pred_Refined_3000_123.csv\", row.names = 1, check.names = FALSE)\n",
    "colnames(tangram_ct_pred)"
   ]
  },
  {
   "cell_type": "code",
   "execution_count": null,
   "metadata": {
    "vscode": {
     "languageId": "r"
    }
   },
   "outputs": [],
   "source": [
    "# Get the proportions data\n",
    "deconv.mat <- as.data.frame(as.matrix(tangram_ct_pred))\n",
    "head(deconv.mat)"
   ]
  },
  {
   "cell_type": "code",
   "execution_count": null,
   "metadata": {
    "vscode": {
     "languageId": "r"
    }
   },
   "outputs": [],
   "source": [
    "keep_cols <- c(\n",
    "  # 'Normal','Tumor', 'C1QC+ Macro','SPP1+ Macro','IL1B+ Macro',\n",
    "  'CD8⁺ GZMB⁺ early Tem','CD8⁺ GZMB⁺ Tem','CD8⁺ GZMK⁺ Tpex','CD8⁺ GZMB⁺ Tex',\n",
    "  'CD8⁺ activated-stress Tem','CD8⁺ ZNF683⁺ Trm','CD8⁺ ISG⁺ T',\n",
    "  'CD4⁺ Tcm','CD4⁺ ISG⁺ T','CD4⁺ IL21⁺ Tfh','TNFRSF9⁺ Treg','TNFRSF9⁻ Treg',\n",
    "  'CD4⁻CD8⁻ T','Proliferating T'\n",
    ")"
   ]
  },
  {
   "cell_type": "code",
   "execution_count": null,
   "metadata": {
    "vscode": {
     "languageId": "r"
    }
   },
   "outputs": [],
   "source": [
    "deconv.mat <- deconv.mat[, keep_cols, drop = FALSE]\n",
    "head(deconv.mat)"
   ]
  },
  {
   "cell_type": "code",
   "execution_count": null,
   "metadata": {
    "vscode": {
     "languageId": "r"
    }
   },
   "outputs": [],
   "source": [
    "scNiche_metadata <- read.csv(\"Processed Data/scNiche_metadata.csv\", row.names = 1, check.names = FALSE)\n",
    "scNiche_metadata <- scNiche_metadata %>%\n",
    "  select(sample_id, scNiche) %>%\n",
    "  rownames_to_column(\"row_id\")\n",
    "\n",
    "head(scNiche_metadata)"
   ]
  },
  {
   "cell_type": "code",
   "execution_count": null,
   "metadata": {
    "vscode": {
     "languageId": "r"
    }
   },
   "outputs": [],
   "source": [
    "# Prepare data for summary statistics\n",
    "cluster_summary_pat <- deconv.mat %>%\n",
    "  as.data.frame() %>%\n",
    "  rownames_to_column(\"row_id\") %>%\n",
    "  left_join(scNiche_metadata, by = \"row_id\") %>%  # Join with meta_data using row_id as the key\n",
    "  pivot_longer(-c(row_id, sample_id, scNiche), values_to = \"ct_prop\", names_to = \"cell_type\") %>%\n",
    "  group_by(sample_id, scNiche, cell_type) %>%\n",
    "  summarize(median_ct_prop = median(ct_prop, na.rm = TRUE))\n",
    "\n",
    "  head(cluster_summary_pat)"
   ]
  },
  {
   "cell_type": "code",
   "execution_count": null,
   "metadata": {
    "vscode": {
     "languageId": "r"
    }
   },
   "outputs": [],
   "source": [
    "# Aggregate data for median ct prop\n",
    "cluster_summary <- cluster_summary_pat %>%\n",
    "  ungroup() %>%\n",
    "  group_by(scNiche, cell_type) %>%\n",
    "  summarize(patient_median_ct_prop = mean(median_ct_prop, na.rm = TRUE))\n",
    " \n",
    "# Prepare matrix for hierarchical clustering\n",
    "cluster_summary_mat <- cluster_summary %>%\n",
    "  pivot_wider(values_from = patient_median_ct_prop, names_from = cell_type, values_fill = list(patient_median_ct_prop = 0)) %>%\n",
    "  column_to_rownames(\"scNiche\") %>%\n",
    "  as.matrix()\n",
    "cluster_summary_mat"
   ]
  },
  {
   "cell_type": "code",
   "execution_count": null,
   "metadata": {
    "vscode": {
     "languageId": "r"
    }
   },
   "outputs": [],
   "source": [
    "# ---- Summary Code: Cluster Enrichment Analysis (Wilcoxon, significance, ordered columns) ----\n",
    "\n",
    "# Packages\n",
    "library(dplyr)\n",
    "library(tidyr)\n",
    "library(ggplot2)\n",
    "library(forcats)\n",
    "library(patchwork)\n",
    "library(cowplot)\n",
    "library(RColorBrewer)\n",
    "library(purrr)     # map / set_names\n",
    "library(tibble)    # column_to_rownames / enframe\n",
    "library(conflicted)\n",
    "\n",
    "# Tell 'conflicted' which functions to prefer\n",
    "conflicts_prefer(dplyr::rename)\n",
    "conflicts_prefer(stats::dist)\n",
    "conflicts_prefer(base::intersect)\n",
    "conflicts_prefer(base::setdiff)\n",
    "conflicts_prefer(dplyr::filter)\n",
    "\n",
    "\n",
    "# ===============================\n",
    "col_order <- c(\n",
    "  # 'Normal','Tumor','C1QC+ Macro','SPP1+ Macro','IL1B+ Macro',\n",
    "  'CD8⁺ GZMB⁺ early Tem','CD8⁺ GZMB⁺ Tem','CD8⁺ GZMK⁺ Tpex','CD8⁺ GZMB⁺ Tex','CD8⁺ activated-stress Tem',\n",
    "  'CD8⁺ ZNF683⁺ Trm','CD8⁺ ISG⁺ T',\n",
    "  'CD4⁺ Tcm','CD4⁺ ISG⁺ T','CD4⁺ IL21⁺ Tfh',\n",
    "  'TNFRSF9⁺ Treg','TNFRSF9⁻ Treg','CD4⁻CD8⁻ T','Proliferating T'\n",
    ")\n",
    "\n",
    "# Assume cluster_summary_pat contains: sample_id, scNiche, cell_type, median_ct_prop\n",
    "\n",
    "# 1) Wilcoxon test (cluster vs. rest)\n",
    "run_wilcox_up <- function(prop_data) {\n",
    "  prop_data_group <- prop_data[[\"scNiche\"]] %>% unique() %>% set_names()\n",
    "  map(prop_data_group, function(g) {\n",
    "    test_data <- prop_data %>%\n",
    "      mutate(test_group = ifelse(scNiche == g, \"target\", \"rest\"),\n",
    "             test_group = factor(test_group, levels = c(\"target\", \"rest\")))\n",
    "    wilcox.test(median_ct_prop ~ test_group, data = test_data, alternative = \"greater\") %>%\n",
    "      broom::tidy()\n",
    "  }) %>% enframe(\"scNiche\") %>% unnest(cols = value)\n",
    "}\n",
    "\n",
    "wilcoxon_res <- cluster_summary_pat %>%\n",
    "  group_by(cell_type) %>%\n",
    "  nest() %>%\n",
    "  mutate(wres = map(data, run_wilcox_up)) %>%\n",
    "  select(cell_type, wres) %>%\n",
    "  unnest(cols = wres) %>%\n",
    "  rename(p.value = p.value) %>%\n",
    "  mutate(p_corr = p.adjust(p.value, method = \"fdr\"),\n",
    "         significant = ifelse(p.value <= 0.05, \"*\", \"\"))\n",
    "\n",
    "write.csv(wilcoxon_res,\n",
    "          \"Processed Data/CellType_Enrichment_scNiche_Wilcoxon_Res_Refined.csv\",\n",
    "          row.names = FALSE)\n",
    "\n",
    "cluster_summary <- cluster_summary_pat %>%\n",
    "  group_by(scNiche, cell_type) %>%\n",
    "  summarize(patient_median_ct_prop = median(median_ct_prop, na.rm = TRUE), .groups = \"drop\")\n",
    "\n",
    "present_cols <- base::intersect(col_order, unique(cluster_summary$cell_type))\n",
    "if (length(present_cols) == 0) stop(\"指定的 col_order 在数据中均不存在。\")\n",
    "missing_cols <- base::setdiff(col_order, present_cols)\n",
    "if (length(missing_cols)) message(\"以下列在数据中未找到，已跳过： \", paste(missing_cols, collapse = \", \"))\n",
    "\n",
    "cluster_summary_sel <- cluster_summary %>%\n",
    "  filter(cell_type %in% present_cols)\n",
    "\n",
    "cluster_summary_mat <- cluster_summary_sel %>%\n",
    "  pivot_wider(names_from = cell_type, values_from = patient_median_ct_prop, values_fill = 0) %>%\n",
    "  column_to_rownames(\"scNiche\") %>%\n",
    "  as.matrix()\n",
    "\n",
    "hc_row <- hclust(stats::dist(cluster_summary_mat))\n",
    "cluster_order <- hc_row$labels[hc_row$order]\n",
    "\n",
    "ct_order <- present_cols\n",
    "\n",
    "ggplot_data <- cluster_summary_sel %>%\n",
    "  left_join(wilcoxon_res, by = c(\"scNiche\", \"cell_type\")) %>%\n",
    "  mutate(\n",
    "    cell_type = factor(cell_type, levels = ct_order),\n",
    "    scNiche   = factor(scNiche,   levels = cluster_order)\n",
    "  ) %>%\n",
    "  group_by(cell_type) %>%\n",
    "  mutate(scaled_pat_median = scale(patient_median_ct_prop)[, 1]) %>%\n",
    "  ungroup()\n",
    "\n",
    "cluster_color_map <- c(\n",
    "  'Niche1' = '#a6cee3',\n",
    "  'Niche2' = '#1f78b4',\n",
    "  'Niche3' = '#33a02c',\n",
    "  'Niche4' = '#fb9a99',\n",
    "  'Niche5' = '#fdbf6f',\n",
    "  'Niche6' = '#ff7f00',\n",
    "  'Niche7' = '#6a3d9a',\n",
    "  'Niche8' = '#ffff99',\n",
    "  'Niche9' = '#b15928'\n",
    ")\n",
    "\n",
    "annotation_df <- data.frame(scNiche = factor(cluster_order, levels = cluster_order), fill = cluster_order)\n",
    "\n",
    "color_bar <- ggplot(annotation_df, aes(x = 1, y = scNiche, fill = fill)) +\n",
    "  geom_tile() +\n",
    "  geom_text(aes(label = scNiche), color = \"black\", size = 4) +\n",
    "  scale_fill_manual(values = cluster_color_map, drop = FALSE) +\n",
    "  theme_void() +\n",
    "  theme(legend.position = \"none\")\n",
    "\n",
    "mean_ct_prop_plt <- ggplot(ggplot_data, aes(x = cell_type, y = scNiche, fill = scaled_pat_median)) +\n",
    "  geom_tile(color = \"black\") +\n",
    "  geom_text(aes(label = significant), size = 4, na.rm = TRUE) +\n",
    "  scale_fill_gradient2() +\n",
    "  theme_minimal() +\n",
    "  theme(axis.text.x = element_text(angle = 90, hjust = 1, vjust = 0.5, size = 12),\n",
    "        axis.text.y = element_blank(),\n",
    "        axis.title  = element_blank(),\n",
    "        legend.position = \"top\",\n",
    "        plot.margin = margin(0, 0, 0, 0))\n",
    "\n",
    "final_plot <- cowplot::plot_grid(color_bar, mean_ct_prop_plt, \n",
    "                                 ncol = 2, rel_widths = c(1,6), align = \"h\")\n",
    "\n",
    "ggsave(filename = \"Results/11.TCell/CellType_Enrichment_Spatial_scNiche_Refined.pdf\",\n",
    "       plot = final_plot, device = cairo_pdf, width = 4, height = 5)\n",
    "print(final_plot)"
   ]
  },
  {
   "cell_type": "code",
   "execution_count": null,
   "metadata": {
    "vscode": {
     "languageId": "r"
    }
   },
   "outputs": [],
   "source": [
    "cluster_summary_pat$cell_type <- factor(cluster_summary_pat$cell_type, \n",
    "levels = c(\n",
    "  # 'Normal','Tumor','SPP1+ Macro',\n",
    "  'CD8⁺ GZMB⁺ early Tem','CD8⁺ GZMB⁺ Tem','CD8⁺ GZMK⁺ Tpex','CD8⁺ GZMB⁺ Tex',\n",
    "  'CD8⁺ activated-stress Tem','CD8⁺ ZNF683⁺ Trm','CD8⁺ ISG⁺ T',\n",
    "  'CD4⁺ Tcm','CD4⁺ ISG⁺ T','CD4⁺ IL21⁺ Tfh','TNFRSF9⁺ Treg','TNFRSF9⁻ Treg',\n",
    "  'CD4⁻CD8⁻ T','Proliferating T')\n",
    ")"
   ]
  },
  {
   "cell_type": "code",
   "execution_count": null,
   "metadata": {
    "vscode": {
     "languageId": "r"
    }
   },
   "outputs": [],
   "source": [
    "# Set a color palette using RColorBrewer\n",
    "colors <- brewer.pal(n = 9, name = \"Paired\")\n",
    "\n",
    "# Create the plot\n",
    "bboxplot_median_ct_prop <- cluster_summary_pat %>%\n",
    "  ggplot(aes(x = scNiche, y = median_ct_prop, fill = scNiche)) +\n",
    "  geom_boxplot(outlier.size = 1.5, outlier.colour = \"red\", width = 0.6, alpha = 0.7) +\n",
    "  scale_fill_manual(values = cluster_color_map) +  # Applying the color palette\n",
    "  theme_classic() +\n",
    "  theme(axis.text.x = element_blank(),   # Remove x-axis labels\n",
    "        axis.ticks.x = element_blank(),  # Remove x-axis ticks\n",
    "        axis.title.x = element_blank(),  # Remove x-axis title\n",
    "        axis.title.y = element_text(size = 12), # Adjust y-axis title size\n",
    "        strip.text = element_text(size = 8),\n",
    "        plot.title = element_text(size = 11, face = \"bold\"),\n",
    "        legend.text = element_text(size = 11),  # Increase legend text size\n",
    "        legend.title = element_text(size = 12)) +  # Increase legend title size\n",
    "  labs(title = \"\",\n",
    "       x = \"\",\n",
    "       y = \"Median Cell Type Proportion\") +\n",
    "  facet_wrap(. ~ cell_type, ncol = 7, scales = \"free_y\")\n",
    "\n",
    "# Save the plot as a PDF\n",
    "ggsave(filename = \"Results/11.TCell/bboxplot_median_ct_prop_Refined.pdf\",\n",
    "       plot = final_plot, device = cairo_pdf, width = 12, height = 3)\n",
    "print(bboxplot_median_ct_prop)\n",
    "dev.off()"
   ]
  },
  {
   "cell_type": "code",
   "execution_count": null,
   "metadata": {
    "vscode": {
     "languageId": "r"
    }
   },
   "outputs": [],
   "source": [
    "sessionInfo()"
   ]
  }
 ],
 "metadata": {
  "kernelspec": {
   "display_name": "NPC_Renv",
   "language": "R",
   "name": "npc_renv"
  },
  "language_info": {
   "codemirror_mode": "r",
   "file_extension": ".r",
   "mimetype": "text/x-r-source",
   "name": "R",
   "pygments_lexer": "r",
   "version": "4.3.3"
  }
 },
 "nbformat": 4,
 "nbformat_minor": 2
}
