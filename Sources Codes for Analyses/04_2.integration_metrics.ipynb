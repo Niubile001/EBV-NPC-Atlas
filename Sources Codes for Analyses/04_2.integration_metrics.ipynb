{
 "cells": [
  {
   "cell_type": "markdown",
   "id": "20d3ad78",
   "metadata": {},
   "source": [
    "## 04_2. Integration metrics\n",
    "\n",
    "<div style=\"text-align: right;\">\n",
    "    <p style=\"text-align: left;\">Updated Time: 2025-02-10</p>\n",
    "</div>\n"
   ]
  },
  {
   "cell_type": "markdown",
   "id": "80d4bf36",
   "metadata": {},
   "source": [
    "##### Load libraries"
   ]
  },
  {
   "cell_type": "code",
   "execution_count": null,
   "id": "d2c60790-b923-4f40-81ce-cdadcff59876",
   "metadata": {},
   "outputs": [],
   "source": [
    "import os\n",
    "import sys\n",
    "import numpy as np\n",
    "import scanpy as sc\n",
    "import matplotlib.pyplot as plt\n",
    "from scib_metrics.benchmark import Benchmarker\n",
    "\n",
    "import warnings\n",
    "warnings.simplefilter(action=\"ignore\", category=FutureWarning)\n",
    "warnings.simplefilter(action=\"ignore\", category=DeprecationWarning)\n",
    "warnings.simplefilter(action=\"ignore\", category=UserWarning)"
   ]
  },
  {
   "cell_type": "markdown",
   "id": "8f2401f1",
   "metadata": {},
   "source": [
    "##### Set working directory  for analysis"
   ]
  },
  {
   "cell_type": "code",
   "execution_count": null,
   "id": "a58ca4f4",
   "metadata": {},
   "outputs": [],
   "source": [
    "working_dir = '/media/bio/Disk/Research Data/EBV/omicverse'\n",
    "os.chdir(working_dir)\n",
    "updated_dir = os.getcwd()\n",
    "print(\"Updated working directory: \", updated_dir)\n",
    "\n",
    "from pathlib import Path\n",
    "saving_dir = Path('Results/04.batch_correction')\n",
    "saving_dir.mkdir(parents=True, exist_ok=True)"
   ]
  },
  {
   "cell_type": "code",
   "execution_count": null,
   "id": "36578700",
   "metadata": {},
   "outputs": [],
   "source": [
    "adata = sc.read(\"Processed Data/scRNA_Batch_All.h5ad\")"
   ]
  },
  {
   "cell_type": "markdown",
   "id": "347164ae-5be2-4570-9ec3-5823d615d733",
   "metadata": {},
   "source": [
    "### Benchmarking test\n",
    "\n",
    "The methods demonstrated here are selected based on results from benchmarking experiments including the single-cell integration benchmarking project [Luecken et al., 2021]. This project also produced a software package called [scib](https://www.github.com/theislab/scib) that can be used to run a range of integration methods as well as the metrics that were used for evaluation. In this section, we show how to use this package to evaluate the quality of an integration."
   ]
  },
  {
   "cell_type": "code",
   "execution_count": null,
   "id": "7e535fde-3ea3-46e1-b41b-e29f5d118cd5",
   "metadata": {},
   "outputs": [],
   "source": [
    "adata.obsm[\"Unintegrated\"] = adata.obsm['scaled|original|X_pca'].copy()"
   ]
  },
  {
   "cell_type": "markdown",
   "id": "c5f93d30",
   "metadata": {},
   "source": [
    "**<span style=\"color:darkblue; font-size:20px;\">Run benchmarking metrics</span>**"
   ]
  },
  {
   "cell_type": "markdown",
   "id": "5a13fb67",
   "metadata": {},
   "source": [
    "Check if any cells have the same embeddings.That might cause erro in subsequent Benchmarker analysis."
   ]
  },
  {
   "cell_type": "code",
   "execution_count": null,
   "id": "296af4ca",
   "metadata": {},
   "outputs": [],
   "source": [
    "adata"
   ]
  },
  {
   "cell_type": "code",
   "execution_count": null,
   "id": "b41cb7c4",
   "metadata": {},
   "outputs": [],
   "source": [
    "for embed in [\"Unintegrated\",\"X_harmony\",\"X_combat\",\"X_scanorama\",\"X_scVI\",\"X_scANVI\",\"X_cellanova\"]:\n",
    "  print(embed)\n",
    "  print(adata.obsm[embed].shape)\n",
    "  print(np.unique(adata.obsm[embed], axis=0).shape)"
   ]
  },
  {
   "cell_type": "markdown",
   "id": "de32e5d7",
   "metadata": {},
   "source": [
    "Here we use a custom nearest neighbor function to speed up the computation of the metrics. This is not necessary, but can be useful for large datasets.\n",
    "\n",
    "In particular we use faiss, which can be accelerated with a GPU.\n",
    "\n",
    "This can be installed as: conda install -c conda-forge faiss-gpu\n",
    "\n",
    "\n",
    "When using approximate nearest neighbors, an issue can arise where each cell does not get a unique set of K neighbors. This issue happens with faiss hnsw below, so we use the brute force method instead, which is still faster than pynndescent approximate nearest neighbors on CPU."
   ]
  },
  {
   "cell_type": "code",
   "execution_count": null,
   "id": "3cc1f068",
   "metadata": {},
   "outputs": [],
   "source": [
    "import faiss\n",
    "from scib_metrics.nearest_neighbors import NeighborsResults\n",
    "\n",
    "\n",
    "def faiss_hnsw_nn(X: np.ndarray, k: int):\n",
    "    \"\"\"Gpu HNSW nearest neighbor search using faiss.\n",
    "    See https://github.com/nmslib/hnswlib/blob/master/ALGO_PARAMS.md\n",
    "    for index param details.\n",
    "    \"\"\"\n",
    "    X = np.ascontiguousarray(X, dtype=np.float32)\n",
    "    res = faiss.StandardGpuResources()\n",
    "    M = 32\n",
    "    index = faiss.IndexHNSWFlat(X.shape[1], M, faiss.METRIC_L2)\n",
    "    gpu_index = faiss.index_cpu_to_gpu(res, 0, index)\n",
    "    gpu_index.add(X)\n",
    "    distances, indices = gpu_index.search(X, k)\n",
    "    del index\n",
    "    del gpu_index\n",
    "    # distances are squared\n",
    "    return NeighborsResults(indices=indices, distances=np.sqrt(distances))\n",
    "\n",
    "\n",
    "def faiss_brute_force_nn(X: np.ndarray, k: int):\n",
    "    \"\"\"Gpu brute force nearest neighbor search using faiss.\"\"\"\n",
    "    X = np.ascontiguousarray(X, dtype=np.float32)\n",
    "    res = faiss.StandardGpuResources()\n",
    "    index = faiss.IndexFlatL2(X.shape[1])\n",
    "    gpu_index = faiss.index_cpu_to_gpu(res, 0, index)\n",
    "    gpu_index.add(X)\n",
    "    distances, indices = gpu_index.search(X, k)\n",
    "    del index\n",
    "    del gpu_index\n",
    "    # distances are squared\n",
    "    return NeighborsResults(indices=indices, distances=np.sqrt(distances))"
   ]
  },
  {
   "cell_type": "code",
   "execution_count": null,
   "id": "cbe0570c",
   "metadata": {},
   "outputs": [],
   "source": [
    "from scib_metrics.benchmark import BioConservation, BatchCorrection\n",
    "# biocons = BioConservation(isolated_labels=False)\n",
    "# batchcor = BatchCorrection(pcr_comparison=False)\n",
    "\n",
    "bm = Benchmarker(\n",
    "    adata,\n",
    "    batch_key=\"batch\",\n",
    "    label_key=\"gpt_celltype\",\n",
    "    embedding_obsm_keys=[\"Unintegrated\",\"X_harmony\",\"X_combat\",\"X_scanorama\",\"X_scVI\",\"X_scANVI\",\"X_cellanova\"],\n",
    "    pre_integrated_embedding_obsm_key=\"scaled|original|X_pca\",\n",
    "    # bio_conservation_metrics=biocons,\n",
    "    # batch_correction_metrics=batchcor,\n",
    "    n_jobs=-1,\n",
    ")\n",
    "\n",
    "bm.prepare(neighbor_computer=faiss_brute_force_nn)\n",
    "bm.benchmark()"
   ]
  },
  {
   "cell_type": "markdown",
   "id": "19c59fdb",
   "metadata": {},
   "source": [
    "Visualize the results"
   ]
  },
  {
   "cell_type": "code",
   "execution_count": null,
   "id": "1dc88284",
   "metadata": {},
   "outputs": [],
   "source": [
    "plt.rcParams['figure.figsize'] = [10, 4]\n",
    "bm.plot_results_table(min_max_scale=False, show=False)\n",
    "plt.savefig(\"Results/04.batch_correction/04. Intergration_Metrics.pdf\")\n",
    "plt.show()"
   ]
  },
  {
   "cell_type": "code",
   "execution_count": null,
   "id": "e278f72e",
   "metadata": {},
   "outputs": [],
   "source": [
    "plt.rcParams['figure.figsize'] = [10, 4]\n",
    "bm.plot_results_table(min_max_scale=True, show=False)\n",
    "plt.savefig(\"Results/04.batch_correction/04. Intergration_Metrics_Scaled.pdf\")\n",
    "plt.show()"
   ]
  },
  {
   "cell_type": "markdown",
   "id": "98f57a52",
   "metadata": {},
   "source": [
    "We can also access the underlying dataframes to print the results ourselves."
   ]
  },
  {
   "cell_type": "code",
   "execution_count": null,
   "id": "38f40ff5",
   "metadata": {},
   "outputs": [],
   "source": [
    "df = bm.get_results(min_max_scale=False)\n",
    "df.to_excel('Results/04.batch_correction/Intergration_Metrics_Benchmark.xlsx', sheet_name='Sheet1', index=False)\n",
    "print(df)"
   ]
  },
  {
   "cell_type": "markdown",
   "id": "78e82b16-def2-423c-9feb-b09da882aa65",
   "metadata": {},
   "source": [
    "We can find that harmony removes the batch effect the best of the three methods that do not use the GPU, scVI is method to remove batch effect using GPU."
   ]
  },
  {
   "cell_type": "markdown",
   "id": "05512fd2",
   "metadata": {},
   "source": [
    "\n",
    "**<span style=\"font-size:18px;\">Session information：</span>**"
   ]
  },
  {
   "cell_type": "code",
   "execution_count": null,
   "id": "7342acf8",
   "metadata": {},
   "outputs": [],
   "source": [
    "import sys\n",
    "import platform\n",
    "import pkg_resources\n",
    "\n",
    "# Get Python version information\n",
    "python_version = sys.version\n",
    "# Get operating system information\n",
    "os_info = platform.platform()\n",
    "# Get system architecture information\n",
    "architecture = platform.architecture()[0]\n",
    "# Get CPU information\n",
    "cpu_info = platform.processor()\n",
    "# Print Session information\n",
    "print(\"Python version:\", python_version)\n",
    "print(\"Operating system:\", os_info)\n",
    "print(\"System architecture:\", architecture)\n",
    "print(\"CPU info:\", cpu_info)\n",
    "\n",
    "# Print imported packages and their versions\n",
    "print(\"\\nImported packages and their versions:\")\n",
    "for package in pkg_resources.working_set:\n",
    "    print(package.key, package.version)"
   ]
  }
 ],
 "metadata": {
  "kernelspec": {
   "display_name": "npc_env",
   "language": "python",
   "name": "python3"
  },
  "language_info": {
   "codemirror_mode": {
    "name": "ipython",
    "version": 3
   },
   "file_extension": ".py",
   "mimetype": "text/x-python",
   "name": "python",
   "nbconvert_exporter": "python",
   "pygments_lexer": "ipython3",
   "version": "3.10.13"
  }
 },
 "nbformat": 4,
 "nbformat_minor": 5
}
